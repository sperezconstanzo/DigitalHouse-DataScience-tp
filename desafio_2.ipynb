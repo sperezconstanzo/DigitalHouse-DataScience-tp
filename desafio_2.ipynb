{
  "nbformat": 4,
  "nbformat_minor": 0,
  "metadata": {
    "kernelspec": {
      "display_name": "Python 3",
      "language": "python",
      "name": "python3"
    },
    "language_info": {
      "codemirror_mode": {
        "name": "ipython",
        "version": 3
      },
      "file_extension": ".py",
      "mimetype": "text/x-python",
      "name": "python",
      "nbconvert_exporter": "python",
      "pygments_lexer": "ipython3",
      "version": "3.7.9"
    },
    "colab": {
      "name": "desafío_2.ipynb",
      "provenance": [],
      "collapsed_sections": [],
      "include_colab_link": true
    }
  },
  "cells": [
    {
      "cell_type": "markdown",
      "metadata": {
        "id": "view-in-github",
        "colab_type": "text"
      },
      "source": [
        "<a href=\"https://colab.research.google.com/github/sperezconstanzo/DigitalHouse-DataScience-tp/blob/main/desafio_2.ipynb\" target=\"_parent\"><img src=\"https://colab.research.google.com/assets/colab-badge.svg\" alt=\"Open In Colab\"/></a>"
      ]
    },
    {
      "cell_type": "markdown",
      "metadata": {
        "id": "XDz_8yj4QwnV"
      },
      "source": [
        "<a id=\"section_toc\"></a> \n",
        "## Tabla de Contenidos\n",
        "\n",
        "[0 - Imports y definiciones](#section_0)\n",
        "\n",
        "[1 - Primer Analisis del Data Frame](#section_1)\n",
        "\n",
        "[2 - Imputacion de datos faltantes](#section_2)\n",
        "\n",
        "[3 - Primer modelado: Naive Bayes](#section_3)\n",
        "\n",
        "[4 - Segundo modelado: LR](#section_4)\n",
        "\n",
        "[5 - Tercer modelado: LR & KNN](#section_5)\n",
        "\n",
        "[6 - Modelos no usados para la presentación](#section_6)"
      ]
    },
    {
      "cell_type": "markdown",
      "metadata": {
        "id": "7Fbs1PrnQwne"
      },
      "source": [
        "<a id=\"section_0\"></a> \n",
        "# 0 - Imports y definiciones\n",
        "[volver a TOC](#section_toc)"
      ]
    },
    {
      "cell_type": "markdown",
      "metadata": {
        "id": "jFa_OJyE1cFb"
      },
      "source": [
        "Para cargar los datasets de esta práctica necesitamos acceso al directorio de Google Drive donde están los archivos `.csv`. Podemos acceder usando el siguiente link: https://drive.google.com/drive/folders/1nWgQ71eUIreMD5xPLaYaCeTaBTXHYo8u?usp=sharing\n",
        "\n",
        "Una vez que tenemos acceso, tenemos que agregar un acceso directo de esta carpeta a nuestro Drive.\n",
        "\n",
        "Finalmente, tenemos que montar el directorio de drive en Google Colab ejecutando el siguiente código y siguiendo las instrucciones.\n"
      ]
    },
    {
      "cell_type": "code",
      "metadata": {
        "colab": {
          "base_uri": "https://localhost:8080/"
        },
        "id": "PWsnY-d0IRlf",
        "outputId": "00bef76f-97a4-413d-f195-6ee95c9b4a1d"
      },
      "source": [
        "from google.colab import drive\n",
        "drive.mount('/content/drive', force_remount=True)"
      ],
      "execution_count": null,
      "outputs": [
        {
          "output_type": "stream",
          "text": [
            "Mounted at /content/drive\n"
          ],
          "name": "stdout"
        }
      ]
    },
    {
      "cell_type": "code",
      "metadata": {
        "id": "408UwAxfQwng"
      },
      "source": [
        "import numpy as np\n",
        "import pandas as pd\n",
        "\n",
        "from sklearn.base import BaseEstimator, TransformerMixin\n",
        "from sklearn.linear_model import LogisticRegression\n",
        "from sklearn.metrics import accuracy_score, confusion_matrix, classification_report, roc_curve, auc\n",
        "from sklearn.model_selection import train_test_split, cross_val_score, KFold, GridSearchCV, StratifiedKFold, RandomizedSearchCV\n",
        "from sklearn.naive_bayes import GaussianNB\n",
        "from sklearn.neighbors import KNeighborsClassifier\n",
        "from sklearn.pipeline import Pipeline\n",
        "from sklearn.preprocessing import MinMaxScaler, StandardScaler, OneHotEncoder, RobustScaler\n",
        "from sklearn.svm import SVC\n",
        "\n",
        "import matplotlib.pyplot as plt\n",
        "import seaborn as sns\n",
        "%matplotlib inline\n",
        "\n",
        "pd.set_option('display.max_columns', None)"
      ],
      "execution_count": null,
      "outputs": []
    },
    {
      "cell_type": "code",
      "metadata": {
        "id": "cYhfHzNrQwnk"
      },
      "source": [
        "# Matriz de confusión con los yticks centrados\n",
        "\n",
        "def conf_mat(y_test, Y_pred, umbral):\n",
        "\n",
        "    conf_mat = confusion_matrix(y_test, Y_pred)\n",
        "    conf_mat_df = pd.DataFrame(data=conf_mat, \n",
        "                               index=['Actual Negative: 0', 'Actual Positive: 1'], \n",
        "                               columns=['Predict Negative: 0', 'Predict Positive: 1'])\n",
        "\n",
        "    fig, ax = plt.subplots()\n",
        "    ax = sns.heatmap(conf_mat_df, annot=True, fmt='d', cmap='YlGnBu', ax= ax)\n",
        "    ax.set_title(f'Matriz de confusión. Umbral = {umbral}')\n",
        "    ax.set_yticklabels(list(conf_mat_df.index), rotation=90, va=\"center\");"
      ],
      "execution_count": null,
      "outputs": []
    },
    {
      "cell_type": "code",
      "metadata": {
        "id": "KHgsXWACQwnl"
      },
      "source": [
        "class FeatureSelection(BaseEstimator, TransformerMixin):\n",
        "    \n",
        "    def __init__(self, selected_features):\n",
        "        self.selected_features=selected_features\n",
        "    \n",
        "    def fit(self, X, y=None):\n",
        "        return self\n",
        "    \n",
        "    def transform(self, X, y=None):\n",
        "        return X[self.selected_features]"
      ],
      "execution_count": null,
      "outputs": []
    },
    {
      "cell_type": "markdown",
      "metadata": {
        "id": "oDhpO6nWQwnn"
      },
      "source": [
        "<a id=\"section_1\"></a> \n",
        "# 1 - Primer Analisis del Data Frame\n",
        "[volver a TOC](#section_toc)"
      ]
    },
    {
      "cell_type": "code",
      "metadata": {
        "colab": {
          "base_uri": "https://localhost:8080/",
          "height": 226
        },
        "id": "0NNFCLeRQwno",
        "outputId": "a16256e0-e43d-4809-fe64-3f04b8a9b00c"
      },
      "source": [
        "data_path = \"/content/drive/MyDrive/Desafio 2/Data/weatherAUS.csv\"\n",
        "\n",
        "data = pd.read_csv(data_path)\n",
        "\n",
        "nrow, ncol = data.shape  # Guardamos las dimensiones del df\n",
        "\n",
        "data.head(5)"
      ],
      "execution_count": null,
      "outputs": [
        {
          "output_type": "execute_result",
          "data": {
            "text/html": [
              "<div>\n",
              "<style scoped>\n",
              "    .dataframe tbody tr th:only-of-type {\n",
              "        vertical-align: middle;\n",
              "    }\n",
              "\n",
              "    .dataframe tbody tr th {\n",
              "        vertical-align: top;\n",
              "    }\n",
              "\n",
              "    .dataframe thead th {\n",
              "        text-align: right;\n",
              "    }\n",
              "</style>\n",
              "<table border=\"1\" class=\"dataframe\">\n",
              "  <thead>\n",
              "    <tr style=\"text-align: right;\">\n",
              "      <th></th>\n",
              "      <th>Date</th>\n",
              "      <th>Location</th>\n",
              "      <th>MinTemp</th>\n",
              "      <th>MaxTemp</th>\n",
              "      <th>Rainfall</th>\n",
              "      <th>Evaporation</th>\n",
              "      <th>Sunshine</th>\n",
              "      <th>WindGustDir</th>\n",
              "      <th>WindGustSpeed</th>\n",
              "      <th>WindDir9am</th>\n",
              "      <th>WindDir3pm</th>\n",
              "      <th>WindSpeed9am</th>\n",
              "      <th>WindSpeed3pm</th>\n",
              "      <th>Humidity9am</th>\n",
              "      <th>Humidity3pm</th>\n",
              "      <th>Pressure9am</th>\n",
              "      <th>Pressure3pm</th>\n",
              "      <th>Cloud9am</th>\n",
              "      <th>Cloud3pm</th>\n",
              "      <th>Temp9am</th>\n",
              "      <th>Temp3pm</th>\n",
              "      <th>RainToday</th>\n",
              "      <th>RainTomorrow</th>\n",
              "    </tr>\n",
              "  </thead>\n",
              "  <tbody>\n",
              "    <tr>\n",
              "      <th>0</th>\n",
              "      <td>2008-12-01</td>\n",
              "      <td>Albury</td>\n",
              "      <td>13.4</td>\n",
              "      <td>22.9</td>\n",
              "      <td>0.6</td>\n",
              "      <td>NaN</td>\n",
              "      <td>NaN</td>\n",
              "      <td>W</td>\n",
              "      <td>44.0</td>\n",
              "      <td>W</td>\n",
              "      <td>WNW</td>\n",
              "      <td>20.0</td>\n",
              "      <td>24.0</td>\n",
              "      <td>71.0</td>\n",
              "      <td>22.0</td>\n",
              "      <td>1007.7</td>\n",
              "      <td>1007.1</td>\n",
              "      <td>8.0</td>\n",
              "      <td>NaN</td>\n",
              "      <td>16.9</td>\n",
              "      <td>21.8</td>\n",
              "      <td>No</td>\n",
              "      <td>No</td>\n",
              "    </tr>\n",
              "    <tr>\n",
              "      <th>1</th>\n",
              "      <td>2008-12-02</td>\n",
              "      <td>Albury</td>\n",
              "      <td>7.4</td>\n",
              "      <td>25.1</td>\n",
              "      <td>0.0</td>\n",
              "      <td>NaN</td>\n",
              "      <td>NaN</td>\n",
              "      <td>WNW</td>\n",
              "      <td>44.0</td>\n",
              "      <td>NNW</td>\n",
              "      <td>WSW</td>\n",
              "      <td>4.0</td>\n",
              "      <td>22.0</td>\n",
              "      <td>44.0</td>\n",
              "      <td>25.0</td>\n",
              "      <td>1010.6</td>\n",
              "      <td>1007.8</td>\n",
              "      <td>NaN</td>\n",
              "      <td>NaN</td>\n",
              "      <td>17.2</td>\n",
              "      <td>24.3</td>\n",
              "      <td>No</td>\n",
              "      <td>No</td>\n",
              "    </tr>\n",
              "    <tr>\n",
              "      <th>2</th>\n",
              "      <td>2008-12-03</td>\n",
              "      <td>Albury</td>\n",
              "      <td>12.9</td>\n",
              "      <td>25.7</td>\n",
              "      <td>0.0</td>\n",
              "      <td>NaN</td>\n",
              "      <td>NaN</td>\n",
              "      <td>WSW</td>\n",
              "      <td>46.0</td>\n",
              "      <td>W</td>\n",
              "      <td>WSW</td>\n",
              "      <td>19.0</td>\n",
              "      <td>26.0</td>\n",
              "      <td>38.0</td>\n",
              "      <td>30.0</td>\n",
              "      <td>1007.6</td>\n",
              "      <td>1008.7</td>\n",
              "      <td>NaN</td>\n",
              "      <td>2.0</td>\n",
              "      <td>21.0</td>\n",
              "      <td>23.2</td>\n",
              "      <td>No</td>\n",
              "      <td>No</td>\n",
              "    </tr>\n",
              "    <tr>\n",
              "      <th>3</th>\n",
              "      <td>2008-12-04</td>\n",
              "      <td>Albury</td>\n",
              "      <td>9.2</td>\n",
              "      <td>28.0</td>\n",
              "      <td>0.0</td>\n",
              "      <td>NaN</td>\n",
              "      <td>NaN</td>\n",
              "      <td>NE</td>\n",
              "      <td>24.0</td>\n",
              "      <td>SE</td>\n",
              "      <td>E</td>\n",
              "      <td>11.0</td>\n",
              "      <td>9.0</td>\n",
              "      <td>45.0</td>\n",
              "      <td>16.0</td>\n",
              "      <td>1017.6</td>\n",
              "      <td>1012.8</td>\n",
              "      <td>NaN</td>\n",
              "      <td>NaN</td>\n",
              "      <td>18.1</td>\n",
              "      <td>26.5</td>\n",
              "      <td>No</td>\n",
              "      <td>No</td>\n",
              "    </tr>\n",
              "    <tr>\n",
              "      <th>4</th>\n",
              "      <td>2008-12-05</td>\n",
              "      <td>Albury</td>\n",
              "      <td>17.5</td>\n",
              "      <td>32.3</td>\n",
              "      <td>1.0</td>\n",
              "      <td>NaN</td>\n",
              "      <td>NaN</td>\n",
              "      <td>W</td>\n",
              "      <td>41.0</td>\n",
              "      <td>ENE</td>\n",
              "      <td>NW</td>\n",
              "      <td>7.0</td>\n",
              "      <td>20.0</td>\n",
              "      <td>82.0</td>\n",
              "      <td>33.0</td>\n",
              "      <td>1010.8</td>\n",
              "      <td>1006.0</td>\n",
              "      <td>7.0</td>\n",
              "      <td>8.0</td>\n",
              "      <td>17.8</td>\n",
              "      <td>29.7</td>\n",
              "      <td>No</td>\n",
              "      <td>No</td>\n",
              "    </tr>\n",
              "  </tbody>\n",
              "</table>\n",
              "</div>"
            ],
            "text/plain": [
              "         Date Location  MinTemp  MaxTemp  Rainfall  Evaporation  Sunshine  \\\n",
              "0  2008-12-01   Albury     13.4     22.9       0.6          NaN       NaN   \n",
              "1  2008-12-02   Albury      7.4     25.1       0.0          NaN       NaN   \n",
              "2  2008-12-03   Albury     12.9     25.7       0.0          NaN       NaN   \n",
              "3  2008-12-04   Albury      9.2     28.0       0.0          NaN       NaN   \n",
              "4  2008-12-05   Albury     17.5     32.3       1.0          NaN       NaN   \n",
              "\n",
              "  WindGustDir  WindGustSpeed WindDir9am WindDir3pm  WindSpeed9am  \\\n",
              "0           W           44.0          W        WNW          20.0   \n",
              "1         WNW           44.0        NNW        WSW           4.0   \n",
              "2         WSW           46.0          W        WSW          19.0   \n",
              "3          NE           24.0         SE          E          11.0   \n",
              "4           W           41.0        ENE         NW           7.0   \n",
              "\n",
              "   WindSpeed3pm  Humidity9am  Humidity3pm  Pressure9am  Pressure3pm  Cloud9am  \\\n",
              "0          24.0         71.0         22.0       1007.7       1007.1       8.0   \n",
              "1          22.0         44.0         25.0       1010.6       1007.8       NaN   \n",
              "2          26.0         38.0         30.0       1007.6       1008.7       NaN   \n",
              "3           9.0         45.0         16.0       1017.6       1012.8       NaN   \n",
              "4          20.0         82.0         33.0       1010.8       1006.0       7.0   \n",
              "\n",
              "   Cloud3pm  Temp9am  Temp3pm RainToday RainTomorrow  \n",
              "0       NaN     16.9     21.8        No           No  \n",
              "1       NaN     17.2     24.3        No           No  \n",
              "2       2.0     21.0     23.2        No           No  \n",
              "3       NaN     18.1     26.5        No           No  \n",
              "4       8.0     17.8     29.7        No           No  "
            ]
          },
          "metadata": {
            "tags": []
          },
          "execution_count": 5
        }
      ]
    },
    {
      "cell_type": "code",
      "metadata": {
        "colab": {
          "base_uri": "https://localhost:8080/"
        },
        "id": "rlVRoM9xQwns",
        "outputId": "99e90326-d024-4eb2-c667-e9aa7aa0f18a"
      },
      "source": [
        "data.dtypes"
      ],
      "execution_count": null,
      "outputs": [
        {
          "output_type": "execute_result",
          "data": {
            "text/plain": [
              "Date              object\n",
              "Location          object\n",
              "MinTemp          float64\n",
              "MaxTemp          float64\n",
              "Rainfall         float64\n",
              "Evaporation      float64\n",
              "Sunshine         float64\n",
              "WindGustDir       object\n",
              "WindGustSpeed    float64\n",
              "WindDir9am        object\n",
              "WindDir3pm        object\n",
              "WindSpeed9am     float64\n",
              "WindSpeed3pm     float64\n",
              "Humidity9am      float64\n",
              "Humidity3pm      float64\n",
              "Pressure9am      float64\n",
              "Pressure3pm      float64\n",
              "Cloud9am         float64\n",
              "Cloud3pm         float64\n",
              "Temp9am          float64\n",
              "Temp3pm          float64\n",
              "RainToday         object\n",
              "RainTomorrow      object\n",
              "dtype: object"
            ]
          },
          "metadata": {
            "tags": []
          },
          "execution_count": 6
        }
      ]
    },
    {
      "cell_type": "code",
      "metadata": {
        "colab": {
          "base_uri": "https://localhost:8080/"
        },
        "id": "YoLA2nvqQwnu",
        "outputId": "a5ffd743-5dce-4da5-876c-560c51ec81cc"
      },
      "source": [
        "(100 * data.isnull().sum() / nrow).round(2)"
      ],
      "execution_count": null,
      "outputs": [
        {
          "output_type": "execute_result",
          "data": {
            "text/plain": [
              "Date              0.00\n",
              "Location          0.00\n",
              "MinTemp           1.02\n",
              "MaxTemp           0.87\n",
              "Rainfall          2.24\n",
              "Evaporation      43.17\n",
              "Sunshine         48.01\n",
              "WindGustDir       7.10\n",
              "WindGustSpeed     7.06\n",
              "WindDir9am        7.26\n",
              "WindDir3pm        2.91\n",
              "WindSpeed9am      1.21\n",
              "WindSpeed3pm      2.11\n",
              "Humidity9am       1.82\n",
              "Humidity3pm       3.10\n",
              "Pressure9am      10.36\n",
              "Pressure3pm      10.33\n",
              "Cloud9am         38.42\n",
              "Cloud3pm         40.81\n",
              "Temp9am           1.21\n",
              "Temp3pm           2.48\n",
              "RainToday         2.24\n",
              "RainTomorrow      2.25\n",
              "dtype: float64"
            ]
          },
          "metadata": {
            "tags": []
          },
          "execution_count": 7
        }
      ]
    },
    {
      "cell_type": "code",
      "metadata": {
        "colab": {
          "base_uri": "https://localhost:8080/"
        },
        "id": "3cv7B2R8Qwnx",
        "outputId": "a820dbd5-7be1-41ab-8983-bc9da4876208"
      },
      "source": [
        "# Revisamos el formato de esta columna\n",
        "\n",
        "data.RainTomorrow.sample(5)"
      ],
      "execution_count": null,
      "outputs": [
        {
          "output_type": "execute_result",
          "data": {
            "text/plain": [
              "40383    NaN\n",
              "13495     No\n",
              "71142     No\n",
              "35972     No\n",
              "15515     No\n",
              "Name: RainTomorrow, dtype: object"
            ]
          },
          "metadata": {
            "tags": []
          },
          "execution_count": 8
        }
      ]
    },
    {
      "cell_type": "code",
      "metadata": {
        "id": "rWHqDFKvQwnz"
      },
      "source": [
        "# Convertimos los Yes/No de RainToday/RainTomorrow a dummies\n",
        "\n",
        "data.replace({'No' : 0, 'Yes' : 1}, value= None, inplace= True)"
      ],
      "execution_count": null,
      "outputs": []
    },
    {
      "cell_type": "code",
      "metadata": {
        "id": "lQyCSgTQQwn1"
      },
      "source": [
        "# Convertimos la columna Date a datetime\n",
        "\n",
        "data.Date = pd.to_datetime(data.Date, format= '%Y/%m/%d')"
      ],
      "execution_count": null,
      "outputs": []
    },
    {
      "cell_type": "code",
      "metadata": {
        "colab": {
          "base_uri": "https://localhost:8080/"
        },
        "id": "7LvYmavkQwn2",
        "outputId": "82a7e484-fa79-4a67-a5d2-72a72c8254a9"
      },
      "source": [
        "data.dtypes"
      ],
      "execution_count": null,
      "outputs": [
        {
          "output_type": "execute_result",
          "data": {
            "text/plain": [
              "Date             datetime64[ns]\n",
              "Location                 object\n",
              "MinTemp                 float64\n",
              "MaxTemp                 float64\n",
              "Rainfall                float64\n",
              "Evaporation             float64\n",
              "Sunshine                float64\n",
              "WindGustDir              object\n",
              "WindGustSpeed           float64\n",
              "WindDir9am               object\n",
              "WindDir3pm               object\n",
              "WindSpeed9am            float64\n",
              "WindSpeed3pm            float64\n",
              "Humidity9am             float64\n",
              "Humidity3pm             float64\n",
              "Pressure9am             float64\n",
              "Pressure3pm             float64\n",
              "Cloud9am                float64\n",
              "Cloud3pm                float64\n",
              "Temp9am                 float64\n",
              "Temp3pm                 float64\n",
              "RainToday               float64\n",
              "RainTomorrow            float64\n",
              "dtype: object"
            ]
          },
          "metadata": {
            "tags": []
          },
          "execution_count": 11
        }
      ]
    },
    {
      "cell_type": "code",
      "metadata": {
        "colab": {
          "base_uri": "https://localhost:8080/",
          "height": 704
        },
        "id": "lBBXjzjeQwn2",
        "outputId": "90ee2c11-bf94-4707-9699-b2bf40bc2ce1"
      },
      "source": [
        "# Chequeamos la correlación entre nuestras features y el target\n",
        "\n",
        "plt.figure(figsize=(8,12))\n",
        "sns.heatmap(data.corr()[['RainTomorrow']][:-1], cmap= 'PiYG', center= 0, vmin= -1, vmax= 1, annot=True);"
      ],
      "execution_count": null,
      "outputs": [
        {
          "output_type": "display_data",
          "data": {
            "image/png": "[encoded data removed]",
            "text/plain": [
              "<Figure size 576x864 with 2 Axes>"
            ]
          },
          "metadata": {
            "tags": [],
            "needs_background": "light"
          }
        }
      ]
    },
    {
      "cell_type": "code",
      "metadata": {
        "colab": {
          "base_uri": "https://localhost:8080/"
        },
        "id": "2kopWS85Qwn4",
        "outputId": "50309124-49d3-4a08-c29a-06cfc31787af"
      },
      "source": [
        "print(\"filas:\", nrow, \"\\ncolumnas:\", ncol)"
      ],
      "execution_count": null,
      "outputs": [
        {
          "output_type": "stream",
          "text": [
            "filas: 145460 \n",
            "columnas: 23\n"
          ],
          "name": "stdout"
        }
      ]
    },
    {
      "cell_type": "markdown",
      "metadata": {
        "id": "1z0_ePn1Qwn4"
      },
      "source": [
        "Para este punto notamos que la feature con mayor correlación, `Sunshine`, tenía también el mayor porcentaje de nulos: 48 %.\n",
        "Investigando descubrimos que para ciertas localidades no había ningún dato de `Sunshine`. Veamos cuales son:"
      ]
    },
    {
      "cell_type": "code",
      "metadata": {
        "colab": {
          "base_uri": "https://localhost:8080/"
        },
        "id": "PBF6LqpoQwn5",
        "outputId": "6b2390bc-abc4-4abd-945c-a4d5b35d9728"
      },
      "source": [
        "# pd.Series.all() retorna True salvo que haya al menos un elemento False/None/NaN/0,\n",
        "# pero para algunas localidades no hay ningún dato de Sunshine y así y todo, .all()\n",
        "# retorna True. Podemos usar esto para ver qué localidades no tienen ningún dato de\n",
        "# Sunshine o cualquier otra feature que queramos, aunque si para esa localidad no hay\n",
        "# ningun False/None/NaN/0 también vamos a tener un True (falso positivo). Verificaremos\n",
        "# al final que no hayamos caído en este caso.\n",
        "\n",
        "# Este diccionario nos da {location : True} si son todos vacíos o no hay ningún False/None/NaN/0, caso contrario retorna {location: False}\n",
        "dict_loc_nulas_sunshine = {key : data.loc[data['Location'] == key, 'Sunshine'].all() for key in data['Location'].unique()}\n",
        "\n",
        "# Convertimos este diccionario a una lista\n",
        "loc_nulas_sunshine = [key for key, value in dict_loc_nulas_sunshine.items() if value]\n",
        "\n",
        "# Chequeamos que no haya ninguna localidad con todos valores no nulos\n",
        "print('{0:20}  {1}'.format('Location', 'Unique values'))\n",
        "print('\\u2014' * 35)\n",
        "for i in loc_nulas_sunshine:\n",
        "    print('{0:20}  {1}'.format(f'{i}:', data.loc[data['Location'] == i, 'Sunshine'].unique()))"
      ],
      "execution_count": null,
      "outputs": [
        {
          "output_type": "stream",
          "text": [
            "Location              Unique values\n",
            "———————————————————————————————————\n",
            "Albury:               [nan]\n",
            "BadgerysCreek:        [nan]\n",
            "Newcastle:            [nan]\n",
            "NorahHead:            [nan]\n",
            "Penrith:              [nan]\n",
            "Richmond:             [nan]\n",
            "Wollongong:           [nan]\n",
            "Tuggeranong:          [nan]\n",
            "MountGinini:          [nan]\n",
            "Ballarat:             [nan]\n",
            "Bendigo:              [nan]\n",
            "Nhil:                 [nan]\n",
            "GoldCoast:            [nan]\n",
            "Witchcliffe:          [nan]\n",
            "SalmonGums:           [nan]\n",
            "Walpole:              [nan]\n",
            "Launceston:           [nan]\n",
            "Katherine:            [nan]\n",
            "Uluru:                [nan]\n"
          ],
          "name": "stdout"
        }
      ]
    },
    {
      "cell_type": "markdown",
      "metadata": {
        "id": "E1LOeuXEQwn6"
      },
      "source": [
        "Efectivamente tenemos una lista de localidades donde no hay datos de `Sunshine`. En la próxima sección veremos como imputarlos."
      ]
    },
    {
      "cell_type": "code",
      "metadata": {
        "colab": {
          "base_uri": "https://localhost:8080/"
        },
        "id": "QH7u1UuHQwn6",
        "outputId": "698e2be6-46fe-4b7a-be84-29f23a6e96c9"
      },
      "source": [
        "data.columns"
      ],
      "execution_count": null,
      "outputs": [
        {
          "output_type": "execute_result",
          "data": {
            "text/plain": [
              "Index(['Date', 'Location', 'MinTemp', 'MaxTemp', 'Rainfall', 'Evaporation',\n",
              "       'Sunshine', 'WindGustDir', 'WindGustSpeed', 'WindDir9am', 'WindDir3pm',\n",
              "       'WindSpeed9am', 'WindSpeed3pm', 'Humidity9am', 'Humidity3pm',\n",
              "       'Pressure9am', 'Pressure3pm', 'Cloud9am', 'Cloud3pm', 'Temp9am',\n",
              "       'Temp3pm', 'RainToday', 'RainTomorrow'],\n",
              "      dtype='object')"
            ]
          },
          "metadata": {
            "tags": []
          },
          "execution_count": 15
        }
      ]
    },
    {
      "cell_type": "code",
      "metadata": {
        "colab": {
          "base_uri": "https://localhost:8080/",
          "height": 132
        },
        "id": "MHtMQaF5Qwn7",
        "outputId": "97ebf257-bc53-493c-e66b-80be69df0ffd"
      },
      "source": [
        "# Ya que tenemos la columna Date como datetime64, vamos a crear nuevas columnas con año y mes\n",
        "\n",
        "data['Month'] = data.Date.dt.month\n",
        "data['Year'] = data.Date.dt.year\n",
        "data.head(2)"
      ],
      "execution_count": null,
      "outputs": [
        {
          "output_type": "execute_result",
          "data": {
            "text/html": [
              "<div>\n",
              "<style scoped>\n",
              "    .dataframe tbody tr th:only-of-type {\n",
              "        vertical-align: middle;\n",
              "    }\n",
              "\n",
              "    .dataframe tbody tr th {\n",
              "        vertical-align: top;\n",
              "    }\n",
              "\n",
              "    .dataframe thead th {\n",
              "        text-align: right;\n",
              "    }\n",
              "</style>\n",
              "<table border=\"1\" class=\"dataframe\">\n",
              "  <thead>\n",
              "    <tr style=\"text-align: right;\">\n",
              "      <th></th>\n",
              "      <th>Date</th>\n",
              "      <th>Location</th>\n",
              "      <th>MinTemp</th>\n",
              "      <th>MaxTemp</th>\n",
              "      <th>Rainfall</th>\n",
              "      <th>Evaporation</th>\n",
              "      <th>Sunshine</th>\n",
              "      <th>WindGustDir</th>\n",
              "      <th>WindGustSpeed</th>\n",
              "      <th>WindDir9am</th>\n",
              "      <th>WindDir3pm</th>\n",
              "      <th>WindSpeed9am</th>\n",
              "      <th>WindSpeed3pm</th>\n",
              "      <th>Humidity9am</th>\n",
              "      <th>Humidity3pm</th>\n",
              "      <th>Pressure9am</th>\n",
              "      <th>Pressure3pm</th>\n",
              "      <th>Cloud9am</th>\n",
              "      <th>Cloud3pm</th>\n",
              "      <th>Temp9am</th>\n",
              "      <th>Temp3pm</th>\n",
              "      <th>RainToday</th>\n",
              "      <th>RainTomorrow</th>\n",
              "      <th>Month</th>\n",
              "      <th>Year</th>\n",
              "    </tr>\n",
              "  </thead>\n",
              "  <tbody>\n",
              "    <tr>\n",
              "      <th>0</th>\n",
              "      <td>2008-12-01</td>\n",
              "      <td>Albury</td>\n",
              "      <td>13.4</td>\n",
              "      <td>22.9</td>\n",
              "      <td>0.6</td>\n",
              "      <td>NaN</td>\n",
              "      <td>NaN</td>\n",
              "      <td>W</td>\n",
              "      <td>44.0</td>\n",
              "      <td>W</td>\n",
              "      <td>WNW</td>\n",
              "      <td>20.0</td>\n",
              "      <td>24.0</td>\n",
              "      <td>71.0</td>\n",
              "      <td>22.0</td>\n",
              "      <td>1007.7</td>\n",
              "      <td>1007.1</td>\n",
              "      <td>8.0</td>\n",
              "      <td>NaN</td>\n",
              "      <td>16.9</td>\n",
              "      <td>21.8</td>\n",
              "      <td>0.0</td>\n",
              "      <td>0.0</td>\n",
              "      <td>12</td>\n",
              "      <td>2008</td>\n",
              "    </tr>\n",
              "    <tr>\n",
              "      <th>1</th>\n",
              "      <td>2008-12-02</td>\n",
              "      <td>Albury</td>\n",
              "      <td>7.4</td>\n",
              "      <td>25.1</td>\n",
              "      <td>0.0</td>\n",
              "      <td>NaN</td>\n",
              "      <td>NaN</td>\n",
              "      <td>WNW</td>\n",
              "      <td>44.0</td>\n",
              "      <td>NNW</td>\n",
              "      <td>WSW</td>\n",
              "      <td>4.0</td>\n",
              "      <td>22.0</td>\n",
              "      <td>44.0</td>\n",
              "      <td>25.0</td>\n",
              "      <td>1010.6</td>\n",
              "      <td>1007.8</td>\n",
              "      <td>NaN</td>\n",
              "      <td>NaN</td>\n",
              "      <td>17.2</td>\n",
              "      <td>24.3</td>\n",
              "      <td>0.0</td>\n",
              "      <td>0.0</td>\n",
              "      <td>12</td>\n",
              "      <td>2008</td>\n",
              "    </tr>\n",
              "  </tbody>\n",
              "</table>\n",
              "</div>"
            ],
            "text/plain": [
              "        Date Location  MinTemp  MaxTemp  Rainfall  Evaporation  Sunshine  \\\n",
              "0 2008-12-01   Albury     13.4     22.9       0.6          NaN       NaN   \n",
              "1 2008-12-02   Albury      7.4     25.1       0.0          NaN       NaN   \n",
              "\n",
              "  WindGustDir  WindGustSpeed WindDir9am WindDir3pm  WindSpeed9am  \\\n",
              "0           W           44.0          W        WNW          20.0   \n",
              "1         WNW           44.0        NNW        WSW           4.0   \n",
              "\n",
              "   WindSpeed3pm  Humidity9am  Humidity3pm  Pressure9am  Pressure3pm  Cloud9am  \\\n",
              "0          24.0         71.0         22.0       1007.7       1007.1       8.0   \n",
              "1          22.0         44.0         25.0       1010.6       1007.8       NaN   \n",
              "\n",
              "   Cloud3pm  Temp9am  Temp3pm  RainToday  RainTomorrow  Month  Year  \n",
              "0       NaN     16.9     21.8        0.0           0.0     12  2008  \n",
              "1       NaN     17.2     24.3        0.0           0.0     12  2008  "
            ]
          },
          "metadata": {
            "tags": []
          },
          "execution_count": 16
        }
      ]
    },
    {
      "cell_type": "markdown",
      "metadata": {
        "id": "zj8fcHSpQwn8"
      },
      "source": [
        "<a id=\"section_2\"></a> \n",
        "# 2 - Imputacion de datos faltantes\n",
        "[volver a TOC](#section_toc)"
      ]
    },
    {
      "cell_type": "markdown",
      "metadata": {
        "id": "9GUtmogpQwn8"
      },
      "source": [
        "Vemos del punto anterior que hay varias ciudades sin dato en `Sunshine` y otras features. </br>\n",
        "Vamos a imputar por el promedio del mes. En el caso de que no tengamos ningun valor en ese mes utilizamos una ciudad cercana de referencia; para esto creamos una nueva columna con ciudades más cercanas."
      ]
    },
    {
      "cell_type": "code",
      "metadata": {
        "id": "Qh97ZUrdQwn-"
      },
      "source": [
        "# Creamos una copia del df pero que sea un objeto aparte\n",
        "data_para_imputar = data.copy()\n",
        "data_para_imputar['imputados'] = 0\n",
        "data_para_imputar[\"Location_replace\"] = data_para_imputar[\"Location\"]\n",
        "\n",
        "lista_replace = {\"Albury\" : \"Perth\", \"Uluru\" : \"Alice Springs\", \"Penrith\" : \"Sydney\", \"Katherine\" : \"Darwin\", \"Walpole\" : \"Perth\", \\\n",
        "                 \"Launceston\" : \"Hobart\", \"Wollongong\" : \"Sydney\", \"Badgerys Creek\" : \"Sydney\", \"Tuggeranong\" : \"Wagga Wagga\", \\\n",
        "                 \"Richmond\" : \"Melbourne\", \"Mount Ginini\" : \"Wagga Wagga\", \"Bendigo\" : \"Melbourne\", \"Salmon Gums\" : \"Perth Airport\", \\\n",
        "                 \"Witchcliffe\" : \"Perth Airport\", \"Norah Head\" : \"Sydney\", \"Nhil\" : \"Melbourne\", \"GoldCoast\" : \"Brisbane\", \\\n",
        "                 \"Ballarat\" : \"Melbourne\", \"Newcastle\" : \"Sydney\"}\n",
        "\n",
        "data_para_imputar[\"Location_replace\"] = data_para_imputar.Location_replace.replace(lista_replace)"
      ],
      "execution_count": null,
      "outputs": []
    },
    {
      "cell_type": "code",
      "metadata": {
        "colab": {
          "base_uri": "https://localhost:8080/",
          "height": 132
        },
        "id": "DAJfu7h3Qwn_",
        "outputId": "9a40eed1-c570-4708-859d-0f51278d4a35"
      },
      "source": [
        "# Generamos una columna con una palabra key para identificar cada linea formado por localidad + numero de mes\n",
        "# Esto nos resultó más sencillo de implementar que buscar simultaneamente en tres columnas distintas\n",
        "data_para_imputar[\"location_mes\"] = data_para_imputar['Location_replace'].astype(str)+data_para_imputar['Month'].astype(str)\n",
        "data_para_imputar.head(2)"
      ],
      "execution_count": null,
      "outputs": [
        {
          "output_type": "execute_result",
          "data": {
            "text/html": [
              "<div>\n",
              "<style scoped>\n",
              "    .dataframe tbody tr th:only-of-type {\n",
              "        vertical-align: middle;\n",
              "    }\n",
              "\n",
              "    .dataframe tbody tr th {\n",
              "        vertical-align: top;\n",
              "    }\n",
              "\n",
              "    .dataframe thead th {\n",
              "        text-align: right;\n",
              "    }\n",
              "</style>\n",
              "<table border=\"1\" class=\"dataframe\">\n",
              "  <thead>\n",
              "    <tr style=\"text-align: right;\">\n",
              "      <th></th>\n",
              "      <th>Date</th>\n",
              "      <th>Location</th>\n",
              "      <th>MinTemp</th>\n",
              "      <th>MaxTemp</th>\n",
              "      <th>Rainfall</th>\n",
              "      <th>Evaporation</th>\n",
              "      <th>Sunshine</th>\n",
              "      <th>WindGustDir</th>\n",
              "      <th>WindGustSpeed</th>\n",
              "      <th>WindDir9am</th>\n",
              "      <th>WindDir3pm</th>\n",
              "      <th>WindSpeed9am</th>\n",
              "      <th>WindSpeed3pm</th>\n",
              "      <th>Humidity9am</th>\n",
              "      <th>Humidity3pm</th>\n",
              "      <th>Pressure9am</th>\n",
              "      <th>Pressure3pm</th>\n",
              "      <th>Cloud9am</th>\n",
              "      <th>Cloud3pm</th>\n",
              "      <th>Temp9am</th>\n",
              "      <th>Temp3pm</th>\n",
              "      <th>RainToday</th>\n",
              "      <th>RainTomorrow</th>\n",
              "      <th>Month</th>\n",
              "      <th>Year</th>\n",
              "      <th>imputados</th>\n",
              "      <th>Location_replace</th>\n",
              "      <th>location_mes</th>\n",
              "    </tr>\n",
              "  </thead>\n",
              "  <tbody>\n",
              "    <tr>\n",
              "      <th>0</th>\n",
              "      <td>2008-12-01</td>\n",
              "      <td>Albury</td>\n",
              "      <td>13.4</td>\n",
              "      <td>22.9</td>\n",
              "      <td>0.6</td>\n",
              "      <td>NaN</td>\n",
              "      <td>NaN</td>\n",
              "      <td>W</td>\n",
              "      <td>44.0</td>\n",
              "      <td>W</td>\n",
              "      <td>WNW</td>\n",
              "      <td>20.0</td>\n",
              "      <td>24.0</td>\n",
              "      <td>71.0</td>\n",
              "      <td>22.0</td>\n",
              "      <td>1007.7</td>\n",
              "      <td>1007.1</td>\n",
              "      <td>8.0</td>\n",
              "      <td>NaN</td>\n",
              "      <td>16.9</td>\n",
              "      <td>21.8</td>\n",
              "      <td>0.0</td>\n",
              "      <td>0.0</td>\n",
              "      <td>12</td>\n",
              "      <td>2008</td>\n",
              "      <td>0</td>\n",
              "      <td>Perth</td>\n",
              "      <td>Perth12</td>\n",
              "    </tr>\n",
              "    <tr>\n",
              "      <th>1</th>\n",
              "      <td>2008-12-02</td>\n",
              "      <td>Albury</td>\n",
              "      <td>7.4</td>\n",
              "      <td>25.1</td>\n",
              "      <td>0.0</td>\n",
              "      <td>NaN</td>\n",
              "      <td>NaN</td>\n",
              "      <td>WNW</td>\n",
              "      <td>44.0</td>\n",
              "      <td>NNW</td>\n",
              "      <td>WSW</td>\n",
              "      <td>4.0</td>\n",
              "      <td>22.0</td>\n",
              "      <td>44.0</td>\n",
              "      <td>25.0</td>\n",
              "      <td>1010.6</td>\n",
              "      <td>1007.8</td>\n",
              "      <td>NaN</td>\n",
              "      <td>NaN</td>\n",
              "      <td>17.2</td>\n",
              "      <td>24.3</td>\n",
              "      <td>0.0</td>\n",
              "      <td>0.0</td>\n",
              "      <td>12</td>\n",
              "      <td>2008</td>\n",
              "      <td>0</td>\n",
              "      <td>Perth</td>\n",
              "      <td>Perth12</td>\n",
              "    </tr>\n",
              "  </tbody>\n",
              "</table>\n",
              "</div>"
            ],
            "text/plain": [
              "        Date Location  MinTemp  MaxTemp  Rainfall  Evaporation  Sunshine  \\\n",
              "0 2008-12-01   Albury     13.4     22.9       0.6          NaN       NaN   \n",
              "1 2008-12-02   Albury      7.4     25.1       0.0          NaN       NaN   \n",
              "\n",
              "  WindGustDir  WindGustSpeed WindDir9am WindDir3pm  WindSpeed9am  \\\n",
              "0           W           44.0          W        WNW          20.0   \n",
              "1         WNW           44.0        NNW        WSW           4.0   \n",
              "\n",
              "   WindSpeed3pm  Humidity9am  Humidity3pm  Pressure9am  Pressure3pm  Cloud9am  \\\n",
              "0          24.0         71.0         22.0       1007.7       1007.1       8.0   \n",
              "1          22.0         44.0         25.0       1010.6       1007.8       NaN   \n",
              "\n",
              "   Cloud3pm  Temp9am  Temp3pm  RainToday  RainTomorrow  Month  Year  \\\n",
              "0       NaN     16.9     21.8        0.0           0.0     12  2008   \n",
              "1       NaN     17.2     24.3        0.0           0.0     12  2008   \n",
              "\n",
              "   imputados Location_replace location_mes  \n",
              "0          0            Perth      Perth12  \n",
              "1          0            Perth      Perth12  "
            ]
          },
          "metadata": {
            "tags": []
          },
          "execution_count": 18
        }
      ]
    },
    {
      "cell_type": "code",
      "metadata": {
        "colab": {
          "base_uri": "https://localhost:8080/",
          "height": 269
        },
        "id": "Bv0VsO31QwoC",
        "outputId": "30824dc8-7a12-4624-b77a-9451efdef103"
      },
      "source": [
        "pivot = data_para_imputar.pivot_table(index= [\"Location\", \"Month\"], values=[\"Sunshine\", \"Humidity3pm\", \"Cloud3pm\", \"Cloud9am\" ], aggfunc=[np.mean], dropna= True).round(2)\n",
        "pivot.sample(5)"
      ],
      "execution_count": null,
      "outputs": [
        {
          "output_type": "execute_result",
          "data": {
            "text/html": [
              "<div>\n",
              "<style scoped>\n",
              "    .dataframe tbody tr th:only-of-type {\n",
              "        vertical-align: middle;\n",
              "    }\n",
              "\n",
              "    .dataframe tbody tr th {\n",
              "        vertical-align: top;\n",
              "    }\n",
              "\n",
              "    .dataframe thead tr th {\n",
              "        text-align: left;\n",
              "    }\n",
              "\n",
              "    .dataframe thead tr:last-of-type th {\n",
              "        text-align: right;\n",
              "    }\n",
              "</style>\n",
              "<table border=\"1\" class=\"dataframe\">\n",
              "  <thead>\n",
              "    <tr>\n",
              "      <th></th>\n",
              "      <th></th>\n",
              "      <th colspan=\"4\" halign=\"left\">mean</th>\n",
              "    </tr>\n",
              "    <tr>\n",
              "      <th></th>\n",
              "      <th></th>\n",
              "      <th>Cloud3pm</th>\n",
              "      <th>Cloud9am</th>\n",
              "      <th>Humidity3pm</th>\n",
              "      <th>Sunshine</th>\n",
              "    </tr>\n",
              "    <tr>\n",
              "      <th>Location</th>\n",
              "      <th>Month</th>\n",
              "      <th></th>\n",
              "      <th></th>\n",
              "      <th></th>\n",
              "      <th></th>\n",
              "    </tr>\n",
              "  </thead>\n",
              "  <tbody>\n",
              "    <tr>\n",
              "      <th>MountGinini</th>\n",
              "      <th>7</th>\n",
              "      <td>NaN</td>\n",
              "      <td>NaN</td>\n",
              "      <td>84.80</td>\n",
              "      <td>NaN</td>\n",
              "    </tr>\n",
              "    <tr>\n",
              "      <th>Albury</th>\n",
              "      <th>7</th>\n",
              "      <td>6.26</td>\n",
              "      <td>7.07</td>\n",
              "      <td>67.40</td>\n",
              "      <td>NaN</td>\n",
              "    </tr>\n",
              "    <tr>\n",
              "      <th>Dartmoor</th>\n",
              "      <th>2</th>\n",
              "      <td>NaN</td>\n",
              "      <td>NaN</td>\n",
              "      <td>50.19</td>\n",
              "      <td>8.51</td>\n",
              "    </tr>\n",
              "    <tr>\n",
              "      <th>Sale</th>\n",
              "      <th>10</th>\n",
              "      <td>5.21</td>\n",
              "      <td>5.19</td>\n",
              "      <td>54.13</td>\n",
              "      <td>7.51</td>\n",
              "    </tr>\n",
              "    <tr>\n",
              "      <th>WaggaWagga</th>\n",
              "      <th>7</th>\n",
              "      <td>4.85</td>\n",
              "      <td>5.12</td>\n",
              "      <td>63.45</td>\n",
              "      <td>5.11</td>\n",
              "    </tr>\n",
              "  </tbody>\n",
              "</table>\n",
              "</div>"
            ],
            "text/plain": [
              "                      mean                              \n",
              "                  Cloud3pm Cloud9am Humidity3pm Sunshine\n",
              "Location    Month                                       \n",
              "MountGinini 7          NaN      NaN       84.80      NaN\n",
              "Albury      7         6.26     7.07       67.40      NaN\n",
              "Dartmoor    2          NaN      NaN       50.19     8.51\n",
              "Sale        10        5.21     5.19       54.13     7.51\n",
              "WaggaWagga  7         4.85     5.12       63.45     5.11"
            ]
          },
          "metadata": {
            "tags": []
          },
          "execution_count": 19
        }
      ]
    },
    {
      "cell_type": "code",
      "metadata": {
        "colab": {
          "base_uri": "https://localhost:8080/"
        },
        "id": "BtdxR1vEQwoE",
        "outputId": "08818016-8e8b-451d-c7b8-6d55a17e0da9"
      },
      "source": [
        "data_para_imputar.shape"
      ],
      "execution_count": null,
      "outputs": [
        {
          "output_type": "execute_result",
          "data": {
            "text/plain": [
              "(145460, 28)"
            ]
          },
          "metadata": {
            "tags": []
          },
          "execution_count": 20
        }
      ]
    },
    {
      "cell_type": "code",
      "metadata": {
        "colab": {
          "base_uri": "https://localhost:8080/",
          "height": 328
        },
        "id": "Df6-9yPOQwoF",
        "outputId": "3fbecfc3-9824-4fd7-85a6-effff1af5a45"
      },
      "source": [
        "# Este código es para transformar la pivot table multiíndice en un df de un solo nivel jerárquico de índices/columnas\n",
        "\n",
        "pivot_2 = pd.DataFrame(pivot.to_records())\n",
        "display(pivot_2.sample(5))\n",
        "pivot_2.dtypes"
      ],
      "execution_count": null,
      "outputs": [
        {
          "output_type": "display_data",
          "data": {
            "text/html": [
              "<div>\n",
              "<style scoped>\n",
              "    .dataframe tbody tr th:only-of-type {\n",
              "        vertical-align: middle;\n",
              "    }\n",
              "\n",
              "    .dataframe tbody tr th {\n",
              "        vertical-align: top;\n",
              "    }\n",
              "\n",
              "    .dataframe thead th {\n",
              "        text-align: right;\n",
              "    }\n",
              "</style>\n",
              "<table border=\"1\" class=\"dataframe\">\n",
              "  <thead>\n",
              "    <tr style=\"text-align: right;\">\n",
              "      <th></th>\n",
              "      <th>Location</th>\n",
              "      <th>Month</th>\n",
              "      <th>('mean', 'Cloud3pm')</th>\n",
              "      <th>('mean', 'Cloud9am')</th>\n",
              "      <th>('mean', 'Humidity3pm')</th>\n",
              "      <th>('mean', 'Sunshine')</th>\n",
              "    </tr>\n",
              "  </thead>\n",
              "  <tbody>\n",
              "    <tr>\n",
              "      <th>419</th>\n",
              "      <td>Richmond</td>\n",
              "      <td>12</td>\n",
              "      <td>5.52</td>\n",
              "      <td>5.75</td>\n",
              "      <td>47.63</td>\n",
              "      <td>NaN</td>\n",
              "    </tr>\n",
              "    <tr>\n",
              "      <th>136</th>\n",
              "      <td>CoffsHarbour</td>\n",
              "      <td>5</td>\n",
              "      <td>4.46</td>\n",
              "      <td>4.11</td>\n",
              "      <td>58.72</td>\n",
              "      <td>6.96</td>\n",
              "    </tr>\n",
              "    <tr>\n",
              "      <th>553</th>\n",
              "      <td>Witchcliffe</td>\n",
              "      <td>2</td>\n",
              "      <td>NaN</td>\n",
              "      <td>NaN</td>\n",
              "      <td>48.05</td>\n",
              "      <td>NaN</td>\n",
              "    </tr>\n",
              "    <tr>\n",
              "      <th>224</th>\n",
              "      <td>Melbourne</td>\n",
              "      <td>9</td>\n",
              "      <td>5.98</td>\n",
              "      <td>5.46</td>\n",
              "      <td>48.32</td>\n",
              "      <td>6.08</td>\n",
              "    </tr>\n",
              "    <tr>\n",
              "      <th>355</th>\n",
              "      <td>PearceRAAF</td>\n",
              "      <td>8</td>\n",
              "      <td>5.10</td>\n",
              "      <td>4.47</td>\n",
              "      <td>55.28</td>\n",
              "      <td>7.04</td>\n",
              "    </tr>\n",
              "  </tbody>\n",
              "</table>\n",
              "</div>"
            ],
            "text/plain": [
              "         Location  Month  ('mean', 'Cloud3pm')  ('mean', 'Cloud9am')  \\\n",
              "419      Richmond     12                  5.52                  5.75   \n",
              "136  CoffsHarbour      5                  4.46                  4.11   \n",
              "553   Witchcliffe      2                   NaN                   NaN   \n",
              "224     Melbourne      9                  5.98                  5.46   \n",
              "355    PearceRAAF      8                  5.10                  4.47   \n",
              "\n",
              "     ('mean', 'Humidity3pm')  ('mean', 'Sunshine')  \n",
              "419                    47.63                   NaN  \n",
              "136                    58.72                  6.96  \n",
              "553                    48.05                   NaN  \n",
              "224                    48.32                  6.08  \n",
              "355                    55.28                  7.04  "
            ]
          },
          "metadata": {
            "tags": []
          }
        },
        {
          "output_type": "execute_result",
          "data": {
            "text/plain": [
              "Location                    object\n",
              "Month                        int64\n",
              "('mean', 'Cloud3pm')       float64\n",
              "('mean', 'Cloud9am')       float64\n",
              "('mean', 'Humidity3pm')    float64\n",
              "('mean', 'Sunshine')       float64\n",
              "dtype: object"
            ]
          },
          "metadata": {
            "tags": []
          },
          "execution_count": 21
        }
      ]
    },
    {
      "cell_type": "code",
      "metadata": {
        "colab": {
          "base_uri": "https://localhost:8080/",
          "height": 206
        },
        "id": "0kR-opnGQwoF",
        "outputId": "fff6ecbc-1af1-48fd-fbbe-deed45b0f3e4"
      },
      "source": [
        "# Generamos en este nuevo dataframe pivot_2 misma palabra key Nombre ciudad + numero de mes\n",
        "\n",
        "pivot_2[\"location_mes\"] = pivot_2['Location'].astype(str) + pivot_2['Month'].astype(str)\n",
        "pivot_2.sample(5)"
      ],
      "execution_count": null,
      "outputs": [
        {
          "output_type": "execute_result",
          "data": {
            "text/html": [
              "<div>\n",
              "<style scoped>\n",
              "    .dataframe tbody tr th:only-of-type {\n",
              "        vertical-align: middle;\n",
              "    }\n",
              "\n",
              "    .dataframe tbody tr th {\n",
              "        vertical-align: top;\n",
              "    }\n",
              "\n",
              "    .dataframe thead th {\n",
              "        text-align: right;\n",
              "    }\n",
              "</style>\n",
              "<table border=\"1\" class=\"dataframe\">\n",
              "  <thead>\n",
              "    <tr style=\"text-align: right;\">\n",
              "      <th></th>\n",
              "      <th>Location</th>\n",
              "      <th>Month</th>\n",
              "      <th>('mean', 'Cloud3pm')</th>\n",
              "      <th>('mean', 'Cloud9am')</th>\n",
              "      <th>('mean', 'Humidity3pm')</th>\n",
              "      <th>('mean', 'Sunshine')</th>\n",
              "      <th>location_mes</th>\n",
              "    </tr>\n",
              "  </thead>\n",
              "  <tbody>\n",
              "    <tr>\n",
              "      <th>491</th>\n",
              "      <td>Tuggeranong</td>\n",
              "      <td>12</td>\n",
              "      <td>NaN</td>\n",
              "      <td>NaN</td>\n",
              "      <td>38.33</td>\n",
              "      <td>NaN</td>\n",
              "      <td>Tuggeranong12</td>\n",
              "    </tr>\n",
              "    <tr>\n",
              "      <th>455</th>\n",
              "      <td>Sydney</td>\n",
              "      <td>12</td>\n",
              "      <td>4.53</td>\n",
              "      <td>4.71</td>\n",
              "      <td>57.76</td>\n",
              "      <td>7.84</td>\n",
              "      <td>Sydney12</td>\n",
              "    </tr>\n",
              "    <tr>\n",
              "      <th>498</th>\n",
              "      <td>Uluru</td>\n",
              "      <td>7</td>\n",
              "      <td>6.27</td>\n",
              "      <td>6.25</td>\n",
              "      <td>31.84</td>\n",
              "      <td>NaN</td>\n",
              "      <td>Uluru7</td>\n",
              "    </tr>\n",
              "    <tr>\n",
              "      <th>399</th>\n",
              "      <td>Portland</td>\n",
              "      <td>4</td>\n",
              "      <td>6.07</td>\n",
              "      <td>6.28</td>\n",
              "      <td>64.84</td>\n",
              "      <td>5.34</td>\n",
              "      <td>Portland4</td>\n",
              "    </tr>\n",
              "    <tr>\n",
              "      <th>479</th>\n",
              "      <td>Townsville</td>\n",
              "      <td>12</td>\n",
              "      <td>4.01</td>\n",
              "      <td>4.70</td>\n",
              "      <td>59.65</td>\n",
              "      <td>9.34</td>\n",
              "      <td>Townsville12</td>\n",
              "    </tr>\n",
              "  </tbody>\n",
              "</table>\n",
              "</div>"
            ],
            "text/plain": [
              "        Location  Month  ('mean', 'Cloud3pm')  ('mean', 'Cloud9am')  \\\n",
              "491  Tuggeranong     12                   NaN                   NaN   \n",
              "455       Sydney     12                  4.53                  4.71   \n",
              "498        Uluru      7                  6.27                  6.25   \n",
              "399     Portland      4                  6.07                  6.28   \n",
              "479   Townsville     12                  4.01                  4.70   \n",
              "\n",
              "     ('mean', 'Humidity3pm')  ('mean', 'Sunshine')   location_mes  \n",
              "491                    38.33                   NaN  Tuggeranong12  \n",
              "455                    57.76                  7.84       Sydney12  \n",
              "498                    31.84                   NaN         Uluru7  \n",
              "399                    64.84                  5.34      Portland4  \n",
              "479                    59.65                  9.34   Townsville12  "
            ]
          },
          "metadata": {
            "tags": []
          },
          "execution_count": 22
        }
      ]
    },
    {
      "cell_type": "code",
      "metadata": {
        "colab": {
          "base_uri": "https://localhost:8080/",
          "height": 261
        },
        "id": "XqeKEXN2QwoG",
        "outputId": "5c506892-95b1-4bce-f951-b97931cb97e3"
      },
      "source": [
        "# Unimos ambos data frame a traves de nuestra columna de location + mes\n",
        "# Al ser inner se pierden un poco de datos que quedaron sin linkear (habria que revisar la lista replace de lugares etc)\n",
        "# podriamos poner how = left para tener la totalidad de datos\n",
        "\n",
        "data_imputados = pd.merge(data_para_imputar, pivot_2, on= 'location_mes', how= 'inner')\n",
        "\n",
        "display(data_imputados.shape)\n",
        "data_imputados.sample(5)"
      ],
      "execution_count": null,
      "outputs": [
        {
          "output_type": "display_data",
          "data": {
            "text/plain": [
              "(137834, 34)"
            ]
          },
          "metadata": {
            "tags": []
          }
        },
        {
          "output_type": "execute_result",
          "data": {
            "text/html": [
              "<div>\n",
              "<style scoped>\n",
              "    .dataframe tbody tr th:only-of-type {\n",
              "        vertical-align: middle;\n",
              "    }\n",
              "\n",
              "    .dataframe tbody tr th {\n",
              "        vertical-align: top;\n",
              "    }\n",
              "\n",
              "    .dataframe thead th {\n",
              "        text-align: right;\n",
              "    }\n",
              "</style>\n",
              "<table border=\"1\" class=\"dataframe\">\n",
              "  <thead>\n",
              "    <tr style=\"text-align: right;\">\n",
              "      <th></th>\n",
              "      <th>Date</th>\n",
              "      <th>Location_x</th>\n",
              "      <th>MinTemp</th>\n",
              "      <th>MaxTemp</th>\n",
              "      <th>Rainfall</th>\n",
              "      <th>Evaporation</th>\n",
              "      <th>Sunshine</th>\n",
              "      <th>WindGustDir</th>\n",
              "      <th>WindGustSpeed</th>\n",
              "      <th>WindDir9am</th>\n",
              "      <th>WindDir3pm</th>\n",
              "      <th>WindSpeed9am</th>\n",
              "      <th>WindSpeed3pm</th>\n",
              "      <th>Humidity9am</th>\n",
              "      <th>Humidity3pm</th>\n",
              "      <th>Pressure9am</th>\n",
              "      <th>Pressure3pm</th>\n",
              "      <th>Cloud9am</th>\n",
              "      <th>Cloud3pm</th>\n",
              "      <th>Temp9am</th>\n",
              "      <th>Temp3pm</th>\n",
              "      <th>RainToday</th>\n",
              "      <th>RainTomorrow</th>\n",
              "      <th>Month_x</th>\n",
              "      <th>Year</th>\n",
              "      <th>imputados</th>\n",
              "      <th>Location_replace</th>\n",
              "      <th>location_mes</th>\n",
              "      <th>Location_y</th>\n",
              "      <th>Month_y</th>\n",
              "      <th>('mean', 'Cloud3pm')</th>\n",
              "      <th>('mean', 'Cloud9am')</th>\n",
              "      <th>('mean', 'Humidity3pm')</th>\n",
              "      <th>('mean', 'Sunshine')</th>\n",
              "    </tr>\n",
              "  </thead>\n",
              "  <tbody>\n",
              "    <tr>\n",
              "      <th>9955</th>\n",
              "      <td>2015-03-26</td>\n",
              "      <td>BadgerysCreek</td>\n",
              "      <td>13.4</td>\n",
              "      <td>28.1</td>\n",
              "      <td>0.0</td>\n",
              "      <td>NaN</td>\n",
              "      <td>NaN</td>\n",
              "      <td>WSW</td>\n",
              "      <td>31.0</td>\n",
              "      <td>SW</td>\n",
              "      <td>W</td>\n",
              "      <td>6.0</td>\n",
              "      <td>11.0</td>\n",
              "      <td>83.0</td>\n",
              "      <td>26.0</td>\n",
              "      <td>1018.0</td>\n",
              "      <td>1014.8</td>\n",
              "      <td>NaN</td>\n",
              "      <td>NaN</td>\n",
              "      <td>17.9</td>\n",
              "      <td>26.8</td>\n",
              "      <td>0.0</td>\n",
              "      <td>0.0</td>\n",
              "      <td>3</td>\n",
              "      <td>2015</td>\n",
              "      <td>0</td>\n",
              "      <td>BadgerysCreek</td>\n",
              "      <td>BadgerysCreek3</td>\n",
              "      <td>BadgerysCreek</td>\n",
              "      <td>3</td>\n",
              "      <td>NaN</td>\n",
              "      <td>NaN</td>\n",
              "      <td>56.37</td>\n",
              "      <td>NaN</td>\n",
              "    </tr>\n",
              "    <tr>\n",
              "      <th>40985</th>\n",
              "      <td>2017-01-27</td>\n",
              "      <td>Nhil</td>\n",
              "      <td>9.1</td>\n",
              "      <td>32.2</td>\n",
              "      <td>0.0</td>\n",
              "      <td>NaN</td>\n",
              "      <td>NaN</td>\n",
              "      <td>S</td>\n",
              "      <td>28.0</td>\n",
              "      <td>SSE</td>\n",
              "      <td>SW</td>\n",
              "      <td>13.0</td>\n",
              "      <td>6.0</td>\n",
              "      <td>73.0</td>\n",
              "      <td>20.0</td>\n",
              "      <td>1016.7</td>\n",
              "      <td>1013.6</td>\n",
              "      <td>NaN</td>\n",
              "      <td>NaN</td>\n",
              "      <td>15.8</td>\n",
              "      <td>29.8</td>\n",
              "      <td>0.0</td>\n",
              "      <td>0.0</td>\n",
              "      <td>1</td>\n",
              "      <td>2017</td>\n",
              "      <td>0</td>\n",
              "      <td>Melbourne</td>\n",
              "      <td>Melbourne1</td>\n",
              "      <td>Melbourne</td>\n",
              "      <td>1</td>\n",
              "      <td>3.84</td>\n",
              "      <td>4.65</td>\n",
              "      <td>44.64</td>\n",
              "      <td>8.95</td>\n",
              "    </tr>\n",
              "    <tr>\n",
              "      <th>120063</th>\n",
              "      <td>2016-09-10</td>\n",
              "      <td>PerthAirport</td>\n",
              "      <td>11.9</td>\n",
              "      <td>19.8</td>\n",
              "      <td>1.4</td>\n",
              "      <td>1.4</td>\n",
              "      <td>4.0</td>\n",
              "      <td>WSW</td>\n",
              "      <td>31.0</td>\n",
              "      <td>N</td>\n",
              "      <td>WSW</td>\n",
              "      <td>9.0</td>\n",
              "      <td>24.0</td>\n",
              "      <td>82.0</td>\n",
              "      <td>62.0</td>\n",
              "      <td>1021.3</td>\n",
              "      <td>1018.8</td>\n",
              "      <td>2.0</td>\n",
              "      <td>7.0</td>\n",
              "      <td>15.6</td>\n",
              "      <td>18.5</td>\n",
              "      <td>1.0</td>\n",
              "      <td>0.0</td>\n",
              "      <td>9</td>\n",
              "      <td>2016</td>\n",
              "      <td>0</td>\n",
              "      <td>PerthAirport</td>\n",
              "      <td>PerthAirport9</td>\n",
              "      <td>PerthAirport</td>\n",
              "      <td>9</td>\n",
              "      <td>3.98</td>\n",
              "      <td>3.84</td>\n",
              "      <td>46.98</td>\n",
              "      <td>7.88</td>\n",
              "    </tr>\n",
              "    <tr>\n",
              "      <th>19850</th>\n",
              "      <td>2009-07-17</td>\n",
              "      <td>Moree</td>\n",
              "      <td>0.9</td>\n",
              "      <td>15.2</td>\n",
              "      <td>0.4</td>\n",
              "      <td>1.2</td>\n",
              "      <td>9.6</td>\n",
              "      <td>SW</td>\n",
              "      <td>30.0</td>\n",
              "      <td>W</td>\n",
              "      <td>SW</td>\n",
              "      <td>17.0</td>\n",
              "      <td>15.0</td>\n",
              "      <td>93.0</td>\n",
              "      <td>52.0</td>\n",
              "      <td>1021.1</td>\n",
              "      <td>1019.1</td>\n",
              "      <td>2.0</td>\n",
              "      <td>2.0</td>\n",
              "      <td>5.6</td>\n",
              "      <td>14.7</td>\n",
              "      <td>0.0</td>\n",
              "      <td>0.0</td>\n",
              "      <td>7</td>\n",
              "      <td>2009</td>\n",
              "      <td>0</td>\n",
              "      <td>Moree</td>\n",
              "      <td>Moree7</td>\n",
              "      <td>Moree</td>\n",
              "      <td>7</td>\n",
              "      <td>3.74</td>\n",
              "      <td>3.56</td>\n",
              "      <td>44.75</td>\n",
              "      <td>7.52</td>\n",
              "    </tr>\n",
              "    <tr>\n",
              "      <th>80736</th>\n",
              "      <td>2010-11-15</td>\n",
              "      <td>Portland</td>\n",
              "      <td>6.1</td>\n",
              "      <td>15.4</td>\n",
              "      <td>0.2</td>\n",
              "      <td>3.0</td>\n",
              "      <td>4.5</td>\n",
              "      <td>WSW</td>\n",
              "      <td>43.0</td>\n",
              "      <td>SW</td>\n",
              "      <td>W</td>\n",
              "      <td>11.0</td>\n",
              "      <td>26.0</td>\n",
              "      <td>72.0</td>\n",
              "      <td>61.0</td>\n",
              "      <td>1017.7</td>\n",
              "      <td>1017.0</td>\n",
              "      <td>7.0</td>\n",
              "      <td>5.0</td>\n",
              "      <td>11.7</td>\n",
              "      <td>14.9</td>\n",
              "      <td>0.0</td>\n",
              "      <td>0.0</td>\n",
              "      <td>11</td>\n",
              "      <td>2010</td>\n",
              "      <td>0</td>\n",
              "      <td>Portland</td>\n",
              "      <td>Portland11</td>\n",
              "      <td>Portland</td>\n",
              "      <td>11</td>\n",
              "      <td>6.03</td>\n",
              "      <td>6.37</td>\n",
              "      <td>64.94</td>\n",
              "      <td>7.61</td>\n",
              "    </tr>\n",
              "  </tbody>\n",
              "</table>\n",
              "</div>"
            ],
            "text/plain": [
              "             Date     Location_x  MinTemp  MaxTemp  Rainfall  Evaporation  \\\n",
              "9955   2015-03-26  BadgerysCreek     13.4     28.1       0.0          NaN   \n",
              "40985  2017-01-27           Nhil      9.1     32.2       0.0          NaN   \n",
              "120063 2016-09-10   PerthAirport     11.9     19.8       1.4          1.4   \n",
              "19850  2009-07-17          Moree      0.9     15.2       0.4          1.2   \n",
              "80736  2010-11-15       Portland      6.1     15.4       0.2          3.0   \n",
              "\n",
              "        Sunshine WindGustDir  WindGustSpeed WindDir9am WindDir3pm  \\\n",
              "9955         NaN         WSW           31.0         SW          W   \n",
              "40985        NaN           S           28.0        SSE         SW   \n",
              "120063       4.0         WSW           31.0          N        WSW   \n",
              "19850        9.6          SW           30.0          W         SW   \n",
              "80736        4.5         WSW           43.0         SW          W   \n",
              "\n",
              "        WindSpeed9am  WindSpeed3pm  Humidity9am  Humidity3pm  Pressure9am  \\\n",
              "9955             6.0          11.0         83.0         26.0       1018.0   \n",
              "40985           13.0           6.0         73.0         20.0       1016.7   \n",
              "120063           9.0          24.0         82.0         62.0       1021.3   \n",
              "19850           17.0          15.0         93.0         52.0       1021.1   \n",
              "80736           11.0          26.0         72.0         61.0       1017.7   \n",
              "\n",
              "        Pressure3pm  Cloud9am  Cloud3pm  Temp9am  Temp3pm  RainToday  \\\n",
              "9955         1014.8       NaN       NaN     17.9     26.8        0.0   \n",
              "40985        1013.6       NaN       NaN     15.8     29.8        0.0   \n",
              "120063       1018.8       2.0       7.0     15.6     18.5        1.0   \n",
              "19850        1019.1       2.0       2.0      5.6     14.7        0.0   \n",
              "80736        1017.0       7.0       5.0     11.7     14.9        0.0   \n",
              "\n",
              "        RainTomorrow  Month_x  Year  imputados Location_replace  \\\n",
              "9955             0.0        3  2015          0    BadgerysCreek   \n",
              "40985            0.0        1  2017          0        Melbourne   \n",
              "120063           0.0        9  2016          0     PerthAirport   \n",
              "19850            0.0        7  2009          0            Moree   \n",
              "80736            0.0       11  2010          0         Portland   \n",
              "\n",
              "          location_mes     Location_y  Month_y  ('mean', 'Cloud3pm')  \\\n",
              "9955    BadgerysCreek3  BadgerysCreek        3                   NaN   \n",
              "40985       Melbourne1      Melbourne        1                  3.84   \n",
              "120063   PerthAirport9   PerthAirport        9                  3.98   \n",
              "19850           Moree7          Moree        7                  3.74   \n",
              "80736       Portland11       Portland       11                  6.03   \n",
              "\n",
              "        ('mean', 'Cloud9am')  ('mean', 'Humidity3pm')  ('mean', 'Sunshine')  \n",
              "9955                     NaN                    56.37                   NaN  \n",
              "40985                   4.65                    44.64                  8.95  \n",
              "120063                  3.84                    46.98                  7.88  \n",
              "19850                   3.56                    44.75                  7.52  \n",
              "80736                   6.37                    64.94                  7.61  "
            ]
          },
          "metadata": {
            "tags": []
          },
          "execution_count": 23
        }
      ]
    },
    {
      "cell_type": "code",
      "metadata": {
        "id": "iEJFP49CQwoH"
      },
      "source": [
        "# Generamos mascaras de nulos para nuestros features de interes (son los que mejor correlacionan con variable target)\n",
        "\n",
        "mask_sunshine = data_imputados.Sunshine.isnull()\n",
        "mask_Humidity3pm = data_imputados.Humidity3pm.isnull()\n",
        "mask_Cloud3pm = data_imputados.Cloud3pm.isnull()\n",
        "mask_Cloud9am = data_imputados.Cloud9am.isnull()\n",
        "\n",
        "# ahora completamos los datos faltantes con el promedio del mes de la ciudad\n",
        "data_imputados.loc[mask_sunshine, \"Sunshine\"] = data_imputados.loc[mask_sunshine, \"('mean', 'Sunshine')\"]  \n",
        "data_imputados.loc[mask_Humidity3pm, \"Humidity3pm\"] = data_imputados.loc[mask_Humidity3pm, \"('mean', 'Humidity3pm')\"] \n",
        "data_imputados.loc[mask_Cloud3pm, \"Cloud3pm\"] = data_imputados.loc[mask_Cloud3pm, \"('mean', 'Cloud3pm')\"] \n",
        "data_imputados.loc[mask_Cloud9am, \"Cloud9am\"] = data_imputados.loc[mask_Cloud9am, \"('mean', 'Cloud9am')\"] \n",
        "\n",
        "# Los datos imputados los marcamos con 1 en columna imputados\n",
        "data_imputados.loc[mask_sunshine, \"imputados\"] = 1  \n",
        "data_imputados.loc[mask_Humidity3pm, \"imputados\"] = 1 \n",
        "data_imputados.loc[mask_Cloud3pm, \"imputados\"] = 1 \n",
        "data_imputados.loc[mask_Cloud9am, \"imputados\"] = 1 "
      ],
      "execution_count": null,
      "outputs": []
    },
    {
      "cell_type": "markdown",
      "metadata": {
        "id": "CjrvGPCAQwoH"
      },
      "source": [
        "Revisemos cómo queda el balance entre nulos y no nulos en `Sunshine`"
      ]
    },
    {
      "cell_type": "code",
      "metadata": {
        "colab": {
          "base_uri": "https://localhost:8080/",
          "height": 208
        },
        "id": "ZZrxWj-FQwoI",
        "outputId": "0ef95267-5a2d-4414-d842-200840bf0ef5"
      },
      "source": [
        "print(\"Nulos de nuestro dataframe inicial:\\n\")\n",
        "display(data.Sunshine.isnull().value_counts())\n",
        "\n",
        "print(\"\\nNulos de nuestro dataframe luego de imputar:\\n\")\n",
        "\n",
        "display(data_imputados.Sunshine.isnull().value_counts())"
      ],
      "execution_count": null,
      "outputs": [
        {
          "output_type": "stream",
          "text": [
            "Nulos de nuestro dataframe inicial:\n",
            "\n"
          ],
          "name": "stdout"
        },
        {
          "output_type": "display_data",
          "data": {
            "text/plain": [
              "False    75625\n",
              "True     69835\n",
              "Name: Sunshine, dtype: int64"
            ]
          },
          "metadata": {
            "tags": []
          }
        },
        {
          "output_type": "stream",
          "text": [
            "\n",
            "Nulos de nuestro dataframe luego de imputar:\n",
            "\n"
          ],
          "name": "stdout"
        },
        {
          "output_type": "display_data",
          "data": {
            "text/plain": [
              "False    125780\n",
              "True      12054\n",
              "Name: Sunshine, dtype: int64"
            ]
          },
          "metadata": {
            "tags": []
          }
        }
      ]
    },
    {
      "cell_type": "code",
      "metadata": {
        "colab": {
          "base_uri": "https://localhost:8080/",
          "height": 206
        },
        "id": "M5LR2iNoQwoJ",
        "outputId": "59517c9d-54d8-4666-d094-d67e5f868ab7"
      },
      "source": [
        "# Creamos un nuevo dataframe con las columnas que nos interesan y que ya imputamos y luego dropeamos filas\n",
        "# Si dropeamos na sobre el df original nos quedamos con la mitad de los datos porque sigue habiendo varias columnas (de baja correlación) con na.\n",
        "\n",
        "data_columnas_alta_correl = data_imputados[[\"Sunshine\", \"Humidity3pm\", \"Cloud9am\", \"Cloud3pm\", \"RainTomorrow\"]].copy()\n",
        "\n",
        "data_columnas_alta_correl.sample(5)"
      ],
      "execution_count": null,
      "outputs": [
        {
          "output_type": "execute_result",
          "data": {
            "text/html": [
              "<div>\n",
              "<style scoped>\n",
              "    .dataframe tbody tr th:only-of-type {\n",
              "        vertical-align: middle;\n",
              "    }\n",
              "\n",
              "    .dataframe tbody tr th {\n",
              "        vertical-align: top;\n",
              "    }\n",
              "\n",
              "    .dataframe thead th {\n",
              "        text-align: right;\n",
              "    }\n",
              "</style>\n",
              "<table border=\"1\" class=\"dataframe\">\n",
              "  <thead>\n",
              "    <tr style=\"text-align: right;\">\n",
              "      <th></th>\n",
              "      <th>Sunshine</th>\n",
              "      <th>Humidity3pm</th>\n",
              "      <th>Cloud9am</th>\n",
              "      <th>Cloud3pm</th>\n",
              "      <th>RainTomorrow</th>\n",
              "    </tr>\n",
              "  </thead>\n",
              "  <tbody>\n",
              "    <tr>\n",
              "      <th>70346</th>\n",
              "      <td>4.94</td>\n",
              "      <td>64.00</td>\n",
              "      <td>8.00</td>\n",
              "      <td>1.00</td>\n",
              "      <td>0.0</td>\n",
              "    </tr>\n",
              "    <tr>\n",
              "      <th>135428</th>\n",
              "      <td>3.10</td>\n",
              "      <td>85.00</td>\n",
              "      <td>6.00</td>\n",
              "      <td>7.00</td>\n",
              "      <td>1.0</td>\n",
              "    </tr>\n",
              "    <tr>\n",
              "      <th>92553</th>\n",
              "      <td>10.00</td>\n",
              "      <td>22.00</td>\n",
              "      <td>1.00</td>\n",
              "      <td>2.00</td>\n",
              "      <td>0.0</td>\n",
              "    </tr>\n",
              "    <tr>\n",
              "      <th>43165</th>\n",
              "      <td>6.99</td>\n",
              "      <td>30.00</td>\n",
              "      <td>5.02</td>\n",
              "      <td>4.69</td>\n",
              "      <td>0.0</td>\n",
              "    </tr>\n",
              "    <tr>\n",
              "      <th>15234</th>\n",
              "      <td>9.83</td>\n",
              "      <td>26.62</td>\n",
              "      <td>3.39</td>\n",
              "      <td>4.01</td>\n",
              "      <td>0.0</td>\n",
              "    </tr>\n",
              "  </tbody>\n",
              "</table>\n",
              "</div>"
            ],
            "text/plain": [
              "        Sunshine  Humidity3pm  Cloud9am  Cloud3pm  RainTomorrow\n",
              "70346       4.94        64.00      8.00      1.00           0.0\n",
              "135428      3.10        85.00      6.00      7.00           1.0\n",
              "92553      10.00        22.00      1.00      2.00           0.0\n",
              "43165       6.99        30.00      5.02      4.69           0.0\n",
              "15234       9.83        26.62      3.39      4.01           0.0"
            ]
          },
          "metadata": {
            "tags": []
          },
          "execution_count": 26
        }
      ]
    },
    {
      "cell_type": "markdown",
      "metadata": {
        "id": "gvGWQIjiQwoK"
      },
      "source": [
        "Luego de imputar veamos el porcentaje de nulos en este nuevo df"
      ]
    },
    {
      "cell_type": "code",
      "metadata": {
        "colab": {
          "base_uri": "https://localhost:8080/",
          "height": 139
        },
        "id": "M4713luNQwoK",
        "outputId": "574947d0-a610-421b-d6db-0c6473ab7394"
      },
      "source": [
        "display((100 * data_columnas_alta_correl.isnull().sum() / data_columnas_alta_correl.shape[0]).round(2))\n",
        "display(data_columnas_alta_correl.shape)"
      ],
      "execution_count": null,
      "outputs": [
        {
          "output_type": "display_data",
          "data": {
            "text/plain": [
              "Sunshine         8.75\n",
              "Humidity3pm      0.00\n",
              "Cloud9am        13.24\n",
              "Cloud3pm        13.24\n",
              "RainTomorrow     2.26\n",
              "dtype: float64"
            ]
          },
          "metadata": {
            "tags": []
          }
        },
        {
          "output_type": "display_data",
          "data": {
            "text/plain": [
              "(137834, 5)"
            ]
          },
          "metadata": {
            "tags": []
          }
        }
      ]
    },
    {
      "cell_type": "code",
      "metadata": {
        "colab": {
          "base_uri": "https://localhost:8080/"
        },
        "id": "TfTuJyRlQwoL",
        "outputId": "de795965-eca7-4b78-d1aa-0a9c7d131043"
      },
      "source": [
        "# Eliminamos los pocos nulos que quedan\n",
        "data_columnas_alta_correl.dropna(inplace=True)\n",
        "data_columnas_alta_correl.shape"
      ],
      "execution_count": null,
      "outputs": [
        {
          "output_type": "execute_result",
          "data": {
            "text/plain": [
              "(116970, 5)"
            ]
          },
          "metadata": {
            "tags": []
          },
          "execution_count": 28
        }
      ]
    },
    {
      "cell_type": "markdown",
      "metadata": {
        "id": "oqr0csHFQwoM"
      },
      "source": [
        "<a id=\"section_3\"></a> \n",
        "# 3 - Primer modelado: Naive Bayes\n",
        "[volver a TOC](#section_toc)"
      ]
    },
    {
      "cell_type": "code",
      "metadata": {
        "id": "5jzcOFTbQwoM"
      },
      "source": [
        "# Preparamos la matriz de features y el vector target\n",
        "\n",
        "X = data_columnas_alta_correl[[\"Sunshine\", \"Humidity3pm\", \"Cloud9am\", \"Cloud3pm\"]]\n",
        "y = data_columnas_alta_correl['RainTomorrow']"
      ],
      "execution_count": null,
      "outputs": []
    },
    {
      "cell_type": "code",
      "metadata": {
        "id": "8E0O82_xQwoN"
      },
      "source": [
        "# Separamos un set de testeo para evaluar el modelo.\n",
        "# Como nuestro set está desbalanceado, estratificamos.\n",
        "\n",
        "X_train, X_test, y_train, y_test = train_test_split(X, y, stratify= y, test_size= 0.25, random_state= 10)"
      ],
      "execution_count": null,
      "outputs": []
    },
    {
      "cell_type": "code",
      "metadata": {
        "id": "doCjAs3OQwoN"
      },
      "source": [
        "# Ajuste del modelo\n",
        "\n",
        "gnb = GaussianNB()\n",
        "gnb.fit(X_train, y_train)\n",
        "\n",
        "Y_pred = gnb.predict(X_test)"
      ],
      "execution_count": null,
      "outputs": []
    },
    {
      "cell_type": "code",
      "metadata": {
        "colab": {
          "base_uri": "https://localhost:8080/",
          "height": 281
        },
        "id": "HDhM_87wQwoN",
        "outputId": "5efeabce-6142-4c70-8561-7551803f6495"
      },
      "source": [
        "conf_mat(y_test, Y_pred, 0.5)"
      ],
      "execution_count": null,
      "outputs": [
        {
          "output_type": "display_data",
          "data": {
            "image/png": "[encoded data removed]",
            "text/plain": [
              "<Figure size 432x288 with 2 Axes>"
            ]
          },
          "metadata": {
            "tags": [],
            "needs_background": "light"
          }
        }
      ]
    },
    {
      "cell_type": "code",
      "metadata": {
        "id": "tddne12QQwoO"
      },
      "source": [
        "# Calculamos predict_proba para ver el umbral de probabilidades\n",
        "\n",
        "y_pred_proba = gnb.predict_proba(X_test)"
      ],
      "execution_count": null,
      "outputs": []
    },
    {
      "cell_type": "code",
      "metadata": {
        "colab": {
          "base_uri": "https://localhost:8080/"
        },
        "id": "nip6fVSAQwoO",
        "outputId": "3572a572-d3a6-4d0d-f16c-b4f9459d91ee"
      },
      "source": [
        "# Performance sobre datos nuevos\n",
        "\n",
        "y_pred = gnb.predict(X_test)\n",
        "print(classification_report(y_test, y_pred))\n",
        "print(accuracy_score(y_test, y_pred))"
      ],
      "execution_count": null,
      "outputs": [
        {
          "output_type": "stream",
          "text": [
            "              precision    recall  f1-score   support\n",
            "\n",
            "         0.0       0.88      0.84      0.86     22737\n",
            "         1.0       0.51      0.60      0.55      6506\n",
            "\n",
            "    accuracy                           0.78     29243\n",
            "   macro avg       0.70      0.72      0.70     29243\n",
            "weighted avg       0.80      0.78      0.79     29243\n",
            "\n",
            "0.7834353520500633\n"
          ],
          "name": "stdout"
        }
      ]
    },
    {
      "cell_type": "code",
      "metadata": {
        "colab": {
          "base_uri": "https://localhost:8080/",
          "height": 295
        },
        "id": "PREQ7yuWQwoQ",
        "outputId": "3e510722-9571-403b-833b-a83e4882e220"
      },
      "source": [
        "# Nos quedamos con la columna que tiene la probabilidad de que llueva\n",
        "y_probs_logit_left = y_pred_proba[:,1]\n",
        "\n",
        "# Generamos un histograma de esa columna\n",
        "plt.hist(y_probs_logit_left, bins=15)\n",
        "plt.xlim(0,1)\n",
        "plt.title('Histograma de probabilidades estimadas')\n",
        "plt.xlabel('Probabilidad de que llueva')\n",
        "plt.ylabel('Frecuencia')\n",
        "plt.show()"
      ],
      "execution_count": null,
      "outputs": [
        {
          "output_type": "display_data",
          "data": {
            "image/png": "[encoded data removed]",
            "text/plain": [
              "<Figure size 432x288 with 1 Axes>"
            ]
          },
          "metadata": {
            "tags": [],
            "needs_background": "light"
          }
        }
      ]
    },
    {
      "cell_type": "markdown",
      "metadata": {
        "id": "-dOwIYZyQwoS"
      },
      "source": [
        "Hay una mayor probabilidad de predecir que no va a llover"
      ]
    },
    {
      "cell_type": "code",
      "metadata": {
        "colab": {
          "base_uri": "https://localhost:8080/",
          "height": 295
        },
        "id": "3jntzPhSQwoS",
        "outputId": "b74c4ba0-5376-4699-f544-c832abae9c26"
      },
      "source": [
        "# Obtenemos los valores que necesitamos para graficar la curva roc\n",
        "\n",
        "fpr_log, tpr_log, thr_log = roc_curve(y_test, y_pred_proba[:,1])  # Con y_pred_proba del modelo\n",
        "\n",
        "# Graficamos la curva roc del modelo\n",
        "\n",
        "df = pd.DataFrame(dict(fpr= fpr_log, tpr= tpr_log, thr= thr_log))\n",
        "\n",
        "plt.axis([0, 1.01, 0, 1.01])\n",
        "plt.xlabel('1 - Specificty')\n",
        "plt.ylabel('TPR / Sensitivity')\n",
        "plt.title('ROC Curve')\n",
        "plt.plot(fpr_log,tpr_log)\n",
        "plt.plot(np.arange(0,1, step =0.01), np.arange(0,1, step =0.01))\n",
        "plt.show()"
      ],
      "execution_count": null,
      "outputs": [
        {
          "output_type": "display_data",
          "data": {
            "image/png": "[encoded data removed]",
            "text/plain": [
              "<Figure size 432x288 with 1 Axes>"
            ]
          },
          "metadata": {
            "tags": [],
            "needs_background": "light"
          }
        }
      ]
    },
    {
      "cell_type": "code",
      "metadata": {
        "colab": {
          "base_uri": "https://localhost:8080/"
        },
        "id": "kdb6tN7vQwoT",
        "outputId": "a9437467-ddef-486e-faca-3076bedecaee"
      },
      "source": [
        "# Calculamos el area de la curva ROC:\n",
        "\n",
        "print('AUC =', auc(fpr_log, tpr_log))"
      ],
      "execution_count": null,
      "outputs": [
        {
          "output_type": "stream",
          "text": [
            "AUC = 0.8091780784839153\n"
          ],
          "name": "stdout"
        }
      ]
    },
    {
      "cell_type": "markdown",
      "metadata": {
        "id": "dW9YL5dYQwoW"
      },
      "source": [
        "<a id=\"section_4\"></a> \n",
        "# 4 - Segundo modelado: LR\n",
        "[volver a TOC](#section_toc)"
      ]
    },
    {
      "cell_type": "code",
      "metadata": {
        "colab": {
          "base_uri": "https://localhost:8080/",
          "height": 486
        },
        "id": "SVEB8U-5QwoW",
        "outputId": "f641f672-d9ca-4f0e-8b0f-0db0b284ee2f"
      },
      "source": [
        "# Eliminamos los nulos\n",
        "data_sin_nulos = data.dropna()\n",
        "display((100 * data_sin_nulos.isnull().sum() / data_sin_nulos.shape[0]).round(2))\n",
        "display(data_sin_nulos.shape)"
      ],
      "execution_count": null,
      "outputs": [
        {
          "output_type": "display_data",
          "data": {
            "text/plain": [
              "Date             0.0\n",
              "Location         0.0\n",
              "MinTemp          0.0\n",
              "MaxTemp          0.0\n",
              "Rainfall         0.0\n",
              "Evaporation      0.0\n",
              "Sunshine         0.0\n",
              "WindGustDir      0.0\n",
              "WindGustSpeed    0.0\n",
              "WindDir9am       0.0\n",
              "WindDir3pm       0.0\n",
              "WindSpeed9am     0.0\n",
              "WindSpeed3pm     0.0\n",
              "Humidity9am      0.0\n",
              "Humidity3pm      0.0\n",
              "Pressure9am      0.0\n",
              "Pressure3pm      0.0\n",
              "Cloud9am         0.0\n",
              "Cloud3pm         0.0\n",
              "Temp9am          0.0\n",
              "Temp3pm          0.0\n",
              "RainToday        0.0\n",
              "RainTomorrow     0.0\n",
              "Month            0.0\n",
              "Year             0.0\n",
              "dtype: float64"
            ]
          },
          "metadata": {
            "tags": []
          }
        },
        {
          "output_type": "display_data",
          "data": {
            "text/plain": [
              "(56420, 25)"
            ]
          },
          "metadata": {
            "tags": []
          }
        }
      ]
    },
    {
      "cell_type": "code",
      "metadata": {
        "colab": {
          "base_uri": "https://localhost:8080/",
          "height": 163
        },
        "id": "debNM_tJQwoX",
        "outputId": "522d67d5-a0f4-423f-d516-ad0a54342992"
      },
      "source": [
        "# Generamos dummies. dsdn == data sin nulos dummies\n",
        "dsnd = pd.get_dummies(data_sin_nulos, columns=['WindGustDir', 'WindDir9am', 'WindDir3pm', 'Location', 'Month'], drop_first = True)\n",
        "dsnd.head(3)"
      ],
      "execution_count": null,
      "outputs": [
        {
          "output_type": "execute_result",
          "data": {
            "text/html": [
              "<div>\n",
              "<style scoped>\n",
              "    .dataframe tbody tr th:only-of-type {\n",
              "        vertical-align: middle;\n",
              "    }\n",
              "\n",
              "    .dataframe tbody tr th {\n",
              "        vertical-align: top;\n",
              "    }\n",
              "\n",
              "    .dataframe thead th {\n",
              "        text-align: right;\n",
              "    }\n",
              "</style>\n",
              "<table border=\"1\" class=\"dataframe\">\n",
              "  <thead>\n",
              "    <tr style=\"text-align: right;\">\n",
              "      <th></th>\n",
              "      <th>Date</th>\n",
              "      <th>MinTemp</th>\n",
              "      <th>MaxTemp</th>\n",
              "      <th>Rainfall</th>\n",
              "      <th>Evaporation</th>\n",
              "      <th>Sunshine</th>\n",
              "      <th>WindGustSpeed</th>\n",
              "      <th>WindSpeed9am</th>\n",
              "      <th>WindSpeed3pm</th>\n",
              "      <th>Humidity9am</th>\n",
              "      <th>Humidity3pm</th>\n",
              "      <th>Pressure9am</th>\n",
              "      <th>Pressure3pm</th>\n",
              "      <th>Cloud9am</th>\n",
              "      <th>Cloud3pm</th>\n",
              "      <th>Temp9am</th>\n",
              "      <th>Temp3pm</th>\n",
              "      <th>RainToday</th>\n",
              "      <th>RainTomorrow</th>\n",
              "      <th>Year</th>\n",
              "      <th>WindGustDir_ENE</th>\n",
              "      <th>WindGustDir_ESE</th>\n",
              "      <th>WindGustDir_N</th>\n",
              "      <th>WindGustDir_NE</th>\n",
              "      <th>WindGustDir_NNE</th>\n",
              "      <th>WindGustDir_NNW</th>\n",
              "      <th>WindGustDir_NW</th>\n",
              "      <th>WindGustDir_S</th>\n",
              "      <th>WindGustDir_SE</th>\n",
              "      <th>WindGustDir_SSE</th>\n",
              "      <th>WindGustDir_SSW</th>\n",
              "      <th>WindGustDir_SW</th>\n",
              "      <th>WindGustDir_W</th>\n",
              "      <th>WindGustDir_WNW</th>\n",
              "      <th>WindGustDir_WSW</th>\n",
              "      <th>WindDir9am_ENE</th>\n",
              "      <th>WindDir9am_ESE</th>\n",
              "      <th>WindDir9am_N</th>\n",
              "      <th>WindDir9am_NE</th>\n",
              "      <th>WindDir9am_NNE</th>\n",
              "      <th>WindDir9am_NNW</th>\n",
              "      <th>WindDir9am_NW</th>\n",
              "      <th>WindDir9am_S</th>\n",
              "      <th>WindDir9am_SE</th>\n",
              "      <th>WindDir9am_SSE</th>\n",
              "      <th>WindDir9am_SSW</th>\n",
              "      <th>WindDir9am_SW</th>\n",
              "      <th>WindDir9am_W</th>\n",
              "      <th>WindDir9am_WNW</th>\n",
              "      <th>WindDir9am_WSW</th>\n",
              "      <th>WindDir3pm_ENE</th>\n",
              "      <th>WindDir3pm_ESE</th>\n",
              "      <th>WindDir3pm_N</th>\n",
              "      <th>WindDir3pm_NE</th>\n",
              "      <th>WindDir3pm_NNE</th>\n",
              "      <th>WindDir3pm_NNW</th>\n",
              "      <th>WindDir3pm_NW</th>\n",
              "      <th>WindDir3pm_S</th>\n",
              "      <th>WindDir3pm_SE</th>\n",
              "      <th>WindDir3pm_SSE</th>\n",
              "      <th>WindDir3pm_SSW</th>\n",
              "      <th>WindDir3pm_SW</th>\n",
              "      <th>WindDir3pm_W</th>\n",
              "      <th>WindDir3pm_WNW</th>\n",
              "      <th>WindDir3pm_WSW</th>\n",
              "      <th>Location_Brisbane</th>\n",
              "      <th>Location_Cairns</th>\n",
              "      <th>Location_Canberra</th>\n",
              "      <th>Location_Cobar</th>\n",
              "      <th>Location_CoffsHarbour</th>\n",
              "      <th>Location_Darwin</th>\n",
              "      <th>Location_Hobart</th>\n",
              "      <th>Location_Melbourne</th>\n",
              "      <th>Location_MelbourneAirport</th>\n",
              "      <th>Location_Mildura</th>\n",
              "      <th>Location_Moree</th>\n",
              "      <th>Location_MountGambier</th>\n",
              "      <th>Location_NorfolkIsland</th>\n",
              "      <th>Location_Nuriootpa</th>\n",
              "      <th>Location_Perth</th>\n",
              "      <th>Location_PerthAirport</th>\n",
              "      <th>Location_Portland</th>\n",
              "      <th>Location_Sale</th>\n",
              "      <th>Location_Sydney</th>\n",
              "      <th>Location_SydneyAirport</th>\n",
              "      <th>Location_Townsville</th>\n",
              "      <th>Location_WaggaWagga</th>\n",
              "      <th>Location_Watsonia</th>\n",
              "      <th>Location_Williamtown</th>\n",
              "      <th>Location_Woomera</th>\n",
              "      <th>Month_2</th>\n",
              "      <th>Month_3</th>\n",
              "      <th>Month_4</th>\n",
              "      <th>Month_5</th>\n",
              "      <th>Month_6</th>\n",
              "      <th>Month_7</th>\n",
              "      <th>Month_8</th>\n",
              "      <th>Month_9</th>\n",
              "      <th>Month_10</th>\n",
              "      <th>Month_11</th>\n",
              "      <th>Month_12</th>\n",
              "    </tr>\n",
              "  </thead>\n",
              "  <tbody>\n",
              "    <tr>\n",
              "      <th>6049</th>\n",
              "      <td>2009-01-01</td>\n",
              "      <td>17.9</td>\n",
              "      <td>35.2</td>\n",
              "      <td>0.0</td>\n",
              "      <td>12.0</td>\n",
              "      <td>12.3</td>\n",
              "      <td>48.0</td>\n",
              "      <td>6.0</td>\n",
              "      <td>20.0</td>\n",
              "      <td>20.0</td>\n",
              "      <td>13.0</td>\n",
              "      <td>1006.3</td>\n",
              "      <td>1004.4</td>\n",
              "      <td>2.0</td>\n",
              "      <td>5.0</td>\n",
              "      <td>26.6</td>\n",
              "      <td>33.4</td>\n",
              "      <td>0.0</td>\n",
              "      <td>0.0</td>\n",
              "      <td>2009</td>\n",
              "      <td>0</td>\n",
              "      <td>0</td>\n",
              "      <td>0</td>\n",
              "      <td>0</td>\n",
              "      <td>0</td>\n",
              "      <td>0</td>\n",
              "      <td>0</td>\n",
              "      <td>0</td>\n",
              "      <td>0</td>\n",
              "      <td>0</td>\n",
              "      <td>1</td>\n",
              "      <td>0</td>\n",
              "      <td>0</td>\n",
              "      <td>0</td>\n",
              "      <td>0</td>\n",
              "      <td>1</td>\n",
              "      <td>0</td>\n",
              "      <td>0</td>\n",
              "      <td>0</td>\n",
              "      <td>0</td>\n",
              "      <td>0</td>\n",
              "      <td>0</td>\n",
              "      <td>0</td>\n",
              "      <td>0</td>\n",
              "      <td>0</td>\n",
              "      <td>0</td>\n",
              "      <td>0</td>\n",
              "      <td>0</td>\n",
              "      <td>0</td>\n",
              "      <td>0</td>\n",
              "      <td>0</td>\n",
              "      <td>0</td>\n",
              "      <td>0</td>\n",
              "      <td>0</td>\n",
              "      <td>0</td>\n",
              "      <td>0</td>\n",
              "      <td>0</td>\n",
              "      <td>0</td>\n",
              "      <td>0</td>\n",
              "      <td>0</td>\n",
              "      <td>0</td>\n",
              "      <td>1</td>\n",
              "      <td>0</td>\n",
              "      <td>0</td>\n",
              "      <td>0</td>\n",
              "      <td>0</td>\n",
              "      <td>0</td>\n",
              "      <td>0</td>\n",
              "      <td>1</td>\n",
              "      <td>0</td>\n",
              "      <td>0</td>\n",
              "      <td>0</td>\n",
              "      <td>0</td>\n",
              "      <td>0</td>\n",
              "      <td>0</td>\n",
              "      <td>0</td>\n",
              "      <td>0</td>\n",
              "      <td>0</td>\n",
              "      <td>0</td>\n",
              "      <td>0</td>\n",
              "      <td>0</td>\n",
              "      <td>0</td>\n",
              "      <td>0</td>\n",
              "      <td>0</td>\n",
              "      <td>0</td>\n",
              "      <td>0</td>\n",
              "      <td>0</td>\n",
              "      <td>0</td>\n",
              "      <td>0</td>\n",
              "      <td>0</td>\n",
              "      <td>0</td>\n",
              "      <td>0</td>\n",
              "      <td>0</td>\n",
              "      <td>0</td>\n",
              "      <td>0</td>\n",
              "      <td>0</td>\n",
              "      <td>0</td>\n",
              "      <td>0</td>\n",
              "      <td>0</td>\n",
              "      <td>0</td>\n",
              "      <td>0</td>\n",
              "    </tr>\n",
              "    <tr>\n",
              "      <th>6050</th>\n",
              "      <td>2009-01-02</td>\n",
              "      <td>18.4</td>\n",
              "      <td>28.9</td>\n",
              "      <td>0.0</td>\n",
              "      <td>14.8</td>\n",
              "      <td>13.0</td>\n",
              "      <td>37.0</td>\n",
              "      <td>19.0</td>\n",
              "      <td>19.0</td>\n",
              "      <td>30.0</td>\n",
              "      <td>8.0</td>\n",
              "      <td>1012.9</td>\n",
              "      <td>1012.1</td>\n",
              "      <td>1.0</td>\n",
              "      <td>1.0</td>\n",
              "      <td>20.3</td>\n",
              "      <td>27.0</td>\n",
              "      <td>0.0</td>\n",
              "      <td>0.0</td>\n",
              "      <td>2009</td>\n",
              "      <td>0</td>\n",
              "      <td>0</td>\n",
              "      <td>0</td>\n",
              "      <td>0</td>\n",
              "      <td>0</td>\n",
              "      <td>0</td>\n",
              "      <td>0</td>\n",
              "      <td>1</td>\n",
              "      <td>0</td>\n",
              "      <td>0</td>\n",
              "      <td>0</td>\n",
              "      <td>0</td>\n",
              "      <td>0</td>\n",
              "      <td>0</td>\n",
              "      <td>0</td>\n",
              "      <td>0</td>\n",
              "      <td>0</td>\n",
              "      <td>0</td>\n",
              "      <td>0</td>\n",
              "      <td>0</td>\n",
              "      <td>0</td>\n",
              "      <td>0</td>\n",
              "      <td>0</td>\n",
              "      <td>0</td>\n",
              "      <td>1</td>\n",
              "      <td>0</td>\n",
              "      <td>0</td>\n",
              "      <td>0</td>\n",
              "      <td>0</td>\n",
              "      <td>0</td>\n",
              "      <td>0</td>\n",
              "      <td>0</td>\n",
              "      <td>0</td>\n",
              "      <td>0</td>\n",
              "      <td>0</td>\n",
              "      <td>0</td>\n",
              "      <td>0</td>\n",
              "      <td>0</td>\n",
              "      <td>0</td>\n",
              "      <td>1</td>\n",
              "      <td>0</td>\n",
              "      <td>0</td>\n",
              "      <td>0</td>\n",
              "      <td>0</td>\n",
              "      <td>0</td>\n",
              "      <td>0</td>\n",
              "      <td>0</td>\n",
              "      <td>0</td>\n",
              "      <td>1</td>\n",
              "      <td>0</td>\n",
              "      <td>0</td>\n",
              "      <td>0</td>\n",
              "      <td>0</td>\n",
              "      <td>0</td>\n",
              "      <td>0</td>\n",
              "      <td>0</td>\n",
              "      <td>0</td>\n",
              "      <td>0</td>\n",
              "      <td>0</td>\n",
              "      <td>0</td>\n",
              "      <td>0</td>\n",
              "      <td>0</td>\n",
              "      <td>0</td>\n",
              "      <td>0</td>\n",
              "      <td>0</td>\n",
              "      <td>0</td>\n",
              "      <td>0</td>\n",
              "      <td>0</td>\n",
              "      <td>0</td>\n",
              "      <td>0</td>\n",
              "      <td>0</td>\n",
              "      <td>0</td>\n",
              "      <td>0</td>\n",
              "      <td>0</td>\n",
              "      <td>0</td>\n",
              "      <td>0</td>\n",
              "      <td>0</td>\n",
              "      <td>0</td>\n",
              "      <td>0</td>\n",
              "      <td>0</td>\n",
              "      <td>0</td>\n",
              "    </tr>\n",
              "    <tr>\n",
              "      <th>6052</th>\n",
              "      <td>2009-01-04</td>\n",
              "      <td>19.4</td>\n",
              "      <td>37.6</td>\n",
              "      <td>0.0</td>\n",
              "      <td>10.8</td>\n",
              "      <td>10.6</td>\n",
              "      <td>46.0</td>\n",
              "      <td>30.0</td>\n",
              "      <td>15.0</td>\n",
              "      <td>42.0</td>\n",
              "      <td>22.0</td>\n",
              "      <td>1012.3</td>\n",
              "      <td>1009.2</td>\n",
              "      <td>1.0</td>\n",
              "      <td>6.0</td>\n",
              "      <td>28.7</td>\n",
              "      <td>34.9</td>\n",
              "      <td>0.0</td>\n",
              "      <td>0.0</td>\n",
              "      <td>2009</td>\n",
              "      <td>0</td>\n",
              "      <td>0</td>\n",
              "      <td>0</td>\n",
              "      <td>0</td>\n",
              "      <td>1</td>\n",
              "      <td>0</td>\n",
              "      <td>0</td>\n",
              "      <td>0</td>\n",
              "      <td>0</td>\n",
              "      <td>0</td>\n",
              "      <td>0</td>\n",
              "      <td>0</td>\n",
              "      <td>0</td>\n",
              "      <td>0</td>\n",
              "      <td>0</td>\n",
              "      <td>0</td>\n",
              "      <td>0</td>\n",
              "      <td>0</td>\n",
              "      <td>0</td>\n",
              "      <td>1</td>\n",
              "      <td>0</td>\n",
              "      <td>0</td>\n",
              "      <td>0</td>\n",
              "      <td>0</td>\n",
              "      <td>0</td>\n",
              "      <td>0</td>\n",
              "      <td>0</td>\n",
              "      <td>0</td>\n",
              "      <td>0</td>\n",
              "      <td>0</td>\n",
              "      <td>0</td>\n",
              "      <td>0</td>\n",
              "      <td>0</td>\n",
              "      <td>0</td>\n",
              "      <td>0</td>\n",
              "      <td>1</td>\n",
              "      <td>0</td>\n",
              "      <td>0</td>\n",
              "      <td>0</td>\n",
              "      <td>0</td>\n",
              "      <td>0</td>\n",
              "      <td>0</td>\n",
              "      <td>0</td>\n",
              "      <td>0</td>\n",
              "      <td>0</td>\n",
              "      <td>0</td>\n",
              "      <td>0</td>\n",
              "      <td>0</td>\n",
              "      <td>1</td>\n",
              "      <td>0</td>\n",
              "      <td>0</td>\n",
              "      <td>0</td>\n",
              "      <td>0</td>\n",
              "      <td>0</td>\n",
              "      <td>0</td>\n",
              "      <td>0</td>\n",
              "      <td>0</td>\n",
              "      <td>0</td>\n",
              "      <td>0</td>\n",
              "      <td>0</td>\n",
              "      <td>0</td>\n",
              "      <td>0</td>\n",
              "      <td>0</td>\n",
              "      <td>0</td>\n",
              "      <td>0</td>\n",
              "      <td>0</td>\n",
              "      <td>0</td>\n",
              "      <td>0</td>\n",
              "      <td>0</td>\n",
              "      <td>0</td>\n",
              "      <td>0</td>\n",
              "      <td>0</td>\n",
              "      <td>0</td>\n",
              "      <td>0</td>\n",
              "      <td>0</td>\n",
              "      <td>0</td>\n",
              "      <td>0</td>\n",
              "      <td>0</td>\n",
              "      <td>0</td>\n",
              "      <td>0</td>\n",
              "      <td>0</td>\n",
              "    </tr>\n",
              "  </tbody>\n",
              "</table>\n",
              "</div>"
            ],
            "text/plain": [
              "           Date  MinTemp  MaxTemp  Rainfall  Evaporation  Sunshine  \\\n",
              "6049 2009-01-01     17.9     35.2       0.0         12.0      12.3   \n",
              "6050 2009-01-02     18.4     28.9       0.0         14.8      13.0   \n",
              "6052 2009-01-04     19.4     37.6       0.0         10.8      10.6   \n",
              "\n",
              "      WindGustSpeed  WindSpeed9am  WindSpeed3pm  Humidity9am  Humidity3pm  \\\n",
              "6049           48.0           6.0          20.0         20.0         13.0   \n",
              "6050           37.0          19.0          19.0         30.0          8.0   \n",
              "6052           46.0          30.0          15.0         42.0         22.0   \n",
              "\n",
              "      Pressure9am  Pressure3pm  Cloud9am  Cloud3pm  Temp9am  Temp3pm  \\\n",
              "6049       1006.3       1004.4       2.0       5.0     26.6     33.4   \n",
              "6050       1012.9       1012.1       1.0       1.0     20.3     27.0   \n",
              "6052       1012.3       1009.2       1.0       6.0     28.7     34.9   \n",
              "\n",
              "      RainToday  RainTomorrow  Year  WindGustDir_ENE  WindGustDir_ESE  \\\n",
              "6049        0.0           0.0  2009                0                0   \n",
              "6050        0.0           0.0  2009                0                0   \n",
              "6052        0.0           0.0  2009                0                0   \n",
              "\n",
              "      WindGustDir_N  WindGustDir_NE  WindGustDir_NNE  WindGustDir_NNW  \\\n",
              "6049              0               0                0                0   \n",
              "6050              0               0                0                0   \n",
              "6052              0               0                1                0   \n",
              "\n",
              "      WindGustDir_NW  WindGustDir_S  WindGustDir_SE  WindGustDir_SSE  \\\n",
              "6049               0              0               0                0   \n",
              "6050               0              1               0                0   \n",
              "6052               0              0               0                0   \n",
              "\n",
              "      WindGustDir_SSW  WindGustDir_SW  WindGustDir_W  WindGustDir_WNW  \\\n",
              "6049                1               0              0                0   \n",
              "6050                0               0              0                0   \n",
              "6052                0               0              0                0   \n",
              "\n",
              "      WindGustDir_WSW  WindDir9am_ENE  WindDir9am_ESE  WindDir9am_N  \\\n",
              "6049                0               1               0             0   \n",
              "6050                0               0               0             0   \n",
              "6052                0               0               0             0   \n",
              "\n",
              "      WindDir9am_NE  WindDir9am_NNE  WindDir9am_NNW  WindDir9am_NW  \\\n",
              "6049              0               0               0              0   \n",
              "6050              0               0               0              0   \n",
              "6052              0               1               0              0   \n",
              "\n",
              "      WindDir9am_S  WindDir9am_SE  WindDir9am_SSE  WindDir9am_SSW  \\\n",
              "6049             0              0               0               0   \n",
              "6050             0              0               1               0   \n",
              "6052             0              0               0               0   \n",
              "\n",
              "      WindDir9am_SW  WindDir9am_W  WindDir9am_WNW  WindDir9am_WSW  \\\n",
              "6049              0             0               0               0   \n",
              "6050              0             0               0               0   \n",
              "6052              0             0               0               0   \n",
              "\n",
              "      WindDir3pm_ENE  WindDir3pm_ESE  WindDir3pm_N  WindDir3pm_NE  \\\n",
              "6049               0               0             0              0   \n",
              "6050               0               0             0              0   \n",
              "6052               0               0             0              0   \n",
              "\n",
              "      WindDir3pm_NNE  WindDir3pm_NNW  WindDir3pm_NW  WindDir3pm_S  \\\n",
              "6049               0               0              0             0   \n",
              "6050               0               0              0             0   \n",
              "6052               0               1              0             0   \n",
              "\n",
              "      WindDir3pm_SE  WindDir3pm_SSE  WindDir3pm_SSW  WindDir3pm_SW  \\\n",
              "6049              0               0               0              1   \n",
              "6050              0               1               0              0   \n",
              "6052              0               0               0              0   \n",
              "\n",
              "      WindDir3pm_W  WindDir3pm_WNW  WindDir3pm_WSW  Location_Brisbane  \\\n",
              "6049             0               0               0                  0   \n",
              "6050             0               0               0                  0   \n",
              "6052             0               0               0                  0   \n",
              "\n",
              "      Location_Cairns  Location_Canberra  Location_Cobar  \\\n",
              "6049                0                  0               1   \n",
              "6050                0                  0               1   \n",
              "6052                0                  0               1   \n",
              "\n",
              "      Location_CoffsHarbour  Location_Darwin  Location_Hobart  \\\n",
              "6049                      0                0                0   \n",
              "6050                      0                0                0   \n",
              "6052                      0                0                0   \n",
              "\n",
              "      Location_Melbourne  Location_MelbourneAirport  Location_Mildura  \\\n",
              "6049                   0                          0                 0   \n",
              "6050                   0                          0                 0   \n",
              "6052                   0                          0                 0   \n",
              "\n",
              "      Location_Moree  Location_MountGambier  Location_NorfolkIsland  \\\n",
              "6049               0                      0                       0   \n",
              "6050               0                      0                       0   \n",
              "6052               0                      0                       0   \n",
              "\n",
              "      Location_Nuriootpa  Location_Perth  Location_PerthAirport  \\\n",
              "6049                   0               0                      0   \n",
              "6050                   0               0                      0   \n",
              "6052                   0               0                      0   \n",
              "\n",
              "      Location_Portland  Location_Sale  Location_Sydney  \\\n",
              "6049                  0              0                0   \n",
              "6050                  0              0                0   \n",
              "6052                  0              0                0   \n",
              "\n",
              "      Location_SydneyAirport  Location_Townsville  Location_WaggaWagga  \\\n",
              "6049                       0                    0                    0   \n",
              "6050                       0                    0                    0   \n",
              "6052                       0                    0                    0   \n",
              "\n",
              "      Location_Watsonia  Location_Williamtown  Location_Woomera  Month_2  \\\n",
              "6049                  0                     0                 0        0   \n",
              "6050                  0                     0                 0        0   \n",
              "6052                  0                     0                 0        0   \n",
              "\n",
              "      Month_3  Month_4  Month_5  Month_6  Month_7  Month_8  Month_9  Month_10  \\\n",
              "6049        0        0        0        0        0        0        0         0   \n",
              "6050        0        0        0        0        0        0        0         0   \n",
              "6052        0        0        0        0        0        0        0         0   \n",
              "\n",
              "      Month_11  Month_12  \n",
              "6049         0         0  \n",
              "6050         0         0  \n",
              "6052         0         0  "
            ]
          },
          "metadata": {
            "tags": []
          },
          "execution_count": 39
        }
      ]
    },
    {
      "cell_type": "code",
      "metadata": {
        "colab": {
          "base_uri": "https://localhost:8080/",
          "height": 181
        },
        "id": "Fs-Wcp2tQwoZ",
        "outputId": "44cc69f7-e76e-433a-9c7e-19469fda7ac2"
      },
      "source": [
        "display(dsnd.head(3))\n",
        "dsnd.shape"
      ],
      "execution_count": null,
      "outputs": [
        {
          "output_type": "display_data",
          "data": {
            "text/html": [
              "<div>\n",
              "<style scoped>\n",
              "    .dataframe tbody tr th:only-of-type {\n",
              "        vertical-align: middle;\n",
              "    }\n",
              "\n",
              "    .dataframe tbody tr th {\n",
              "        vertical-align: top;\n",
              "    }\n",
              "\n",
              "    .dataframe thead th {\n",
              "        text-align: right;\n",
              "    }\n",
              "</style>\n",
              "<table border=\"1\" class=\"dataframe\">\n",
              "  <thead>\n",
              "    <tr style=\"text-align: right;\">\n",
              "      <th></th>\n",
              "      <th>Date</th>\n",
              "      <th>MinTemp</th>\n",
              "      <th>MaxTemp</th>\n",
              "      <th>Rainfall</th>\n",
              "      <th>Evaporation</th>\n",
              "      <th>Sunshine</th>\n",
              "      <th>WindGustSpeed</th>\n",
              "      <th>WindSpeed9am</th>\n",
              "      <th>WindSpeed3pm</th>\n",
              "      <th>Humidity9am</th>\n",
              "      <th>Humidity3pm</th>\n",
              "      <th>Pressure9am</th>\n",
              "      <th>Pressure3pm</th>\n",
              "      <th>Cloud9am</th>\n",
              "      <th>Cloud3pm</th>\n",
              "      <th>Temp9am</th>\n",
              "      <th>Temp3pm</th>\n",
              "      <th>RainToday</th>\n",
              "      <th>RainTomorrow</th>\n",
              "      <th>Year</th>\n",
              "      <th>WindGustDir_ENE</th>\n",
              "      <th>WindGustDir_ESE</th>\n",
              "      <th>WindGustDir_N</th>\n",
              "      <th>WindGustDir_NE</th>\n",
              "      <th>WindGustDir_NNE</th>\n",
              "      <th>WindGustDir_NNW</th>\n",
              "      <th>WindGustDir_NW</th>\n",
              "      <th>WindGustDir_S</th>\n",
              "      <th>WindGustDir_SE</th>\n",
              "      <th>WindGustDir_SSE</th>\n",
              "      <th>WindGustDir_SSW</th>\n",
              "      <th>WindGustDir_SW</th>\n",
              "      <th>WindGustDir_W</th>\n",
              "      <th>WindGustDir_WNW</th>\n",
              "      <th>WindGustDir_WSW</th>\n",
              "      <th>WindDir9am_ENE</th>\n",
              "      <th>WindDir9am_ESE</th>\n",
              "      <th>WindDir9am_N</th>\n",
              "      <th>WindDir9am_NE</th>\n",
              "      <th>WindDir9am_NNE</th>\n",
              "      <th>WindDir9am_NNW</th>\n",
              "      <th>WindDir9am_NW</th>\n",
              "      <th>WindDir9am_S</th>\n",
              "      <th>WindDir9am_SE</th>\n",
              "      <th>WindDir9am_SSE</th>\n",
              "      <th>WindDir9am_SSW</th>\n",
              "      <th>WindDir9am_SW</th>\n",
              "      <th>WindDir9am_W</th>\n",
              "      <th>WindDir9am_WNW</th>\n",
              "      <th>WindDir9am_WSW</th>\n",
              "      <th>WindDir3pm_ENE</th>\n",
              "      <th>WindDir3pm_ESE</th>\n",
              "      <th>WindDir3pm_N</th>\n",
              "      <th>WindDir3pm_NE</th>\n",
              "      <th>WindDir3pm_NNE</th>\n",
              "      <th>WindDir3pm_NNW</th>\n",
              "      <th>WindDir3pm_NW</th>\n",
              "      <th>WindDir3pm_S</th>\n",
              "      <th>WindDir3pm_SE</th>\n",
              "      <th>WindDir3pm_SSE</th>\n",
              "      <th>WindDir3pm_SSW</th>\n",
              "      <th>WindDir3pm_SW</th>\n",
              "      <th>WindDir3pm_W</th>\n",
              "      <th>WindDir3pm_WNW</th>\n",
              "      <th>WindDir3pm_WSW</th>\n",
              "      <th>Location_Brisbane</th>\n",
              "      <th>Location_Cairns</th>\n",
              "      <th>Location_Canberra</th>\n",
              "      <th>Location_Cobar</th>\n",
              "      <th>Location_CoffsHarbour</th>\n",
              "      <th>Location_Darwin</th>\n",
              "      <th>Location_Hobart</th>\n",
              "      <th>Location_Melbourne</th>\n",
              "      <th>Location_MelbourneAirport</th>\n",
              "      <th>Location_Mildura</th>\n",
              "      <th>Location_Moree</th>\n",
              "      <th>Location_MountGambier</th>\n",
              "      <th>Location_NorfolkIsland</th>\n",
              "      <th>Location_Nuriootpa</th>\n",
              "      <th>Location_Perth</th>\n",
              "      <th>Location_PerthAirport</th>\n",
              "      <th>Location_Portland</th>\n",
              "      <th>Location_Sale</th>\n",
              "      <th>Location_Sydney</th>\n",
              "      <th>Location_SydneyAirport</th>\n",
              "      <th>Location_Townsville</th>\n",
              "      <th>Location_WaggaWagga</th>\n",
              "      <th>Location_Watsonia</th>\n",
              "      <th>Location_Williamtown</th>\n",
              "      <th>Location_Woomera</th>\n",
              "      <th>Month_2</th>\n",
              "      <th>Month_3</th>\n",
              "      <th>Month_4</th>\n",
              "      <th>Month_5</th>\n",
              "      <th>Month_6</th>\n",
              "      <th>Month_7</th>\n",
              "      <th>Month_8</th>\n",
              "      <th>Month_9</th>\n",
              "      <th>Month_10</th>\n",
              "      <th>Month_11</th>\n",
              "      <th>Month_12</th>\n",
              "    </tr>\n",
              "  </thead>\n",
              "  <tbody>\n",
              "    <tr>\n",
              "      <th>6049</th>\n",
              "      <td>2009-01-01</td>\n",
              "      <td>17.9</td>\n",
              "      <td>35.2</td>\n",
              "      <td>0.0</td>\n",
              "      <td>12.0</td>\n",
              "      <td>12.3</td>\n",
              "      <td>48.0</td>\n",
              "      <td>6.0</td>\n",
              "      <td>20.0</td>\n",
              "      <td>20.0</td>\n",
              "      <td>13.0</td>\n",
              "      <td>1006.3</td>\n",
              "      <td>1004.4</td>\n",
              "      <td>2.0</td>\n",
              "      <td>5.0</td>\n",
              "      <td>26.6</td>\n",
              "      <td>33.4</td>\n",
              "      <td>0.0</td>\n",
              "      <td>0.0</td>\n",
              "      <td>2009</td>\n",
              "      <td>0</td>\n",
              "      <td>0</td>\n",
              "      <td>0</td>\n",
              "      <td>0</td>\n",
              "      <td>0</td>\n",
              "      <td>0</td>\n",
              "      <td>0</td>\n",
              "      <td>0</td>\n",
              "      <td>0</td>\n",
              "      <td>0</td>\n",
              "      <td>1</td>\n",
              "      <td>0</td>\n",
              "      <td>0</td>\n",
              "      <td>0</td>\n",
              "      <td>0</td>\n",
              "      <td>1</td>\n",
              "      <td>0</td>\n",
              "      <td>0</td>\n",
              "      <td>0</td>\n",
              "      <td>0</td>\n",
              "      <td>0</td>\n",
              "      <td>0</td>\n",
              "      <td>0</td>\n",
              "      <td>0</td>\n",
              "      <td>0</td>\n",
              "      <td>0</td>\n",
              "      <td>0</td>\n",
              "      <td>0</td>\n",
              "      <td>0</td>\n",
              "      <td>0</td>\n",
              "      <td>0</td>\n",
              "      <td>0</td>\n",
              "      <td>0</td>\n",
              "      <td>0</td>\n",
              "      <td>0</td>\n",
              "      <td>0</td>\n",
              "      <td>0</td>\n",
              "      <td>0</td>\n",
              "      <td>0</td>\n",
              "      <td>0</td>\n",
              "      <td>0</td>\n",
              "      <td>1</td>\n",
              "      <td>0</td>\n",
              "      <td>0</td>\n",
              "      <td>0</td>\n",
              "      <td>0</td>\n",
              "      <td>0</td>\n",
              "      <td>0</td>\n",
              "      <td>1</td>\n",
              "      <td>0</td>\n",
              "      <td>0</td>\n",
              "      <td>0</td>\n",
              "      <td>0</td>\n",
              "      <td>0</td>\n",
              "      <td>0</td>\n",
              "      <td>0</td>\n",
              "      <td>0</td>\n",
              "      <td>0</td>\n",
              "      <td>0</td>\n",
              "      <td>0</td>\n",
              "      <td>0</td>\n",
              "      <td>0</td>\n",
              "      <td>0</td>\n",
              "      <td>0</td>\n",
              "      <td>0</td>\n",
              "      <td>0</td>\n",
              "      <td>0</td>\n",
              "      <td>0</td>\n",
              "      <td>0</td>\n",
              "      <td>0</td>\n",
              "      <td>0</td>\n",
              "      <td>0</td>\n",
              "      <td>0</td>\n",
              "      <td>0</td>\n",
              "      <td>0</td>\n",
              "      <td>0</td>\n",
              "      <td>0</td>\n",
              "      <td>0</td>\n",
              "      <td>0</td>\n",
              "      <td>0</td>\n",
              "      <td>0</td>\n",
              "    </tr>\n",
              "    <tr>\n",
              "      <th>6050</th>\n",
              "      <td>2009-01-02</td>\n",
              "      <td>18.4</td>\n",
              "      <td>28.9</td>\n",
              "      <td>0.0</td>\n",
              "      <td>14.8</td>\n",
              "      <td>13.0</td>\n",
              "      <td>37.0</td>\n",
              "      <td>19.0</td>\n",
              "      <td>19.0</td>\n",
              "      <td>30.0</td>\n",
              "      <td>8.0</td>\n",
              "      <td>1012.9</td>\n",
              "      <td>1012.1</td>\n",
              "      <td>1.0</td>\n",
              "      <td>1.0</td>\n",
              "      <td>20.3</td>\n",
              "      <td>27.0</td>\n",
              "      <td>0.0</td>\n",
              "      <td>0.0</td>\n",
              "      <td>2009</td>\n",
              "      <td>0</td>\n",
              "      <td>0</td>\n",
              "      <td>0</td>\n",
              "      <td>0</td>\n",
              "      <td>0</td>\n",
              "      <td>0</td>\n",
              "      <td>0</td>\n",
              "      <td>1</td>\n",
              "      <td>0</td>\n",
              "      <td>0</td>\n",
              "      <td>0</td>\n",
              "      <td>0</td>\n",
              "      <td>0</td>\n",
              "      <td>0</td>\n",
              "      <td>0</td>\n",
              "      <td>0</td>\n",
              "      <td>0</td>\n",
              "      <td>0</td>\n",
              "      <td>0</td>\n",
              "      <td>0</td>\n",
              "      <td>0</td>\n",
              "      <td>0</td>\n",
              "      <td>0</td>\n",
              "      <td>0</td>\n",
              "      <td>1</td>\n",
              "      <td>0</td>\n",
              "      <td>0</td>\n",
              "      <td>0</td>\n",
              "      <td>0</td>\n",
              "      <td>0</td>\n",
              "      <td>0</td>\n",
              "      <td>0</td>\n",
              "      <td>0</td>\n",
              "      <td>0</td>\n",
              "      <td>0</td>\n",
              "      <td>0</td>\n",
              "      <td>0</td>\n",
              "      <td>0</td>\n",
              "      <td>0</td>\n",
              "      <td>1</td>\n",
              "      <td>0</td>\n",
              "      <td>0</td>\n",
              "      <td>0</td>\n",
              "      <td>0</td>\n",
              "      <td>0</td>\n",
              "      <td>0</td>\n",
              "      <td>0</td>\n",
              "      <td>0</td>\n",
              "      <td>1</td>\n",
              "      <td>0</td>\n",
              "      <td>0</td>\n",
              "      <td>0</td>\n",
              "      <td>0</td>\n",
              "      <td>0</td>\n",
              "      <td>0</td>\n",
              "      <td>0</td>\n",
              "      <td>0</td>\n",
              "      <td>0</td>\n",
              "      <td>0</td>\n",
              "      <td>0</td>\n",
              "      <td>0</td>\n",
              "      <td>0</td>\n",
              "      <td>0</td>\n",
              "      <td>0</td>\n",
              "      <td>0</td>\n",
              "      <td>0</td>\n",
              "      <td>0</td>\n",
              "      <td>0</td>\n",
              "      <td>0</td>\n",
              "      <td>0</td>\n",
              "      <td>0</td>\n",
              "      <td>0</td>\n",
              "      <td>0</td>\n",
              "      <td>0</td>\n",
              "      <td>0</td>\n",
              "      <td>0</td>\n",
              "      <td>0</td>\n",
              "      <td>0</td>\n",
              "      <td>0</td>\n",
              "      <td>0</td>\n",
              "      <td>0</td>\n",
              "    </tr>\n",
              "    <tr>\n",
              "      <th>6052</th>\n",
              "      <td>2009-01-04</td>\n",
              "      <td>19.4</td>\n",
              "      <td>37.6</td>\n",
              "      <td>0.0</td>\n",
              "      <td>10.8</td>\n",
              "      <td>10.6</td>\n",
              "      <td>46.0</td>\n",
              "      <td>30.0</td>\n",
              "      <td>15.0</td>\n",
              "      <td>42.0</td>\n",
              "      <td>22.0</td>\n",
              "      <td>1012.3</td>\n",
              "      <td>1009.2</td>\n",
              "      <td>1.0</td>\n",
              "      <td>6.0</td>\n",
              "      <td>28.7</td>\n",
              "      <td>34.9</td>\n",
              "      <td>0.0</td>\n",
              "      <td>0.0</td>\n",
              "      <td>2009</td>\n",
              "      <td>0</td>\n",
              "      <td>0</td>\n",
              "      <td>0</td>\n",
              "      <td>0</td>\n",
              "      <td>1</td>\n",
              "      <td>0</td>\n",
              "      <td>0</td>\n",
              "      <td>0</td>\n",
              "      <td>0</td>\n",
              "      <td>0</td>\n",
              "      <td>0</td>\n",
              "      <td>0</td>\n",
              "      <td>0</td>\n",
              "      <td>0</td>\n",
              "      <td>0</td>\n",
              "      <td>0</td>\n",
              "      <td>0</td>\n",
              "      <td>0</td>\n",
              "      <td>0</td>\n",
              "      <td>1</td>\n",
              "      <td>0</td>\n",
              "      <td>0</td>\n",
              "      <td>0</td>\n",
              "      <td>0</td>\n",
              "      <td>0</td>\n",
              "      <td>0</td>\n",
              "      <td>0</td>\n",
              "      <td>0</td>\n",
              "      <td>0</td>\n",
              "      <td>0</td>\n",
              "      <td>0</td>\n",
              "      <td>0</td>\n",
              "      <td>0</td>\n",
              "      <td>0</td>\n",
              "      <td>0</td>\n",
              "      <td>1</td>\n",
              "      <td>0</td>\n",
              "      <td>0</td>\n",
              "      <td>0</td>\n",
              "      <td>0</td>\n",
              "      <td>0</td>\n",
              "      <td>0</td>\n",
              "      <td>0</td>\n",
              "      <td>0</td>\n",
              "      <td>0</td>\n",
              "      <td>0</td>\n",
              "      <td>0</td>\n",
              "      <td>0</td>\n",
              "      <td>1</td>\n",
              "      <td>0</td>\n",
              "      <td>0</td>\n",
              "      <td>0</td>\n",
              "      <td>0</td>\n",
              "      <td>0</td>\n",
              "      <td>0</td>\n",
              "      <td>0</td>\n",
              "      <td>0</td>\n",
              "      <td>0</td>\n",
              "      <td>0</td>\n",
              "      <td>0</td>\n",
              "      <td>0</td>\n",
              "      <td>0</td>\n",
              "      <td>0</td>\n",
              "      <td>0</td>\n",
              "      <td>0</td>\n",
              "      <td>0</td>\n",
              "      <td>0</td>\n",
              "      <td>0</td>\n",
              "      <td>0</td>\n",
              "      <td>0</td>\n",
              "      <td>0</td>\n",
              "      <td>0</td>\n",
              "      <td>0</td>\n",
              "      <td>0</td>\n",
              "      <td>0</td>\n",
              "      <td>0</td>\n",
              "      <td>0</td>\n",
              "      <td>0</td>\n",
              "      <td>0</td>\n",
              "      <td>0</td>\n",
              "      <td>0</td>\n",
              "    </tr>\n",
              "  </tbody>\n",
              "</table>\n",
              "</div>"
            ],
            "text/plain": [
              "           Date  MinTemp  MaxTemp  Rainfall  Evaporation  Sunshine  \\\n",
              "6049 2009-01-01     17.9     35.2       0.0         12.0      12.3   \n",
              "6050 2009-01-02     18.4     28.9       0.0         14.8      13.0   \n",
              "6052 2009-01-04     19.4     37.6       0.0         10.8      10.6   \n",
              "\n",
              "      WindGustSpeed  WindSpeed9am  WindSpeed3pm  Humidity9am  Humidity3pm  \\\n",
              "6049           48.0           6.0          20.0         20.0         13.0   \n",
              "6050           37.0          19.0          19.0         30.0          8.0   \n",
              "6052           46.0          30.0          15.0         42.0         22.0   \n",
              "\n",
              "      Pressure9am  Pressure3pm  Cloud9am  Cloud3pm  Temp9am  Temp3pm  \\\n",
              "6049       1006.3       1004.4       2.0       5.0     26.6     33.4   \n",
              "6050       1012.9       1012.1       1.0       1.0     20.3     27.0   \n",
              "6052       1012.3       1009.2       1.0       6.0     28.7     34.9   \n",
              "\n",
              "      RainToday  RainTomorrow  Year  WindGustDir_ENE  WindGustDir_ESE  \\\n",
              "6049        0.0           0.0  2009                0                0   \n",
              "6050        0.0           0.0  2009                0                0   \n",
              "6052        0.0           0.0  2009                0                0   \n",
              "\n",
              "      WindGustDir_N  WindGustDir_NE  WindGustDir_NNE  WindGustDir_NNW  \\\n",
              "6049              0               0                0                0   \n",
              "6050              0               0                0                0   \n",
              "6052              0               0                1                0   \n",
              "\n",
              "      WindGustDir_NW  WindGustDir_S  WindGustDir_SE  WindGustDir_SSE  \\\n",
              "6049               0              0               0                0   \n",
              "6050               0              1               0                0   \n",
              "6052               0              0               0                0   \n",
              "\n",
              "      WindGustDir_SSW  WindGustDir_SW  WindGustDir_W  WindGustDir_WNW  \\\n",
              "6049                1               0              0                0   \n",
              "6050                0               0              0                0   \n",
              "6052                0               0              0                0   \n",
              "\n",
              "      WindGustDir_WSW  WindDir9am_ENE  WindDir9am_ESE  WindDir9am_N  \\\n",
              "6049                0               1               0             0   \n",
              "6050                0               0               0             0   \n",
              "6052                0               0               0             0   \n",
              "\n",
              "      WindDir9am_NE  WindDir9am_NNE  WindDir9am_NNW  WindDir9am_NW  \\\n",
              "6049              0               0               0              0   \n",
              "6050              0               0               0              0   \n",
              "6052              0               1               0              0   \n",
              "\n",
              "      WindDir9am_S  WindDir9am_SE  WindDir9am_SSE  WindDir9am_SSW  \\\n",
              "6049             0              0               0               0   \n",
              "6050             0              0               1               0   \n",
              "6052             0              0               0               0   \n",
              "\n",
              "      WindDir9am_SW  WindDir9am_W  WindDir9am_WNW  WindDir9am_WSW  \\\n",
              "6049              0             0               0               0   \n",
              "6050              0             0               0               0   \n",
              "6052              0             0               0               0   \n",
              "\n",
              "      WindDir3pm_ENE  WindDir3pm_ESE  WindDir3pm_N  WindDir3pm_NE  \\\n",
              "6049               0               0             0              0   \n",
              "6050               0               0             0              0   \n",
              "6052               0               0             0              0   \n",
              "\n",
              "      WindDir3pm_NNE  WindDir3pm_NNW  WindDir3pm_NW  WindDir3pm_S  \\\n",
              "6049               0               0              0             0   \n",
              "6050               0               0              0             0   \n",
              "6052               0               1              0             0   \n",
              "\n",
              "      WindDir3pm_SE  WindDir3pm_SSE  WindDir3pm_SSW  WindDir3pm_SW  \\\n",
              "6049              0               0               0              1   \n",
              "6050              0               1               0              0   \n",
              "6052              0               0               0              0   \n",
              "\n",
              "      WindDir3pm_W  WindDir3pm_WNW  WindDir3pm_WSW  Location_Brisbane  \\\n",
              "6049             0               0               0                  0   \n",
              "6050             0               0               0                  0   \n",
              "6052             0               0               0                  0   \n",
              "\n",
              "      Location_Cairns  Location_Canberra  Location_Cobar  \\\n",
              "6049                0                  0               1   \n",
              "6050                0                  0               1   \n",
              "6052                0                  0               1   \n",
              "\n",
              "      Location_CoffsHarbour  Location_Darwin  Location_Hobart  \\\n",
              "6049                      0                0                0   \n",
              "6050                      0                0                0   \n",
              "6052                      0                0                0   \n",
              "\n",
              "      Location_Melbourne  Location_MelbourneAirport  Location_Mildura  \\\n",
              "6049                   0                          0                 0   \n",
              "6050                   0                          0                 0   \n",
              "6052                   0                          0                 0   \n",
              "\n",
              "      Location_Moree  Location_MountGambier  Location_NorfolkIsland  \\\n",
              "6049               0                      0                       0   \n",
              "6050               0                      0                       0   \n",
              "6052               0                      0                       0   \n",
              "\n",
              "      Location_Nuriootpa  Location_Perth  Location_PerthAirport  \\\n",
              "6049                   0               0                      0   \n",
              "6050                   0               0                      0   \n",
              "6052                   0               0                      0   \n",
              "\n",
              "      Location_Portland  Location_Sale  Location_Sydney  \\\n",
              "6049                  0              0                0   \n",
              "6050                  0              0                0   \n",
              "6052                  0              0                0   \n",
              "\n",
              "      Location_SydneyAirport  Location_Townsville  Location_WaggaWagga  \\\n",
              "6049                       0                    0                    0   \n",
              "6050                       0                    0                    0   \n",
              "6052                       0                    0                    0   \n",
              "\n",
              "      Location_Watsonia  Location_Williamtown  Location_Woomera  Month_2  \\\n",
              "6049                  0                     0                 0        0   \n",
              "6050                  0                     0                 0        0   \n",
              "6052                  0                     0                 0        0   \n",
              "\n",
              "      Month_3  Month_4  Month_5  Month_6  Month_7  Month_8  Month_9  Month_10  \\\n",
              "6049        0        0        0        0        0        0        0         0   \n",
              "6050        0        0        0        0        0        0        0         0   \n",
              "6052        0        0        0        0        0        0        0         0   \n",
              "\n",
              "      Month_11  Month_12  \n",
              "6049         0         0  \n",
              "6050         0         0  \n",
              "6052         0         0  "
            ]
          },
          "metadata": {
            "tags": []
          }
        },
        {
          "output_type": "execute_result",
          "data": {
            "text/plain": [
              "(56420, 101)"
            ]
          },
          "metadata": {
            "tags": []
          },
          "execution_count": 40
        }
      ]
    },
    {
      "cell_type": "code",
      "metadata": {
        "colab": {
          "base_uri": "https://localhost:8080/",
          "height": 181
        },
        "id": "J7XjAzAzQwoa",
        "outputId": "44a7aacc-cb1e-4f8f-8173-8d4d02bea69a"
      },
      "source": [
        "# Generamos dummies\n",
        "dsnd2 = pd.get_dummies(data_imputados, columns=['WindGustDir', 'WindDir9am', 'WindDir3pm', 'Location_x', 'Month_x'], drop_first = True)\n",
        "dsnd2.head(3)"
      ],
      "execution_count": null,
      "outputs": [
        {
          "output_type": "execute_result",
          "data": {
            "text/html": [
              "<div>\n",
              "<style scoped>\n",
              "    .dataframe tbody tr th:only-of-type {\n",
              "        vertical-align: middle;\n",
              "    }\n",
              "\n",
              "    .dataframe tbody tr th {\n",
              "        vertical-align: top;\n",
              "    }\n",
              "\n",
              "    .dataframe thead th {\n",
              "        text-align: right;\n",
              "    }\n",
              "</style>\n",
              "<table border=\"1\" class=\"dataframe\">\n",
              "  <thead>\n",
              "    <tr style=\"text-align: right;\">\n",
              "      <th></th>\n",
              "      <th>Date</th>\n",
              "      <th>MinTemp</th>\n",
              "      <th>MaxTemp</th>\n",
              "      <th>Rainfall</th>\n",
              "      <th>Evaporation</th>\n",
              "      <th>Sunshine</th>\n",
              "      <th>WindGustSpeed</th>\n",
              "      <th>WindSpeed9am</th>\n",
              "      <th>WindSpeed3pm</th>\n",
              "      <th>Humidity9am</th>\n",
              "      <th>Humidity3pm</th>\n",
              "      <th>Pressure9am</th>\n",
              "      <th>Pressure3pm</th>\n",
              "      <th>Cloud9am</th>\n",
              "      <th>Cloud3pm</th>\n",
              "      <th>Temp9am</th>\n",
              "      <th>Temp3pm</th>\n",
              "      <th>RainToday</th>\n",
              "      <th>RainTomorrow</th>\n",
              "      <th>Year</th>\n",
              "      <th>imputados</th>\n",
              "      <th>Location_replace</th>\n",
              "      <th>location_mes</th>\n",
              "      <th>Location_y</th>\n",
              "      <th>Month_y</th>\n",
              "      <th>('mean', 'Cloud3pm')</th>\n",
              "      <th>('mean', 'Cloud9am')</th>\n",
              "      <th>('mean', 'Humidity3pm')</th>\n",
              "      <th>('mean', 'Sunshine')</th>\n",
              "      <th>WindGustDir_ENE</th>\n",
              "      <th>WindGustDir_ESE</th>\n",
              "      <th>WindGustDir_N</th>\n",
              "      <th>WindGustDir_NE</th>\n",
              "      <th>WindGustDir_NNE</th>\n",
              "      <th>WindGustDir_NNW</th>\n",
              "      <th>WindGustDir_NW</th>\n",
              "      <th>WindGustDir_S</th>\n",
              "      <th>WindGustDir_SE</th>\n",
              "      <th>WindGustDir_SSE</th>\n",
              "      <th>WindGustDir_SSW</th>\n",
              "      <th>WindGustDir_SW</th>\n",
              "      <th>WindGustDir_W</th>\n",
              "      <th>WindGustDir_WNW</th>\n",
              "      <th>WindGustDir_WSW</th>\n",
              "      <th>WindDir9am_ENE</th>\n",
              "      <th>WindDir9am_ESE</th>\n",
              "      <th>WindDir9am_N</th>\n",
              "      <th>WindDir9am_NE</th>\n",
              "      <th>WindDir9am_NNE</th>\n",
              "      <th>WindDir9am_NNW</th>\n",
              "      <th>WindDir9am_NW</th>\n",
              "      <th>WindDir9am_S</th>\n",
              "      <th>WindDir9am_SE</th>\n",
              "      <th>WindDir9am_SSE</th>\n",
              "      <th>WindDir9am_SSW</th>\n",
              "      <th>WindDir9am_SW</th>\n",
              "      <th>WindDir9am_W</th>\n",
              "      <th>WindDir9am_WNW</th>\n",
              "      <th>WindDir9am_WSW</th>\n",
              "      <th>WindDir3pm_ENE</th>\n",
              "      <th>WindDir3pm_ESE</th>\n",
              "      <th>WindDir3pm_N</th>\n",
              "      <th>WindDir3pm_NE</th>\n",
              "      <th>WindDir3pm_NNE</th>\n",
              "      <th>WindDir3pm_NNW</th>\n",
              "      <th>WindDir3pm_NW</th>\n",
              "      <th>WindDir3pm_S</th>\n",
              "      <th>WindDir3pm_SE</th>\n",
              "      <th>WindDir3pm_SSE</th>\n",
              "      <th>WindDir3pm_SSW</th>\n",
              "      <th>WindDir3pm_SW</th>\n",
              "      <th>WindDir3pm_W</th>\n",
              "      <th>WindDir3pm_WNW</th>\n",
              "      <th>WindDir3pm_WSW</th>\n",
              "      <th>Location_x_Albany</th>\n",
              "      <th>Location_x_Albury</th>\n",
              "      <th>Location_x_AliceSprings</th>\n",
              "      <th>Location_x_BadgerysCreek</th>\n",
              "      <th>Location_x_Ballarat</th>\n",
              "      <th>Location_x_Bendigo</th>\n",
              "      <th>Location_x_Brisbane</th>\n",
              "      <th>Location_x_Cairns</th>\n",
              "      <th>Location_x_Canberra</th>\n",
              "      <th>Location_x_Cobar</th>\n",
              "      <th>Location_x_CoffsHarbour</th>\n",
              "      <th>Location_x_Dartmoor</th>\n",
              "      <th>Location_x_Darwin</th>\n",
              "      <th>Location_x_GoldCoast</th>\n",
              "      <th>Location_x_Hobart</th>\n",
              "      <th>Location_x_Katherine</th>\n",
              "      <th>Location_x_Launceston</th>\n",
              "      <th>Location_x_Melbourne</th>\n",
              "      <th>Location_x_MelbourneAirport</th>\n",
              "      <th>Location_x_Mildura</th>\n",
              "      <th>Location_x_Moree</th>\n",
              "      <th>Location_x_MountGambier</th>\n",
              "      <th>Location_x_MountGinini</th>\n",
              "      <th>Location_x_Newcastle</th>\n",
              "      <th>Location_x_Nhil</th>\n",
              "      <th>Location_x_NorahHead</th>\n",
              "      <th>Location_x_NorfolkIsland</th>\n",
              "      <th>Location_x_Nuriootpa</th>\n",
              "      <th>Location_x_PearceRAAF</th>\n",
              "      <th>Location_x_Penrith</th>\n",
              "      <th>Location_x_Perth</th>\n",
              "      <th>Location_x_PerthAirport</th>\n",
              "      <th>Location_x_Portland</th>\n",
              "      <th>Location_x_Richmond</th>\n",
              "      <th>Location_x_Sale</th>\n",
              "      <th>Location_x_SalmonGums</th>\n",
              "      <th>Location_x_Sydney</th>\n",
              "      <th>Location_x_SydneyAirport</th>\n",
              "      <th>Location_x_Townsville</th>\n",
              "      <th>Location_x_WaggaWagga</th>\n",
              "      <th>Location_x_Walpole</th>\n",
              "      <th>Location_x_Watsonia</th>\n",
              "      <th>Location_x_Williamtown</th>\n",
              "      <th>Location_x_Wollongong</th>\n",
              "      <th>Location_x_Woomera</th>\n",
              "      <th>Month_x_2</th>\n",
              "      <th>Month_x_3</th>\n",
              "      <th>Month_x_4</th>\n",
              "      <th>Month_x_5</th>\n",
              "      <th>Month_x_6</th>\n",
              "      <th>Month_x_7</th>\n",
              "      <th>Month_x_8</th>\n",
              "      <th>Month_x_9</th>\n",
              "      <th>Month_x_10</th>\n",
              "      <th>Month_x_11</th>\n",
              "      <th>Month_x_12</th>\n",
              "    </tr>\n",
              "  </thead>\n",
              "  <tbody>\n",
              "    <tr>\n",
              "      <th>0</th>\n",
              "      <td>2008-12-01</td>\n",
              "      <td>13.4</td>\n",
              "      <td>22.9</td>\n",
              "      <td>0.6</td>\n",
              "      <td>NaN</td>\n",
              "      <td>11.53</td>\n",
              "      <td>44.0</td>\n",
              "      <td>20.0</td>\n",
              "      <td>24.0</td>\n",
              "      <td>71.0</td>\n",
              "      <td>22.0</td>\n",
              "      <td>1007.7</td>\n",
              "      <td>1007.1</td>\n",
              "      <td>8.00</td>\n",
              "      <td>2.56</td>\n",
              "      <td>16.9</td>\n",
              "      <td>21.8</td>\n",
              "      <td>0.0</td>\n",
              "      <td>0.0</td>\n",
              "      <td>2008</td>\n",
              "      <td>1</td>\n",
              "      <td>Perth</td>\n",
              "      <td>Perth12</td>\n",
              "      <td>Perth</td>\n",
              "      <td>12</td>\n",
              "      <td>2.56</td>\n",
              "      <td>2.85</td>\n",
              "      <td>39.92</td>\n",
              "      <td>11.53</td>\n",
              "      <td>0</td>\n",
              "      <td>0</td>\n",
              "      <td>0</td>\n",
              "      <td>0</td>\n",
              "      <td>0</td>\n",
              "      <td>0</td>\n",
              "      <td>0</td>\n",
              "      <td>0</td>\n",
              "      <td>0</td>\n",
              "      <td>0</td>\n",
              "      <td>0</td>\n",
              "      <td>0</td>\n",
              "      <td>1</td>\n",
              "      <td>0</td>\n",
              "      <td>0</td>\n",
              "      <td>0</td>\n",
              "      <td>0</td>\n",
              "      <td>0</td>\n",
              "      <td>0</td>\n",
              "      <td>0</td>\n",
              "      <td>0</td>\n",
              "      <td>0</td>\n",
              "      <td>0</td>\n",
              "      <td>0</td>\n",
              "      <td>0</td>\n",
              "      <td>0</td>\n",
              "      <td>0</td>\n",
              "      <td>1</td>\n",
              "      <td>0</td>\n",
              "      <td>0</td>\n",
              "      <td>0</td>\n",
              "      <td>0</td>\n",
              "      <td>0</td>\n",
              "      <td>0</td>\n",
              "      <td>0</td>\n",
              "      <td>0</td>\n",
              "      <td>0</td>\n",
              "      <td>0</td>\n",
              "      <td>0</td>\n",
              "      <td>0</td>\n",
              "      <td>0</td>\n",
              "      <td>0</td>\n",
              "      <td>0</td>\n",
              "      <td>1</td>\n",
              "      <td>0</td>\n",
              "      <td>0</td>\n",
              "      <td>1</td>\n",
              "      <td>0</td>\n",
              "      <td>0</td>\n",
              "      <td>0</td>\n",
              "      <td>0</td>\n",
              "      <td>0</td>\n",
              "      <td>0</td>\n",
              "      <td>0</td>\n",
              "      <td>0</td>\n",
              "      <td>0</td>\n",
              "      <td>0</td>\n",
              "      <td>0</td>\n",
              "      <td>0</td>\n",
              "      <td>0</td>\n",
              "      <td>0</td>\n",
              "      <td>0</td>\n",
              "      <td>0</td>\n",
              "      <td>0</td>\n",
              "      <td>0</td>\n",
              "      <td>0</td>\n",
              "      <td>0</td>\n",
              "      <td>0</td>\n",
              "      <td>0</td>\n",
              "      <td>0</td>\n",
              "      <td>0</td>\n",
              "      <td>0</td>\n",
              "      <td>0</td>\n",
              "      <td>0</td>\n",
              "      <td>0</td>\n",
              "      <td>0</td>\n",
              "      <td>0</td>\n",
              "      <td>0</td>\n",
              "      <td>0</td>\n",
              "      <td>0</td>\n",
              "      <td>0</td>\n",
              "      <td>0</td>\n",
              "      <td>0</td>\n",
              "      <td>0</td>\n",
              "      <td>0</td>\n",
              "      <td>0</td>\n",
              "      <td>0</td>\n",
              "      <td>0</td>\n",
              "      <td>0</td>\n",
              "      <td>0</td>\n",
              "      <td>0</td>\n",
              "      <td>0</td>\n",
              "      <td>0</td>\n",
              "      <td>0</td>\n",
              "      <td>0</td>\n",
              "      <td>0</td>\n",
              "      <td>0</td>\n",
              "      <td>0</td>\n",
              "      <td>0</td>\n",
              "      <td>0</td>\n",
              "      <td>1</td>\n",
              "    </tr>\n",
              "    <tr>\n",
              "      <th>1</th>\n",
              "      <td>2008-12-02</td>\n",
              "      <td>7.4</td>\n",
              "      <td>25.1</td>\n",
              "      <td>0.0</td>\n",
              "      <td>NaN</td>\n",
              "      <td>11.53</td>\n",
              "      <td>44.0</td>\n",
              "      <td>4.0</td>\n",
              "      <td>22.0</td>\n",
              "      <td>44.0</td>\n",
              "      <td>25.0</td>\n",
              "      <td>1010.6</td>\n",
              "      <td>1007.8</td>\n",
              "      <td>2.85</td>\n",
              "      <td>2.56</td>\n",
              "      <td>17.2</td>\n",
              "      <td>24.3</td>\n",
              "      <td>0.0</td>\n",
              "      <td>0.0</td>\n",
              "      <td>2008</td>\n",
              "      <td>1</td>\n",
              "      <td>Perth</td>\n",
              "      <td>Perth12</td>\n",
              "      <td>Perth</td>\n",
              "      <td>12</td>\n",
              "      <td>2.56</td>\n",
              "      <td>2.85</td>\n",
              "      <td>39.92</td>\n",
              "      <td>11.53</td>\n",
              "      <td>0</td>\n",
              "      <td>0</td>\n",
              "      <td>0</td>\n",
              "      <td>0</td>\n",
              "      <td>0</td>\n",
              "      <td>0</td>\n",
              "      <td>0</td>\n",
              "      <td>0</td>\n",
              "      <td>0</td>\n",
              "      <td>0</td>\n",
              "      <td>0</td>\n",
              "      <td>0</td>\n",
              "      <td>0</td>\n",
              "      <td>1</td>\n",
              "      <td>0</td>\n",
              "      <td>0</td>\n",
              "      <td>0</td>\n",
              "      <td>0</td>\n",
              "      <td>0</td>\n",
              "      <td>0</td>\n",
              "      <td>1</td>\n",
              "      <td>0</td>\n",
              "      <td>0</td>\n",
              "      <td>0</td>\n",
              "      <td>0</td>\n",
              "      <td>0</td>\n",
              "      <td>0</td>\n",
              "      <td>0</td>\n",
              "      <td>0</td>\n",
              "      <td>0</td>\n",
              "      <td>0</td>\n",
              "      <td>0</td>\n",
              "      <td>0</td>\n",
              "      <td>0</td>\n",
              "      <td>0</td>\n",
              "      <td>0</td>\n",
              "      <td>0</td>\n",
              "      <td>0</td>\n",
              "      <td>0</td>\n",
              "      <td>0</td>\n",
              "      <td>0</td>\n",
              "      <td>0</td>\n",
              "      <td>0</td>\n",
              "      <td>0</td>\n",
              "      <td>1</td>\n",
              "      <td>0</td>\n",
              "      <td>1</td>\n",
              "      <td>0</td>\n",
              "      <td>0</td>\n",
              "      <td>0</td>\n",
              "      <td>0</td>\n",
              "      <td>0</td>\n",
              "      <td>0</td>\n",
              "      <td>0</td>\n",
              "      <td>0</td>\n",
              "      <td>0</td>\n",
              "      <td>0</td>\n",
              "      <td>0</td>\n",
              "      <td>0</td>\n",
              "      <td>0</td>\n",
              "      <td>0</td>\n",
              "      <td>0</td>\n",
              "      <td>0</td>\n",
              "      <td>0</td>\n",
              "      <td>0</td>\n",
              "      <td>0</td>\n",
              "      <td>0</td>\n",
              "      <td>0</td>\n",
              "      <td>0</td>\n",
              "      <td>0</td>\n",
              "      <td>0</td>\n",
              "      <td>0</td>\n",
              "      <td>0</td>\n",
              "      <td>0</td>\n",
              "      <td>0</td>\n",
              "      <td>0</td>\n",
              "      <td>0</td>\n",
              "      <td>0</td>\n",
              "      <td>0</td>\n",
              "      <td>0</td>\n",
              "      <td>0</td>\n",
              "      <td>0</td>\n",
              "      <td>0</td>\n",
              "      <td>0</td>\n",
              "      <td>0</td>\n",
              "      <td>0</td>\n",
              "      <td>0</td>\n",
              "      <td>0</td>\n",
              "      <td>0</td>\n",
              "      <td>0</td>\n",
              "      <td>0</td>\n",
              "      <td>0</td>\n",
              "      <td>0</td>\n",
              "      <td>0</td>\n",
              "      <td>0</td>\n",
              "      <td>0</td>\n",
              "      <td>0</td>\n",
              "      <td>0</td>\n",
              "      <td>0</td>\n",
              "      <td>0</td>\n",
              "      <td>1</td>\n",
              "    </tr>\n",
              "    <tr>\n",
              "      <th>2</th>\n",
              "      <td>2008-12-03</td>\n",
              "      <td>12.9</td>\n",
              "      <td>25.7</td>\n",
              "      <td>0.0</td>\n",
              "      <td>NaN</td>\n",
              "      <td>11.53</td>\n",
              "      <td>46.0</td>\n",
              "      <td>19.0</td>\n",
              "      <td>26.0</td>\n",
              "      <td>38.0</td>\n",
              "      <td>30.0</td>\n",
              "      <td>1007.6</td>\n",
              "      <td>1008.7</td>\n",
              "      <td>2.85</td>\n",
              "      <td>2.00</td>\n",
              "      <td>21.0</td>\n",
              "      <td>23.2</td>\n",
              "      <td>0.0</td>\n",
              "      <td>0.0</td>\n",
              "      <td>2008</td>\n",
              "      <td>1</td>\n",
              "      <td>Perth</td>\n",
              "      <td>Perth12</td>\n",
              "      <td>Perth</td>\n",
              "      <td>12</td>\n",
              "      <td>2.56</td>\n",
              "      <td>2.85</td>\n",
              "      <td>39.92</td>\n",
              "      <td>11.53</td>\n",
              "      <td>0</td>\n",
              "      <td>0</td>\n",
              "      <td>0</td>\n",
              "      <td>0</td>\n",
              "      <td>0</td>\n",
              "      <td>0</td>\n",
              "      <td>0</td>\n",
              "      <td>0</td>\n",
              "      <td>0</td>\n",
              "      <td>0</td>\n",
              "      <td>0</td>\n",
              "      <td>0</td>\n",
              "      <td>0</td>\n",
              "      <td>0</td>\n",
              "      <td>1</td>\n",
              "      <td>0</td>\n",
              "      <td>0</td>\n",
              "      <td>0</td>\n",
              "      <td>0</td>\n",
              "      <td>0</td>\n",
              "      <td>0</td>\n",
              "      <td>0</td>\n",
              "      <td>0</td>\n",
              "      <td>0</td>\n",
              "      <td>0</td>\n",
              "      <td>0</td>\n",
              "      <td>0</td>\n",
              "      <td>1</td>\n",
              "      <td>0</td>\n",
              "      <td>0</td>\n",
              "      <td>0</td>\n",
              "      <td>0</td>\n",
              "      <td>0</td>\n",
              "      <td>0</td>\n",
              "      <td>0</td>\n",
              "      <td>0</td>\n",
              "      <td>0</td>\n",
              "      <td>0</td>\n",
              "      <td>0</td>\n",
              "      <td>0</td>\n",
              "      <td>0</td>\n",
              "      <td>0</td>\n",
              "      <td>0</td>\n",
              "      <td>0</td>\n",
              "      <td>1</td>\n",
              "      <td>0</td>\n",
              "      <td>1</td>\n",
              "      <td>0</td>\n",
              "      <td>0</td>\n",
              "      <td>0</td>\n",
              "      <td>0</td>\n",
              "      <td>0</td>\n",
              "      <td>0</td>\n",
              "      <td>0</td>\n",
              "      <td>0</td>\n",
              "      <td>0</td>\n",
              "      <td>0</td>\n",
              "      <td>0</td>\n",
              "      <td>0</td>\n",
              "      <td>0</td>\n",
              "      <td>0</td>\n",
              "      <td>0</td>\n",
              "      <td>0</td>\n",
              "      <td>0</td>\n",
              "      <td>0</td>\n",
              "      <td>0</td>\n",
              "      <td>0</td>\n",
              "      <td>0</td>\n",
              "      <td>0</td>\n",
              "      <td>0</td>\n",
              "      <td>0</td>\n",
              "      <td>0</td>\n",
              "      <td>0</td>\n",
              "      <td>0</td>\n",
              "      <td>0</td>\n",
              "      <td>0</td>\n",
              "      <td>0</td>\n",
              "      <td>0</td>\n",
              "      <td>0</td>\n",
              "      <td>0</td>\n",
              "      <td>0</td>\n",
              "      <td>0</td>\n",
              "      <td>0</td>\n",
              "      <td>0</td>\n",
              "      <td>0</td>\n",
              "      <td>0</td>\n",
              "      <td>0</td>\n",
              "      <td>0</td>\n",
              "      <td>0</td>\n",
              "      <td>0</td>\n",
              "      <td>0</td>\n",
              "      <td>0</td>\n",
              "      <td>0</td>\n",
              "      <td>0</td>\n",
              "      <td>0</td>\n",
              "      <td>0</td>\n",
              "      <td>0</td>\n",
              "      <td>0</td>\n",
              "      <td>0</td>\n",
              "      <td>0</td>\n",
              "      <td>1</td>\n",
              "    </tr>\n",
              "  </tbody>\n",
              "</table>\n",
              "</div>"
            ],
            "text/plain": [
              "        Date  MinTemp  MaxTemp  Rainfall  Evaporation  Sunshine  \\\n",
              "0 2008-12-01     13.4     22.9       0.6          NaN     11.53   \n",
              "1 2008-12-02      7.4     25.1       0.0          NaN     11.53   \n",
              "2 2008-12-03     12.9     25.7       0.0          NaN     11.53   \n",
              "\n",
              "   WindGustSpeed  WindSpeed9am  WindSpeed3pm  Humidity9am  Humidity3pm  \\\n",
              "0           44.0          20.0          24.0         71.0         22.0   \n",
              "1           44.0           4.0          22.0         44.0         25.0   \n",
              "2           46.0          19.0          26.0         38.0         30.0   \n",
              "\n",
              "   Pressure9am  Pressure3pm  Cloud9am  Cloud3pm  Temp9am  Temp3pm  RainToday  \\\n",
              "0       1007.7       1007.1      8.00      2.56     16.9     21.8        0.0   \n",
              "1       1010.6       1007.8      2.85      2.56     17.2     24.3        0.0   \n",
              "2       1007.6       1008.7      2.85      2.00     21.0     23.2        0.0   \n",
              "\n",
              "   RainTomorrow  Year  imputados Location_replace location_mes Location_y  \\\n",
              "0           0.0  2008          1            Perth      Perth12      Perth   \n",
              "1           0.0  2008          1            Perth      Perth12      Perth   \n",
              "2           0.0  2008          1            Perth      Perth12      Perth   \n",
              "\n",
              "   Month_y  ('mean', 'Cloud3pm')  ('mean', 'Cloud9am')  \\\n",
              "0       12                  2.56                  2.85   \n",
              "1       12                  2.56                  2.85   \n",
              "2       12                  2.56                  2.85   \n",
              "\n",
              "   ('mean', 'Humidity3pm')  ('mean', 'Sunshine')  WindGustDir_ENE  \\\n",
              "0                    39.92                 11.53                0   \n",
              "1                    39.92                 11.53                0   \n",
              "2                    39.92                 11.53                0   \n",
              "\n",
              "   WindGustDir_ESE  WindGustDir_N  WindGustDir_NE  WindGustDir_NNE  \\\n",
              "0                0              0               0                0   \n",
              "1                0              0               0                0   \n",
              "2                0              0               0                0   \n",
              "\n",
              "   WindGustDir_NNW  WindGustDir_NW  WindGustDir_S  WindGustDir_SE  \\\n",
              "0                0               0              0               0   \n",
              "1                0               0              0               0   \n",
              "2                0               0              0               0   \n",
              "\n",
              "   WindGustDir_SSE  WindGustDir_SSW  WindGustDir_SW  WindGustDir_W  \\\n",
              "0                0                0               0              1   \n",
              "1                0                0               0              0   \n",
              "2                0                0               0              0   \n",
              "\n",
              "   WindGustDir_WNW  WindGustDir_WSW  WindDir9am_ENE  WindDir9am_ESE  \\\n",
              "0                0                0               0               0   \n",
              "1                1                0               0               0   \n",
              "2                0                1               0               0   \n",
              "\n",
              "   WindDir9am_N  WindDir9am_NE  WindDir9am_NNE  WindDir9am_NNW  WindDir9am_NW  \\\n",
              "0             0              0               0               0              0   \n",
              "1             0              0               0               1              0   \n",
              "2             0              0               0               0              0   \n",
              "\n",
              "   WindDir9am_S  WindDir9am_SE  WindDir9am_SSE  WindDir9am_SSW  WindDir9am_SW  \\\n",
              "0             0              0               0               0              0   \n",
              "1             0              0               0               0              0   \n",
              "2             0              0               0               0              0   \n",
              "\n",
              "   WindDir9am_W  WindDir9am_WNW  WindDir9am_WSW  WindDir3pm_ENE  \\\n",
              "0             1               0               0               0   \n",
              "1             0               0               0               0   \n",
              "2             1               0               0               0   \n",
              "\n",
              "   WindDir3pm_ESE  WindDir3pm_N  WindDir3pm_NE  WindDir3pm_NNE  \\\n",
              "0               0             0              0               0   \n",
              "1               0             0              0               0   \n",
              "2               0             0              0               0   \n",
              "\n",
              "   WindDir3pm_NNW  WindDir3pm_NW  WindDir3pm_S  WindDir3pm_SE  WindDir3pm_SSE  \\\n",
              "0               0              0             0              0               0   \n",
              "1               0              0             0              0               0   \n",
              "2               0              0             0              0               0   \n",
              "\n",
              "   WindDir3pm_SSW  WindDir3pm_SW  WindDir3pm_W  WindDir3pm_WNW  \\\n",
              "0               0              0             0               1   \n",
              "1               0              0             0               0   \n",
              "2               0              0             0               0   \n",
              "\n",
              "   WindDir3pm_WSW  Location_x_Albany  Location_x_Albury  \\\n",
              "0               0                  0                  1   \n",
              "1               1                  0                  1   \n",
              "2               1                  0                  1   \n",
              "\n",
              "   Location_x_AliceSprings  Location_x_BadgerysCreek  Location_x_Ballarat  \\\n",
              "0                        0                         0                    0   \n",
              "1                        0                         0                    0   \n",
              "2                        0                         0                    0   \n",
              "\n",
              "   Location_x_Bendigo  Location_x_Brisbane  Location_x_Cairns  \\\n",
              "0                   0                    0                  0   \n",
              "1                   0                    0                  0   \n",
              "2                   0                    0                  0   \n",
              "\n",
              "   Location_x_Canberra  Location_x_Cobar  Location_x_CoffsHarbour  \\\n",
              "0                    0                 0                        0   \n",
              "1                    0                 0                        0   \n",
              "2                    0                 0                        0   \n",
              "\n",
              "   Location_x_Dartmoor  Location_x_Darwin  Location_x_GoldCoast  \\\n",
              "0                    0                  0                     0   \n",
              "1                    0                  0                     0   \n",
              "2                    0                  0                     0   \n",
              "\n",
              "   Location_x_Hobart  Location_x_Katherine  Location_x_Launceston  \\\n",
              "0                  0                     0                      0   \n",
              "1                  0                     0                      0   \n",
              "2                  0                     0                      0   \n",
              "\n",
              "   Location_x_Melbourne  Location_x_MelbourneAirport  Location_x_Mildura  \\\n",
              "0                     0                            0                   0   \n",
              "1                     0                            0                   0   \n",
              "2                     0                            0                   0   \n",
              "\n",
              "   Location_x_Moree  Location_x_MountGambier  Location_x_MountGinini  \\\n",
              "0                 0                        0                       0   \n",
              "1                 0                        0                       0   \n",
              "2                 0                        0                       0   \n",
              "\n",
              "   Location_x_Newcastle  Location_x_Nhil  Location_x_NorahHead  \\\n",
              "0                     0                0                     0   \n",
              "1                     0                0                     0   \n",
              "2                     0                0                     0   \n",
              "\n",
              "   Location_x_NorfolkIsland  Location_x_Nuriootpa  Location_x_PearceRAAF  \\\n",
              "0                         0                     0                      0   \n",
              "1                         0                     0                      0   \n",
              "2                         0                     0                      0   \n",
              "\n",
              "   Location_x_Penrith  Location_x_Perth  Location_x_PerthAirport  \\\n",
              "0                   0                 0                        0   \n",
              "1                   0                 0                        0   \n",
              "2                   0                 0                        0   \n",
              "\n",
              "   Location_x_Portland  Location_x_Richmond  Location_x_Sale  \\\n",
              "0                    0                    0                0   \n",
              "1                    0                    0                0   \n",
              "2                    0                    0                0   \n",
              "\n",
              "   Location_x_SalmonGums  Location_x_Sydney  Location_x_SydneyAirport  \\\n",
              "0                      0                  0                         0   \n",
              "1                      0                  0                         0   \n",
              "2                      0                  0                         0   \n",
              "\n",
              "   Location_x_Townsville  Location_x_WaggaWagga  Location_x_Walpole  \\\n",
              "0                      0                      0                   0   \n",
              "1                      0                      0                   0   \n",
              "2                      0                      0                   0   \n",
              "\n",
              "   Location_x_Watsonia  Location_x_Williamtown  Location_x_Wollongong  \\\n",
              "0                    0                       0                      0   \n",
              "1                    0                       0                      0   \n",
              "2                    0                       0                      0   \n",
              "\n",
              "   Location_x_Woomera  Month_x_2  Month_x_3  Month_x_4  Month_x_5  Month_x_6  \\\n",
              "0                   0          0          0          0          0          0   \n",
              "1                   0          0          0          0          0          0   \n",
              "2                   0          0          0          0          0          0   \n",
              "\n",
              "   Month_x_7  Month_x_8  Month_x_9  Month_x_10  Month_x_11  Month_x_12  \n",
              "0          0          0          0           0           0           1  \n",
              "1          0          0          0           0           0           1  \n",
              "2          0          0          0           0           0           1  "
            ]
          },
          "metadata": {
            "tags": []
          },
          "execution_count": 41
        }
      ]
    },
    {
      "cell_type": "code",
      "metadata": {
        "colab": {
          "base_uri": "https://localhost:8080/"
        },
        "id": "KS4OanqbQwob",
        "outputId": "72523c50-aaf9-4b19-bc89-481fe56280cb"
      },
      "source": [
        "dsnd2.head(3)\n",
        "dsnd2.shape"
      ],
      "execution_count": null,
      "outputs": [
        {
          "output_type": "execute_result",
          "data": {
            "text/plain": [
              "(137834, 130)"
            ]
          },
          "metadata": {
            "tags": []
          },
          "execution_count": 42
        }
      ]
    },
    {
      "cell_type": "code",
      "metadata": {
        "colab": {
          "base_uri": "https://localhost:8080/"
        },
        "id": "7VsZ2c_dQwoc",
        "outputId": "21892e3f-4484-47c7-b355-4ed26383c23d"
      },
      "source": [
        "data.Year.value_counts()"
      ],
      "execution_count": null,
      "outputs": [
        {
          "output_type": "execute_result",
          "data": {
            "text/plain": [
              "2016    17934\n",
              "2015    17885\n",
              "2014    17885\n",
              "2009    16789\n",
              "2010    16782\n",
              "2013    16415\n",
              "2012    15409\n",
              "2011    15407\n",
              "2017     8623\n",
              "2008     2270\n",
              "2007       61\n",
              "Name: Year, dtype: int64"
            ]
          },
          "metadata": {
            "tags": []
          },
          "execution_count": 43
        }
      ]
    },
    {
      "cell_type": "code",
      "metadata": {
        "colab": {
          "base_uri": "https://localhost:8080/"
        },
        "id": "P1yLmwA1Qwod",
        "outputId": "c0f82358-5c66-41ea-9f5f-f122bc870410"
      },
      "source": [
        "# Mascara de años para reducir df del 2010 al 2015\n",
        "mask_year = (dsnd.Year > 2009) & (dsnd.Year < 2016)\n",
        "\n",
        "# Df tiene años desde 2007 a 2017\n",
        "print(dsnd.Year.value_counts())"
      ],
      "execution_count": null,
      "outputs": [
        {
          "output_type": "stream",
          "text": [
            "2009    8283\n",
            "2010    8130\n",
            "2014    6639\n",
            "2013    6475\n",
            "2011    6470\n",
            "2012    6465\n",
            "2015    6319\n",
            "2016    4561\n",
            "2017    1719\n",
            "2008    1298\n",
            "2007      61\n",
            "Name: Year, dtype: int64\n"
          ],
          "name": "stdout"
        }
      ]
    },
    {
      "cell_type": "code",
      "metadata": {
        "colab": {
          "base_uri": "https://localhost:8080/"
        },
        "id": "jyJ15qECQwoe",
        "outputId": "61a4e608-6696-41eb-b3a4-d117d63e41c1"
      },
      "source": [
        "dsnd_menos_year = dsnd[mask_year]\n",
        "\n",
        "# Verificamos que haya quedado bien\n",
        "print(dsnd_menos_year.shape)\n",
        "print(dsnd_menos_year.Year.value_counts())"
      ],
      "execution_count": null,
      "outputs": [
        {
          "output_type": "stream",
          "text": [
            "(40498, 101)\n",
            "2010    8130\n",
            "2014    6639\n",
            "2013    6475\n",
            "2011    6470\n",
            "2012    6465\n",
            "2015    6319\n",
            "Name: Year, dtype: int64\n"
          ],
          "name": "stdout"
        }
      ]
    },
    {
      "cell_type": "code",
      "metadata": {
        "colab": {
          "base_uri": "https://localhost:8080/"
        },
        "id": "h_4eqg9DQwof",
        "outputId": "60e06719-49df-4b39-a440-5e6b674cbcd0"
      },
      "source": [
        "# Armo la matriz de features sin nulos, con dummies, sin Date y sin Year:\n",
        "\n",
        "X = dsnd_menos_year.drop(columns=['RainTomorrow', 'Date', 'Year'])\n",
        "X.shape"
      ],
      "execution_count": null,
      "outputs": [
        {
          "output_type": "execute_result",
          "data": {
            "text/plain": [
              "(40498, 98)"
            ]
          },
          "metadata": {
            "tags": []
          },
          "execution_count": 46
        }
      ]
    },
    {
      "cell_type": "code",
      "metadata": {
        "colab": {
          "base_uri": "https://localhost:8080/"
        },
        "id": "SXHV1CKKQwof",
        "outputId": "20a0e5ed-ff75-4347-e509-2709c525fe2b"
      },
      "source": [
        "y = dsnd_menos_year.RainTomorrow\n",
        "y.value_counts(normalize= True)"
      ],
      "execution_count": null,
      "outputs": [
        {
          "output_type": "execute_result",
          "data": {
            "text/plain": [
              "0.0    0.777224\n",
              "1.0    0.222776\n",
              "Name: RainTomorrow, dtype: float64"
            ]
          },
          "metadata": {
            "tags": []
          },
          "execution_count": 47
        }
      ]
    },
    {
      "cell_type": "code",
      "metadata": {
        "colab": {
          "base_uri": "https://localhost:8080/",
          "height": 86
        },
        "id": "LLRj5XfNQwog",
        "outputId": "0f7e1dd3-59ad-4d59-ba82-e8dbe89b146c"
      },
      "source": [
        "X_train, X_test, y_train, y_test=train_test_split(X, y, test_size= 0.3, random_state= 30, stratify= y)\n",
        "display(X_train.shape, X_test.shape, y_train.shape, y_test.shape)"
      ],
      "execution_count": null,
      "outputs": [
        {
          "output_type": "display_data",
          "data": {
            "text/plain": [
              "(28348, 98)"
            ]
          },
          "metadata": {
            "tags": []
          }
        },
        {
          "output_type": "display_data",
          "data": {
            "text/plain": [
              "(12150, 98)"
            ]
          },
          "metadata": {
            "tags": []
          }
        },
        {
          "output_type": "display_data",
          "data": {
            "text/plain": [
              "(28348,)"
            ]
          },
          "metadata": {
            "tags": []
          }
        },
        {
          "output_type": "display_data",
          "data": {
            "text/plain": [
              "(12150,)"
            ]
          },
          "metadata": {
            "tags": []
          }
        }
      ]
    },
    {
      "cell_type": "code",
      "metadata": {
        "id": "AXmnM0uUQwoh"
      },
      "source": [
        "selector = FeatureSelection(selected_features= X.columns.values)\n",
        "\n",
        "# selector_1 = FeatureSelection(selected_features=X.drop(columns='Rainfall').columns.values)\n",
        "# selector_2 = FeatureSelection(selected_features=X.drop(columns='Sunshine').columns.values)"
      ],
      "execution_count": null,
      "outputs": []
    },
    {
      "cell_type": "code",
      "metadata": {
        "colab": {
          "base_uri": "https://localhost:8080/"
        },
        "id": "O4kmW2oKQwoh",
        "outputId": "592392df-d106-413b-8c2a-e315f1b719d7"
      },
      "source": [
        "# Randomsearch con 1 estimador logistic --> corrió rápido\n",
        "\n",
        "folds = StratifiedKFold(n_splits= 5, shuffle= True, random_state= 42)\n",
        "\n",
        "pasos = [('feature_engineering',selector),\n",
        "         ('preprocesamiento', MinMaxScaler()), \n",
        "         ('clasificador', LogisticRegression(solver='sag'))]\n",
        "\n",
        "pipe = Pipeline(pasos)\n",
        "\n",
        "param_grid = [{'feature_engineering':[selector],\n",
        "               'preprocesamiento': [StandardScaler(), MinMaxScaler()],\n",
        "               'clasificador__C': [0.001, 0.01, 0.05, 0.1, 0.3, 0.5, 1, 5, 10, 50]}]\n",
        "                            \n",
        "model = RandomizedSearchCV(pipe, param_grid, cv= folds, scoring= 'f1_macro', random_state= 10)\n",
        "\n",
        "model.fit(X_train, y_train)"
      ],
      "execution_count": null,
      "outputs": [
        {
          "output_type": "execute_result",
          "data": {
            "text/plain": [
              "RandomizedSearchCV(cv=StratifiedKFold(n_splits=5, random_state=42, shuffle=True),\n",
              "                   error_score=nan,\n",
              "                   estimator=Pipeline(memory=None,\n",
              "                                      steps=[('feature_engineering',\n",
              "                                              FeatureSelection(selected_features=array(['MinTemp', 'MaxTemp', 'Rainfall', 'Evaporation', 'Sunshine',\n",
              "       'WindGustSpeed', 'WindSpeed9am', 'WindSpeed3pm', 'Humidity9am',\n",
              "       'Humidity3pm', 'Pressure9am', 'Pressur...\n",
              "       'Location_Woomera', 'Month_2', 'Month_3', 'Month_4', 'Month_5',\n",
              "       'Month_6', 'Month_7', 'Month_8', 'Month_9', 'Month_10', 'Month_11',\n",
              "       'Month_12'], dtype=object))],\n",
              "                                         'preprocesamiento': [StandardScaler(copy=True,\n",
              "                                                                             with_mean=True,\n",
              "                                                                             with_std=True),\n",
              "                                                              MinMaxScaler(copy=True,\n",
              "                                                                           feature_range=(0,\n",
              "                                                                                          1))]}],\n",
              "                   pre_dispatch='2*n_jobs', random_state=10, refit=True,\n",
              "                   return_train_score=False, scoring='f1_macro', verbose=0)"
            ]
          },
          "metadata": {
            "tags": []
          },
          "execution_count": 50
        }
      ]
    },
    {
      "cell_type": "markdown",
      "metadata": {
        "id": "UBZ2vFcSQwoi"
      },
      "source": [
        "Veamos cómo fue la performance de este modelo"
      ]
    },
    {
      "cell_type": "code",
      "metadata": {
        "colab": {
          "base_uri": "https://localhost:8080/"
        },
        "id": "X8546tQ5Qwoj",
        "outputId": "383c9cdb-ea2f-4ffb-f887-310cfff595f3"
      },
      "source": [
        "model.best_estimator_"
      ],
      "execution_count": null,
      "outputs": [
        {
          "output_type": "execute_result",
          "data": {
            "text/plain": [
              "Pipeline(memory=None,\n",
              "         steps=[('feature_engineering',\n",
              "                 FeatureSelection(selected_features=array(['MinTemp', 'MaxTemp', 'Rainfall', 'Evaporation', 'Sunshine',\n",
              "       'WindGustSpeed', 'WindSpeed9am', 'WindSpeed3pm', 'Humidity9am',\n",
              "       'Humidity3pm', 'Pressure9am', 'Pressure3pm', 'Cloud9am',\n",
              "       'Cloud3pm', 'Temp9am', 'Temp3pm', 'RainToday', 'WindGustDir_ENE',\n",
              "       'WindGustDir_ESE', 'WindGust...\n",
              "       'Month_12'], dtype=object))),\n",
              "                ('preprocesamiento',\n",
              "                 StandardScaler(copy=True, with_mean=True, with_std=True)),\n",
              "                ('clasificador',\n",
              "                 LogisticRegression(C=0.3, class_weight=None, dual=False,\n",
              "                                    fit_intercept=True, intercept_scaling=1,\n",
              "                                    l1_ratio=None, max_iter=100,\n",
              "                                    multi_class='auto', n_jobs=None,\n",
              "                                    penalty='l2', random_state=None,\n",
              "                                    solver='sag', tol=0.0001, verbose=0,\n",
              "                                    warm_start=False))],\n",
              "         verbose=False)"
            ]
          },
          "metadata": {
            "tags": []
          },
          "execution_count": 51
        }
      ]
    },
    {
      "cell_type": "code",
      "metadata": {
        "colab": {
          "base_uri": "https://localhost:8080/"
        },
        "id": "XokCxLP4Qwoj",
        "outputId": "347d6fe4-f6ef-4129-a6fd-c331e9e8b3fd"
      },
      "source": [
        "model.best_score_"
      ],
      "execution_count": null,
      "outputs": [
        {
          "output_type": "execute_result",
          "data": {
            "text/plain": [
              "0.7714870663437402"
            ]
          },
          "metadata": {
            "tags": []
          },
          "execution_count": 52
        }
      ]
    },
    {
      "cell_type": "code",
      "metadata": {
        "colab": {
          "base_uri": "https://localhost:8080/"
        },
        "id": "_AhPqNd8Qwok",
        "outputId": "5c5e8d58-5f8e-4d80-a351-62d1df857fbc"
      },
      "source": [
        "model.best_params_"
      ],
      "execution_count": null,
      "outputs": [
        {
          "output_type": "execute_result",
          "data": {
            "text/plain": [
              "{'clasificador__C': 0.3,\n",
              " 'feature_engineering': FeatureSelection(selected_features=array(['MinTemp', 'MaxTemp', 'Rainfall', 'Evaporation', 'Sunshine',\n",
              "        'WindGustSpeed', 'WindSpeed9am', 'WindSpeed3pm', 'Humidity9am',\n",
              "        'Humidity3pm', 'Pressure9am', 'Pressure3pm', 'Cloud9am',\n",
              "        'Cloud3pm', 'Temp9am', 'Temp3pm', 'RainToday', 'WindGustDir_ENE',\n",
              "        'WindGustDir_ESE', 'WindGustDir_N', 'WindGustDir_NE',\n",
              "        'WindGustDir_NNE', 'WindGust...\n",
              "        'Location_NorfolkIsland', 'Location_Nuriootpa', 'Location_Perth',\n",
              "        'Location_PerthAirport', 'Location_Portland', 'Location_Sale',\n",
              "        'Location_Sydney', 'Location_SydneyAirport', 'Location_Townsville',\n",
              "        'Location_WaggaWagga', 'Location_Watsonia', 'Location_Williamtown',\n",
              "        'Location_Woomera', 'Month_2', 'Month_3', 'Month_4', 'Month_5',\n",
              "        'Month_6', 'Month_7', 'Month_8', 'Month_9', 'Month_10', 'Month_11',\n",
              "        'Month_12'], dtype=object)),\n",
              " 'preprocesamiento': StandardScaler(copy=True, with_mean=True, with_std=True)}"
            ]
          },
          "metadata": {
            "tags": []
          },
          "execution_count": 53
        }
      ]
    },
    {
      "cell_type": "code",
      "metadata": {
        "colab": {
          "base_uri": "https://localhost:8080/",
          "height": 557
        },
        "id": "l4VRmgBIQwok",
        "outputId": "fd66caf8-4a3e-416f-af7b-7aac9315b875"
      },
      "source": [
        "tabla_resultados = pd.DataFrame(model.cv_results_)\n",
        "tabla_resultados"
      ],
      "execution_count": null,
      "outputs": [
        {
          "output_type": "execute_result",
          "data": {
            "text/html": [
              "<div>\n",
              "<style scoped>\n",
              "    .dataframe tbody tr th:only-of-type {\n",
              "        vertical-align: middle;\n",
              "    }\n",
              "\n",
              "    .dataframe tbody tr th {\n",
              "        vertical-align: top;\n",
              "    }\n",
              "\n",
              "    .dataframe thead th {\n",
              "        text-align: right;\n",
              "    }\n",
              "</style>\n",
              "<table border=\"1\" class=\"dataframe\">\n",
              "  <thead>\n",
              "    <tr style=\"text-align: right;\">\n",
              "      <th></th>\n",
              "      <th>mean_fit_time</th>\n",
              "      <th>std_fit_time</th>\n",
              "      <th>mean_score_time</th>\n",
              "      <th>std_score_time</th>\n",
              "      <th>param_preprocesamiento</th>\n",
              "      <th>param_feature_engineering</th>\n",
              "      <th>param_clasificador__C</th>\n",
              "      <th>params</th>\n",
              "      <th>split0_test_score</th>\n",
              "      <th>split1_test_score</th>\n",
              "      <th>split2_test_score</th>\n",
              "      <th>split3_test_score</th>\n",
              "      <th>split4_test_score</th>\n",
              "      <th>mean_test_score</th>\n",
              "      <th>std_test_score</th>\n",
              "      <th>rank_test_score</th>\n",
              "    </tr>\n",
              "  </thead>\n",
              "  <tbody>\n",
              "    <tr>\n",
              "      <th>0</th>\n",
              "      <td>0.641194</td>\n",
              "      <td>0.040178</td>\n",
              "      <td>0.013087</td>\n",
              "      <td>0.000947</td>\n",
              "      <td>MinMaxScaler(copy=True, feature_range=(0, 1))</td>\n",
              "      <td>FeatureSelection(selected_features=array(['Min...</td>\n",
              "      <td>0.1</td>\n",
              "      <td>{'preprocesamiento': MinMaxScaler(copy=True, f...</td>\n",
              "      <td>0.763630</td>\n",
              "      <td>0.767354</td>\n",
              "      <td>0.753498</td>\n",
              "      <td>0.760987</td>\n",
              "      <td>0.763530</td>\n",
              "      <td>0.761800</td>\n",
              "      <td>0.004621</td>\n",
              "      <td>8</td>\n",
              "    </tr>\n",
              "    <tr>\n",
              "      <th>1</th>\n",
              "      <td>0.965574</td>\n",
              "      <td>0.068154</td>\n",
              "      <td>0.012586</td>\n",
              "      <td>0.000141</td>\n",
              "      <td>StandardScaler(copy=True, with_mean=True, with...</td>\n",
              "      <td>FeatureSelection(selected_features=array(['Min...</td>\n",
              "      <td>0.5</td>\n",
              "      <td>{'preprocesamiento': StandardScaler(copy=True,...</td>\n",
              "      <td>0.770194</td>\n",
              "      <td>0.774045</td>\n",
              "      <td>0.765297</td>\n",
              "      <td>0.772920</td>\n",
              "      <td>0.773655</td>\n",
              "      <td>0.771222</td>\n",
              "      <td>0.003254</td>\n",
              "      <td>5</td>\n",
              "    </tr>\n",
              "    <tr>\n",
              "      <th>2</th>\n",
              "      <td>0.542794</td>\n",
              "      <td>0.028218</td>\n",
              "      <td>0.013814</td>\n",
              "      <td>0.000926</td>\n",
              "      <td>MinMaxScaler(copy=True, feature_range=(0, 1))</td>\n",
              "      <td>FeatureSelection(selected_features=array(['Min...</td>\n",
              "      <td>0.05</td>\n",
              "      <td>{'preprocesamiento': MinMaxScaler(copy=True, f...</td>\n",
              "      <td>0.758605</td>\n",
              "      <td>0.764797</td>\n",
              "      <td>0.745491</td>\n",
              "      <td>0.753507</td>\n",
              "      <td>0.755008</td>\n",
              "      <td>0.755482</td>\n",
              "      <td>0.006332</td>\n",
              "      <td>9</td>\n",
              "    </tr>\n",
              "    <tr>\n",
              "      <th>3</th>\n",
              "      <td>0.784720</td>\n",
              "      <td>0.036351</td>\n",
              "      <td>0.015303</td>\n",
              "      <td>0.001858</td>\n",
              "      <td>StandardScaler(copy=True, with_mean=True, with...</td>\n",
              "      <td>FeatureSelection(selected_features=array(['Min...</td>\n",
              "      <td>0.1</td>\n",
              "      <td>{'preprocesamiento': StandardScaler(copy=True,...</td>\n",
              "      <td>0.771813</td>\n",
              "      <td>0.774344</td>\n",
              "      <td>0.765381</td>\n",
              "      <td>0.772448</td>\n",
              "      <td>0.772518</td>\n",
              "      <td>0.771301</td>\n",
              "      <td>0.003078</td>\n",
              "      <td>2</td>\n",
              "    </tr>\n",
              "    <tr>\n",
              "      <th>4</th>\n",
              "      <td>0.460006</td>\n",
              "      <td>0.021306</td>\n",
              "      <td>0.012969</td>\n",
              "      <td>0.000567</td>\n",
              "      <td>MinMaxScaler(copy=True, feature_range=(0, 1))</td>\n",
              "      <td>FeatureSelection(selected_features=array(['Min...</td>\n",
              "      <td>0.01</td>\n",
              "      <td>{'preprocesamiento': MinMaxScaler(copy=True, f...</td>\n",
              "      <td>0.734484</td>\n",
              "      <td>0.729364</td>\n",
              "      <td>0.715955</td>\n",
              "      <td>0.721385</td>\n",
              "      <td>0.725752</td>\n",
              "      <td>0.725388</td>\n",
              "      <td>0.006382</td>\n",
              "      <td>10</td>\n",
              "    </tr>\n",
              "    <tr>\n",
              "      <th>5</th>\n",
              "      <td>0.964419</td>\n",
              "      <td>0.066609</td>\n",
              "      <td>0.012713</td>\n",
              "      <td>0.000237</td>\n",
              "      <td>StandardScaler(copy=True, with_mean=True, with...</td>\n",
              "      <td>FeatureSelection(selected_features=array(['Min...</td>\n",
              "      <td>50</td>\n",
              "      <td>{'preprocesamiento': StandardScaler(copy=True,...</td>\n",
              "      <td>0.769885</td>\n",
              "      <td>0.774202</td>\n",
              "      <td>0.764943</td>\n",
              "      <td>0.773484</td>\n",
              "      <td>0.773655</td>\n",
              "      <td>0.771234</td>\n",
              "      <td>0.003497</td>\n",
              "      <td>3</td>\n",
              "    </tr>\n",
              "    <tr>\n",
              "      <th>6</th>\n",
              "      <td>0.923575</td>\n",
              "      <td>0.059861</td>\n",
              "      <td>0.015077</td>\n",
              "      <td>0.002346</td>\n",
              "      <td>MinMaxScaler(copy=True, feature_range=(0, 1))</td>\n",
              "      <td>FeatureSelection(selected_features=array(['Min...</td>\n",
              "      <td>1</td>\n",
              "      <td>{'preprocesamiento': MinMaxScaler(copy=True, f...</td>\n",
              "      <td>0.769866</td>\n",
              "      <td>0.771434</td>\n",
              "      <td>0.761302</td>\n",
              "      <td>0.771407</td>\n",
              "      <td>0.770328</td>\n",
              "      <td>0.768867</td>\n",
              "      <td>0.003832</td>\n",
              "      <td>6</td>\n",
              "    </tr>\n",
              "    <tr>\n",
              "      <th>7</th>\n",
              "      <td>0.593628</td>\n",
              "      <td>0.006608</td>\n",
              "      <td>0.013327</td>\n",
              "      <td>0.001370</td>\n",
              "      <td>StandardScaler(copy=True, with_mean=True, with...</td>\n",
              "      <td>FeatureSelection(selected_features=array(['Min...</td>\n",
              "      <td>0.01</td>\n",
              "      <td>{'preprocesamiento': StandardScaler(copy=True,...</td>\n",
              "      <td>0.770292</td>\n",
              "      <td>0.768506</td>\n",
              "      <td>0.759683</td>\n",
              "      <td>0.768740</td>\n",
              "      <td>0.768044</td>\n",
              "      <td>0.767053</td>\n",
              "      <td>0.003762</td>\n",
              "      <td>7</td>\n",
              "    </tr>\n",
              "    <tr>\n",
              "      <th>8</th>\n",
              "      <td>0.999887</td>\n",
              "      <td>0.108357</td>\n",
              "      <td>0.012769</td>\n",
              "      <td>0.000073</td>\n",
              "      <td>StandardScaler(copy=True, with_mean=True, with...</td>\n",
              "      <td>FeatureSelection(selected_features=array(['Min...</td>\n",
              "      <td>5</td>\n",
              "      <td>{'preprocesamiento': StandardScaler(copy=True,...</td>\n",
              "      <td>0.769885</td>\n",
              "      <td>0.774202</td>\n",
              "      <td>0.764943</td>\n",
              "      <td>0.773484</td>\n",
              "      <td>0.773655</td>\n",
              "      <td>0.771234</td>\n",
              "      <td>0.003497</td>\n",
              "      <td>3</td>\n",
              "    </tr>\n",
              "    <tr>\n",
              "      <th>9</th>\n",
              "      <td>0.906023</td>\n",
              "      <td>0.085934</td>\n",
              "      <td>0.013036</td>\n",
              "      <td>0.000231</td>\n",
              "      <td>StandardScaler(copy=True, with_mean=True, with...</td>\n",
              "      <td>FeatureSelection(selected_features=array(['Min...</td>\n",
              "      <td>0.3</td>\n",
              "      <td>{'preprocesamiento': StandardScaler(copy=True,...</td>\n",
              "      <td>0.770549</td>\n",
              "      <td>0.774045</td>\n",
              "      <td>0.765495</td>\n",
              "      <td>0.773328</td>\n",
              "      <td>0.774019</td>\n",
              "      <td>0.771487</td>\n",
              "      <td>0.003260</td>\n",
              "      <td>1</td>\n",
              "    </tr>\n",
              "  </tbody>\n",
              "</table>\n",
              "</div>"
            ],
            "text/plain": [
              "   mean_fit_time  std_fit_time  mean_score_time  std_score_time  \\\n",
              "0       0.641194      0.040178         0.013087        0.000947   \n",
              "1       0.965574      0.068154         0.012586        0.000141   \n",
              "2       0.542794      0.028218         0.013814        0.000926   \n",
              "3       0.784720      0.036351         0.015303        0.001858   \n",
              "4       0.460006      0.021306         0.012969        0.000567   \n",
              "5       0.964419      0.066609         0.012713        0.000237   \n",
              "6       0.923575      0.059861         0.015077        0.002346   \n",
              "7       0.593628      0.006608         0.013327        0.001370   \n",
              "8       0.999887      0.108357         0.012769        0.000073   \n",
              "9       0.906023      0.085934         0.013036        0.000231   \n",
              "\n",
              "                              param_preprocesamiento  \\\n",
              "0      MinMaxScaler(copy=True, feature_range=(0, 1))   \n",
              "1  StandardScaler(copy=True, with_mean=True, with...   \n",
              "2      MinMaxScaler(copy=True, feature_range=(0, 1))   \n",
              "3  StandardScaler(copy=True, with_mean=True, with...   \n",
              "4      MinMaxScaler(copy=True, feature_range=(0, 1))   \n",
              "5  StandardScaler(copy=True, with_mean=True, with...   \n",
              "6      MinMaxScaler(copy=True, feature_range=(0, 1))   \n",
              "7  StandardScaler(copy=True, with_mean=True, with...   \n",
              "8  StandardScaler(copy=True, with_mean=True, with...   \n",
              "9  StandardScaler(copy=True, with_mean=True, with...   \n",
              "\n",
              "                           param_feature_engineering param_clasificador__C  \\\n",
              "0  FeatureSelection(selected_features=array(['Min...                   0.1   \n",
              "1  FeatureSelection(selected_features=array(['Min...                   0.5   \n",
              "2  FeatureSelection(selected_features=array(['Min...                  0.05   \n",
              "3  FeatureSelection(selected_features=array(['Min...                   0.1   \n",
              "4  FeatureSelection(selected_features=array(['Min...                  0.01   \n",
              "5  FeatureSelection(selected_features=array(['Min...                    50   \n",
              "6  FeatureSelection(selected_features=array(['Min...                     1   \n",
              "7  FeatureSelection(selected_features=array(['Min...                  0.01   \n",
              "8  FeatureSelection(selected_features=array(['Min...                     5   \n",
              "9  FeatureSelection(selected_features=array(['Min...                   0.3   \n",
              "\n",
              "                                              params  split0_test_score  \\\n",
              "0  {'preprocesamiento': MinMaxScaler(copy=True, f...           0.763630   \n",
              "1  {'preprocesamiento': StandardScaler(copy=True,...           0.770194   \n",
              "2  {'preprocesamiento': MinMaxScaler(copy=True, f...           0.758605   \n",
              "3  {'preprocesamiento': StandardScaler(copy=True,...           0.771813   \n",
              "4  {'preprocesamiento': MinMaxScaler(copy=True, f...           0.734484   \n",
              "5  {'preprocesamiento': StandardScaler(copy=True,...           0.769885   \n",
              "6  {'preprocesamiento': MinMaxScaler(copy=True, f...           0.769866   \n",
              "7  {'preprocesamiento': StandardScaler(copy=True,...           0.770292   \n",
              "8  {'preprocesamiento': StandardScaler(copy=True,...           0.769885   \n",
              "9  {'preprocesamiento': StandardScaler(copy=True,...           0.770549   \n",
              "\n",
              "   split1_test_score  split2_test_score  split3_test_score  split4_test_score  \\\n",
              "0           0.767354           0.753498           0.760987           0.763530   \n",
              "1           0.774045           0.765297           0.772920           0.773655   \n",
              "2           0.764797           0.745491           0.753507           0.755008   \n",
              "3           0.774344           0.765381           0.772448           0.772518   \n",
              "4           0.729364           0.715955           0.721385           0.725752   \n",
              "5           0.774202           0.764943           0.773484           0.773655   \n",
              "6           0.771434           0.761302           0.771407           0.770328   \n",
              "7           0.768506           0.759683           0.768740           0.768044   \n",
              "8           0.774202           0.764943           0.773484           0.773655   \n",
              "9           0.774045           0.765495           0.773328           0.774019   \n",
              "\n",
              "   mean_test_score  std_test_score  rank_test_score  \n",
              "0         0.761800        0.004621                8  \n",
              "1         0.771222        0.003254                5  \n",
              "2         0.755482        0.006332                9  \n",
              "3         0.771301        0.003078                2  \n",
              "4         0.725388        0.006382               10  \n",
              "5         0.771234        0.003497                3  \n",
              "6         0.768867        0.003832                6  \n",
              "7         0.767053        0.003762                7  \n",
              "8         0.771234        0.003497                3  \n",
              "9         0.771487        0.003260                1  "
            ]
          },
          "metadata": {
            "tags": []
          },
          "execution_count": 54
        }
      ]
    },
    {
      "cell_type": "code",
      "metadata": {
        "colab": {
          "base_uri": "https://localhost:8080/",
          "height": 118
        },
        "id": "U3TjSRt2Qwol",
        "outputId": "f82d9590-924b-4986-f4fa-99b6baaff1f4"
      },
      "source": [
        "tabla_resultados[tabla_resultados['rank_test_score'] == 1]"
      ],
      "execution_count": null,
      "outputs": [
        {
          "output_type": "execute_result",
          "data": {
            "text/html": [
              "<div>\n",
              "<style scoped>\n",
              "    .dataframe tbody tr th:only-of-type {\n",
              "        vertical-align: middle;\n",
              "    }\n",
              "\n",
              "    .dataframe tbody tr th {\n",
              "        vertical-align: top;\n",
              "    }\n",
              "\n",
              "    .dataframe thead th {\n",
              "        text-align: right;\n",
              "    }\n",
              "</style>\n",
              "<table border=\"1\" class=\"dataframe\">\n",
              "  <thead>\n",
              "    <tr style=\"text-align: right;\">\n",
              "      <th></th>\n",
              "      <th>mean_fit_time</th>\n",
              "      <th>std_fit_time</th>\n",
              "      <th>mean_score_time</th>\n",
              "      <th>std_score_time</th>\n",
              "      <th>param_preprocesamiento</th>\n",
              "      <th>param_feature_engineering</th>\n",
              "      <th>param_clasificador__C</th>\n",
              "      <th>params</th>\n",
              "      <th>split0_test_score</th>\n",
              "      <th>split1_test_score</th>\n",
              "      <th>split2_test_score</th>\n",
              "      <th>split3_test_score</th>\n",
              "      <th>split4_test_score</th>\n",
              "      <th>mean_test_score</th>\n",
              "      <th>std_test_score</th>\n",
              "      <th>rank_test_score</th>\n",
              "    </tr>\n",
              "  </thead>\n",
              "  <tbody>\n",
              "    <tr>\n",
              "      <th>9</th>\n",
              "      <td>0.906023</td>\n",
              "      <td>0.085934</td>\n",
              "      <td>0.013036</td>\n",
              "      <td>0.000231</td>\n",
              "      <td>StandardScaler(copy=True, with_mean=True, with...</td>\n",
              "      <td>FeatureSelection(selected_features=array(['Min...</td>\n",
              "      <td>0.3</td>\n",
              "      <td>{'preprocesamiento': StandardScaler(copy=True,...</td>\n",
              "      <td>0.770549</td>\n",
              "      <td>0.774045</td>\n",
              "      <td>0.765495</td>\n",
              "      <td>0.773328</td>\n",
              "      <td>0.774019</td>\n",
              "      <td>0.771487</td>\n",
              "      <td>0.00326</td>\n",
              "      <td>1</td>\n",
              "    </tr>\n",
              "  </tbody>\n",
              "</table>\n",
              "</div>"
            ],
            "text/plain": [
              "   mean_fit_time  std_fit_time  mean_score_time  std_score_time  \\\n",
              "9       0.906023      0.085934         0.013036        0.000231   \n",
              "\n",
              "                              param_preprocesamiento  \\\n",
              "9  StandardScaler(copy=True, with_mean=True, with...   \n",
              "\n",
              "                           param_feature_engineering param_clasificador__C  \\\n",
              "9  FeatureSelection(selected_features=array(['Min...                   0.3   \n",
              "\n",
              "                                              params  split0_test_score  \\\n",
              "9  {'preprocesamiento': StandardScaler(copy=True,...           0.770549   \n",
              "\n",
              "   split1_test_score  split2_test_score  split3_test_score  split4_test_score  \\\n",
              "9           0.774045           0.765495           0.773328           0.774019   \n",
              "\n",
              "   mean_test_score  std_test_score  rank_test_score  \n",
              "9         0.771487         0.00326                1  "
            ]
          },
          "metadata": {
            "tags": []
          },
          "execution_count": 55
        }
      ]
    },
    {
      "cell_type": "code",
      "metadata": {
        "colab": {
          "base_uri": "https://localhost:8080/"
        },
        "id": "Ib_HCPRVQwol",
        "outputId": "7ca293f0-aa4e-42f7-b2a4-1f6e01ced1e1"
      },
      "source": [
        "#Performance sobre datos nuevos:\n",
        "\n",
        "y_pred = model.best_estimator_.predict(X_test)\n",
        "print(classification_report(y_test, y_pred))\n",
        "print(accuracy_score(y_test, y_pred))"
      ],
      "execution_count": null,
      "outputs": [
        {
          "output_type": "stream",
          "text": [
            "              precision    recall  f1-score   support\n",
            "\n",
            "         0.0       0.88      0.94      0.91      9443\n",
            "         1.0       0.74      0.56      0.64      2707\n",
            "\n",
            "    accuracy                           0.86     12150\n",
            "   macro avg       0.81      0.75      0.77     12150\n",
            "weighted avg       0.85      0.86      0.85     12150\n",
            "\n",
            "0.8576954732510288\n"
          ],
          "name": "stdout"
        }
      ]
    },
    {
      "cell_type": "code",
      "metadata": {
        "colab": {
          "base_uri": "https://localhost:8080/",
          "height": 281
        },
        "id": "-nhG-xAxQwom",
        "outputId": "a3f8abe7-a4a6-4a0c-aae5-0e1bcb352625"
      },
      "source": [
        "# Matriz de confusión\n",
        "\n",
        "conf_mat(y_test, y_pred, 0.5)"
      ],
      "execution_count": null,
      "outputs": [
        {
          "output_type": "display_data",
          "data": {
            "image/png": "[encoded data removed]",
            "text/plain": [
              "<Figure size 432x288 with 2 Axes>"
            ]
          },
          "metadata": {
            "tags": [],
            "needs_background": "light"
          }
        }
      ]
    },
    {
      "cell_type": "code",
      "metadata": {
        "colab": {
          "base_uri": "https://localhost:8080/",
          "height": 156
        },
        "id": "WjzecifkQwon",
        "outputId": "aa1b9632-ea67-4434-9016-ec0ddf3a1590"
      },
      "source": [
        "# Calculamos predict_proba para ver el umbral de probabilidades\n",
        "y_pred_proba = model.predict_proba(X_test)\n",
        "display(y_pred_proba.shape, y_pred_proba)"
      ],
      "execution_count": null,
      "outputs": [
        {
          "output_type": "display_data",
          "data": {
            "text/plain": [
              "(12150, 2)"
            ]
          },
          "metadata": {
            "tags": []
          }
        },
        {
          "output_type": "display_data",
          "data": {
            "text/plain": [
              "array([[0.15228744, 0.84771256],\n",
              "       [0.89721623, 0.10278377],\n",
              "       [0.42347355, 0.57652645],\n",
              "       ...,\n",
              "       [0.69702205, 0.30297795],\n",
              "       [0.98372326, 0.01627674],\n",
              "       [0.61655494, 0.38344506]])"
            ]
          },
          "metadata": {
            "tags": []
          }
        }
      ]
    },
    {
      "cell_type": "code",
      "metadata": {
        "colab": {
          "base_uri": "https://localhost:8080/"
        },
        "id": "lcsMrlGNQwon",
        "outputId": "0654a6b3-751a-4b52-e8ec-63c1c51aeb5c"
      },
      "source": [
        "# Pertenencia calculada a partir del método .predict()\n",
        "pd.Series(y_pred).value_counts()"
      ],
      "execution_count": null,
      "outputs": [
        {
          "output_type": "execute_result",
          "data": {
            "text/plain": [
              "0.0    10092\n",
              "1.0     2058\n",
              "dtype: int64"
            ]
          },
          "metadata": {
            "tags": []
          },
          "execution_count": 59
        }
      ]
    },
    {
      "cell_type": "code",
      "metadata": {
        "colab": {
          "base_uri": "https://localhost:8080/",
          "height": 295
        },
        "id": "EnbbxIiDQwoo",
        "outputId": "f04accb1-405b-49ca-90f0-836f547703ab"
      },
      "source": [
        "# Nos quedamos con la columna que tiene la probabilidad de que llueva\n",
        "y_probs_logit_left = y_pred_proba[:,1]\n",
        "\n",
        "# Generamos un histograma de esa columna\n",
        "plt.hist(y_probs_logit_left, bins=15)\n",
        "plt.xlim(0,1)\n",
        "plt.title('Histograma de probabilidades estimadas')\n",
        "plt.xlabel('Probabilidad de que llueva')\n",
        "plt.ylabel('Frecuencia')\n",
        "plt.show()"
      ],
      "execution_count": null,
      "outputs": [
        {
          "output_type": "display_data",
          "data": {
            "image/png": "[encoded data removed]",
            "text/plain": [
              "<Figure size 432x288 with 1 Axes>"
            ]
          },
          "metadata": {
            "tags": [],
            "needs_background": "light"
          }
        }
      ]
    },
    {
      "cell_type": "markdown",
      "metadata": {
        "id": "tcqBNjkmQwop"
      },
      "source": [
        "Hay una mayor probabilidad de predecir que no va a llover"
      ]
    },
    {
      "cell_type": "code",
      "metadata": {
        "id": "uG2LfN5PQwop"
      },
      "source": [
        "# Armamos otro y_pred con umbral de 0.3\n",
        "\n",
        "y_pred_logit = (y_probs_logit_left > 0.3).astype(int)"
      ],
      "execution_count": null,
      "outputs": []
    },
    {
      "cell_type": "code",
      "metadata": {
        "colab": {
          "base_uri": "https://localhost:8080/",
          "height": 580
        },
        "id": "IBXLK0HZQwoq",
        "outputId": "f80c549f-0889-4dd7-cccf-e24c59022957"
      },
      "source": [
        "print('Matrices de confusión\\n' + '\\u2014' * 50)\n",
        "conf_mat(y_test, y_pred, 0.5)\n",
        "conf_mat(y_test,y_pred_logit, 0.3)"
      ],
      "execution_count": null,
      "outputs": [
        {
          "output_type": "stream",
          "text": [
            "Matrices de confusión\n",
            "——————————————————————————————————————————————————\n"
          ],
          "name": "stdout"
        },
        {
          "output_type": "display_data",
          "data": {
            "image/png": "[encoded data removed]",
            "text/plain": [
              "<Figure size 432x288 with 2 Axes>"
            ]
          },
          "metadata": {
            "tags": [],
            "needs_background": "light"
          }
        },
        {
          "output_type": "display_data",
          "data": {
            "image/png": "[encoded data removed]",
            "text/plain": [
              "<Figure size 432x288 with 2 Axes>"
            ]
          },
          "metadata": {
            "tags": [],
            "needs_background": "light"
          }
        }
      ]
    },
    {
      "cell_type": "code",
      "metadata": {
        "colab": {
          "base_uri": "https://localhost:8080/",
          "height": 295
        },
        "id": "ermxWEeVQwos",
        "outputId": "0cf00a68-211f-4e97-c128-ca722eb31d05"
      },
      "source": [
        "# Obtenemos los valores que necesitamos para graficar la curva roc\n",
        "\n",
        "fpr_log, tpr_log, thr_log = roc_curve(y_test, y_pred_proba[:,1])  # Con y_pred_proba del modelo\n",
        "\n",
        "# Graficamos la curva roc del modelo\n",
        "\n",
        "df = pd.DataFrame(dict(fpr= fpr_log, tpr= tpr_log, thr= thr_log))\n",
        "\n",
        "plt.axis([0, 1.01, 0, 1.01])\n",
        "plt.xlabel('1 - Specificty')\n",
        "plt.ylabel('TPR / Sensitivity')\n",
        "plt.title('ROC Curve')\n",
        "plt.plot(fpr_log, tpr_log)\n",
        "plt.plot(np.arange(0, 1, step= 0.01), np.arange(0, 1, step= 0.01))\n",
        "plt.show()"
      ],
      "execution_count": null,
      "outputs": [
        {
          "output_type": "display_data",
          "data": {
            "image/png": "[encoded data removed]",
            "text/plain": [
              "<Figure size 432x288 with 1 Axes>"
            ]
          },
          "metadata": {
            "tags": [],
            "needs_background": "light"
          }
        }
      ]
    },
    {
      "cell_type": "code",
      "metadata": {
        "colab": {
          "base_uri": "https://localhost:8080/"
        },
        "id": "AEAdp1DyQwot",
        "outputId": "f021b14a-96f9-4f7c-d281-135f2f175ce0"
      },
      "source": [
        "# Calculamos el area de la curva ROC:\n",
        "\n",
        "print('AUC =', auc(fpr_log, tpr_log))"
      ],
      "execution_count": null,
      "outputs": [
        {
          "output_type": "stream",
          "text": [
            "AUC = 0.8925619120200173\n"
          ],
          "name": "stdout"
        }
      ]
    },
    {
      "cell_type": "markdown",
      "metadata": {
        "id": "VRivYI5gQwou"
      },
      "source": [
        "Ahora repetimos los pasos anteriores pero con el df sin nulos y agregando imputados\n"
      ]
    },
    {
      "cell_type": "code",
      "metadata": {
        "colab": {
          "base_uri": "https://localhost:8080/",
          "height": 642
        },
        "id": "U2_wWQ93Qwou",
        "outputId": "00e70133-ae36-45db-e5cf-b166541e84fa"
      },
      "source": [
        "# Eliminamos los nulos\n",
        "data_sin_nulos_imputados = data_imputados.dropna()\n",
        "display((100 * data_sin_nulos_imputados.isnull().sum() / data_sin_nulos_imputados.shape[0]).round(2))\n",
        "display(data_sin_nulos_imputados.shape)"
      ],
      "execution_count": null,
      "outputs": [
        {
          "output_type": "display_data",
          "data": {
            "text/plain": [
              "Date                       0.0\n",
              "Location_x                 0.0\n",
              "MinTemp                    0.0\n",
              "MaxTemp                    0.0\n",
              "Rainfall                   0.0\n",
              "Evaporation                0.0\n",
              "Sunshine                   0.0\n",
              "WindGustDir                0.0\n",
              "WindGustSpeed              0.0\n",
              "WindDir9am                 0.0\n",
              "WindDir3pm                 0.0\n",
              "WindSpeed9am               0.0\n",
              "WindSpeed3pm               0.0\n",
              "Humidity9am                0.0\n",
              "Humidity3pm                0.0\n",
              "Pressure9am                0.0\n",
              "Pressure3pm                0.0\n",
              "Cloud9am                   0.0\n",
              "Cloud3pm                   0.0\n",
              "Temp9am                    0.0\n",
              "Temp3pm                    0.0\n",
              "RainToday                  0.0\n",
              "RainTomorrow               0.0\n",
              "Month_x                    0.0\n",
              "Year                       0.0\n",
              "imputados                  0.0\n",
              "Location_replace           0.0\n",
              "location_mes               0.0\n",
              "Location_y                 0.0\n",
              "Month_y                    0.0\n",
              "('mean', 'Cloud3pm')       0.0\n",
              "('mean', 'Cloud9am')       0.0\n",
              "('mean', 'Humidity3pm')    0.0\n",
              "('mean', 'Sunshine')       0.0\n",
              "dtype: float64"
            ]
          },
          "metadata": {
            "tags": []
          }
        },
        {
          "output_type": "display_data",
          "data": {
            "text/plain": [
              "(68448, 34)"
            ]
          },
          "metadata": {
            "tags": []
          }
        }
      ]
    },
    {
      "cell_type": "code",
      "metadata": {
        "colab": {
          "base_uri": "https://localhost:8080/",
          "height": 198
        },
        "id": "OC4A6OqRQwou",
        "outputId": "a813158b-50bc-4c34-8a0c-2421da772f48"
      },
      "source": [
        "# Generamos dummies\n",
        "dsnd2 = pd.get_dummies(data_sin_nulos_imputados, columns=['WindGustDir', 'WindDir9am', 'WindDir3pm', 'Location_x', 'Month_x'], drop_first = True)\n",
        "\n",
        "display(dsnd2.head(3))\n",
        "dsnd2.shape"
      ],
      "execution_count": null,
      "outputs": [
        {
          "output_type": "display_data",
          "data": {
            "text/html": [
              "<div>\n",
              "<style scoped>\n",
              "    .dataframe tbody tr th:only-of-type {\n",
              "        vertical-align: middle;\n",
              "    }\n",
              "\n",
              "    .dataframe tbody tr th {\n",
              "        vertical-align: top;\n",
              "    }\n",
              "\n",
              "    .dataframe thead th {\n",
              "        text-align: right;\n",
              "    }\n",
              "</style>\n",
              "<table border=\"1\" class=\"dataframe\">\n",
              "  <thead>\n",
              "    <tr style=\"text-align: right;\">\n",
              "      <th></th>\n",
              "      <th>Date</th>\n",
              "      <th>MinTemp</th>\n",
              "      <th>MaxTemp</th>\n",
              "      <th>Rainfall</th>\n",
              "      <th>Evaporation</th>\n",
              "      <th>Sunshine</th>\n",
              "      <th>WindGustSpeed</th>\n",
              "      <th>WindSpeed9am</th>\n",
              "      <th>WindSpeed3pm</th>\n",
              "      <th>Humidity9am</th>\n",
              "      <th>Humidity3pm</th>\n",
              "      <th>Pressure9am</th>\n",
              "      <th>Pressure3pm</th>\n",
              "      <th>Cloud9am</th>\n",
              "      <th>Cloud3pm</th>\n",
              "      <th>Temp9am</th>\n",
              "      <th>Temp3pm</th>\n",
              "      <th>RainToday</th>\n",
              "      <th>RainTomorrow</th>\n",
              "      <th>Year</th>\n",
              "      <th>imputados</th>\n",
              "      <th>Location_replace</th>\n",
              "      <th>location_mes</th>\n",
              "      <th>Location_y</th>\n",
              "      <th>Month_y</th>\n",
              "      <th>('mean', 'Cloud3pm')</th>\n",
              "      <th>('mean', 'Cloud9am')</th>\n",
              "      <th>('mean', 'Humidity3pm')</th>\n",
              "      <th>('mean', 'Sunshine')</th>\n",
              "      <th>WindGustDir_ENE</th>\n",
              "      <th>WindGustDir_ESE</th>\n",
              "      <th>WindGustDir_N</th>\n",
              "      <th>WindGustDir_NE</th>\n",
              "      <th>WindGustDir_NNE</th>\n",
              "      <th>WindGustDir_NNW</th>\n",
              "      <th>WindGustDir_NW</th>\n",
              "      <th>WindGustDir_S</th>\n",
              "      <th>WindGustDir_SE</th>\n",
              "      <th>WindGustDir_SSE</th>\n",
              "      <th>WindGustDir_SSW</th>\n",
              "      <th>WindGustDir_SW</th>\n",
              "      <th>WindGustDir_W</th>\n",
              "      <th>WindGustDir_WNW</th>\n",
              "      <th>WindGustDir_WSW</th>\n",
              "      <th>WindDir9am_ENE</th>\n",
              "      <th>WindDir9am_ESE</th>\n",
              "      <th>WindDir9am_N</th>\n",
              "      <th>WindDir9am_NE</th>\n",
              "      <th>WindDir9am_NNE</th>\n",
              "      <th>WindDir9am_NNW</th>\n",
              "      <th>WindDir9am_NW</th>\n",
              "      <th>WindDir9am_S</th>\n",
              "      <th>WindDir9am_SE</th>\n",
              "      <th>WindDir9am_SSE</th>\n",
              "      <th>WindDir9am_SSW</th>\n",
              "      <th>WindDir9am_SW</th>\n",
              "      <th>WindDir9am_W</th>\n",
              "      <th>WindDir9am_WNW</th>\n",
              "      <th>WindDir9am_WSW</th>\n",
              "      <th>WindDir3pm_ENE</th>\n",
              "      <th>WindDir3pm_ESE</th>\n",
              "      <th>WindDir3pm_N</th>\n",
              "      <th>WindDir3pm_NE</th>\n",
              "      <th>WindDir3pm_NNE</th>\n",
              "      <th>WindDir3pm_NNW</th>\n",
              "      <th>WindDir3pm_NW</th>\n",
              "      <th>WindDir3pm_S</th>\n",
              "      <th>WindDir3pm_SE</th>\n",
              "      <th>WindDir3pm_SSE</th>\n",
              "      <th>WindDir3pm_SSW</th>\n",
              "      <th>WindDir3pm_SW</th>\n",
              "      <th>WindDir3pm_W</th>\n",
              "      <th>WindDir3pm_WNW</th>\n",
              "      <th>WindDir3pm_WSW</th>\n",
              "      <th>Location_x_Bendigo</th>\n",
              "      <th>Location_x_Brisbane</th>\n",
              "      <th>Location_x_Cairns</th>\n",
              "      <th>Location_x_Canberra</th>\n",
              "      <th>Location_x_Cobar</th>\n",
              "      <th>Location_x_CoffsHarbour</th>\n",
              "      <th>Location_x_Darwin</th>\n",
              "      <th>Location_x_Hobart</th>\n",
              "      <th>Location_x_Katherine</th>\n",
              "      <th>Location_x_Launceston</th>\n",
              "      <th>Location_x_Melbourne</th>\n",
              "      <th>Location_x_MelbourneAirport</th>\n",
              "      <th>Location_x_Mildura</th>\n",
              "      <th>Location_x_Moree</th>\n",
              "      <th>Location_x_MountGambier</th>\n",
              "      <th>Location_x_NorfolkIsland</th>\n",
              "      <th>Location_x_Nuriootpa</th>\n",
              "      <th>Location_x_Perth</th>\n",
              "      <th>Location_x_PerthAirport</th>\n",
              "      <th>Location_x_Portland</th>\n",
              "      <th>Location_x_Richmond</th>\n",
              "      <th>Location_x_Sale</th>\n",
              "      <th>Location_x_Sydney</th>\n",
              "      <th>Location_x_SydneyAirport</th>\n",
              "      <th>Location_x_Townsville</th>\n",
              "      <th>Location_x_WaggaWagga</th>\n",
              "      <th>Location_x_Watsonia</th>\n",
              "      <th>Location_x_Williamtown</th>\n",
              "      <th>Location_x_Woomera</th>\n",
              "      <th>Month_x_2</th>\n",
              "      <th>Month_x_3</th>\n",
              "      <th>Month_x_4</th>\n",
              "      <th>Month_x_5</th>\n",
              "      <th>Month_x_6</th>\n",
              "      <th>Month_x_7</th>\n",
              "      <th>Month_x_8</th>\n",
              "      <th>Month_x_9</th>\n",
              "      <th>Month_x_10</th>\n",
              "      <th>Month_x_11</th>\n",
              "      <th>Month_x_12</th>\n",
              "    </tr>\n",
              "  </thead>\n",
              "  <tbody>\n",
              "    <tr>\n",
              "      <th>248</th>\n",
              "      <td>2008-12-01</td>\n",
              "      <td>12.8</td>\n",
              "      <td>27.2</td>\n",
              "      <td>0.0</td>\n",
              "      <td>9.0</td>\n",
              "      <td>13.0</td>\n",
              "      <td>33.0</td>\n",
              "      <td>9.0</td>\n",
              "      <td>19.0</td>\n",
              "      <td>53.0</td>\n",
              "      <td>41.0</td>\n",
              "      <td>1016.4</td>\n",
              "      <td>1012.6</td>\n",
              "      <td>2.0</td>\n",
              "      <td>1.0</td>\n",
              "      <td>19.2</td>\n",
              "      <td>25.5</td>\n",
              "      <td>0.0</td>\n",
              "      <td>0.0</td>\n",
              "      <td>2008</td>\n",
              "      <td>0</td>\n",
              "      <td>Perth</td>\n",
              "      <td>Perth12</td>\n",
              "      <td>Perth</td>\n",
              "      <td>12</td>\n",
              "      <td>2.56</td>\n",
              "      <td>2.85</td>\n",
              "      <td>39.92</td>\n",
              "      <td>11.53</td>\n",
              "      <td>0</td>\n",
              "      <td>0</td>\n",
              "      <td>0</td>\n",
              "      <td>0</td>\n",
              "      <td>0</td>\n",
              "      <td>0</td>\n",
              "      <td>0</td>\n",
              "      <td>1</td>\n",
              "      <td>0</td>\n",
              "      <td>0</td>\n",
              "      <td>0</td>\n",
              "      <td>0</td>\n",
              "      <td>0</td>\n",
              "      <td>0</td>\n",
              "      <td>0</td>\n",
              "      <td>0</td>\n",
              "      <td>0</td>\n",
              "      <td>0</td>\n",
              "      <td>0</td>\n",
              "      <td>0</td>\n",
              "      <td>0</td>\n",
              "      <td>0</td>\n",
              "      <td>0</td>\n",
              "      <td>0</td>\n",
              "      <td>0</td>\n",
              "      <td>0</td>\n",
              "      <td>0</td>\n",
              "      <td>0</td>\n",
              "      <td>0</td>\n",
              "      <td>0</td>\n",
              "      <td>0</td>\n",
              "      <td>0</td>\n",
              "      <td>0</td>\n",
              "      <td>0</td>\n",
              "      <td>0</td>\n",
              "      <td>0</td>\n",
              "      <td>0</td>\n",
              "      <td>0</td>\n",
              "      <td>0</td>\n",
              "      <td>0</td>\n",
              "      <td>1</td>\n",
              "      <td>0</td>\n",
              "      <td>0</td>\n",
              "      <td>0</td>\n",
              "      <td>0</td>\n",
              "      <td>0</td>\n",
              "      <td>0</td>\n",
              "      <td>0</td>\n",
              "      <td>0</td>\n",
              "      <td>0</td>\n",
              "      <td>0</td>\n",
              "      <td>0</td>\n",
              "      <td>0</td>\n",
              "      <td>0</td>\n",
              "      <td>0</td>\n",
              "      <td>0</td>\n",
              "      <td>0</td>\n",
              "      <td>0</td>\n",
              "      <td>0</td>\n",
              "      <td>0</td>\n",
              "      <td>0</td>\n",
              "      <td>0</td>\n",
              "      <td>1</td>\n",
              "      <td>0</td>\n",
              "      <td>0</td>\n",
              "      <td>0</td>\n",
              "      <td>0</td>\n",
              "      <td>0</td>\n",
              "      <td>0</td>\n",
              "      <td>0</td>\n",
              "      <td>0</td>\n",
              "      <td>0</td>\n",
              "      <td>0</td>\n",
              "      <td>0</td>\n",
              "      <td>0</td>\n",
              "      <td>0</td>\n",
              "      <td>0</td>\n",
              "      <td>0</td>\n",
              "      <td>0</td>\n",
              "      <td>0</td>\n",
              "      <td>0</td>\n",
              "      <td>0</td>\n",
              "      <td>0</td>\n",
              "      <td>0</td>\n",
              "      <td>1</td>\n",
              "    </tr>\n",
              "    <tr>\n",
              "      <th>249</th>\n",
              "      <td>2008-12-02</td>\n",
              "      <td>12.2</td>\n",
              "      <td>32.7</td>\n",
              "      <td>0.0</td>\n",
              "      <td>9.0</td>\n",
              "      <td>10.4</td>\n",
              "      <td>28.0</td>\n",
              "      <td>9.0</td>\n",
              "      <td>7.0</td>\n",
              "      <td>55.0</td>\n",
              "      <td>23.0</td>\n",
              "      <td>1009.3</td>\n",
              "      <td>1004.9</td>\n",
              "      <td>6.0</td>\n",
              "      <td>2.0</td>\n",
              "      <td>20.7</td>\n",
              "      <td>31.9</td>\n",
              "      <td>0.0</td>\n",
              "      <td>0.0</td>\n",
              "      <td>2008</td>\n",
              "      <td>0</td>\n",
              "      <td>Perth</td>\n",
              "      <td>Perth12</td>\n",
              "      <td>Perth</td>\n",
              "      <td>12</td>\n",
              "      <td>2.56</td>\n",
              "      <td>2.85</td>\n",
              "      <td>39.92</td>\n",
              "      <td>11.53</td>\n",
              "      <td>0</td>\n",
              "      <td>0</td>\n",
              "      <td>0</td>\n",
              "      <td>0</td>\n",
              "      <td>0</td>\n",
              "      <td>0</td>\n",
              "      <td>0</td>\n",
              "      <td>0</td>\n",
              "      <td>0</td>\n",
              "      <td>0</td>\n",
              "      <td>0</td>\n",
              "      <td>1</td>\n",
              "      <td>0</td>\n",
              "      <td>0</td>\n",
              "      <td>0</td>\n",
              "      <td>0</td>\n",
              "      <td>0</td>\n",
              "      <td>0</td>\n",
              "      <td>0</td>\n",
              "      <td>0</td>\n",
              "      <td>0</td>\n",
              "      <td>0</td>\n",
              "      <td>0</td>\n",
              "      <td>0</td>\n",
              "      <td>1</td>\n",
              "      <td>0</td>\n",
              "      <td>0</td>\n",
              "      <td>0</td>\n",
              "      <td>0</td>\n",
              "      <td>0</td>\n",
              "      <td>0</td>\n",
              "      <td>0</td>\n",
              "      <td>0</td>\n",
              "      <td>0</td>\n",
              "      <td>0</td>\n",
              "      <td>0</td>\n",
              "      <td>0</td>\n",
              "      <td>0</td>\n",
              "      <td>0</td>\n",
              "      <td>0</td>\n",
              "      <td>1</td>\n",
              "      <td>0</td>\n",
              "      <td>0</td>\n",
              "      <td>0</td>\n",
              "      <td>0</td>\n",
              "      <td>0</td>\n",
              "      <td>0</td>\n",
              "      <td>0</td>\n",
              "      <td>0</td>\n",
              "      <td>0</td>\n",
              "      <td>0</td>\n",
              "      <td>0</td>\n",
              "      <td>0</td>\n",
              "      <td>0</td>\n",
              "      <td>0</td>\n",
              "      <td>0</td>\n",
              "      <td>0</td>\n",
              "      <td>0</td>\n",
              "      <td>0</td>\n",
              "      <td>0</td>\n",
              "      <td>0</td>\n",
              "      <td>0</td>\n",
              "      <td>1</td>\n",
              "      <td>0</td>\n",
              "      <td>0</td>\n",
              "      <td>0</td>\n",
              "      <td>0</td>\n",
              "      <td>0</td>\n",
              "      <td>0</td>\n",
              "      <td>0</td>\n",
              "      <td>0</td>\n",
              "      <td>0</td>\n",
              "      <td>0</td>\n",
              "      <td>0</td>\n",
              "      <td>0</td>\n",
              "      <td>0</td>\n",
              "      <td>0</td>\n",
              "      <td>0</td>\n",
              "      <td>0</td>\n",
              "      <td>0</td>\n",
              "      <td>0</td>\n",
              "      <td>0</td>\n",
              "      <td>0</td>\n",
              "      <td>0</td>\n",
              "      <td>1</td>\n",
              "    </tr>\n",
              "    <tr>\n",
              "      <th>250</th>\n",
              "      <td>2008-12-03</td>\n",
              "      <td>18.3</td>\n",
              "      <td>23.1</td>\n",
              "      <td>0.4</td>\n",
              "      <td>6.2</td>\n",
              "      <td>7.5</td>\n",
              "      <td>41.0</td>\n",
              "      <td>20.0</td>\n",
              "      <td>15.0</td>\n",
              "      <td>70.0</td>\n",
              "      <td>53.0</td>\n",
              "      <td>1002.5</td>\n",
              "      <td>1005.2</td>\n",
              "      <td>5.0</td>\n",
              "      <td>7.0</td>\n",
              "      <td>20.1</td>\n",
              "      <td>21.5</td>\n",
              "      <td>0.0</td>\n",
              "      <td>0.0</td>\n",
              "      <td>2008</td>\n",
              "      <td>0</td>\n",
              "      <td>Perth</td>\n",
              "      <td>Perth12</td>\n",
              "      <td>Perth</td>\n",
              "      <td>12</td>\n",
              "      <td>2.56</td>\n",
              "      <td>2.85</td>\n",
              "      <td>39.92</td>\n",
              "      <td>11.53</td>\n",
              "      <td>0</td>\n",
              "      <td>0</td>\n",
              "      <td>0</td>\n",
              "      <td>0</td>\n",
              "      <td>0</td>\n",
              "      <td>0</td>\n",
              "      <td>0</td>\n",
              "      <td>0</td>\n",
              "      <td>0</td>\n",
              "      <td>0</td>\n",
              "      <td>0</td>\n",
              "      <td>0</td>\n",
              "      <td>0</td>\n",
              "      <td>0</td>\n",
              "      <td>1</td>\n",
              "      <td>0</td>\n",
              "      <td>0</td>\n",
              "      <td>0</td>\n",
              "      <td>0</td>\n",
              "      <td>0</td>\n",
              "      <td>0</td>\n",
              "      <td>0</td>\n",
              "      <td>0</td>\n",
              "      <td>0</td>\n",
              "      <td>0</td>\n",
              "      <td>0</td>\n",
              "      <td>1</td>\n",
              "      <td>0</td>\n",
              "      <td>0</td>\n",
              "      <td>0</td>\n",
              "      <td>0</td>\n",
              "      <td>0</td>\n",
              "      <td>0</td>\n",
              "      <td>0</td>\n",
              "      <td>0</td>\n",
              "      <td>0</td>\n",
              "      <td>0</td>\n",
              "      <td>0</td>\n",
              "      <td>0</td>\n",
              "      <td>0</td>\n",
              "      <td>0</td>\n",
              "      <td>0</td>\n",
              "      <td>1</td>\n",
              "      <td>0</td>\n",
              "      <td>0</td>\n",
              "      <td>0</td>\n",
              "      <td>0</td>\n",
              "      <td>0</td>\n",
              "      <td>0</td>\n",
              "      <td>0</td>\n",
              "      <td>0</td>\n",
              "      <td>0</td>\n",
              "      <td>0</td>\n",
              "      <td>0</td>\n",
              "      <td>0</td>\n",
              "      <td>0</td>\n",
              "      <td>0</td>\n",
              "      <td>0</td>\n",
              "      <td>0</td>\n",
              "      <td>0</td>\n",
              "      <td>0</td>\n",
              "      <td>0</td>\n",
              "      <td>1</td>\n",
              "      <td>0</td>\n",
              "      <td>0</td>\n",
              "      <td>0</td>\n",
              "      <td>0</td>\n",
              "      <td>0</td>\n",
              "      <td>0</td>\n",
              "      <td>0</td>\n",
              "      <td>0</td>\n",
              "      <td>0</td>\n",
              "      <td>0</td>\n",
              "      <td>0</td>\n",
              "      <td>0</td>\n",
              "      <td>0</td>\n",
              "      <td>0</td>\n",
              "      <td>0</td>\n",
              "      <td>0</td>\n",
              "      <td>0</td>\n",
              "      <td>0</td>\n",
              "      <td>0</td>\n",
              "      <td>0</td>\n",
              "      <td>0</td>\n",
              "      <td>1</td>\n",
              "    </tr>\n",
              "  </tbody>\n",
              "</table>\n",
              "</div>"
            ],
            "text/plain": [
              "          Date  MinTemp  MaxTemp  Rainfall  Evaporation  Sunshine  \\\n",
              "248 2008-12-01     12.8     27.2       0.0          9.0      13.0   \n",
              "249 2008-12-02     12.2     32.7       0.0          9.0      10.4   \n",
              "250 2008-12-03     18.3     23.1       0.4          6.2       7.5   \n",
              "\n",
              "     WindGustSpeed  WindSpeed9am  WindSpeed3pm  Humidity9am  Humidity3pm  \\\n",
              "248           33.0           9.0          19.0         53.0         41.0   \n",
              "249           28.0           9.0           7.0         55.0         23.0   \n",
              "250           41.0          20.0          15.0         70.0         53.0   \n",
              "\n",
              "     Pressure9am  Pressure3pm  Cloud9am  Cloud3pm  Temp9am  Temp3pm  \\\n",
              "248       1016.4       1012.6       2.0       1.0     19.2     25.5   \n",
              "249       1009.3       1004.9       6.0       2.0     20.7     31.9   \n",
              "250       1002.5       1005.2       5.0       7.0     20.1     21.5   \n",
              "\n",
              "     RainToday  RainTomorrow  Year  imputados Location_replace location_mes  \\\n",
              "248        0.0           0.0  2008          0            Perth      Perth12   \n",
              "249        0.0           0.0  2008          0            Perth      Perth12   \n",
              "250        0.0           0.0  2008          0            Perth      Perth12   \n",
              "\n",
              "    Location_y  Month_y  ('mean', 'Cloud3pm')  ('mean', 'Cloud9am')  \\\n",
              "248      Perth       12                  2.56                  2.85   \n",
              "249      Perth       12                  2.56                  2.85   \n",
              "250      Perth       12                  2.56                  2.85   \n",
              "\n",
              "     ('mean', 'Humidity3pm')  ('mean', 'Sunshine')  WindGustDir_ENE  \\\n",
              "248                    39.92                 11.53                0   \n",
              "249                    39.92                 11.53                0   \n",
              "250                    39.92                 11.53                0   \n",
              "\n",
              "     WindGustDir_ESE  WindGustDir_N  WindGustDir_NE  WindGustDir_NNE  \\\n",
              "248                0              0               0                0   \n",
              "249                0              0               0                0   \n",
              "250                0              0               0                0   \n",
              "\n",
              "     WindGustDir_NNW  WindGustDir_NW  WindGustDir_S  WindGustDir_SE  \\\n",
              "248                0               0              1               0   \n",
              "249                0               0              0               0   \n",
              "250                0               0              0               0   \n",
              "\n",
              "     WindGustDir_SSE  WindGustDir_SSW  WindGustDir_SW  WindGustDir_W  \\\n",
              "248                0                0               0              0   \n",
              "249                0                0               1              0   \n",
              "250                0                0               0              0   \n",
              "\n",
              "     WindGustDir_WNW  WindGustDir_WSW  WindDir9am_ENE  WindDir9am_ESE  \\\n",
              "248                0                0               0               0   \n",
              "249                0                0               0               0   \n",
              "250                0                1               0               0   \n",
              "\n",
              "     WindDir9am_N  WindDir9am_NE  WindDir9am_NNE  WindDir9am_NNW  \\\n",
              "248             0              0               0               0   \n",
              "249             0              0               0               0   \n",
              "250             0              0               0               0   \n",
              "\n",
              "     WindDir9am_NW  WindDir9am_S  WindDir9am_SE  WindDir9am_SSE  \\\n",
              "248              0             0              0               0   \n",
              "249              0             0              0               1   \n",
              "250              0             0              0               0   \n",
              "\n",
              "     WindDir9am_SSW  WindDir9am_SW  WindDir9am_W  WindDir9am_WNW  \\\n",
              "248               0              0             0               0   \n",
              "249               0              0             0               0   \n",
              "250               0              1             0               0   \n",
              "\n",
              "     WindDir9am_WSW  WindDir3pm_ENE  WindDir3pm_ESE  WindDir3pm_N  \\\n",
              "248               0               0               0             0   \n",
              "249               0               0               0             0   \n",
              "250               0               0               0             0   \n",
              "\n",
              "     WindDir3pm_NE  WindDir3pm_NNE  WindDir3pm_NNW  WindDir3pm_NW  \\\n",
              "248              0               0               0              0   \n",
              "249              0               0               0              0   \n",
              "250              0               0               0              0   \n",
              "\n",
              "     WindDir3pm_S  WindDir3pm_SE  WindDir3pm_SSE  WindDir3pm_SSW  \\\n",
              "248             0              0               0               1   \n",
              "249             0              0               0               1   \n",
              "250             0              0               0               0   \n",
              "\n",
              "     WindDir3pm_SW  WindDir3pm_W  WindDir3pm_WNW  WindDir3pm_WSW  \\\n",
              "248              0             0               0               0   \n",
              "249              0             0               0               0   \n",
              "250              0             1               0               0   \n",
              "\n",
              "     Location_x_Bendigo  Location_x_Brisbane  Location_x_Cairns  \\\n",
              "248                   0                    0                  0   \n",
              "249                   0                    0                  0   \n",
              "250                   0                    0                  0   \n",
              "\n",
              "     Location_x_Canberra  Location_x_Cobar  Location_x_CoffsHarbour  \\\n",
              "248                    0                 0                        0   \n",
              "249                    0                 0                        0   \n",
              "250                    0                 0                        0   \n",
              "\n",
              "     Location_x_Darwin  Location_x_Hobart  Location_x_Katherine  \\\n",
              "248                  0                  0                     0   \n",
              "249                  0                  0                     0   \n",
              "250                  0                  0                     0   \n",
              "\n",
              "     Location_x_Launceston  Location_x_Melbourne  Location_x_MelbourneAirport  \\\n",
              "248                      0                     0                            0   \n",
              "249                      0                     0                            0   \n",
              "250                      0                     0                            0   \n",
              "\n",
              "     Location_x_Mildura  Location_x_Moree  Location_x_MountGambier  \\\n",
              "248                   0                 0                        0   \n",
              "249                   0                 0                        0   \n",
              "250                   0                 0                        0   \n",
              "\n",
              "     Location_x_NorfolkIsland  Location_x_Nuriootpa  Location_x_Perth  \\\n",
              "248                         0                     0                 1   \n",
              "249                         0                     0                 1   \n",
              "250                         0                     0                 1   \n",
              "\n",
              "     Location_x_PerthAirport  Location_x_Portland  Location_x_Richmond  \\\n",
              "248                        0                    0                    0   \n",
              "249                        0                    0                    0   \n",
              "250                        0                    0                    0   \n",
              "\n",
              "     Location_x_Sale  Location_x_Sydney  Location_x_SydneyAirport  \\\n",
              "248                0                  0                         0   \n",
              "249                0                  0                         0   \n",
              "250                0                  0                         0   \n",
              "\n",
              "     Location_x_Townsville  Location_x_WaggaWagga  Location_x_Watsonia  \\\n",
              "248                      0                      0                    0   \n",
              "249                      0                      0                    0   \n",
              "250                      0                      0                    0   \n",
              "\n",
              "     Location_x_Williamtown  Location_x_Woomera  Month_x_2  Month_x_3  \\\n",
              "248                       0                   0          0          0   \n",
              "249                       0                   0          0          0   \n",
              "250                       0                   0          0          0   \n",
              "\n",
              "     Month_x_4  Month_x_5  Month_x_6  Month_x_7  Month_x_8  Month_x_9  \\\n",
              "248          0          0          0          0          0          0   \n",
              "249          0          0          0          0          0          0   \n",
              "250          0          0          0          0          0          0   \n",
              "\n",
              "     Month_x_10  Month_x_11  Month_x_12  \n",
              "248           0           0           1  \n",
              "249           0           0           1  \n",
              "250           0           0           1  "
            ]
          },
          "metadata": {
            "tags": []
          }
        },
        {
          "output_type": "execute_result",
          "data": {
            "text/plain": [
              "(68448, 114)"
            ]
          },
          "metadata": {
            "tags": []
          },
          "execution_count": 66
        }
      ]
    },
    {
      "cell_type": "code",
      "metadata": {
        "colab": {
          "base_uri": "https://localhost:8080/"
        },
        "id": "3VuEk2vMQwou",
        "outputId": "825b1220-9151-4e73-db4e-836d54d4052b"
      },
      "source": [
        "data_imputados.Year.value_counts()"
      ],
      "execution_count": null,
      "outputs": [
        {
          "output_type": "execute_result",
          "data": {
            "text/plain": [
              "2016    16836\n",
              "2015    16790\n",
              "2014    16790\n",
              "2009    16059\n",
              "2010    16052\n",
              "2013    15435\n",
              "2012    14740\n",
              "2011    14737\n",
              "2017     8095\n",
              "2008     2239\n",
              "2007       61\n",
              "Name: Year, dtype: int64"
            ]
          },
          "metadata": {
            "tags": []
          },
          "execution_count": 67
        }
      ]
    },
    {
      "cell_type": "code",
      "metadata": {
        "colab": {
          "base_uri": "https://localhost:8080/"
        },
        "id": "YPvxmlKnQwov",
        "outputId": "90a654a0-665d-4185-d592-a742444f6b36"
      },
      "source": [
        "# Mascara de años para reducir df del 2010 al 2015\n",
        "mask_year2 = (dsnd2.Year > 2009) & (dsnd2.Year < 2016)\n",
        "print(dsnd2.Year[mask_year2])"
      ],
      "execution_count": null,
      "outputs": [
        {
          "output_type": "stream",
          "text": [
            "310       2010\n",
            "311       2010\n",
            "312       2010\n",
            "313       2010\n",
            "314       2010\n",
            "          ... \n",
            "137774    2015\n",
            "137775    2015\n",
            "137776    2015\n",
            "137777    2015\n",
            "137778    2015\n",
            "Name: Year, Length: 48711, dtype: int64\n"
          ],
          "name": "stdout"
        }
      ]
    },
    {
      "cell_type": "code",
      "metadata": {
        "colab": {
          "base_uri": "https://localhost:8080/"
        },
        "id": "kngrQcEWQwow",
        "outputId": "0b6f01a3-57f0-47af-e634-74670d3376a4"
      },
      "source": [
        "dsnd2_menos_year = dsnd2[mask_year2].copy()\n",
        "print(dsnd2_menos_year.shape)\n",
        "print(dsnd2_menos_year.Year.value_counts())"
      ],
      "execution_count": null,
      "outputs": [
        {
          "output_type": "stream",
          "text": [
            "(48711, 114)\n",
            "2010    8893\n",
            "2013    8410\n",
            "2014    8066\n",
            "2011    7971\n",
            "2012    7877\n",
            "2015    7494\n",
            "Name: Year, dtype: int64\n"
          ],
          "name": "stdout"
        }
      ]
    },
    {
      "cell_type": "code",
      "metadata": {
        "colab": {
          "base_uri": "https://localhost:8080/"
        },
        "id": "UAMRkxQ7Qwox",
        "outputId": "e9b701ae-29cb-4fca-e3f2-26bd3d1bd1f4"
      },
      "source": [
        "# Armo la matriz de features sin nulos, con dummies, sin Date y sin Year:\n",
        "\n",
        "X = dsnd2_menos_year.drop(columns=['RainTomorrow','Date', 'Year', \"imputados\", \"Location_replace\", \"location_mes\", \"Location_y\", \"Month_y\", \"('mean', 'Cloud3pm')\",\\\n",
        "                                  \"('mean', 'Cloud9am')\", \"('mean', 'Humidity3pm')\", \"('mean', 'Sunshine')\" ])\n",
        "X.shape"
      ],
      "execution_count": null,
      "outputs": [
        {
          "output_type": "execute_result",
          "data": {
            "text/plain": [
              "(48711, 102)"
            ]
          },
          "metadata": {
            "tags": []
          },
          "execution_count": 70
        }
      ]
    },
    {
      "cell_type": "code",
      "metadata": {
        "colab": {
          "base_uri": "https://localhost:8080/"
        },
        "id": "xWg1eXzOQwoz",
        "outputId": "9700ccba-95b3-4864-faf3-6e3b70ae7ed4"
      },
      "source": [
        "y = dsnd2_menos_year.RainTomorrow\n",
        "y.value_counts() / y.shape[0]*100"
      ],
      "execution_count": null,
      "outputs": [
        {
          "output_type": "execute_result",
          "data": {
            "text/plain": [
              "0.0    78.553099\n",
              "1.0    21.446901\n",
              "Name: RainTomorrow, dtype: float64"
            ]
          },
          "metadata": {
            "tags": []
          },
          "execution_count": 71
        }
      ]
    },
    {
      "cell_type": "code",
      "metadata": {
        "colab": {
          "base_uri": "https://localhost:8080/",
          "height": 86
        },
        "id": "07zUZ6yvQwo2",
        "outputId": "5a1e73f4-b244-4528-e780-4969ecf0ec52"
      },
      "source": [
        "# Creamos el split train/test\n",
        "\n",
        "X_train, X_test, y_train, y_test=train_test_split(X, y, test_size= 0.3, random_state= 30, stratify= y)\n",
        "display(X_train.shape, X_test.shape, y_train.shape, y_test.shape)"
      ],
      "execution_count": null,
      "outputs": [
        {
          "output_type": "display_data",
          "data": {
            "text/plain": [
              "(34097, 102)"
            ]
          },
          "metadata": {
            "tags": []
          }
        },
        {
          "output_type": "display_data",
          "data": {
            "text/plain": [
              "(14614, 102)"
            ]
          },
          "metadata": {
            "tags": []
          }
        },
        {
          "output_type": "display_data",
          "data": {
            "text/plain": [
              "(34097,)"
            ]
          },
          "metadata": {
            "tags": []
          }
        },
        {
          "output_type": "display_data",
          "data": {
            "text/plain": [
              "(14614,)"
            ]
          },
          "metadata": {
            "tags": []
          }
        }
      ]
    },
    {
      "cell_type": "code",
      "metadata": {
        "colab": {
          "base_uri": "https://localhost:8080/"
        },
        "id": "alwzr1IyQwo4",
        "outputId": "47e1dd69-f595-47b8-f5a2-9a562cf62d93"
      },
      "source": [
        "selector=FeatureSelection(selected_features=X.columns.values)\n",
        "#selector_1=FeatureSelection(selected_features=X.drop(columns='Rainfall').columns.values)\n",
        "#selector_2=FeatureSelection(selected_features=X.drop(columns='Sunshine').columns.values)\n",
        "\n",
        "folds = StratifiedKFold(n_splits= 5, shuffle=True, random_state= 42)\n",
        "\n",
        "# RANDOMSEARCH CON 1 ESTIMADOR LOGISTIC --> CORRIO RAPIDO\n",
        "pasos = [('feature_engineering',selector),\n",
        "         ('preprocesamiento', MinMaxScaler()), \n",
        "         ('clasificador', LogisticRegression(solver='sag'))]\n",
        "\n",
        "pipe = Pipeline(pasos)\n",
        "\n",
        "param_grid = [{'feature_engineering':[selector],\n",
        "               'preprocesamiento': [StandardScaler(), MinMaxScaler()],\n",
        "               'clasificador__C': [0.001, 0.01, 0.05, 0.1, 0.3, 0.5, 1, 5, 10, 50]}]\n",
        "                            \n",
        "model=RandomizedSearchCV(pipe, param_grid, cv=folds, scoring = 'f1_macro', random_state= 10)\n",
        "\n",
        "model.fit(X_train,y_train)"
      ],
      "execution_count": null,
      "outputs": [
        {
          "output_type": "execute_result",
          "data": {
            "text/plain": [
              "RandomizedSearchCV(cv=StratifiedKFold(n_splits=5, random_state=42, shuffle=True),\n",
              "                   error_score=nan,\n",
              "                   estimator=Pipeline(memory=None,\n",
              "                                      steps=[('feature_engineering',\n",
              "                                              FeatureSelection(selected_features=array(['MinTemp', 'MaxTemp', 'Rainfall', 'Evaporation', 'Sunshine',\n",
              "       'WindGustSpeed', 'WindSpeed9am', 'WindSpeed3pm', 'Humidity9am',\n",
              "       'Humidity3pm', 'Pressure9am', 'Pressur...\n",
              "       'Location_x_Woomera', 'Month_x_2', 'Month_x_3', 'Month_x_4',\n",
              "       'Month_x_5', 'Month_x_6', 'Month_x_7', 'Month_x_8', 'Month_x_9',\n",
              "       'Month_x_10', 'Month_x_11', 'Month_x_12'], dtype=object))],\n",
              "                                         'preprocesamiento': [StandardScaler(copy=True,\n",
              "                                                                             with_mean=True,\n",
              "                                                                             with_std=True),\n",
              "                                                              MinMaxScaler(copy=True,\n",
              "                                                                           feature_range=(0,\n",
              "                                                                                          1))]}],\n",
              "                   pre_dispatch='2*n_jobs', random_state=10, refit=True,\n",
              "                   return_train_score=False, scoring='f1_macro', verbose=0)"
            ]
          },
          "metadata": {
            "tags": []
          },
          "execution_count": 73
        }
      ]
    },
    {
      "cell_type": "markdown",
      "metadata": {
        "id": "F1tgMoR4Qwo5"
      },
      "source": [
        "Veamos cómo fue la performance de este modelo"
      ]
    },
    {
      "cell_type": "code",
      "metadata": {
        "colab": {
          "base_uri": "https://localhost:8080/"
        },
        "id": "3RG5saDiQwo6",
        "outputId": "1217d703-a6c6-4693-d845-1aa132d05ec5"
      },
      "source": [
        "model.best_estimator_"
      ],
      "execution_count": null,
      "outputs": [
        {
          "output_type": "execute_result",
          "data": {
            "text/plain": [
              "Pipeline(memory=None,\n",
              "         steps=[('feature_engineering',\n",
              "                 FeatureSelection(selected_features=array(['MinTemp', 'MaxTemp', 'Rainfall', 'Evaporation', 'Sunshine',\n",
              "       'WindGustSpeed', 'WindSpeed9am', 'WindSpeed3pm', 'Humidity9am',\n",
              "       'Humidity3pm', 'Pressure9am', 'Pressure3pm', 'Cloud9am',\n",
              "       'Cloud3pm', 'Temp9am', 'Temp3pm', 'RainToday', 'WindGustDir_ENE',\n",
              "       'WindGustDir_ESE', 'WindGust...\n",
              "       'Month_x_10', 'Month_x_11', 'Month_x_12'], dtype=object))),\n",
              "                ('preprocesamiento',\n",
              "                 StandardScaler(copy=True, with_mean=True, with_std=True)),\n",
              "                ('clasificador',\n",
              "                 LogisticRegression(C=0.5, class_weight=None, dual=False,\n",
              "                                    fit_intercept=True, intercept_scaling=1,\n",
              "                                    l1_ratio=None, max_iter=100,\n",
              "                                    multi_class='auto', n_jobs=None,\n",
              "                                    penalty='l2', random_state=None,\n",
              "                                    solver='sag', tol=0.0001, verbose=0,\n",
              "                                    warm_start=False))],\n",
              "         verbose=False)"
            ]
          },
          "metadata": {
            "tags": []
          },
          "execution_count": 74
        }
      ]
    },
    {
      "cell_type": "code",
      "metadata": {
        "colab": {
          "base_uri": "https://localhost:8080/"
        },
        "id": "hQJsiSmJQwo6",
        "outputId": "f3761a3e-8aab-491c-ccd4-79f0cee94be5"
      },
      "source": [
        "model.best_score_"
      ],
      "execution_count": null,
      "outputs": [
        {
          "output_type": "execute_result",
          "data": {
            "text/plain": [
              "0.7683410553282046"
            ]
          },
          "metadata": {
            "tags": []
          },
          "execution_count": 75
        }
      ]
    },
    {
      "cell_type": "code",
      "metadata": {
        "colab": {
          "base_uri": "https://localhost:8080/"
        },
        "id": "Y6aYxTC1Qwo7",
        "outputId": "437d866a-cccf-45ec-8b4c-8ca1b50470d2"
      },
      "source": [
        "model.best_params_"
      ],
      "execution_count": null,
      "outputs": [
        {
          "output_type": "execute_result",
          "data": {
            "text/plain": [
              "{'clasificador__C': 0.5,\n",
              " 'feature_engineering': FeatureSelection(selected_features=array(['MinTemp', 'MaxTemp', 'Rainfall', 'Evaporation', 'Sunshine',\n",
              "        'WindGustSpeed', 'WindSpeed9am', 'WindSpeed3pm', 'Humidity9am',\n",
              "        'Humidity3pm', 'Pressure9am', 'Pressure3pm', 'Cloud9am',\n",
              "        'Cloud3pm', 'Temp9am', 'Temp3pm', 'RainToday', 'WindGustDir_ENE',\n",
              "        'WindGustDir_ESE', 'WindGustDir_N', 'WindGustDir_NE',\n",
              "        'WindGustDir_NNE', 'WindGust...\n",
              "        'Location_x_Portland', 'Location_x_Richmond', 'Location_x_Sale',\n",
              "        'Location_x_Sydney', 'Location_x_SydneyAirport',\n",
              "        'Location_x_Townsville', 'Location_x_WaggaWagga',\n",
              "        'Location_x_Watsonia', 'Location_x_Williamtown',\n",
              "        'Location_x_Woomera', 'Month_x_2', 'Month_x_3', 'Month_x_4',\n",
              "        'Month_x_5', 'Month_x_6', 'Month_x_7', 'Month_x_8', 'Month_x_9',\n",
              "        'Month_x_10', 'Month_x_11', 'Month_x_12'], dtype=object)),\n",
              " 'preprocesamiento': StandardScaler(copy=True, with_mean=True, with_std=True)}"
            ]
          },
          "metadata": {
            "tags": []
          },
          "execution_count": 76
        }
      ]
    },
    {
      "cell_type": "code",
      "metadata": {
        "colab": {
          "base_uri": "https://localhost:8080/",
          "height": 557
        },
        "id": "oy-Tcun9Qwo8",
        "outputId": "a8528f56-2b7a-4593-b052-3e240d77c028"
      },
      "source": [
        "tabla_resultados = pd.DataFrame(model.cv_results_)\n",
        "tabla_resultados"
      ],
      "execution_count": null,
      "outputs": [
        {
          "output_type": "execute_result",
          "data": {
            "text/html": [
              "<div>\n",
              "<style scoped>\n",
              "    .dataframe tbody tr th:only-of-type {\n",
              "        vertical-align: middle;\n",
              "    }\n",
              "\n",
              "    .dataframe tbody tr th {\n",
              "        vertical-align: top;\n",
              "    }\n",
              "\n",
              "    .dataframe thead th {\n",
              "        text-align: right;\n",
              "    }\n",
              "</style>\n",
              "<table border=\"1\" class=\"dataframe\">\n",
              "  <thead>\n",
              "    <tr style=\"text-align: right;\">\n",
              "      <th></th>\n",
              "      <th>mean_fit_time</th>\n",
              "      <th>std_fit_time</th>\n",
              "      <th>mean_score_time</th>\n",
              "      <th>std_score_time</th>\n",
              "      <th>param_preprocesamiento</th>\n",
              "      <th>param_feature_engineering</th>\n",
              "      <th>param_clasificador__C</th>\n",
              "      <th>params</th>\n",
              "      <th>split0_test_score</th>\n",
              "      <th>split1_test_score</th>\n",
              "      <th>split2_test_score</th>\n",
              "      <th>split3_test_score</th>\n",
              "      <th>split4_test_score</th>\n",
              "      <th>mean_test_score</th>\n",
              "      <th>std_test_score</th>\n",
              "      <th>rank_test_score</th>\n",
              "    </tr>\n",
              "  </thead>\n",
              "  <tbody>\n",
              "    <tr>\n",
              "      <th>0</th>\n",
              "      <td>0.744646</td>\n",
              "      <td>0.038673</td>\n",
              "      <td>0.015352</td>\n",
              "      <td>0.000869</td>\n",
              "      <td>MinMaxScaler(copy=True, feature_range=(0, 1))</td>\n",
              "      <td>FeatureSelection(selected_features=array(['Min...</td>\n",
              "      <td>0.1</td>\n",
              "      <td>{'preprocesamiento': MinMaxScaler(copy=True, f...</td>\n",
              "      <td>0.757866</td>\n",
              "      <td>0.759184</td>\n",
              "      <td>0.753976</td>\n",
              "      <td>0.753362</td>\n",
              "      <td>0.764319</td>\n",
              "      <td>0.757741</td>\n",
              "      <td>0.003968</td>\n",
              "      <td>8</td>\n",
              "    </tr>\n",
              "    <tr>\n",
              "      <th>1</th>\n",
              "      <td>1.140895</td>\n",
              "      <td>0.047196</td>\n",
              "      <td>0.015316</td>\n",
              "      <td>0.001219</td>\n",
              "      <td>StandardScaler(copy=True, with_mean=True, with...</td>\n",
              "      <td>FeatureSelection(selected_features=array(['Min...</td>\n",
              "      <td>0.5</td>\n",
              "      <td>{'preprocesamiento': StandardScaler(copy=True,...</td>\n",
              "      <td>0.766543</td>\n",
              "      <td>0.773090</td>\n",
              "      <td>0.766860</td>\n",
              "      <td>0.762012</td>\n",
              "      <td>0.773200</td>\n",
              "      <td>0.768341</td>\n",
              "      <td>0.004281</td>\n",
              "      <td>1</td>\n",
              "    </tr>\n",
              "    <tr>\n",
              "      <th>2</th>\n",
              "      <td>0.648165</td>\n",
              "      <td>0.033087</td>\n",
              "      <td>0.016179</td>\n",
              "      <td>0.000783</td>\n",
              "      <td>MinMaxScaler(copy=True, feature_range=(0, 1))</td>\n",
              "      <td>FeatureSelection(selected_features=array(['Min...</td>\n",
              "      <td>0.05</td>\n",
              "      <td>{'preprocesamiento': MinMaxScaler(copy=True, f...</td>\n",
              "      <td>0.755895</td>\n",
              "      <td>0.756951</td>\n",
              "      <td>0.746540</td>\n",
              "      <td>0.746639</td>\n",
              "      <td>0.760772</td>\n",
              "      <td>0.753359</td>\n",
              "      <td>0.005761</td>\n",
              "      <td>9</td>\n",
              "    </tr>\n",
              "    <tr>\n",
              "      <th>3</th>\n",
              "      <td>1.052129</td>\n",
              "      <td>0.079151</td>\n",
              "      <td>0.016991</td>\n",
              "      <td>0.000245</td>\n",
              "      <td>StandardScaler(copy=True, with_mean=True, with...</td>\n",
              "      <td>FeatureSelection(selected_features=array(['Min...</td>\n",
              "      <td>0.1</td>\n",
              "      <td>{'preprocesamiento': StandardScaler(copy=True,...</td>\n",
              "      <td>0.767023</td>\n",
              "      <td>0.771548</td>\n",
              "      <td>0.767061</td>\n",
              "      <td>0.761202</td>\n",
              "      <td>0.774134</td>\n",
              "      <td>0.768194</td>\n",
              "      <td>0.004429</td>\n",
              "      <td>4</td>\n",
              "    </tr>\n",
              "    <tr>\n",
              "      <th>4</th>\n",
              "      <td>0.578189</td>\n",
              "      <td>0.055644</td>\n",
              "      <td>0.015791</td>\n",
              "      <td>0.001033</td>\n",
              "      <td>MinMaxScaler(copy=True, feature_range=(0, 1))</td>\n",
              "      <td>FeatureSelection(selected_features=array(['Min...</td>\n",
              "      <td>0.01</td>\n",
              "      <td>{'preprocesamiento': MinMaxScaler(copy=True, f...</td>\n",
              "      <td>0.730913</td>\n",
              "      <td>0.724382</td>\n",
              "      <td>0.714742</td>\n",
              "      <td>0.718575</td>\n",
              "      <td>0.731470</td>\n",
              "      <td>0.724016</td>\n",
              "      <td>0.006616</td>\n",
              "      <td>10</td>\n",
              "    </tr>\n",
              "    <tr>\n",
              "      <th>5</th>\n",
              "      <td>1.221127</td>\n",
              "      <td>0.109983</td>\n",
              "      <td>0.015516</td>\n",
              "      <td>0.001099</td>\n",
              "      <td>StandardScaler(copy=True, with_mean=True, with...</td>\n",
              "      <td>FeatureSelection(selected_features=array(['Min...</td>\n",
              "      <td>50</td>\n",
              "      <td>{'preprocesamiento': StandardScaler(copy=True,...</td>\n",
              "      <td>0.765894</td>\n",
              "      <td>0.773090</td>\n",
              "      <td>0.766999</td>\n",
              "      <td>0.761989</td>\n",
              "      <td>0.773649</td>\n",
              "      <td>0.768324</td>\n",
              "      <td>0.004447</td>\n",
              "      <td>3</td>\n",
              "    </tr>\n",
              "    <tr>\n",
              "      <th>6</th>\n",
              "      <td>1.152565</td>\n",
              "      <td>0.064535</td>\n",
              "      <td>0.015692</td>\n",
              "      <td>0.000996</td>\n",
              "      <td>MinMaxScaler(copy=True, feature_range=(0, 1))</td>\n",
              "      <td>FeatureSelection(selected_features=array(['Min...</td>\n",
              "      <td>1</td>\n",
              "      <td>{'preprocesamiento': MinMaxScaler(copy=True, f...</td>\n",
              "      <td>0.765643</td>\n",
              "      <td>0.769619</td>\n",
              "      <td>0.766286</td>\n",
              "      <td>0.758787</td>\n",
              "      <td>0.772715</td>\n",
              "      <td>0.766610</td>\n",
              "      <td>0.004660</td>\n",
              "      <td>6</td>\n",
              "    </tr>\n",
              "    <tr>\n",
              "      <th>7</th>\n",
              "      <td>0.767882</td>\n",
              "      <td>0.034239</td>\n",
              "      <td>0.014969</td>\n",
              "      <td>0.000861</td>\n",
              "      <td>StandardScaler(copy=True, with_mean=True, with...</td>\n",
              "      <td>FeatureSelection(selected_features=array(['Min...</td>\n",
              "      <td>0.01</td>\n",
              "      <td>{'preprocesamiento': StandardScaler(copy=True,...</td>\n",
              "      <td>0.762145</td>\n",
              "      <td>0.766245</td>\n",
              "      <td>0.762255</td>\n",
              "      <td>0.756891</td>\n",
              "      <td>0.769758</td>\n",
              "      <td>0.763459</td>\n",
              "      <td>0.004330</td>\n",
              "      <td>7</td>\n",
              "    </tr>\n",
              "    <tr>\n",
              "      <th>8</th>\n",
              "      <td>1.250445</td>\n",
              "      <td>0.108188</td>\n",
              "      <td>0.015804</td>\n",
              "      <td>0.002050</td>\n",
              "      <td>StandardScaler(copy=True, with_mean=True, with...</td>\n",
              "      <td>FeatureSelection(selected_features=array(['Min...</td>\n",
              "      <td>5</td>\n",
              "      <td>{'preprocesamiento': StandardScaler(copy=True,...</td>\n",
              "      <td>0.765894</td>\n",
              "      <td>0.772782</td>\n",
              "      <td>0.766999</td>\n",
              "      <td>0.761670</td>\n",
              "      <td>0.773338</td>\n",
              "      <td>0.768136</td>\n",
              "      <td>0.004400</td>\n",
              "      <td>5</td>\n",
              "    </tr>\n",
              "    <tr>\n",
              "      <th>9</th>\n",
              "      <td>1.156268</td>\n",
              "      <td>0.105324</td>\n",
              "      <td>0.014963</td>\n",
              "      <td>0.000407</td>\n",
              "      <td>StandardScaler(copy=True, with_mean=True, with...</td>\n",
              "      <td>FeatureSelection(selected_features=array(['Min...</td>\n",
              "      <td>0.3</td>\n",
              "      <td>{'preprocesamiento': StandardScaler(copy=True,...</td>\n",
              "      <td>0.766543</td>\n",
              "      <td>0.773090</td>\n",
              "      <td>0.766860</td>\n",
              "      <td>0.761989</td>\n",
              "      <td>0.773200</td>\n",
              "      <td>0.768336</td>\n",
              "      <td>0.004288</td>\n",
              "      <td>2</td>\n",
              "    </tr>\n",
              "  </tbody>\n",
              "</table>\n",
              "</div>"
            ],
            "text/plain": [
              "   mean_fit_time  std_fit_time  mean_score_time  std_score_time  \\\n",
              "0       0.744646      0.038673         0.015352        0.000869   \n",
              "1       1.140895      0.047196         0.015316        0.001219   \n",
              "2       0.648165      0.033087         0.016179        0.000783   \n",
              "3       1.052129      0.079151         0.016991        0.000245   \n",
              "4       0.578189      0.055644         0.015791        0.001033   \n",
              "5       1.221127      0.109983         0.015516        0.001099   \n",
              "6       1.152565      0.064535         0.015692        0.000996   \n",
              "7       0.767882      0.034239         0.014969        0.000861   \n",
              "8       1.250445      0.108188         0.015804        0.002050   \n",
              "9       1.156268      0.105324         0.014963        0.000407   \n",
              "\n",
              "                              param_preprocesamiento  \\\n",
              "0      MinMaxScaler(copy=True, feature_range=(0, 1))   \n",
              "1  StandardScaler(copy=True, with_mean=True, with...   \n",
              "2      MinMaxScaler(copy=True, feature_range=(0, 1))   \n",
              "3  StandardScaler(copy=True, with_mean=True, with...   \n",
              "4      MinMaxScaler(copy=True, feature_range=(0, 1))   \n",
              "5  StandardScaler(copy=True, with_mean=True, with...   \n",
              "6      MinMaxScaler(copy=True, feature_range=(0, 1))   \n",
              "7  StandardScaler(copy=True, with_mean=True, with...   \n",
              "8  StandardScaler(copy=True, with_mean=True, with...   \n",
              "9  StandardScaler(copy=True, with_mean=True, with...   \n",
              "\n",
              "                           param_feature_engineering param_clasificador__C  \\\n",
              "0  FeatureSelection(selected_features=array(['Min...                   0.1   \n",
              "1  FeatureSelection(selected_features=array(['Min...                   0.5   \n",
              "2  FeatureSelection(selected_features=array(['Min...                  0.05   \n",
              "3  FeatureSelection(selected_features=array(['Min...                   0.1   \n",
              "4  FeatureSelection(selected_features=array(['Min...                  0.01   \n",
              "5  FeatureSelection(selected_features=array(['Min...                    50   \n",
              "6  FeatureSelection(selected_features=array(['Min...                     1   \n",
              "7  FeatureSelection(selected_features=array(['Min...                  0.01   \n",
              "8  FeatureSelection(selected_features=array(['Min...                     5   \n",
              "9  FeatureSelection(selected_features=array(['Min...                   0.3   \n",
              "\n",
              "                                              params  split0_test_score  \\\n",
              "0  {'preprocesamiento': MinMaxScaler(copy=True, f...           0.757866   \n",
              "1  {'preprocesamiento': StandardScaler(copy=True,...           0.766543   \n",
              "2  {'preprocesamiento': MinMaxScaler(copy=True, f...           0.755895   \n",
              "3  {'preprocesamiento': StandardScaler(copy=True,...           0.767023   \n",
              "4  {'preprocesamiento': MinMaxScaler(copy=True, f...           0.730913   \n",
              "5  {'preprocesamiento': StandardScaler(copy=True,...           0.765894   \n",
              "6  {'preprocesamiento': MinMaxScaler(copy=True, f...           0.765643   \n",
              "7  {'preprocesamiento': StandardScaler(copy=True,...           0.762145   \n",
              "8  {'preprocesamiento': StandardScaler(copy=True,...           0.765894   \n",
              "9  {'preprocesamiento': StandardScaler(copy=True,...           0.766543   \n",
              "\n",
              "   split1_test_score  split2_test_score  split3_test_score  split4_test_score  \\\n",
              "0           0.759184           0.753976           0.753362           0.764319   \n",
              "1           0.773090           0.766860           0.762012           0.773200   \n",
              "2           0.756951           0.746540           0.746639           0.760772   \n",
              "3           0.771548           0.767061           0.761202           0.774134   \n",
              "4           0.724382           0.714742           0.718575           0.731470   \n",
              "5           0.773090           0.766999           0.761989           0.773649   \n",
              "6           0.769619           0.766286           0.758787           0.772715   \n",
              "7           0.766245           0.762255           0.756891           0.769758   \n",
              "8           0.772782           0.766999           0.761670           0.773338   \n",
              "9           0.773090           0.766860           0.761989           0.773200   \n",
              "\n",
              "   mean_test_score  std_test_score  rank_test_score  \n",
              "0         0.757741        0.003968                8  \n",
              "1         0.768341        0.004281                1  \n",
              "2         0.753359        0.005761                9  \n",
              "3         0.768194        0.004429                4  \n",
              "4         0.724016        0.006616               10  \n",
              "5         0.768324        0.004447                3  \n",
              "6         0.766610        0.004660                6  \n",
              "7         0.763459        0.004330                7  \n",
              "8         0.768136        0.004400                5  \n",
              "9         0.768336        0.004288                2  "
            ]
          },
          "metadata": {
            "tags": []
          },
          "execution_count": 77
        }
      ]
    },
    {
      "cell_type": "code",
      "metadata": {
        "colab": {
          "base_uri": "https://localhost:8080/",
          "height": 118
        },
        "id": "wYQbfejQQwo8",
        "outputId": "b506bc12-2a17-4152-9bd3-8cbef7a6f94d"
      },
      "source": [
        "tabla_resultados[tabla_resultados['rank_test_score'] == 1]"
      ],
      "execution_count": null,
      "outputs": [
        {
          "output_type": "execute_result",
          "data": {
            "text/html": [
              "<div>\n",
              "<style scoped>\n",
              "    .dataframe tbody tr th:only-of-type {\n",
              "        vertical-align: middle;\n",
              "    }\n",
              "\n",
              "    .dataframe tbody tr th {\n",
              "        vertical-align: top;\n",
              "    }\n",
              "\n",
              "    .dataframe thead th {\n",
              "        text-align: right;\n",
              "    }\n",
              "</style>\n",
              "<table border=\"1\" class=\"dataframe\">\n",
              "  <thead>\n",
              "    <tr style=\"text-align: right;\">\n",
              "      <th></th>\n",
              "      <th>mean_fit_time</th>\n",
              "      <th>std_fit_time</th>\n",
              "      <th>mean_score_time</th>\n",
              "      <th>std_score_time</th>\n",
              "      <th>param_preprocesamiento</th>\n",
              "      <th>param_feature_engineering</th>\n",
              "      <th>param_clasificador__C</th>\n",
              "      <th>params</th>\n",
              "      <th>split0_test_score</th>\n",
              "      <th>split1_test_score</th>\n",
              "      <th>split2_test_score</th>\n",
              "      <th>split3_test_score</th>\n",
              "      <th>split4_test_score</th>\n",
              "      <th>mean_test_score</th>\n",
              "      <th>std_test_score</th>\n",
              "      <th>rank_test_score</th>\n",
              "    </tr>\n",
              "  </thead>\n",
              "  <tbody>\n",
              "    <tr>\n",
              "      <th>1</th>\n",
              "      <td>1.140895</td>\n",
              "      <td>0.047196</td>\n",
              "      <td>0.015316</td>\n",
              "      <td>0.001219</td>\n",
              "      <td>StandardScaler(copy=True, with_mean=True, with...</td>\n",
              "      <td>FeatureSelection(selected_features=array(['Min...</td>\n",
              "      <td>0.5</td>\n",
              "      <td>{'preprocesamiento': StandardScaler(copy=True,...</td>\n",
              "      <td>0.766543</td>\n",
              "      <td>0.77309</td>\n",
              "      <td>0.76686</td>\n",
              "      <td>0.762012</td>\n",
              "      <td>0.7732</td>\n",
              "      <td>0.768341</td>\n",
              "      <td>0.004281</td>\n",
              "      <td>1</td>\n",
              "    </tr>\n",
              "  </tbody>\n",
              "</table>\n",
              "</div>"
            ],
            "text/plain": [
              "   mean_fit_time  std_fit_time  mean_score_time  std_score_time  \\\n",
              "1       1.140895      0.047196         0.015316        0.001219   \n",
              "\n",
              "                              param_preprocesamiento  \\\n",
              "1  StandardScaler(copy=True, with_mean=True, with...   \n",
              "\n",
              "                           param_feature_engineering param_clasificador__C  \\\n",
              "1  FeatureSelection(selected_features=array(['Min...                   0.5   \n",
              "\n",
              "                                              params  split0_test_score  \\\n",
              "1  {'preprocesamiento': StandardScaler(copy=True,...           0.766543   \n",
              "\n",
              "   split1_test_score  split2_test_score  split3_test_score  split4_test_score  \\\n",
              "1            0.77309            0.76686           0.762012             0.7732   \n",
              "\n",
              "   mean_test_score  std_test_score  rank_test_score  \n",
              "1         0.768341        0.004281                1  "
            ]
          },
          "metadata": {
            "tags": []
          },
          "execution_count": 78
        }
      ]
    },
    {
      "cell_type": "code",
      "metadata": {
        "colab": {
          "base_uri": "https://localhost:8080/"
        },
        "id": "pMXNaqpZQwo8",
        "outputId": "00a8b045-97a5-43de-e7ec-36e0009ed151"
      },
      "source": [
        "# Performance sobre datos nuevos:\n",
        "\n",
        "y_pred = model.best_estimator_.predict(X_test)\n",
        "print(classification_report(y_test, y_pred))\n",
        "print(accuracy_score(y_test, y_pred))"
      ],
      "execution_count": null,
      "outputs": [
        {
          "output_type": "stream",
          "text": [
            "              precision    recall  f1-score   support\n",
            "\n",
            "         0.0       0.88      0.94      0.91     11480\n",
            "         1.0       0.72      0.54      0.62      3134\n",
            "\n",
            "    accuracy                           0.86     14614\n",
            "   macro avg       0.80      0.74      0.77     14614\n",
            "weighted avg       0.85      0.86      0.85     14614\n",
            "\n",
            "0.8573285890242234\n"
          ],
          "name": "stdout"
        }
      ]
    },
    {
      "cell_type": "code",
      "metadata": {
        "colab": {
          "base_uri": "https://localhost:8080/",
          "height": 281
        },
        "id": "iU_OTgjiQwo9",
        "outputId": "a6fa168e-9271-4167-d460-3a269dc27ab2"
      },
      "source": [
        "# Matriz de confusión\n",
        "\n",
        "conf_mat(y_test, y_pred, 0.5)"
      ],
      "execution_count": null,
      "outputs": [
        {
          "output_type": "display_data",
          "data": {
            "image/png": "[encoded data removed]",
            "text/plain": [
              "<Figure size 432x288 with 2 Axes>"
            ]
          },
          "metadata": {
            "tags": [],
            "needs_background": "light"
          }
        }
      ]
    },
    {
      "cell_type": "code",
      "metadata": {
        "colab": {
          "base_uri": "https://localhost:8080/",
          "height": 156
        },
        "id": "q7y7zOHUQwo-",
        "outputId": "b540f2af-4ae8-4a7a-db63-3855350b0ee2"
      },
      "source": [
        "# Calculamos predict_proba para ver el umbral de probabilidades\n",
        "\n",
        "y_pred_proba = model.predict_proba(X_test)\n",
        "display(y_pred_proba.shape, y_pred_proba)"
      ],
      "execution_count": null,
      "outputs": [
        {
          "output_type": "display_data",
          "data": {
            "text/plain": [
              "(14614, 2)"
            ]
          },
          "metadata": {
            "tags": []
          }
        },
        {
          "output_type": "display_data",
          "data": {
            "text/plain": [
              "array([[0.04291784, 0.95708216],\n",
              "       [0.30507997, 0.69492003],\n",
              "       [0.07227487, 0.92772513],\n",
              "       ...,\n",
              "       [0.90999883, 0.09000117],\n",
              "       [0.9530808 , 0.0469192 ],\n",
              "       [0.9776947 , 0.0223053 ]])"
            ]
          },
          "metadata": {
            "tags": []
          }
        }
      ]
    },
    {
      "cell_type": "code",
      "metadata": {
        "colab": {
          "base_uri": "https://localhost:8080/"
        },
        "id": "WVnfBY94Qwo-",
        "outputId": "ea42c54f-1707-4a09-db16-f6ced83225f5"
      },
      "source": [
        "# Pertenencia calculada a partir del método .predict()\n",
        "pd.Series(y_pred).value_counts()"
      ],
      "execution_count": null,
      "outputs": [
        {
          "output_type": "execute_result",
          "data": {
            "text/plain": [
              "0.0    12261\n",
              "1.0     2353\n",
              "dtype: int64"
            ]
          },
          "metadata": {
            "tags": []
          },
          "execution_count": 82
        }
      ]
    },
    {
      "cell_type": "code",
      "metadata": {
        "colab": {
          "base_uri": "https://localhost:8080/",
          "height": 295
        },
        "id": "KY45XDtpQwpA",
        "outputId": "26693a00-db5d-4f03-d446-94fe79872b58"
      },
      "source": [
        "# Nos quedamos con la columna que tiene la probabilidad de que llueva\n",
        "y_probs_logit_left = y_pred_proba[:,1]\n",
        "\n",
        "# Generamos un histograma de esa columna\n",
        "plt.hist(y_probs_logit_left, bins=15)\n",
        "plt.xlim(0,1)\n",
        "plt.title('Histograma de probabilidades estimadas')\n",
        "plt.xlabel('Probabilidad de que llueva')\n",
        "plt.ylabel('Frecuencia')\n",
        "plt.show()\n",
        "#Hay una mayor probabilidad de predecir que no va a llover"
      ],
      "execution_count": null,
      "outputs": [
        {
          "output_type": "display_data",
          "data": {
            "image/png": "[encoded data removed]",
            "text/plain": [
              "<Figure size 432x288 with 1 Axes>"
            ]
          },
          "metadata": {
            "tags": [],
            "needs_background": "light"
          }
        }
      ]
    },
    {
      "cell_type": "code",
      "metadata": {
        "colab": {
          "base_uri": "https://localhost:8080/"
        },
        "id": "sutId34OQwpD",
        "outputId": "ef46e991-de79-47dc-d487-bfa93934d120"
      },
      "source": [
        "y_pred_logit = (y_probs_logit_left > 0.3).astype(int)\n",
        "print(\"Y_pred si cambiamos el umbral:\", y_pred_logit)\n",
        "print(\"Y_pred:\", y_pred)\n",
        "print(\"Y_pred_proba:\", y_pred_proba)"
      ],
      "execution_count": null,
      "outputs": [
        {
          "output_type": "stream",
          "text": [
            "Y_pred si cambiamos el umbral: [1 1 1 ... 0 0 0]\n",
            "Y_pred: [1. 1. 1. ... 0. 0. 0.]\n",
            "Y_pred_proba: [[0.04291784 0.95708216]\n",
            " [0.30507997 0.69492003]\n",
            " [0.07227487 0.92772513]\n",
            " ...\n",
            " [0.90999883 0.09000117]\n",
            " [0.9530808  0.0469192 ]\n",
            " [0.9776947  0.0223053 ]]\n"
          ],
          "name": "stdout"
        }
      ]
    },
    {
      "cell_type": "code",
      "metadata": {
        "colab": {
          "base_uri": "https://localhost:8080/",
          "height": 580
        },
        "id": "WaJiB4skQwpE",
        "outputId": "01e149ba-716b-437b-eac7-338aa91cf9fd"
      },
      "source": [
        "print('Matrices de confusión\\n' + '\\u2014' * 50)\n",
        "conf_mat(y_test, y_pred, 0.5)\n",
        "conf_mat(y_test,y_pred_logit, 0.3)"
      ],
      "execution_count": null,
      "outputs": [
        {
          "output_type": "stream",
          "text": [
            "Matrices de confusión\n",
            "——————————————————————————————————————————————————\n"
          ],
          "name": "stdout"
        },
        {
          "output_type": "display_data",
          "data": {
            "image/png": "[encoded data removed]",
            "text/plain": [
              "<Figure size 432x288 with 2 Axes>"
            ]
          },
          "metadata": {
            "tags": [],
            "needs_background": "light"
          }
        },
        {
          "output_type": "display_data",
          "data": {
            "image/png": "[encoded data removed]",
            "text/plain": [
              "<Figure size 432x288 with 2 Axes>"
            ]
          },
          "metadata": {
            "tags": [],
            "needs_background": "light"
          }
        }
      ]
    },
    {
      "cell_type": "code",
      "metadata": {
        "colab": {
          "base_uri": "https://localhost:8080/",
          "height": 295
        },
        "id": "o8KczagPQwpG",
        "outputId": "3fdb6f50-dba8-44e1-d6c2-c3b951689bc6"
      },
      "source": [
        "# Obtenemos los valores que necesitamos para graficar la curva roc\n",
        "\n",
        "fpr_log, tpr_log, thr_log = roc_curve(y_test, y_pred_proba[:,1])  # Con y_pred_proba del modelo\n",
        "\n",
        "\n",
        "# Graficamos la curva roc del modelo\n",
        "df = pd.DataFrame(dict(fpr= fpr_log, tpr= tpr_log, thr= thr_log))\n",
        "\n",
        "plt.axis([0, 1.01, 0, 1.01])\n",
        "plt.xlabel('1 - Specificty')\n",
        "plt.ylabel('TPR / Sensitivity')\n",
        "plt.title('ROC Curve')\n",
        "plt.plot(fpr_log, tpr_log)\n",
        "plt.plot(np.arange(0, 1, step= 0.01), np.arange(0, 1, step= 0.01))\n",
        "plt.show()"
      ],
      "execution_count": null,
      "outputs": [
        {
          "output_type": "display_data",
          "data": {
            "image/png": "[encoded data removed]",
            "text/plain": [
              "<Figure size 432x288 with 1 Axes>"
            ]
          },
          "metadata": {
            "tags": [],
            "needs_background": "light"
          }
        }
      ]
    },
    {
      "cell_type": "code",
      "metadata": {
        "colab": {
          "base_uri": "https://localhost:8080/"
        },
        "id": "oaWQH4cKQwpG",
        "outputId": "919f7bbe-0c9f-4bc4-d111-8f02817ece16"
      },
      "source": [
        "# Calculamos el area de la curva ROC:\n",
        "\n",
        "print('AUC =', auc(fpr_log, tpr_log))"
      ],
      "execution_count": null,
      "outputs": [
        {
          "output_type": "stream",
          "text": [
            "AUC = 0.885076345977244\n"
          ],
          "name": "stdout"
        }
      ]
    },
    {
      "cell_type": "markdown",
      "metadata": {
        "id": "v_15HEPXQwpG"
      },
      "source": [
        "<a id=\"section_5\"></a> \n",
        "# 5 - Tercer modelado: LR & KNN\n",
        "[volver a TOC](#section_toc)"
      ]
    },
    {
      "cell_type": "code",
      "metadata": {
        "colab": {
          "base_uri": "https://localhost:8080/"
        },
        "id": "JALvEmqkQwpH",
        "outputId": "1c7c3162-5b99-4ee7-fd8b-d4c6118d4172"
      },
      "source": [
        "# RandomSearch con dos estimadores: KNN y LOGISTIC -> CORRIO EN 20 MIN\n",
        "pasos = [('feature_engineering',selector),\n",
        "         ('preprocesamiento', MinMaxScaler()), \n",
        "         ('clasificador', LogisticRegression(solver='sag'))]\n",
        "\n",
        "pipe = Pipeline(pasos)\n",
        "\n",
        "param_grid = [{'feature_engineering':[selector],\n",
        "               'preprocesamiento': [StandardScaler(), MinMaxScaler()],\n",
        "               'clasificador__C': [0.001, 0.01, 0.05, 0.1, 0.3, 0.5, 1, 5, 10, 50]},\n",
        "              {'feature_engineering':[selector],\n",
        "               'preprocesamiento':[StandardScaler(), MinMaxScaler()], \n",
        "               'clasificador': [KNeighborsClassifier()],\n",
        "               'clasificador__n_neighbors':range(2,20,2),'clasificador__weights':['uniform','distance']}]\n",
        "              \n",
        "model = RandomizedSearchCV(pipe, param_grid, cv= folds, scoring= 'f1_macro', random_state= 10)\n",
        "\n",
        "model.fit(X_train, y_train)"
      ],
      "execution_count": null,
      "outputs": [
        {
          "output_type": "execute_result",
          "data": {
            "text/plain": [
              "RandomizedSearchCV(cv=StratifiedKFold(n_splits=5, random_state=42, shuffle=True),\n",
              "                   error_score=nan,\n",
              "                   estimator=Pipeline(memory=None,\n",
              "                                      steps=[('feature_engineering',\n",
              "                                              FeatureSelection(selected_features=array(['MinTemp', 'MaxTemp', 'Rainfall', 'Evaporation', 'Sunshine',\n",
              "       'WindGustSpeed', 'WindSpeed9am', 'WindSpeed3pm', 'Humidity9am',\n",
              "       'Humidity3pm', 'Pressure9am', 'Pressur...\n",
              "       'Location_x_Woomera', 'Month_x_2', 'Month_x_3', 'Month_x_4',\n",
              "       'Month_x_5', 'Month_x_6', 'Month_x_7', 'Month_x_8', 'Month_x_9',\n",
              "       'Month_x_10', 'Month_x_11', 'Month_x_12'], dtype=object))],\n",
              "                                         'preprocesamiento': [StandardScaler(copy=True,\n",
              "                                                                             with_mean=True,\n",
              "                                                                             with_std=True),\n",
              "                                                              MinMaxScaler(copy=True,\n",
              "                                                                           feature_range=(0,\n",
              "                                                                                          1))]}],\n",
              "                   pre_dispatch='2*n_jobs', random_state=10, refit=True,\n",
              "                   return_train_score=False, scoring='f1_macro', verbose=0)"
            ]
          },
          "metadata": {
            "tags": []
          },
          "execution_count": 88
        }
      ]
    },
    {
      "cell_type": "markdown",
      "metadata": {
        "id": "g7jhTGM3QwpH"
      },
      "source": [
        "Veamos la performance de este modelo"
      ]
    },
    {
      "cell_type": "code",
      "metadata": {
        "colab": {
          "base_uri": "https://localhost:8080/"
        },
        "id": "mq2KeMRtQwpH",
        "outputId": "19d943c9-3abc-4767-a588-97a00b77ca7c"
      },
      "source": [
        "model.best_estimator_"
      ],
      "execution_count": null,
      "outputs": [
        {
          "output_type": "execute_result",
          "data": {
            "text/plain": [
              "Pipeline(memory=None,\n",
              "         steps=[('feature_engineering',\n",
              "                 FeatureSelection(selected_features=array(['MinTemp', 'MaxTemp', 'Rainfall', 'Evaporation', 'Sunshine',\n",
              "       'WindGustSpeed', 'WindSpeed9am', 'WindSpeed3pm', 'Humidity9am',\n",
              "       'Humidity3pm', 'Pressure9am', 'Pressure3pm', 'Cloud9am',\n",
              "       'Cloud3pm', 'Temp9am', 'Temp3pm', 'RainToday', 'WindGustDir_ENE',\n",
              "       'WindGustDir_ESE', 'WindGust...\n",
              "       'Month_x_10', 'Month_x_11', 'Month_x_12'], dtype=object))),\n",
              "                ('preprocesamiento',\n",
              "                 MinMaxScaler(copy=True, feature_range=(0, 1))),\n",
              "                ('clasificador',\n",
              "                 LogisticRegression(C=10, class_weight=None, dual=False,\n",
              "                                    fit_intercept=True, intercept_scaling=1,\n",
              "                                    l1_ratio=None, max_iter=100,\n",
              "                                    multi_class='auto', n_jobs=None,\n",
              "                                    penalty='l2', random_state=None,\n",
              "                                    solver='sag', tol=0.0001, verbose=0,\n",
              "                                    warm_start=False))],\n",
              "         verbose=False)"
            ]
          },
          "metadata": {
            "tags": []
          },
          "execution_count": 89
        }
      ]
    },
    {
      "cell_type": "code",
      "metadata": {
        "colab": {
          "base_uri": "https://localhost:8080/"
        },
        "id": "KmWhbFjhQwpI",
        "outputId": "50c78873-d4ee-4b23-bfd0-4b4ef5c8fb02"
      },
      "source": [
        "model.best_score_"
      ],
      "execution_count": null,
      "outputs": [
        {
          "output_type": "execute_result",
          "data": {
            "text/plain": [
              "0.7682384595575159"
            ]
          },
          "metadata": {
            "tags": []
          },
          "execution_count": 90
        }
      ]
    },
    {
      "cell_type": "code",
      "metadata": {
        "colab": {
          "base_uri": "https://localhost:8080/"
        },
        "id": "FxQS2CGLQwpJ",
        "outputId": "3f47d7a8-576c-4f48-b2a1-cd4dd1cc8480"
      },
      "source": [
        "model.best_params_"
      ],
      "execution_count": null,
      "outputs": [
        {
          "output_type": "execute_result",
          "data": {
            "text/plain": [
              "{'clasificador__C': 10,\n",
              " 'feature_engineering': FeatureSelection(selected_features=array(['MinTemp', 'MaxTemp', 'Rainfall', 'Evaporation', 'Sunshine',\n",
              "        'WindGustSpeed', 'WindSpeed9am', 'WindSpeed3pm', 'Humidity9am',\n",
              "        'Humidity3pm', 'Pressure9am', 'Pressure3pm', 'Cloud9am',\n",
              "        'Cloud3pm', 'Temp9am', 'Temp3pm', 'RainToday', 'WindGustDir_ENE',\n",
              "        'WindGustDir_ESE', 'WindGustDir_N', 'WindGustDir_NE',\n",
              "        'WindGustDir_NNE', 'WindGust...\n",
              "        'Location_x_Portland', 'Location_x_Richmond', 'Location_x_Sale',\n",
              "        'Location_x_Sydney', 'Location_x_SydneyAirport',\n",
              "        'Location_x_Townsville', 'Location_x_WaggaWagga',\n",
              "        'Location_x_Watsonia', 'Location_x_Williamtown',\n",
              "        'Location_x_Woomera', 'Month_x_2', 'Month_x_3', 'Month_x_4',\n",
              "        'Month_x_5', 'Month_x_6', 'Month_x_7', 'Month_x_8', 'Month_x_9',\n",
              "        'Month_x_10', 'Month_x_11', 'Month_x_12'], dtype=object)),\n",
              " 'preprocesamiento': MinMaxScaler(copy=True, feature_range=(0, 1))}"
            ]
          },
          "metadata": {
            "tags": []
          },
          "execution_count": 91
        }
      ]
    },
    {
      "cell_type": "code",
      "metadata": {
        "colab": {
          "base_uri": "https://localhost:8080/",
          "height": 557
        },
        "id": "JMeoxmnxQwpJ",
        "outputId": "4543409c-ea1b-4b34-fe6c-f2d77d4778f2"
      },
      "source": [
        "tabla_resultados = pd.DataFrame(model.cv_results_)\n",
        "tabla_resultados"
      ],
      "execution_count": null,
      "outputs": [
        {
          "output_type": "execute_result",
          "data": {
            "text/html": [
              "<div>\n",
              "<style scoped>\n",
              "    .dataframe tbody tr th:only-of-type {\n",
              "        vertical-align: middle;\n",
              "    }\n",
              "\n",
              "    .dataframe tbody tr th {\n",
              "        vertical-align: top;\n",
              "    }\n",
              "\n",
              "    .dataframe thead th {\n",
              "        text-align: right;\n",
              "    }\n",
              "</style>\n",
              "<table border=\"1\" class=\"dataframe\">\n",
              "  <thead>\n",
              "    <tr style=\"text-align: right;\">\n",
              "      <th></th>\n",
              "      <th>mean_fit_time</th>\n",
              "      <th>std_fit_time</th>\n",
              "      <th>mean_score_time</th>\n",
              "      <th>std_score_time</th>\n",
              "      <th>param_preprocesamiento</th>\n",
              "      <th>param_feature_engineering</th>\n",
              "      <th>param_clasificador__weights</th>\n",
              "      <th>param_clasificador__n_neighbors</th>\n",
              "      <th>param_clasificador</th>\n",
              "      <th>param_clasificador__C</th>\n",
              "      <th>params</th>\n",
              "      <th>split0_test_score</th>\n",
              "      <th>split1_test_score</th>\n",
              "      <th>split2_test_score</th>\n",
              "      <th>split3_test_score</th>\n",
              "      <th>split4_test_score</th>\n",
              "      <th>mean_test_score</th>\n",
              "      <th>std_test_score</th>\n",
              "      <th>rank_test_score</th>\n",
              "    </tr>\n",
              "  </thead>\n",
              "  <tbody>\n",
              "    <tr>\n",
              "      <th>0</th>\n",
              "      <td>0.885364</td>\n",
              "      <td>0.011910</td>\n",
              "      <td>57.306527</td>\n",
              "      <td>0.451001</td>\n",
              "      <td>StandardScaler(copy=True, with_mean=True, with...</td>\n",
              "      <td>FeatureSelection(selected_features=array(['Min...</td>\n",
              "      <td>distance</td>\n",
              "      <td>6</td>\n",
              "      <td>KNeighborsClassifier(algorithm='auto', leaf_si...</td>\n",
              "      <td>NaN</td>\n",
              "      <td>{'preprocesamiento': StandardScaler(copy=True,...</td>\n",
              "      <td>0.657483</td>\n",
              "      <td>0.661004</td>\n",
              "      <td>0.655765</td>\n",
              "      <td>0.645624</td>\n",
              "      <td>0.664664</td>\n",
              "      <td>0.656908</td>\n",
              "      <td>0.006417</td>\n",
              "      <td>6</td>\n",
              "    </tr>\n",
              "    <tr>\n",
              "      <th>1</th>\n",
              "      <td>0.553593</td>\n",
              "      <td>0.027245</td>\n",
              "      <td>0.014023</td>\n",
              "      <td>0.000178</td>\n",
              "      <td>MinMaxScaler(copy=True, feature_range=(0, 1))</td>\n",
              "      <td>FeatureSelection(selected_features=array(['Min...</td>\n",
              "      <td>NaN</td>\n",
              "      <td>NaN</td>\n",
              "      <td>NaN</td>\n",
              "      <td>0.01</td>\n",
              "      <td>{'preprocesamiento': MinMaxScaler(copy=True, f...</td>\n",
              "      <td>0.730913</td>\n",
              "      <td>0.724382</td>\n",
              "      <td>0.714742</td>\n",
              "      <td>0.718575</td>\n",
              "      <td>0.731470</td>\n",
              "      <td>0.724016</td>\n",
              "      <td>0.006616</td>\n",
              "      <td>3</td>\n",
              "    </tr>\n",
              "    <tr>\n",
              "      <th>2</th>\n",
              "      <td>0.875811</td>\n",
              "      <td>0.009215</td>\n",
              "      <td>58.511367</td>\n",
              "      <td>0.504390</td>\n",
              "      <td>StandardScaler(copy=True, with_mean=True, with...</td>\n",
              "      <td>FeatureSelection(selected_features=array(['Min...</td>\n",
              "      <td>uniform</td>\n",
              "      <td>8</td>\n",
              "      <td>KNeighborsClassifier(algorithm='auto', leaf_si...</td>\n",
              "      <td>NaN</td>\n",
              "      <td>{'preprocesamiento': StandardScaler(copy=True,...</td>\n",
              "      <td>0.628726</td>\n",
              "      <td>0.614216</td>\n",
              "      <td>0.612322</td>\n",
              "      <td>0.607333</td>\n",
              "      <td>0.618815</td>\n",
              "      <td>0.616282</td>\n",
              "      <td>0.007229</td>\n",
              "      <td>8</td>\n",
              "    </tr>\n",
              "    <tr>\n",
              "      <th>3</th>\n",
              "      <td>0.679941</td>\n",
              "      <td>0.119822</td>\n",
              "      <td>56.194090</td>\n",
              "      <td>1.228629</td>\n",
              "      <td>MinMaxScaler(copy=True, feature_range=(0, 1))</td>\n",
              "      <td>FeatureSelection(selected_features=array(['Min...</td>\n",
              "      <td>distance</td>\n",
              "      <td>4</td>\n",
              "      <td>KNeighborsClassifier(algorithm='auto', leaf_si...</td>\n",
              "      <td>NaN</td>\n",
              "      <td>{'preprocesamiento': MinMaxScaler(copy=True, f...</td>\n",
              "      <td>0.664525</td>\n",
              "      <td>0.663246</td>\n",
              "      <td>0.656571</td>\n",
              "      <td>0.661092</td>\n",
              "      <td>0.663481</td>\n",
              "      <td>0.661783</td>\n",
              "      <td>0.002835</td>\n",
              "      <td>4</td>\n",
              "    </tr>\n",
              "    <tr>\n",
              "      <th>4</th>\n",
              "      <td>0.676515</td>\n",
              "      <td>0.117666</td>\n",
              "      <td>50.932917</td>\n",
              "      <td>0.858259</td>\n",
              "      <td>MinMaxScaler(copy=True, feature_range=(0, 1))</td>\n",
              "      <td>FeatureSelection(selected_features=array(['Min...</td>\n",
              "      <td>uniform</td>\n",
              "      <td>2</td>\n",
              "      <td>KNeighborsClassifier(algorithm='auto', leaf_si...</td>\n",
              "      <td>NaN</td>\n",
              "      <td>{'preprocesamiento': MinMaxScaler(copy=True, f...</td>\n",
              "      <td>0.606378</td>\n",
              "      <td>0.585967</td>\n",
              "      <td>0.596383</td>\n",
              "      <td>0.597054</td>\n",
              "      <td>0.599255</td>\n",
              "      <td>0.597007</td>\n",
              "      <td>0.006560</td>\n",
              "      <td>10</td>\n",
              "    </tr>\n",
              "    <tr>\n",
              "      <th>5</th>\n",
              "      <td>1.241678</td>\n",
              "      <td>0.035215</td>\n",
              "      <td>0.014069</td>\n",
              "      <td>0.000124</td>\n",
              "      <td>MinMaxScaler(copy=True, feature_range=(0, 1))</td>\n",
              "      <td>FeatureSelection(selected_features=array(['Min...</td>\n",
              "      <td>NaN</td>\n",
              "      <td>NaN</td>\n",
              "      <td>NaN</td>\n",
              "      <td>10</td>\n",
              "      <td>{'preprocesamiento': MinMaxScaler(copy=True, f...</td>\n",
              "      <td>0.766652</td>\n",
              "      <td>0.772474</td>\n",
              "      <td>0.766722</td>\n",
              "      <td>0.761521</td>\n",
              "      <td>0.773823</td>\n",
              "      <td>0.768238</td>\n",
              "      <td>0.004451</td>\n",
              "      <td>1</td>\n",
              "    </tr>\n",
              "    <tr>\n",
              "      <th>6</th>\n",
              "      <td>0.865333</td>\n",
              "      <td>0.013341</td>\n",
              "      <td>57.228863</td>\n",
              "      <td>0.643415</td>\n",
              "      <td>StandardScaler(copy=True, with_mean=True, with...</td>\n",
              "      <td>FeatureSelection(selected_features=array(['Min...</td>\n",
              "      <td>uniform</td>\n",
              "      <td>14</td>\n",
              "      <td>KNeighborsClassifier(algorithm='auto', leaf_si...</td>\n",
              "      <td>NaN</td>\n",
              "      <td>{'preprocesamiento': StandardScaler(copy=True,...</td>\n",
              "      <td>0.616943</td>\n",
              "      <td>0.607897</td>\n",
              "      <td>0.605535</td>\n",
              "      <td>0.605005</td>\n",
              "      <td>0.612723</td>\n",
              "      <td>0.609621</td>\n",
              "      <td>0.004565</td>\n",
              "      <td>9</td>\n",
              "    </tr>\n",
              "    <tr>\n",
              "      <th>7</th>\n",
              "      <td>0.713192</td>\n",
              "      <td>0.017868</td>\n",
              "      <td>0.015097</td>\n",
              "      <td>0.001934</td>\n",
              "      <td>StandardScaler(copy=True, with_mean=True, with...</td>\n",
              "      <td>FeatureSelection(selected_features=array(['Min...</td>\n",
              "      <td>NaN</td>\n",
              "      <td>NaN</td>\n",
              "      <td>NaN</td>\n",
              "      <td>0.01</td>\n",
              "      <td>{'preprocesamiento': StandardScaler(copy=True,...</td>\n",
              "      <td>0.762459</td>\n",
              "      <td>0.766245</td>\n",
              "      <td>0.762255</td>\n",
              "      <td>0.756891</td>\n",
              "      <td>0.769444</td>\n",
              "      <td>0.763459</td>\n",
              "      <td>0.004223</td>\n",
              "      <td>2</td>\n",
              "    </tr>\n",
              "    <tr>\n",
              "      <th>8</th>\n",
              "      <td>0.677394</td>\n",
              "      <td>0.114814</td>\n",
              "      <td>50.250768</td>\n",
              "      <td>0.477967</td>\n",
              "      <td>MinMaxScaler(copy=True, feature_range=(0, 1))</td>\n",
              "      <td>FeatureSelection(selected_features=array(['Min...</td>\n",
              "      <td>distance</td>\n",
              "      <td>2</td>\n",
              "      <td>KNeighborsClassifier(algorithm='auto', leaf_si...</td>\n",
              "      <td>NaN</td>\n",
              "      <td>{'preprocesamiento': MinMaxScaler(copy=True, f...</td>\n",
              "      <td>0.651270</td>\n",
              "      <td>0.649023</td>\n",
              "      <td>0.638163</td>\n",
              "      <td>0.643889</td>\n",
              "      <td>0.654504</td>\n",
              "      <td>0.647370</td>\n",
              "      <td>0.005757</td>\n",
              "      <td>7</td>\n",
              "    </tr>\n",
              "    <tr>\n",
              "      <th>9</th>\n",
              "      <td>0.872656</td>\n",
              "      <td>0.012449</td>\n",
              "      <td>54.434019</td>\n",
              "      <td>0.500746</td>\n",
              "      <td>StandardScaler(copy=True, with_mean=True, with...</td>\n",
              "      <td>FeatureSelection(selected_features=array(['Min...</td>\n",
              "      <td>distance</td>\n",
              "      <td>4</td>\n",
              "      <td>KNeighborsClassifier(algorithm='auto', leaf_si...</td>\n",
              "      <td>NaN</td>\n",
              "      <td>{'preprocesamiento': StandardScaler(copy=True,...</td>\n",
              "      <td>0.669078</td>\n",
              "      <td>0.659126</td>\n",
              "      <td>0.658090</td>\n",
              "      <td>0.642171</td>\n",
              "      <td>0.660102</td>\n",
              "      <td>0.657713</td>\n",
              "      <td>0.008701</td>\n",
              "      <td>5</td>\n",
              "    </tr>\n",
              "  </tbody>\n",
              "</table>\n",
              "</div>"
            ],
            "text/plain": [
              "   mean_fit_time  std_fit_time  mean_score_time  std_score_time  \\\n",
              "0       0.885364      0.011910        57.306527        0.451001   \n",
              "1       0.553593      0.027245         0.014023        0.000178   \n",
              "2       0.875811      0.009215        58.511367        0.504390   \n",
              "3       0.679941      0.119822        56.194090        1.228629   \n",
              "4       0.676515      0.117666        50.932917        0.858259   \n",
              "5       1.241678      0.035215         0.014069        0.000124   \n",
              "6       0.865333      0.013341        57.228863        0.643415   \n",
              "7       0.713192      0.017868         0.015097        0.001934   \n",
              "8       0.677394      0.114814        50.250768        0.477967   \n",
              "9       0.872656      0.012449        54.434019        0.500746   \n",
              "\n",
              "                              param_preprocesamiento  \\\n",
              "0  StandardScaler(copy=True, with_mean=True, with...   \n",
              "1      MinMaxScaler(copy=True, feature_range=(0, 1))   \n",
              "2  StandardScaler(copy=True, with_mean=True, with...   \n",
              "3      MinMaxScaler(copy=True, feature_range=(0, 1))   \n",
              "4      MinMaxScaler(copy=True, feature_range=(0, 1))   \n",
              "5      MinMaxScaler(copy=True, feature_range=(0, 1))   \n",
              "6  StandardScaler(copy=True, with_mean=True, with...   \n",
              "7  StandardScaler(copy=True, with_mean=True, with...   \n",
              "8      MinMaxScaler(copy=True, feature_range=(0, 1))   \n",
              "9  StandardScaler(copy=True, with_mean=True, with...   \n",
              "\n",
              "                           param_feature_engineering  \\\n",
              "0  FeatureSelection(selected_features=array(['Min...   \n",
              "1  FeatureSelection(selected_features=array(['Min...   \n",
              "2  FeatureSelection(selected_features=array(['Min...   \n",
              "3  FeatureSelection(selected_features=array(['Min...   \n",
              "4  FeatureSelection(selected_features=array(['Min...   \n",
              "5  FeatureSelection(selected_features=array(['Min...   \n",
              "6  FeatureSelection(selected_features=array(['Min...   \n",
              "7  FeatureSelection(selected_features=array(['Min...   \n",
              "8  FeatureSelection(selected_features=array(['Min...   \n",
              "9  FeatureSelection(selected_features=array(['Min...   \n",
              "\n",
              "  param_clasificador__weights param_clasificador__n_neighbors  \\\n",
              "0                    distance                               6   \n",
              "1                         NaN                             NaN   \n",
              "2                     uniform                               8   \n",
              "3                    distance                               4   \n",
              "4                     uniform                               2   \n",
              "5                         NaN                             NaN   \n",
              "6                     uniform                              14   \n",
              "7                         NaN                             NaN   \n",
              "8                    distance                               2   \n",
              "9                    distance                               4   \n",
              "\n",
              "                                  param_clasificador param_clasificador__C  \\\n",
              "0  KNeighborsClassifier(algorithm='auto', leaf_si...                   NaN   \n",
              "1                                                NaN                  0.01   \n",
              "2  KNeighborsClassifier(algorithm='auto', leaf_si...                   NaN   \n",
              "3  KNeighborsClassifier(algorithm='auto', leaf_si...                   NaN   \n",
              "4  KNeighborsClassifier(algorithm='auto', leaf_si...                   NaN   \n",
              "5                                                NaN                    10   \n",
              "6  KNeighborsClassifier(algorithm='auto', leaf_si...                   NaN   \n",
              "7                                                NaN                  0.01   \n",
              "8  KNeighborsClassifier(algorithm='auto', leaf_si...                   NaN   \n",
              "9  KNeighborsClassifier(algorithm='auto', leaf_si...                   NaN   \n",
              "\n",
              "                                              params  split0_test_score  \\\n",
              "0  {'preprocesamiento': StandardScaler(copy=True,...           0.657483   \n",
              "1  {'preprocesamiento': MinMaxScaler(copy=True, f...           0.730913   \n",
              "2  {'preprocesamiento': StandardScaler(copy=True,...           0.628726   \n",
              "3  {'preprocesamiento': MinMaxScaler(copy=True, f...           0.664525   \n",
              "4  {'preprocesamiento': MinMaxScaler(copy=True, f...           0.606378   \n",
              "5  {'preprocesamiento': MinMaxScaler(copy=True, f...           0.766652   \n",
              "6  {'preprocesamiento': StandardScaler(copy=True,...           0.616943   \n",
              "7  {'preprocesamiento': StandardScaler(copy=True,...           0.762459   \n",
              "8  {'preprocesamiento': MinMaxScaler(copy=True, f...           0.651270   \n",
              "9  {'preprocesamiento': StandardScaler(copy=True,...           0.669078   \n",
              "\n",
              "   split1_test_score  split2_test_score  split3_test_score  split4_test_score  \\\n",
              "0           0.661004           0.655765           0.645624           0.664664   \n",
              "1           0.724382           0.714742           0.718575           0.731470   \n",
              "2           0.614216           0.612322           0.607333           0.618815   \n",
              "3           0.663246           0.656571           0.661092           0.663481   \n",
              "4           0.585967           0.596383           0.597054           0.599255   \n",
              "5           0.772474           0.766722           0.761521           0.773823   \n",
              "6           0.607897           0.605535           0.605005           0.612723   \n",
              "7           0.766245           0.762255           0.756891           0.769444   \n",
              "8           0.649023           0.638163           0.643889           0.654504   \n",
              "9           0.659126           0.658090           0.642171           0.660102   \n",
              "\n",
              "   mean_test_score  std_test_score  rank_test_score  \n",
              "0         0.656908        0.006417                6  \n",
              "1         0.724016        0.006616                3  \n",
              "2         0.616282        0.007229                8  \n",
              "3         0.661783        0.002835                4  \n",
              "4         0.597007        0.006560               10  \n",
              "5         0.768238        0.004451                1  \n",
              "6         0.609621        0.004565                9  \n",
              "7         0.763459        0.004223                2  \n",
              "8         0.647370        0.005757                7  \n",
              "9         0.657713        0.008701                5  "
            ]
          },
          "metadata": {
            "tags": []
          },
          "execution_count": 92
        }
      ]
    },
    {
      "cell_type": "code",
      "metadata": {
        "colab": {
          "base_uri": "https://localhost:8080/",
          "height": 135
        },
        "id": "QBe6ezOeQwpK",
        "outputId": "db33e08b-7795-4fc4-b261-df9efea4fcc7"
      },
      "source": [
        "tabla_resultados[tabla_resultados['rank_test_score'] == 1]"
      ],
      "execution_count": null,
      "outputs": [
        {
          "output_type": "execute_result",
          "data": {
            "text/html": [
              "<div>\n",
              "<style scoped>\n",
              "    .dataframe tbody tr th:only-of-type {\n",
              "        vertical-align: middle;\n",
              "    }\n",
              "\n",
              "    .dataframe tbody tr th {\n",
              "        vertical-align: top;\n",
              "    }\n",
              "\n",
              "    .dataframe thead th {\n",
              "        text-align: right;\n",
              "    }\n",
              "</style>\n",
              "<table border=\"1\" class=\"dataframe\">\n",
              "  <thead>\n",
              "    <tr style=\"text-align: right;\">\n",
              "      <th></th>\n",
              "      <th>mean_fit_time</th>\n",
              "      <th>std_fit_time</th>\n",
              "      <th>mean_score_time</th>\n",
              "      <th>std_score_time</th>\n",
              "      <th>param_preprocesamiento</th>\n",
              "      <th>param_feature_engineering</th>\n",
              "      <th>param_clasificador__weights</th>\n",
              "      <th>param_clasificador__n_neighbors</th>\n",
              "      <th>param_clasificador</th>\n",
              "      <th>param_clasificador__C</th>\n",
              "      <th>params</th>\n",
              "      <th>split0_test_score</th>\n",
              "      <th>split1_test_score</th>\n",
              "      <th>split2_test_score</th>\n",
              "      <th>split3_test_score</th>\n",
              "      <th>split4_test_score</th>\n",
              "      <th>mean_test_score</th>\n",
              "      <th>std_test_score</th>\n",
              "      <th>rank_test_score</th>\n",
              "    </tr>\n",
              "  </thead>\n",
              "  <tbody>\n",
              "    <tr>\n",
              "      <th>5</th>\n",
              "      <td>1.241678</td>\n",
              "      <td>0.035215</td>\n",
              "      <td>0.014069</td>\n",
              "      <td>0.000124</td>\n",
              "      <td>MinMaxScaler(copy=True, feature_range=(0, 1))</td>\n",
              "      <td>FeatureSelection(selected_features=array(['Min...</td>\n",
              "      <td>NaN</td>\n",
              "      <td>NaN</td>\n",
              "      <td>NaN</td>\n",
              "      <td>10</td>\n",
              "      <td>{'preprocesamiento': MinMaxScaler(copy=True, f...</td>\n",
              "      <td>0.766652</td>\n",
              "      <td>0.772474</td>\n",
              "      <td>0.766722</td>\n",
              "      <td>0.761521</td>\n",
              "      <td>0.773823</td>\n",
              "      <td>0.768238</td>\n",
              "      <td>0.004451</td>\n",
              "      <td>1</td>\n",
              "    </tr>\n",
              "  </tbody>\n",
              "</table>\n",
              "</div>"
            ],
            "text/plain": [
              "   mean_fit_time  std_fit_time  mean_score_time  std_score_time  \\\n",
              "5       1.241678      0.035215         0.014069        0.000124   \n",
              "\n",
              "                          param_preprocesamiento  \\\n",
              "5  MinMaxScaler(copy=True, feature_range=(0, 1))   \n",
              "\n",
              "                           param_feature_engineering  \\\n",
              "5  FeatureSelection(selected_features=array(['Min...   \n",
              "\n",
              "  param_clasificador__weights param_clasificador__n_neighbors  \\\n",
              "5                         NaN                             NaN   \n",
              "\n",
              "  param_clasificador param_clasificador__C  \\\n",
              "5                NaN                    10   \n",
              "\n",
              "                                              params  split0_test_score  \\\n",
              "5  {'preprocesamiento': MinMaxScaler(copy=True, f...           0.766652   \n",
              "\n",
              "   split1_test_score  split2_test_score  split3_test_score  split4_test_score  \\\n",
              "5           0.772474           0.766722           0.761521           0.773823   \n",
              "\n",
              "   mean_test_score  std_test_score  rank_test_score  \n",
              "5         0.768238        0.004451                1  "
            ]
          },
          "metadata": {
            "tags": []
          },
          "execution_count": 93
        }
      ]
    },
    {
      "cell_type": "code",
      "metadata": {
        "colab": {
          "base_uri": "https://localhost:8080/"
        },
        "id": "WeGQ9penQwpK",
        "outputId": "0d8dce50-55ef-4443-84ca-940f17412440"
      },
      "source": [
        "# Performance sobre datos nuevos:\n",
        "\n",
        "y_pred = model.best_estimator_.predict(X_test)\n",
        "print(classification_report(y_test, y_pred))\n",
        "print(accuracy_score(y_test, y_pred))"
      ],
      "execution_count": null,
      "outputs": [
        {
          "output_type": "stream",
          "text": [
            "              precision    recall  f1-score   support\n",
            "\n",
            "         0.0       0.88      0.94      0.91     11480\n",
            "         1.0       0.72      0.54      0.62      3134\n",
            "\n",
            "    accuracy                           0.86     14614\n",
            "   macro avg       0.80      0.74      0.77     14614\n",
            "weighted avg       0.85      0.86      0.85     14614\n",
            "\n",
            "0.8571233064185028\n"
          ],
          "name": "stdout"
        }
      ]
    },
    {
      "cell_type": "code",
      "metadata": {
        "colab": {
          "base_uri": "https://localhost:8080/",
          "height": 281
        },
        "id": "ezdxiGFWQwpL",
        "outputId": "870f18a6-236d-46d7-ac5a-eaaacb00c934"
      },
      "source": [
        "# Matriz de confusión\n",
        "\n",
        "conf_mat(y_test, y_pred, 0.5)"
      ],
      "execution_count": null,
      "outputs": [
        {
          "output_type": "display_data",
          "data": {
            "image/png": "[encoded data removed]",
            "text/plain": [
              "<Figure size 432x288 with 2 Axes>"
            ]
          },
          "metadata": {
            "tags": [],
            "needs_background": "light"
          }
        }
      ]
    },
    {
      "cell_type": "code",
      "metadata": {
        "colab": {
          "base_uri": "https://localhost:8080/",
          "height": 156
        },
        "id": "Soj4N1CuQwpL",
        "outputId": "e896a86d-562c-47c7-cc3d-f1d642fcf8f2"
      },
      "source": [
        "# Calculamos predict_proba para ver el umbral de probabilidades\n",
        "\n",
        "y_pred_proba = model.predict_proba(X_test)\n",
        "display(y_pred_proba.shape, y_pred_proba)"
      ],
      "execution_count": null,
      "outputs": [
        {
          "output_type": "display_data",
          "data": {
            "text/plain": [
              "(14614, 2)"
            ]
          },
          "metadata": {
            "tags": []
          }
        },
        {
          "output_type": "display_data",
          "data": {
            "text/plain": [
              "array([[0.04448879, 0.95551121],\n",
              "       [0.30331883, 0.69668117],\n",
              "       [0.07459044, 0.92540956],\n",
              "       ...,\n",
              "       [0.9105443 , 0.0894557 ],\n",
              "       [0.95288312, 0.04711688],\n",
              "       [0.97796423, 0.02203577]])"
            ]
          },
          "metadata": {
            "tags": []
          }
        }
      ]
    },
    {
      "cell_type": "code",
      "metadata": {
        "colab": {
          "base_uri": "https://localhost:8080/"
        },
        "id": "-eRU1uEQQwpM",
        "outputId": "afdbb35a-5ada-4662-814a-04eb5f4ebd73"
      },
      "source": [
        "pd.Series(y_pred_proba[:,1]>0.5).astype(int).value_counts()"
      ],
      "execution_count": null,
      "outputs": [
        {
          "output_type": "execute_result",
          "data": {
            "text/plain": [
              "0    12258\n",
              "1     2356\n",
              "dtype: int64"
            ]
          },
          "metadata": {
            "tags": []
          },
          "execution_count": 97
        }
      ]
    },
    {
      "cell_type": "code",
      "metadata": {
        "colab": {
          "base_uri": "https://localhost:8080/"
        },
        "id": "YeaYd5g_QwpM",
        "outputId": "729c42bb-bbe1-4dec-9304-2ea11b3bb031"
      },
      "source": [
        "y_pred"
      ],
      "execution_count": null,
      "outputs": [
        {
          "output_type": "execute_result",
          "data": {
            "text/plain": [
              "array([1., 1., 1., ..., 0., 0., 0.])"
            ]
          },
          "metadata": {
            "tags": []
          },
          "execution_count": 98
        }
      ]
    },
    {
      "cell_type": "code",
      "metadata": {
        "colab": {
          "base_uri": "https://localhost:8080/"
        },
        "id": "68A_dOw5QwpN",
        "outputId": "a0a04473-60dd-4f96-8818-33f29df4de18"
      },
      "source": [
        "# Pertenencia calculada a partir del método .predict()\n",
        "\n",
        "pd.Series(y_pred).value_counts()"
      ],
      "execution_count": null,
      "outputs": [
        {
          "output_type": "execute_result",
          "data": {
            "text/plain": [
              "0.0    12258\n",
              "1.0     2356\n",
              "dtype: int64"
            ]
          },
          "metadata": {
            "tags": []
          },
          "execution_count": 99
        }
      ]
    },
    {
      "cell_type": "code",
      "metadata": {
        "colab": {
          "base_uri": "https://localhost:8080/",
          "height": 295
        },
        "id": "nxdQkcwvQwpN",
        "outputId": "9e2c82c1-f83d-4f58-a601-2a8d1460280f"
      },
      "source": [
        "# Nos quedamos con la columna que tiene la probabilidad de que llueva\n",
        "y_probs_logit_left = y_pred_proba[:,1]\n",
        "\n",
        "# Generamos un histograma de esa columna\n",
        "plt.hist(y_probs_logit_left, bins=15)\n",
        "plt.xlim(0,1)\n",
        "plt.title('Histograma de probabilidades estimadas')\n",
        "plt.xlabel('Probabilidad de que llueva')\n",
        "plt.ylabel('Frecuencia')\n",
        "plt.show()\n",
        "# Hay una mayor probabilidad de predecir que no va a llover"
      ],
      "execution_count": null,
      "outputs": [
        {
          "output_type": "display_data",
          "data": {
            "image/png": "[encoded data removed]",
            "text/plain": [
              "<Figure size 432x288 with 1 Axes>"
            ]
          },
          "metadata": {
            "tags": [],
            "needs_background": "light"
          }
        }
      ]
    },
    {
      "cell_type": "code",
      "metadata": {
        "colab": {
          "base_uri": "https://localhost:8080/"
        },
        "id": "fp187QC9QwpO",
        "outputId": "b5ae4c3c-1199-49f2-cc1d-d813813e11bb"
      },
      "source": [
        "y_probs_logit_left"
      ],
      "execution_count": null,
      "outputs": [
        {
          "output_type": "execute_result",
          "data": {
            "text/plain": [
              "array([0.95551121, 0.69668117, 0.92540956, ..., 0.0894557 , 0.04711688,\n",
              "       0.02203577])"
            ]
          },
          "metadata": {
            "tags": []
          },
          "execution_count": 101
        }
      ]
    },
    {
      "cell_type": "code",
      "metadata": {
        "colab": {
          "base_uri": "https://localhost:8080/"
        },
        "id": "WzWkbPOdQwpO",
        "outputId": "aadec1a6-2946-4243-aac0-3a6eaed36e34"
      },
      "source": [
        "y_pred_logit = (y_probs_logit_left > 0.3).astype(int)\n",
        "print(\"Y_pred si cambiamos el umbral:\", y_pred_logit)\n",
        "print(\"Y_pred:\", y_pred)\n",
        "print(\"Y_pred_proba:\", y_pred_proba)"
      ],
      "execution_count": null,
      "outputs": [
        {
          "output_type": "stream",
          "text": [
            "Y_pred si cambiamos el umbral: [1 1 1 ... 0 0 0]\n",
            "Y_pred: [1. 1. 1. ... 0. 0. 0.]\n",
            "Y_pred_proba: [[0.04448879 0.95551121]\n",
            " [0.30331883 0.69668117]\n",
            " [0.07459044 0.92540956]\n",
            " ...\n",
            " [0.9105443  0.0894557 ]\n",
            " [0.95288312 0.04711688]\n",
            " [0.97796423 0.02203577]]\n"
          ],
          "name": "stdout"
        }
      ]
    },
    {
      "cell_type": "code",
      "metadata": {
        "colab": {
          "base_uri": "https://localhost:8080/",
          "height": 562
        },
        "id": "oiArVVvlQwpP",
        "outputId": "6609ae5f-f5fb-4e8f-9d74-c1a7a031c4a5"
      },
      "source": [
        "print('Matrix Original')\n",
        "\n",
        "conf_mat(y_test,y_pred, 0.5)\n",
        "conf_mat(y_test,y_pred_logit, 0.5)"
      ],
      "execution_count": null,
      "outputs": [
        {
          "output_type": "stream",
          "text": [
            "Matrix Original\n"
          ],
          "name": "stdout"
        },
        {
          "output_type": "display_data",
          "data": {
            "image/png": "[encoded data removed]",
            "text/plain": [
              "<Figure size 432x288 with 2 Axes>"
            ]
          },
          "metadata": {
            "tags": [],
            "needs_background": "light"
          }
        },
        {
          "output_type": "display_data",
          "data": {
            "image/png": "[encoded data removed]",
            "text/plain": [
              "<Figure size 432x288 with 2 Axes>"
            ]
          },
          "metadata": {
            "tags": [],
            "needs_background": "light"
          }
        }
      ]
    },
    {
      "cell_type": "code",
      "metadata": {
        "colab": {
          "base_uri": "https://localhost:8080/",
          "height": 295
        },
        "id": "LlKzn-cIQwpP",
        "outputId": "e0d9d8b3-4b7f-4cf7-e34d-bb663e1747d1"
      },
      "source": [
        "# Obtenemos los valores que necesitamos para graficar la curva roc\n",
        "\n",
        "fpr_log, tpr_log, thr_log = roc_curve(y_test, y_pred_proba[:,1])  # Con y_pred_proba del modelo\n",
        "\n",
        "# Graficamos la curva roc del modelo\n",
        "\n",
        "df = pd.DataFrame(dict(fpr= fpr_log, tpr= tpr_log, thr= thr_log))\n",
        "\n",
        "plt.axis([0, 1.01, 0, 1.01])\n",
        "plt.xlabel('1 - Specificty')\n",
        "plt.ylabel('TPR / Sensitivity')\n",
        "plt.title('ROC Curve')\n",
        "plt.plot(fpr_log, tpr_log)\n",
        "plt.plot(np.arange(0, 1, step= 0.01), np.arange(0, 1, step= 0.01))\n",
        "plt.show()"
      ],
      "execution_count": null,
      "outputs": [
        {
          "output_type": "display_data",
          "data": {
            "image/png": "[encoded data removed]",
            "text/plain": [
              "<Figure size 432x288 with 1 Axes>"
            ]
          },
          "metadata": {
            "tags": [],
            "needs_background": "light"
          }
        }
      ]
    },
    {
      "cell_type": "code",
      "metadata": {
        "colab": {
          "base_uri": "https://localhost:8080/"
        },
        "id": "9WLt4uw8QwpP",
        "outputId": "fb34386b-dbfb-49f2-d9e8-520310fee163"
      },
      "source": [
        "# Calculamos el area de la curva ROC:\n",
        "\n",
        "print('AUC =', auc(fpr_log, tpr_log))"
      ],
      "execution_count": null,
      "outputs": [
        {
          "output_type": "stream",
          "text": [
            "AUC = 0.885038128517396\n"
          ],
          "name": "stdout"
        }
      ]
    },
    {
      "cell_type": "markdown",
      "metadata": {
        "id": "hcrxruyDQwpQ"
      },
      "source": [
        "<a id=\"section_6\"></a> \n",
        "# 6 - Modelos no usados para la presentación\n",
        "[volver a TOC](#section_toc)"
      ]
    },
    {
      "cell_type": "markdown",
      "metadata": {
        "id": "C19ouwcuQwpQ"
      },
      "source": [
        "En general estos modelos tardaron demasiado tiempo en correr o bien son redundantes pues ya fueron aplicados en otro pipeline"
      ]
    },
    {
      "cell_type": "code",
      "metadata": {
        "id": "8fM98d3PQwpR"
      },
      "source": [
        "# RANDOMSEARCH CON 1 ESTIMADOR KNN --> CORRIO EN 30 MIN\n",
        "# pasos_1 = [('feature_engineering',selector),\n",
        "#          ('preprocesamiento', MinMaxScaler()), \n",
        "#          ('clasificador', KNeighborsClassifier())]\n",
        "\n",
        "# pipe_1=Pipeline(pasos_1)\n",
        "\n",
        "# param_grid = [{'feature_engineering':[selector],\n",
        "#                'preprocesamiento':[StandardScaler(), MinMaxScaler()], \n",
        "#                'clasificador': [KNeighborsClassifier()],\n",
        "#                'clasificador__n_neighbors':range(2,20,2),'clasificador__weights':['uniform','distance']}]\n",
        "              \n",
        "# model=RandomizedSearchCV(pipe_1, param_grid, cv=folds, scoring = 'f1_macro', random_state= 10)\n",
        "\n",
        "# model.fit(X_train,y_train)"
      ],
      "execution_count": null,
      "outputs": []
    },
    {
      "cell_type": "code",
      "metadata": {
        "id": "foCfq2B_QwpS"
      },
      "source": [
        "# GRIDSEARCH CON 2 ESTIMADORES -> CORRIO EN MUCHAS HORAS\n",
        "\n",
        "# pasos = [('feature_engineering',selector),\n",
        "#         ('preprocesamiento', MinMaxScaler()), \n",
        "#         ('clasificador', LogisticRegression(solver='sag'))]\n",
        "\n",
        "# pipe=Pipeline(pasos)\n",
        "\n",
        "# param_grid = [{'feature_engineering':[selector],#selector_1, selector_2, None],\n",
        "#               'preprocesamiento': [StandardScaler(), MinMaxScaler()],\n",
        "#               'clasificador__C': [0.001, 0.01, 0.05, 0.1, 0.3, 0.5, 1, 5, 10, 50]},\n",
        "#              {'feature_engineering':[selector],#selector_1, selector_2, None],\n",
        "#               'preprocesamiento':[StandardScaler(), MinMaxScaler()], \n",
        "#               'clasificador': [KNeighborsClassifier()],\n",
        "#               'clasificador__n_neighbors':range(2,20,2),'clasificador__weights':['uniform','distance']}]\n",
        "              \n",
        "# model=GridSearchCV(pipe, param_grid, cv=folds, scoring = 'f1_macro')\n",
        "\n",
        "# model.fit(X_train,y_train)"
      ],
      "execution_count": null,
      "outputs": []
    },
    {
      "cell_type": "code",
      "metadata": {
        "id": "bVpW5pT8QwpS"
      },
      "source": [
        "# GRIDSEARCH CON 3 ESTIMADORES -> CORRIO EN MUCHISIMAS HORAS\n",
        "\n",
        "# pasos = [('feature_engineering',selector),\n",
        "#         ('preprocesamiento', MinMaxScaler()), \n",
        "#         ('clasificador', LogisticRegression(solver='sag'))]\n",
        "\n",
        "# pipe=Pipeline(pasos)\n",
        "\n",
        "# param_grid = [{'feature_engineering':[selector],#selector_1, selector_2, None],\n",
        "#               'preprocesamiento': [StandardScaler(), MinMaxScaler()],\n",
        "#               'clasificador__C': [0.001, 0.01, 0.05, 0.1, 0.3, 0.5, 1, 5, 10, 50]},\n",
        "#              {'feature_engineering':[selector],#selector_1, selector_2, None],\n",
        "#               'preprocesamiento':[StandardScaler(), MinMaxScaler()], \n",
        "#               'clasificador': [KNeighborsClassifier()],\n",
        "#               'clasificador__n_neighbors':range(2,20,2),'clasificador__weights':['uniform','distance']},\n",
        "#              {'feature_engineering':[selector],#selector_1, selector_2, None],\n",
        "#               'preprocesamiento':[StandardScaler(), MinMaxScaler()], \n",
        "#               'clasificador': [SVC(gamma=\"auto\")],\n",
        "#               'clasificador__C': [ 0.1, 1, 10, 100],\n",
        "#               'clasificador__gamma': [1, 0.1, 0.01],\n",
        "#               'clasificador__kernel': ['rbf', 'sigmoid']}]\n",
        "\n",
        "# model=GridSearchCV(pipe, param_grid, cv=folds, scoring = 'f1_macro')\n",
        "\n",
        "# model.fit(X_train,y_train)"
      ],
      "execution_count": null,
      "outputs": []
    }
  ]
}