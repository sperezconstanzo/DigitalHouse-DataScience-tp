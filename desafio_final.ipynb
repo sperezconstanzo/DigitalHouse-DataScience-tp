{
  "nbformat": 4,
  "nbformat_minor": 0,
  "metadata": {
    "kernelspec": {
      "display_name": "Python 3",
      "language": "python",
      "name": "python3"
    },
    "language_info": {
      "codemirror_mode": {
        "name": "ipython",
        "version": 3
      },
      "file_extension": ".py",
      "mimetype": "text/x-python",
      "name": "python",
      "nbconvert_exporter": "python",
      "pygments_lexer": "ipython3",
      "version": "3.7.9"
    },
    "colab": {
      "name": "desafio-final.ipynb",
      "provenance": [],
      "collapsed_sections": [],
      "include_colab_link": true
    }
  },
  "cells": [
    {
      "cell_type": "markdown",
      "metadata": {
        "id": "view-in-github",
        "colab_type": "text"
      },
      "source": [
        "<a href=\"https://colab.research.google.com/github/sperezconstanzo/DigitalHouse-DataScience-tp/blob/main/desafio_final.ipynb\" target=\"_parent\"><img src=\"https://colab.research.google.com/assets/colab-badge.svg\" alt=\"Open In Colab\"/></a>"
      ]
    },
    {
      "cell_type": "markdown",
      "metadata": {
        "id": "OgSrAw2JqmwM"
      },
      "source": [
        "<a id=\"section_toc\"></a> \n",
        "\n",
        "# Tabla de Contenidos\n",
        "\n",
        "[0 - Imports y definiciones](#section_imports) <br>\n",
        "[1 - Primer análisis del DataFrame y limpieza](#section_analisis) <br>\n",
        "[2 - Modelado](#section_modelado) <br>\n",
        "&nbsp;&nbsp;&nbsp;&nbsp;[2.1 - MultinomialNB](#section_MultinomialNB) <br>\n",
        "&nbsp;&nbsp;&nbsp;&nbsp;[2.2 - CatBoostClassifier](#section_CatBoostClassifier) <br>\n",
        "&nbsp;&nbsp;&nbsp;&nbsp;[2.3 - RandomForestClassifier](#section_RandomForestClassifier) <br>\n",
        "&nbsp;&nbsp;&nbsp;&nbsp;[2.4 - MultinomialNB con otro subreddit](#section_MultinomialNB_2) <br>\n"
      ]
    },
    {
      "cell_type": "markdown",
      "metadata": {
        "id": "1c4nbEa6qmwS"
      },
      "source": [
        "<a id=\"section_imports\"></a> \n",
        "\n",
        "## 0 - Imports y definiciones\n",
        "\n",
        "[volver a TOC](#section_toc)"
      ]
    },
    {
      "cell_type": "markdown",
      "metadata": {
        "id": "jFa_OJyE1cFb"
      },
      "source": [
        "Para cargar los datasets y modelos de esta práctica necesitaremos acceso al directorio de Google Drive donde están los archivos `.csv` y `.pickle`. Podemos acceder usando el siguiente link: https://drive.google.com/drive/folders/1iY3GsJLbXRpc3sSojo-JxdO-59aEy2kd?usp=sharing\n",
        "\n",
        "Una vez que tenemos acceso al directorio, tenemos que agregar un acceso directo de esta carpeta a nuestro Drive.\n",
        "\n",
        "Finalmente, tenemos que montar el directorio de drive en Google Colab ejecutando el siguiente código y siguiendo las instrucciones:"
      ]
    },
    {
      "cell_type": "code",
      "metadata": {
        "colab": {
          "base_uri": "https://localhost:8080/"
        },
        "id": "gITbbkn_3Gzf",
        "outputId": "f6c28b18-7d4b-422f-bff3-eb5bcdd32521"
      },
      "source": [
        "from google.colab import drive\n",
        "drive.mount('/content/drive', force_remount=True)"
      ],
      "execution_count": 1,
      "outputs": [
        {
          "output_type": "stream",
          "name": "stdout",
          "text": [
            "Mounted at /content/drive\n"
          ]
        }
      ]
    },
    {
      "cell_type": "code",
      "metadata": {
        "colab": {
          "base_uri": "https://localhost:8080/"
        },
        "id": "aakwMb9SFvYX",
        "outputId": "c45d46cb-8342-4c2f-dabd-7e9ed8e9f5b4"
      },
      "source": [
        "!pip install catboost\n",
        "!pip install unidecode\n",
        "!pip install scikit-learn==0.23.1"
      ],
      "execution_count": 2,
      "outputs": [
        {
          "output_type": "stream",
          "name": "stdout",
          "text": [
            "Collecting catboost\n",
            "  Downloading catboost-0.26.1-cp37-none-manylinux1_x86_64.whl (67.4 MB)\n",
            "\u001b[K     |████████████████████████████████| 67.4 MB 28 kB/s \n",
            "\u001b[?25hRequirement already satisfied: graphviz in /usr/local/lib/python3.7/dist-packages (from catboost) (0.10.1)\n",
            "Requirement already satisfied: scipy in /usr/local/lib/python3.7/dist-packages (from catboost) (1.4.1)\n",
            "Requirement already satisfied: six in /usr/local/lib/python3.7/dist-packages (from catboost) (1.15.0)\n",
            "Requirement already satisfied: matplotlib in /usr/local/lib/python3.7/dist-packages (from catboost) (3.2.2)\n",
            "Requirement already satisfied: plotly in /usr/local/lib/python3.7/dist-packages (from catboost) (4.4.1)\n",
            "Requirement already satisfied: numpy>=1.16.0 in /usr/local/lib/python3.7/dist-packages (from catboost) (1.19.5)\n",
            "Requirement already satisfied: pandas>=0.24.0 in /usr/local/lib/python3.7/dist-packages (from catboost) (1.1.5)\n",
            "Requirement already satisfied: pytz>=2017.2 in /usr/local/lib/python3.7/dist-packages (from pandas>=0.24.0->catboost) (2018.9)\n",
            "Requirement already satisfied: python-dateutil>=2.7.3 in /usr/local/lib/python3.7/dist-packages (from pandas>=0.24.0->catboost) (2.8.2)\n",
            "Requirement already satisfied: pyparsing!=2.0.4,!=2.1.2,!=2.1.6,>=2.0.1 in /usr/local/lib/python3.7/dist-packages (from matplotlib->catboost) (2.4.7)\n",
            "Requirement already satisfied: cycler>=0.10 in /usr/local/lib/python3.7/dist-packages (from matplotlib->catboost) (0.10.0)\n",
            "Requirement already satisfied: kiwisolver>=1.0.1 in /usr/local/lib/python3.7/dist-packages (from matplotlib->catboost) (1.3.2)\n",
            "Requirement already satisfied: retrying>=1.3.3 in /usr/local/lib/python3.7/dist-packages (from plotly->catboost) (1.3.3)\n",
            "Installing collected packages: catboost\n",
            "Successfully installed catboost-0.26.1\n",
            "Collecting unidecode\n",
            "  Downloading Unidecode-1.3.2-py3-none-any.whl (235 kB)\n",
            "\u001b[K     |████████████████████████████████| 235 kB 5.2 MB/s \n",
            "\u001b[?25hInstalling collected packages: unidecode\n",
            "Successfully installed unidecode-1.3.2\n",
            "Collecting scikit-learn==0.23.1\n",
            "  Downloading scikit_learn-0.23.1-cp37-cp37m-manylinux1_x86_64.whl (6.8 MB)\n",
            "\u001b[K     |████████████████████████████████| 6.8 MB 5.2 MB/s \n",
            "\u001b[?25hRequirement already satisfied: scipy>=0.19.1 in /usr/local/lib/python3.7/dist-packages (from scikit-learn==0.23.1) (1.4.1)\n",
            "Requirement already satisfied: joblib>=0.11 in /usr/local/lib/python3.7/dist-packages (from scikit-learn==0.23.1) (1.0.1)\n",
            "Requirement already satisfied: numpy>=1.13.3 in /usr/local/lib/python3.7/dist-packages (from scikit-learn==0.23.1) (1.19.5)\n",
            "Collecting threadpoolctl>=2.0.0\n",
            "  Downloading threadpoolctl-2.2.0-py3-none-any.whl (12 kB)\n",
            "Installing collected packages: threadpoolctl, scikit-learn\n",
            "  Attempting uninstall: scikit-learn\n",
            "    Found existing installation: scikit-learn 0.22.2.post1\n",
            "    Uninstalling scikit-learn-0.22.2.post1:\n",
            "      Successfully uninstalled scikit-learn-0.22.2.post1\n",
            "Successfully installed scikit-learn-0.23.1 threadpoolctl-2.2.0\n"
          ]
        }
      ]
    },
    {
      "cell_type": "code",
      "metadata": {
        "id": "Kq7SGzBUqmwV",
        "colab": {
          "base_uri": "https://localhost:8080/"
        },
        "outputId": "f964be4f-6833-498d-e5bd-0aa7fe56c033"
      },
      "source": [
        "import numpy as np\n",
        "import pandas as pd\n",
        "import pickle\n",
        "\n",
        "import matplotlib.pyplot as plt\n",
        "import seaborn as sns\n",
        "sns.set_style(\"whitegrid\")\n",
        "\n",
        "from tqdm import tqdm\n",
        "import re\n",
        "\n",
        "from catboost import CatBoostClassifier\n",
        "\n",
        "from multiprocessing import Pool\n",
        "import nltk\n",
        "nltk.download('stopwords')\n",
        "nltk.download('punkt')\n",
        "from nltk.tokenize import word_tokenize\n",
        "from nltk.stem import WordNetLemmatizer\n",
        "from nltk.corpus import wordnet\n",
        "from nltk.corpus import stopwords\n",
        "stopwords_en = stopwords.words('english')\n",
        "\n",
        "import unidecode\n",
        "\n",
        "from sklearn.ensemble import RandomForestClassifier\n",
        "from sklearn.feature_extraction.text import CountVectorizer, TfidfVectorizer\n",
        "from sklearn.metrics import accuracy_score, confusion_matrix, classification_report\n",
        "from sklearn.model_selection import train_test_split, StratifiedKFold, GridSearchCV\n",
        "from sklearn.naive_bayes import MultinomialNB\n",
        "from sklearn.pipeline import Pipeline"
      ],
      "execution_count": 3,
      "outputs": [
        {
          "output_type": "stream",
          "name": "stdout",
          "text": [
            "[nltk_data] Downloading package stopwords to /root/nltk_data...\n",
            "[nltk_data]   Unzipping corpora/stopwords.zip.\n",
            "[nltk_data] Downloading package punkt to /root/nltk_data...\n",
            "[nltk_data]   Unzipping tokenizers/punkt.zip.\n"
          ]
        }
      ]
    },
    {
      "cell_type": "code",
      "metadata": {
        "id": "u3KCUcD0qmwZ"
      },
      "source": [
        "# Esta función samplea estratificadamente, algo que el método pd.DataFrame.sample no soporta.\n",
        "# Ojo que retorna nrows = n_samples * n_categorias, en nuestro caso, n_samples * 39\n",
        "\n",
        "def stratified_sample_df(df, col, n_samples, random_state= None):\n",
        "    n = min(n_samples, df[col].value_counts().min())\n",
        "    df_ = df.groupby(col).apply(lambda x: x.sample(n, random_state= random_state))\n",
        "    df_.index = df_.index.droplevel(0)\n",
        "    return df_\n",
        "\n",
        "\n",
        "def binary_sample(df, col, value, samples= None, random_state= None):\n",
        "    \"\"\"\n",
        "    El df que retorna no esta shuffleado: las primeras n = n_samples filas co-\n",
        "    rresponden a la clase que queremos true. Se puede lograr haciendo\n",
        "    df.sample(frac= 1) pero no sé en este momento si hace falta o no, entonces\n",
        "    no me caliento al respecto. No samplea estratificado porque---en nuestro\n",
        "    caso al menos---para que quede balanceado tengo que tener\n",
        "    `n_samples` % 39 == 0... en otras palabras, para que sea estratificado ne-\n",
        "    cesariamente tengo que tomar una fila de cada clase (de las falsas), que\n",
        "    son justamente 39. Entonces hago un sampleo común y listo.\n",
        "    Lo perfecto es enemigo de lo bueno.\n",
        "    \n",
        "    Parametros\n",
        "    ----------\n",
        "    \n",
        "    df : pd.DataFrame\n",
        "    \\tEl df del que vamos a samplear\n",
        "    \n",
        "    col : str\n",
        "    \\tLa columna target que queremos samplear\n",
        "    \n",
        "    value : str\n",
        "    \\tLa categoría que queremos clasificar como True. Si no está en df[col].unique()\n",
        "    \\traisea warning y retorna None\n",
        "    \n",
        "    samples : int, default None\n",
        "    \\tLa cantidad de muestras que quiero. El df final tendrá `samples` * 2 filas\n",
        "    \\tSi es None, `samples` es igual a la cantidad de filas de `value`\n",
        "    \\tSi es mayor a la cantidad de filas de `value`, raisea warning y se fija\n",
        "    \\tigual que en el caso `samples` = None\n",
        "    \n",
        "    random_state : int y otros, default 1\n",
        "    \\tPara reproducibilidad. Los otros tipos soportados pueden consultarse en la\n",
        "    \\tdocumentación de pd.DataFrame.sample\n",
        "    \"\"\" \n",
        "    import warnings\n",
        "    \n",
        "    if value in df[col].unique():\n",
        " \n",
        "        mask = df[col] == value\n",
        "        mask_index = df[mask].index\n",
        "\n",
        "        df_pos = df[mask].copy(deep= True)\n",
        "        df_neg = df.drop(index= mask_index, inplace= False)\n",
        "        \n",
        "        max_samples = df_pos.shape[0]\n",
        "\n",
        "        if samples == None:\n",
        "            samples = max_samples\n",
        "\n",
        "        elif samples > max_samples:\n",
        "            warnings.warn(f'\\nCannot take a larger sample than population. Samples was {samples} but is now set to {max_samples}')\n",
        "\n",
        "        n = min(samples, max_samples)\n",
        "\n",
        "        df_pos = df_pos.sample(n= n, random_state= random_state)\n",
        "        df_neg = df_neg.sample(n= n, random_state= random_state)\n",
        "\n",
        "        df_ = pd.concat([df_pos, df_neg]).reset_index(drop= True)\n",
        "        \n",
        "        return df_\n",
        "    \n",
        "    else:\n",
        "        warnings.warn(f'\\nValue {value} not in column {col}. No operation performed.')\n",
        "        return None    \n",
        "\n",
        "    \n",
        "def tokenize(x, stopwords):\n",
        "    tokens = word_tokenize(x)\n",
        "    tokens_without_stopwords = [tok for tok in tokens if not (tok in stopwords)]\n",
        "    string = ' '.join(tokens_without_stopwords)\n",
        "    \n",
        "    return string\n",
        "\n",
        "\n",
        "# Matriz de confusión con los yticks centrados\n",
        "def conf_mat(y_test, Y_pred, umbral=0.5):\n",
        "\n",
        "    conf_mat = confusion_matrix(y_test, Y_pred)\n",
        "    conf_mat_df = pd.DataFrame(data=conf_mat, \n",
        "                               index=['Actual Negative: 0', 'Actual Positive: 1'], \n",
        "                               columns=['Predict Negative: 0', 'Predict Positive: 1'])\n",
        "\n",
        "    fig, ax = plt.subplots()\n",
        "    ax = sns.heatmap(conf_mat_df, annot=True, fmt='d', cmap='YlGnBu', ax= ax)\n",
        "    ax.set_title(f'Matriz de confusión. Umbral = {umbral}')\n",
        "    ax.set_yticklabels(list(conf_mat_df.index), rotation=90, va=\"center\");"
      ],
      "execution_count": 4,
      "outputs": []
    },
    {
      "cell_type": "markdown",
      "metadata": {
        "id": "Xc7ykasRqmwc"
      },
      "source": [
        "<a id=\"section_analisis\"></a>\n",
        "\n",
        "## 1 - Primer análisis del DataFrame y limpieza\n",
        "\n",
        "[volver a TOC](#section_toc)"
      ]
    },
    {
      "cell_type": "markdown",
      "metadata": {
        "id": "8GsVlTG3qmwd"
      },
      "source": [
        "Reddit, según wikipedia es \"un sitio web de marcadores sociales y agregador de noticias donde los usuarios pueden añadir textos, imágenes, videos o enlaces. Los usuarios pueden votar a favor o en contra del contenido, haciendo que aparezcan en las publicaciones destacadas.\"\n",
        "\n",
        "Podríamos describirlo en palabras más sencillas como un foro. Cada subforo se llama <em>subreddit</em>, y tratan tópicos muy diversos.\n",
        "\n",
        "Este dataframe contiene un millón de comentarios de reddit, los cuales fueron tomados de manera uniforme de los 40 subreddits más populares en mayo del 2019; es decir tenemos 25 k comentarios por subreddit. Esto nos va a ser útil ya que vamos a partir de un set balanceado. Además ya está preprocesado: se han quitado los comentarios eliminados y aquellos que tengan menos de cuatro <em>tokens</em>, i.e. que sean demasiado cortos.\n",
        "\n",
        "Las columnas son:\n",
        "\n",
        "* <b>subreddit:</b> de qué subforo fue tomado el comentario,\n",
        "* <b>body:</b> el cuerpo del comentario,\n",
        "* <b>controversiality:</b> una métrica propia de reddit; son booleanos,\n",
        "* <b>score:</b> un puntaje calculado como upvotes - downvotes.\n",
        "\n",
        "Con esta base podemos realizar un modelo de clasificación en el que podamos predecir a qué subreddit pertenece un comentario.\n",
        "Con la cantidad de features que tenemos podemos correr modelos, pero también hay lugar a generar más features."
      ]
    },
    {
      "cell_type": "code",
      "metadata": {
        "id": "wuVl22t-qmwe"
      },
      "source": [
        "data_path = \"/content/drive/MyDrive/Desafio 3/Data/kaggle_RC_2019-05.csv\"\n",
        "\n",
        "data = pd.read_csv(data_path, encoding= 'utf-8')"
      ],
      "execution_count": 5,
      "outputs": []
    },
    {
      "cell_type": "code",
      "metadata": {
        "id": "V-hgFsMTqmwf",
        "colab": {
          "base_uri": "https://localhost:8080/"
        },
        "outputId": "0e369d0d-e67d-49fc-df3b-83d13cc796d4"
      },
      "source": [
        "nrow, ncol = data.shape\n",
        "\n",
        "data.info(verbose=True)"
      ],
      "execution_count": 6,
      "outputs": [
        {
          "output_type": "stream",
          "name": "stdout",
          "text": [
            "<class 'pandas.core.frame.DataFrame'>\n",
            "RangeIndex: 1000000 entries, 0 to 999999\n",
            "Data columns (total 4 columns):\n",
            " #   Column            Non-Null Count    Dtype \n",
            "---  ------            --------------    ----- \n",
            " 0   subreddit         1000000 non-null  object\n",
            " 1   body              1000000 non-null  object\n",
            " 2   controversiality  1000000 non-null  int64 \n",
            " 3   score             1000000 non-null  int64 \n",
            "dtypes: int64(2), object(2)\n",
            "memory usage: 30.5+ MB\n"
          ]
        }
      ]
    },
    {
      "cell_type": "code",
      "metadata": {
        "id": "XQmmpqS1qmwi",
        "colab": {
          "base_uri": "https://localhost:8080/",
          "height": 206
        },
        "outputId": "8c2296e1-8efd-496e-c6e0-099b4791ef99"
      },
      "source": [
        "data.sample(5)"
      ],
      "execution_count": 7,
      "outputs": [
        {
          "output_type": "execute_result",
          "data": {
            "text/html": [
              "<div>\n",
              "<style scoped>\n",
              "    .dataframe tbody tr th:only-of-type {\n",
              "        vertical-align: middle;\n",
              "    }\n",
              "\n",
              "    .dataframe tbody tr th {\n",
              "        vertical-align: top;\n",
              "    }\n",
              "\n",
              "    .dataframe thead th {\n",
              "        text-align: right;\n",
              "    }\n",
              "</style>\n",
              "<table border=\"1\" class=\"dataframe\">\n",
              "  <thead>\n",
              "    <tr style=\"text-align: right;\">\n",
              "      <th></th>\n",
              "      <th>subreddit</th>\n",
              "      <th>body</th>\n",
              "      <th>controversiality</th>\n",
              "      <th>score</th>\n",
              "    </tr>\n",
              "  </thead>\n",
              "  <tbody>\n",
              "    <tr>\n",
              "      <th>352717</th>\n",
              "      <td>unpopularopinion</td>\n",
              "      <td>Every day, I've made a goal to do something. I...</td>\n",
              "      <td>0</td>\n",
              "      <td>2</td>\n",
              "    </tr>\n",
              "    <tr>\n",
              "      <th>535740</th>\n",
              "      <td>videos</td>\n",
              "      <td>Hello /u/AriseFanBoy,\\n\\n/r/Videos requires th...</td>\n",
              "      <td>0</td>\n",
              "      <td>1</td>\n",
              "    </tr>\n",
              "    <tr>\n",
              "      <th>968838</th>\n",
              "      <td>Animemes</td>\n",
              "      <td>Ye she stabbed herself</td>\n",
              "      <td>0</td>\n",
              "      <td>2</td>\n",
              "    </tr>\n",
              "    <tr>\n",
              "      <th>638339</th>\n",
              "      <td>memes</td>\n",
              "      <td>\"hats of to the guy who did this\"??, Then why ...</td>\n",
              "      <td>0</td>\n",
              "      <td>-10</td>\n",
              "    </tr>\n",
              "    <tr>\n",
              "      <th>201930</th>\n",
              "      <td>asoiaf</td>\n",
              "      <td>I'm hoping it'll be revealed that bran through...</td>\n",
              "      <td>0</td>\n",
              "      <td>1</td>\n",
              "    </tr>\n",
              "  </tbody>\n",
              "</table>\n",
              "</div>"
            ],
            "text/plain": [
              "               subreddit  ... score\n",
              "352717  unpopularopinion  ...     2\n",
              "535740            videos  ...     1\n",
              "968838          Animemes  ...     2\n",
              "638339             memes  ...   -10\n",
              "201930            asoiaf  ...     1\n",
              "\n",
              "[5 rows x 4 columns]"
            ]
          },
          "metadata": {},
          "execution_count": 7
        }
      ]
    },
    {
      "cell_type": "markdown",
      "metadata": {
        "id": "x41QYrZ8qmwk"
      },
      "source": [
        "Vimos que algunos comentarios no estaban en inglés, vamos a chequear que hay en cada subreddit. Para esto usamos un sampleo estratificado y tomamos un comentario de cada subreddit."
      ]
    },
    {
      "cell_type": "code",
      "metadata": {
        "jupyter": {
          "outputs_hidden": true
        },
        "id": "uvGpa2E8qmwl",
        "colab": {
          "base_uri": "https://localhost:8080/"
        },
        "outputId": "198493f7-a078-46ae-f815-8583d618a122"
      },
      "source": [
        "# Esto está para ver un comentario de cada subreddit para ver si están todos en inglés\n",
        "# Spoiler alert: hay uno ruso.\n",
        "\n",
        "data_aux = stratified_sample_df(data, 'subreddit', 1, random_state= 10)\n",
        "\n",
        "for body, subreddit in zip(data_aux['body'], data_aux['subreddit']):\n",
        "    print(subreddit)\n",
        "    print(body)\n",
        "    print('\\u2014' * 80)"
      ],
      "execution_count": 8,
      "outputs": [
        {
          "output_type": "stream",
          "name": "stdout",
          "text": [
            "AmItheAsshole\n",
            "Do you understand how ridiculous that sounds lol you literally just said the same thing\n",
            "————————————————————————————————————————————————————————————————————————————————\n",
            "Animemes\n",
            "The virgin r/waterbros\n",
            "\n",
            "The chad r/hydrohomies\n",
            "————————————————————————————————————————————————————————————————————————————————\n",
            "AskReddit\n",
            "Chopping firewood. Feels good to hit shit and see it split.\n",
            "————————————————————————————————————————————————————————————————————————————————\n",
            "ChapoTrapHouse\n",
            "folks folks ive been a bottom my whole life, but now i think that its about time for trump to switch things up what do you think about that folks\n",
            "\n",
            "who wants to see trump on top folks?\n",
            "————————————————————————————————————————————————————————————————————————————————\n",
            "FortNiteBR\n",
            "**Unfortunately, we've had to remove your post.**\r\n",
            "___\r\n",
            "\r\n",
            "\r\n",
            "### Post Flair Guidelines\r\n",
            "\r\n",
            "We require all users to set a post flair for their own post. There is a 30 minute grace period, and this has passed for this post. \r\n",
            "\r\n",
            "Don't know how to flair your post? Click [here](http://imgur.com/a/m3FI3) to view this helpful guide on how to flair your post. \r\n",
            "\r\n",
            "For more information, please read [**our subreddit rules.**](https://www.reddit.com/r/FortniteBR/wiki/rules) - If you have any queries about this, you can contact us via [Moderator Mail](https://www.reddit.com/message/compose?to=%2Fr%2FFortniteBR).\n",
            "————————————————————————————————————————————————————————————————————————————————\n",
            "Market76\n",
            "Just looking for AAE Handmade and another gun\n",
            "————————————————————————————————————————————————————————————————————————————————\n",
            "MortalKombat\n",
            "Having the same issue but I've performed 3 KBs per match (2 character specific ones and the uppercut one that everybody has) and it didn't count. I'm using Shao Kahn and one of his KBs is bugged and never registers but even then... that's at least 5 KBs assuming the uppercut one doesn't count.\n",
            "————————————————————————————————————————————————————————————————————————————————\n",
            "Pikabu\n",
            "&gt; из точки А в точку Б \n",
            "\n",
            "У меня на даче бочки под дождевую воду наверное оборотов пять вокруг дома сделали.\n",
            "————————————————————————————————————————————————————————————————————————————————\n",
            "RoastMe\n",
            "That debt is from all the date rape lawsuits you've settled out of court.\n",
            "————————————————————————————————————————————————————————————————————————————————\n",
            "Showerthoughts\n",
            "Yes thats the answer i was looking for\n",
            "————————————————————————————————————————————————————————————————————————————————\n",
            "SquaredCircle\n",
            "Gonna ask for help with algebra.\n",
            "————————————————————————————————————————————————————————————————————————————————\n",
            "The_Donald\n",
            "That kind of thinking isn't even consistent. How could it be her fault he raped her for dressing that way, when its not her fault she dressed that way?\n",
            "\n",
            "The buck can never stop being passed, thus making everything that happens no ones fault.\n",
            "————————————————————————————————————————————————————————————————————————————————\n",
            "apexlegends\n",
            "Just what I was thinking. This is a trick that actually only works now, after a lot of people are familiar with his ability. Noobs would actually still shoot him.\n",
            "————————————————————————————————————————————————————————————————————————————————\n",
            "asoiaf\n",
            "&gt;like if he's undead - shouldn't exist, right? \n",
            "\n",
            "Rh'llor revived Undead work differently, if its his will for Jon to have kids, I'm guessing he would allow it and 'resurrect' that part of him too. We also see that Jon can tire, he still sleeps apparently and even rests (and his blood still flows as the Dragons can sense it). So perhaps he's just something different altogether.\n",
            "————————————————————————————————————————————————————————————————————————————————\n",
            "aww\n",
            "Luckily they haven't taken up raiding the bins out the back as well\n",
            "————————————————————————————————————————————————————————————————————————————————\n",
            "dankmemes\n",
            "Everyone's hating on Sonic's appearance while I'm just sitting here thinking the story is much worse.\n",
            "\n",
            "Aaand I don't like Jim Carrey movies after I learned he's an anti-vaxxer\n",
            "\n",
            "Edit: Sauce on request: https://twitter.com/JimCarrey/status/616073415812759553\n",
            "————————————————————————————————————————————————————————————————————————————————\n",
            "freefolk\n",
            "I've seen like 5 people complaining that Arya killed him....  \n",
            "5 nerds = all of /r/freefolk apparently...\n",
            "————————————————————————————————————————————————————————————————————————————————\n",
            "funny\n",
            "I mean to be fair, I’d give up vaccinations for infinity stones 👌🏼\n",
            "————————————————————————————————————————————————————————————————————————————————\n",
            "gameofthrones\n",
            "&gt; I’ve noticed with so much going on they made a point to get character facial reactions.\n",
            "\n",
            "Arya when she first sees Drogon burning up wights - \"wow\".  \n",
            "The hound when he first sees Drogon burning up the wights - \"oh fuck, fire\".\n",
            "Jamie when he sees Drogon burning up wights - \"it's a bit fucking different when they're on your side\".  \n",
            "  \n",
            "The three different facial expressions they captured for those split seconds speak volumes for the characters viewpoints\n",
            "————————————————————————————————————————————————————————————————————————————————\n",
            "gaming\n",
            "You....... can’t do that\n",
            "————————————————————————————————————————————————————————————————————————————————\n",
            "gonewild\n",
            "Ya that works for sure\n",
            "————————————————————————————————————————————————————————————————————————————————\n",
            "hockey\n",
            "So... what, a second?\n",
            "————————————————————————————————————————————————————————————————————————————————\n",
            "leagueoflegends\n",
            "It works in DOTA 2, all of the heroes have a line that plays when they score first blood\n",
            "————————————————————————————————————————————————————————————————————————————————\n",
            "marvelstudios\n",
            "Makes sense if Cap had a new one made for Sam and considering their different fighting styles and   Falcon's flight abilities\n",
            "————————————————————————————————————————————————————————————————————————————————\n",
            "memes\n",
            "That’s the hottest of burns tho I’d be shocked if I was called that\n",
            "————————————————————————————————————————————————————————————————————————————————\n",
            "movies\n",
            "Finally, tired of never hearing anything except for the actors talking\n",
            "————————————————————————————————————————————————————————————————————————————————\n",
            "nba\n",
            "it’s actually the opposite. You get the force of ur shot from ur legs, bigger stronger dudes have to exert less to shoot the ball, so they jump less. Watch horford or Brook Lopez shoot a 3 they don’t even jump at all basically\n",
            "————————————————————————————————————————————————————————————————————————————————\n",
            "news\n",
            "&gt; Light turns green and they “rolled coal” right into my face and filled my car.\n",
            "\n",
            "\n",
            "I'm sorry, and I'm not justifying their actions, but that sounds hilarious. I picture the old time cartoons when something blows up in their face and everything is black except for their eyes and teeth. Sorry it happened to you tho\n",
            "————————————————————————————————————————————————————————————————————————————————\n",
            "nfl\n",
            "Not being stuck on a team that had so much faith in him they hired a coach that might've been the worst possible fit and drafted his replacement the next year feels like a pretty good bonus.\n",
            "————————————————————————————————————————————————————————————————————————————————\n",
            "pics\n",
            "Sort of.. it was an organized event where 260 volunteers split up into teams to clean up different sections of the river (I think the final collection, across all teams, was about 9000 pounds of trash)\n",
            "\n",
            "It was maybe an hours train ride, followed by a 20 min car ride, north of the bronx\n",
            "————————————————————————————————————————————————————————————————————————————————\n",
            "politics\n",
            "Nearly all his positive karma is from anti-Bernie circlejerk subs.  Definitely has a narrative to push everywhere he goes, heh.\n",
            "————————————————————————————————————————————————————————————————————————————————\n",
            "relationship_advice\n",
            "She doesnt drink she just enjoys to dance with her friends, but I hate the fact they go to bars (they stay away from clubs cause she knows I'd not be happy)\n",
            "————————————————————————————————————————————————————————————————————————————————\n",
            "soccer\n",
            "Would have been an incredibly harsh penalty.\n",
            "————————————————————————————————————————————————————————————————————————————————\n",
            "teenagers\n",
            "Hang her. Jk go IT IS YOUR DESTINY\n",
            "————————————————————————————————————————————————————————————————————————————————\n",
            "todayilearned\n",
            "needs to be sterilized and there are cheaper alternatives\n",
            "\n",
            "source: another comment\n",
            "————————————————————————————————————————————————————————————————————————————————\n",
            "trashy\n",
            "Played hockey for 14 years, majority of rinks had this, never had issues with parents like this. I agree with you\n",
            "————————————————————————————————————————————————————————————————————————————————\n",
            "unpopularopinion\n",
            "Stop trying to normalize rape you sicko.\n",
            "————————————————————————————————————————————————————————————————————————————————\n",
            "videos\n",
            "I'm tired of Big XKCD flooding reddit with spam\n",
            "————————————————————————————————————————————————————————————————————————————————\n",
            "wallstreetbets\n",
            "If you ever want to see a stupid person who makes bad decisions, just ask me for my picture.\n",
            "————————————————————————————————————————————————————————————————————————————————\n",
            "worldnews\n",
            "I am actually pretty sure that we are in agreement, as to not engage in blatant historical revisionism and whitewashing.\n",
            "\n",
            "Edit: also, don't discount early (or current...) societal views and state policies surrounding mercantilism and capitalism.\n",
            "————————————————————————————————————————————————————————————————————————————————\n"
          ]
        }
      ]
    },
    {
      "cell_type": "code",
      "metadata": {
        "id": "9r_JvHbGqmwn",
        "colab": {
          "base_uri": "https://localhost:8080/"
        },
        "outputId": "0ce1faa5-71d0-4876-9a15-0d8fa7b2363f"
      },
      "source": [
        "mask_pikabu = data['subreddit'] == 'Pikabu'\n",
        "pikabu_index = data[mask_pikabu].index\n",
        "\n",
        "data.iloc[pikabu_index, 0].value_counts()  # Chequeamos que hayamos capturado lo que queríamos"
      ],
      "execution_count": 9,
      "outputs": [
        {
          "output_type": "execute_result",
          "data": {
            "text/plain": [
              "Pikabu    25000\n",
              "Name: subreddit, dtype: int64"
            ]
          },
          "metadata": {},
          "execution_count": 9
        }
      ]
    },
    {
      "cell_type": "code",
      "metadata": {
        "id": "quDtFqvNqmwo"
      },
      "source": [
        "data = data.drop(index= pikabu_index).reset_index(drop= True)"
      ],
      "execution_count": 10,
      "outputs": []
    },
    {
      "cell_type": "markdown",
      "metadata": {
        "id": "ZOO2ZjsMqmwo"
      },
      "source": [
        "Vimos que algunos comentarios comienzan con `&gt;`, que es un <em>entity name</em> de html para el caracter `>`. Dentro del contexto de foros y <em>message boards</em>, este símbolo se usa al comienzo de una línea de texto para indicar que ésta es una cita a otro comentario. Creemos que es accidental que ese grupo de caracteres haya llegado al dataset, no obstante vamos a aprovecharlo para crear una nueva feature. Aparte, vamos a usar regex para limpiar todos los saltos de línea que no fueron codificados correctamente (se muestra el comando unicode `\\n`)"
      ]
    },
    {
      "cell_type": "code",
      "metadata": {
        "id": "6OoG95Frqmwp"
      },
      "source": [
        "# Creamos una feature dummy que indica si el comentario incluye una cita/respuesta a otro.\n",
        "\n",
        "pattern_html_gt = r'&gt;'\n",
        "rx_html_gt = re.compile(pattern= pattern_html_gt, flags= re.IGNORECASE)\n",
        "\n",
        "data['is_reply'] = 0\n",
        "\n",
        "mask_reply = data['body'].apply(rx_html_gt.search).apply(bool)\n",
        "\n",
        "data.loc[mask_reply, 'is_reply'] = 1"
      ],
      "execution_count": 11,
      "outputs": []
    },
    {
      "cell_type": "code",
      "metadata": {
        "id": "Hw2l1v53qmwp"
      },
      "source": [
        "# Creamos una copia de la columna `body` para limpiarla, conservando la original.\n",
        "\n",
        "data['body_clean'] = data['body'].copy(deep= True)"
      ],
      "execution_count": 12,
      "outputs": []
    },
    {
      "cell_type": "code",
      "metadata": {
        "id": "dwAB5TwQqmwq"
      },
      "source": [
        "pattern_unicode_space = r'[\\t\\n\\r\\f\\v(\\xa0)]'  # Espacios unicode (tab, newline, nonbreaking, vtab, lf, cr)\n",
        "rx_unicode_space = re.compile(pattern= pattern_unicode_space, flags= re.IGNORECASE)\n",
        "\n",
        "pattern_url = r\"http\\S+\"  # URLs, aunque hay que tener cuidado ya que tiene que haber un espacio al final de la url, sino captura texto también.\n",
        "rx_url = re.compile(pattern= pattern_url, flags= re.ASCII)\n",
        "\n",
        "pattern_html_symbol = r'&\\w+;'  # Símbolos que están en formato html &..;\n",
        "rx_html_symbol = re.compile(pattern= pattern_html_symbol, flags= re.ASCII)\n",
        "\n",
        "pattern_punkt = r'([^\\s\\w]|_)+'  # Signos de puntuación\n",
        "rx_punkt = re.compile(pattern= pattern_punkt, flags= re.IGNORECASE)\n",
        "\n",
        "data['body_clean'] = data['body_clean'].apply(lambda x: re.sub(rx_unicode_space, ' ', x))  # Reemplazamos espacios unicode por ' '\n",
        "data['body_clean'] = data['body_clean'].apply(lambda x: re.sub(rx_url, '', x))  # Quitamos URLs\n",
        "data['body_clean'] = data['body_clean'].apply(lambda x: re.sub(rx_html_symbol, ' ', x))  # Quitamos símbolos HTML &..;\n",
        "data['body_clean'] = data['body_clean'].apply(lambda x: re.sub(rx_punkt, ' ', x))  # Quitamos puntuación\n",
        "data['body_clean'] = data['body_clean'].apply(lambda x: unidecode.unidecode(x.lower()))  # Quitamos tildes y pasamos a minusculas"
      ],
      "execution_count": 13,
      "outputs": []
    },
    {
      "cell_type": "code",
      "metadata": {
        "id": "ZSgGPzG5qmws"
      },
      "source": [
        "# Tarda alrededor de 5' en correr\n",
        "\n",
        "data['tokens'] = data['body_clean'].apply(lambda x : tokenize(x, stopwords_en))"
      ],
      "execution_count": 14,
      "outputs": []
    },
    {
      "cell_type": "code",
      "metadata": {
        "id": "cHUpTrWLqmwt"
      },
      "source": [
        "#data.to_pickle('datos_limpios.pickle')"
      ],
      "execution_count": 15,
      "outputs": []
    },
    {
      "cell_type": "code",
      "metadata": {
        "id": "SXR1Yeu_qmwt"
      },
      "source": [
        "# Para evitar tener que tokenizar se puede descomentar esta celda y tomar el `.pickle` con los datos tokenizados\n",
        "#data = pd.read_pickle('/content/drive/MyDrive/Desafio 3/pickle/datos_limpios.pickle')"
      ],
      "execution_count": 16,
      "outputs": []
    },
    {
      "cell_type": "code",
      "metadata": {
        "id": "QLsbLCSaqmws"
      },
      "source": [
        "# Creamos una feature: largo del comentario (sólo contando tokens)\n",
        "\n",
        "data['body_len'] = data['tokens'].apply(lambda x : len(x.split()))"
      ],
      "execution_count": 17,
      "outputs": []
    },
    {
      "cell_type": "code",
      "metadata": {
        "id": "eyjkkn1Tqmws",
        "colab": {
          "base_uri": "https://localhost:8080/",
          "height": 363
        },
        "outputId": "bab4b438-8742-4077-e642-6bcbffd6f025"
      },
      "source": [
        "data.sample(10)"
      ],
      "execution_count": 18,
      "outputs": [
        {
          "output_type": "execute_result",
          "data": {
            "text/html": [
              "<div>\n",
              "<style scoped>\n",
              "    .dataframe tbody tr th:only-of-type {\n",
              "        vertical-align: middle;\n",
              "    }\n",
              "\n",
              "    .dataframe tbody tr th {\n",
              "        vertical-align: top;\n",
              "    }\n",
              "\n",
              "    .dataframe thead th {\n",
              "        text-align: right;\n",
              "    }\n",
              "</style>\n",
              "<table border=\"1\" class=\"dataframe\">\n",
              "  <thead>\n",
              "    <tr style=\"text-align: right;\">\n",
              "      <th></th>\n",
              "      <th>subreddit</th>\n",
              "      <th>body</th>\n",
              "      <th>controversiality</th>\n",
              "      <th>score</th>\n",
              "      <th>is_reply</th>\n",
              "      <th>body_clean</th>\n",
              "      <th>tokens</th>\n",
              "      <th>body_len</th>\n",
              "    </tr>\n",
              "  </thead>\n",
              "  <tbody>\n",
              "    <tr>\n",
              "      <th>104670</th>\n",
              "      <td>freefolk</td>\n",
              "      <td>Compared to what we heard about last time it w...</td>\n",
              "      <td>0</td>\n",
              "      <td>1</td>\n",
              "      <td>0</td>\n",
              "      <td>compared to what we heard about last time it w...</td>\n",
              "      <td>compared heard last time pretty big failure un...</td>\n",
              "      <td>14</td>\n",
              "    </tr>\n",
              "    <tr>\n",
              "      <th>30179</th>\n",
              "      <td>nba</td>\n",
              "      <td>Up 5 with Kyrie playing like dog shit. I'll ta...</td>\n",
              "      <td>0</td>\n",
              "      <td>6</td>\n",
              "      <td>0</td>\n",
              "      <td>up 5 with kyrie playing like dog shit  i ll ta...</td>\n",
              "      <td>5 kyrie playing like dog shit take</td>\n",
              "      <td>7</td>\n",
              "    </tr>\n",
              "    <tr>\n",
              "      <th>167787</th>\n",
              "      <td>nba</td>\n",
              "      <td>&amp;gt;durant's proportions are like those girls ...</td>\n",
              "      <td>0</td>\n",
              "      <td>2</td>\n",
              "      <td>1</td>\n",
              "      <td>durant s proportions are like those girls in ...</td>\n",
              "      <td>durant proportions like girls 6th grade get wa...</td>\n",
              "      <td>12</td>\n",
              "    </tr>\n",
              "    <tr>\n",
              "      <th>52740</th>\n",
              "      <td>nba</td>\n",
              "      <td>I feel like Bucks are just 2017 Rockets. Live ...</td>\n",
              "      <td>0</td>\n",
              "      <td>1</td>\n",
              "      <td>0</td>\n",
              "      <td>i feel like bucks are just 2017 rockets  live ...</td>\n",
              "      <td>feel like bucks 2017 rockets live die 3</td>\n",
              "      <td>8</td>\n",
              "    </tr>\n",
              "    <tr>\n",
              "      <th>380454</th>\n",
              "      <td>FortNiteBR</td>\n",
              "      <td>I still enjoy the game but i dont like the dir...</td>\n",
              "      <td>0</td>\n",
              "      <td>7</td>\n",
              "      <td>0</td>\n",
              "      <td>i still enjoy the game but i dont like the dir...</td>\n",
              "      <td>still enjoy game dont like direction epic taking</td>\n",
              "      <td>8</td>\n",
              "    </tr>\n",
              "    <tr>\n",
              "      <th>520915</th>\n",
              "      <td>pics</td>\n",
              "      <td>Some other [stars who are around 50.](https://...</td>\n",
              "      <td>0</td>\n",
              "      <td>94</td>\n",
              "      <td>0</td>\n",
              "      <td>some other  stars who are around 50     i woul...</td>\n",
              "      <td>stars around 50 would say even among famous pe...</td>\n",
              "      <td>20</td>\n",
              "    </tr>\n",
              "    <tr>\n",
              "      <th>390714</th>\n",
              "      <td>gaming</td>\n",
              "      <td>Asset swaps? It's a different car.. Different ...</td>\n",
              "      <td>0</td>\n",
              "      <td>-12</td>\n",
              "      <td>0</td>\n",
              "      <td>asset swaps  it s a different car  different s...</td>\n",
              "      <td>asset swaps different car different scenary di...</td>\n",
              "      <td>9</td>\n",
              "    </tr>\n",
              "    <tr>\n",
              "      <th>111749</th>\n",
              "      <td>apexlegends</td>\n",
              "      <td>I have been wondering about this today too.. I...</td>\n",
              "      <td>0</td>\n",
              "      <td>1</td>\n",
              "      <td>0</td>\n",
              "      <td>i have been wondering about this today too  i ...</td>\n",
              "      <td>wondering today pretty sure updated</td>\n",
              "      <td>5</td>\n",
              "    </tr>\n",
              "    <tr>\n",
              "      <th>558467</th>\n",
              "      <td>dankmemes</td>\n",
              "      <td>It's dying in new, you have lied to me</td>\n",
              "      <td>0</td>\n",
              "      <td>1</td>\n",
              "      <td>0</td>\n",
              "      <td>it s dying in new  you have lied to me</td>\n",
              "      <td>dying new lied</td>\n",
              "      <td>3</td>\n",
              "    </tr>\n",
              "    <tr>\n",
              "      <th>458265</th>\n",
              "      <td>Showerthoughts</td>\n",
              "      <td>\"I'm going outside for a minute, I need a smok...</td>\n",
              "      <td>0</td>\n",
              "      <td>6</td>\n",
              "      <td>0</td>\n",
              "      <td>i m going outside for a minute  i need a smok...</td>\n",
              "      <td>going outside minute need smoke fuck week need...</td>\n",
              "      <td>9</td>\n",
              "    </tr>\n",
              "  </tbody>\n",
              "</table>\n",
              "</div>"
            ],
            "text/plain": [
              "             subreddit  ... body_len\n",
              "104670        freefolk  ...       14\n",
              "30179              nba  ...        7\n",
              "167787             nba  ...       12\n",
              "52740              nba  ...        8\n",
              "380454      FortNiteBR  ...        8\n",
              "520915            pics  ...       20\n",
              "390714          gaming  ...        9\n",
              "111749     apexlegends  ...        5\n",
              "558467       dankmemes  ...        3\n",
              "458265  Showerthoughts  ...        9\n",
              "\n",
              "[10 rows x 8 columns]"
            ]
          },
          "metadata": {},
          "execution_count": 18
        }
      ]
    },
    {
      "cell_type": "code",
      "metadata": {
        "id": "D_0Ykiw4qmwv"
      },
      "source": [
        "data_q90 = data[data['body_len'] < data['body_len'].quantile(0.90)]"
      ],
      "execution_count": 19,
      "outputs": []
    },
    {
      "cell_type": "code",
      "metadata": {
        "id": "ooJYJqMCqmwv",
        "colab": {
          "base_uri": "https://localhost:8080/",
          "height": 432
        },
        "outputId": "d438a203-2b6d-4191-9bb2-58cce683ed58"
      },
      "source": [
        "fig, ax = plt.subplots(figsize=(12.8, 6))\n",
        "fig.suptitle('Tokens per post distribution');\n",
        "ax.set_xlim(0, 50)  # La proporción de posts con >50 tokens es baja y la ignoramos para más visibilidad\n",
        "sns.histplot(ax=ax, data=data['body_len'], legend=False, stat='density');"
      ],
      "execution_count": 20,
      "outputs": [
        {
          "output_type": "display_data",
          "data": {
            "image/png": "[encoded data removed]",
            "text/plain": [
              "<Figure size 921.6x432 with 1 Axes>"
            ]
          },
          "metadata": {}
        }
      ]
    },
    {
      "cell_type": "code",
      "metadata": {
        "id": "qYAQXJ6uqmww",
        "colab": {
          "base_uri": "https://localhost:8080/",
          "height": 475
        },
        "outputId": "1073b1b1-8c48-474e-dd95-09ca8e9e08fb"
      },
      "source": [
        "plt.figure(figsize=(15,6))\n",
        "sns.boxplot(data=data, x='subreddit', y='body_len', width=0.5, orient= \"v\");\n",
        "plt.xticks(rotation=90)\n",
        "plt.grid(True)"
      ],
      "execution_count": 21,
      "outputs": [
        {
          "output_type": "display_data",
          "data": {
            "image/png": "[encoded data removed]",
            "text/plain": [
              "<Figure size 1080x432 with 1 Axes>"
            ]
          },
          "metadata": {}
        }
      ]
    },
    {
      "cell_type": "code",
      "metadata": {
        "id": "Me_3djTVqmww",
        "colab": {
          "base_uri": "https://localhost:8080/",
          "height": 475
        },
        "outputId": "83c66326-b4bc-4ce8-c6ee-1a4a9a52c585"
      },
      "source": [
        "# No nos sirve ver el dataset entero, vamos a mirar el 90% inferior\n",
        "plt.figure(figsize=(15,6))\n",
        "sns.boxplot(data=data_q90, x='subreddit', y='body_len', width=0.5, orient= \"v\");\n",
        "plt.xticks(rotation=90)\n",
        "plt.grid(True)"
      ],
      "execution_count": 22,
      "outputs": [
        {
          "output_type": "display_data",
          "data": {
            "image/png": "[encoded data removed]",
            "text/plain": [
              "<Figure size 1080x432 with 1 Axes>"
            ]
          },
          "metadata": {}
        }
      ]
    },
    {
      "cell_type": "code",
      "metadata": {
        "id": "y9zLw643qmwx",
        "colab": {
          "base_uri": "https://localhost:8080/",
          "height": 475
        },
        "outputId": "b8ca3e2f-3749-481a-e3bd-cd130546be24"
      },
      "source": [
        "# Buscamos ver si hay alguna relacion en la longitud de los comentarios y la controversialidad\n",
        "plt.figure(figsize=(15,6))\n",
        "sns.boxplot(data=data_q90, x='subreddit', y='body_len', width=0.5, orient= \"v\", hue= \"controversiality\");\n",
        "plt.xticks(rotation=90)\n",
        "plt.grid(True)"
      ],
      "execution_count": 23,
      "outputs": [
        {
          "output_type": "display_data",
          "data": {
            "image/png": "[encoded data removed]",
            "text/plain": [
              "<Figure size 1080x432 with 1 Axes>"
            ]
          },
          "metadata": {}
        }
      ]
    },
    {
      "cell_type": "markdown",
      "metadata": {
        "id": "1BghAWOaqmwy"
      },
      "source": [
        "<a id=\"section_modelado\"></a>\n",
        "\n",
        "## 2 - Modelado\n",
        "\n",
        "[volver a TOC](#section_toc)"
      ]
    },
    {
      "cell_type": "markdown",
      "metadata": {
        "id": "iiRJyCrdqmwy"
      },
      "source": [
        "Como el modelo que queremos crear es muy intenso en recursos (1 M filas, 39 categorías), vamos a clasificar binariamente si un comentario pertenece o no a un subreddit. Para esto vamos a elegir un subreddit y samplear 25 k comentarios de los otros 38. Sobre esta base vamos a correr todos los modelos. Sobre el final, vamos a probar el mismo modelo pero con otro subreddit a ver qué ocurre."
      ]
    },
    {
      "cell_type": "code",
      "metadata": {
        "id": "_LhG5QyCqmwz"
      },
      "source": [
        "data_sample = binary_sample(data, 'subreddit', 'Market76', random_state=42)\n",
        "data_sample['class'] = 0\n",
        "mask = data_sample['subreddit'] == 'Market76'\n",
        "data_sample.loc[mask, 'class'] = 1"
      ],
      "execution_count": 24,
      "outputs": []
    },
    {
      "cell_type": "code",
      "metadata": {
        "id": "zE7wDtD_qmwz",
        "colab": {
          "base_uri": "https://localhost:8080/",
          "height": 206
        },
        "outputId": "f544a2ea-b2c2-4744-a9e9-756f1495f611"
      },
      "source": [
        "data_sample.sample(5)"
      ],
      "execution_count": 25,
      "outputs": [
        {
          "output_type": "execute_result",
          "data": {
            "text/html": [
              "<div>\n",
              "<style scoped>\n",
              "    .dataframe tbody tr th:only-of-type {\n",
              "        vertical-align: middle;\n",
              "    }\n",
              "\n",
              "    .dataframe tbody tr th {\n",
              "        vertical-align: top;\n",
              "    }\n",
              "\n",
              "    .dataframe thead th {\n",
              "        text-align: right;\n",
              "    }\n",
              "</style>\n",
              "<table border=\"1\" class=\"dataframe\">\n",
              "  <thead>\n",
              "    <tr style=\"text-align: right;\">\n",
              "      <th></th>\n",
              "      <th>subreddit</th>\n",
              "      <th>body</th>\n",
              "      <th>controversiality</th>\n",
              "      <th>score</th>\n",
              "      <th>is_reply</th>\n",
              "      <th>body_clean</th>\n",
              "      <th>tokens</th>\n",
              "      <th>body_len</th>\n",
              "      <th>class</th>\n",
              "    </tr>\n",
              "  </thead>\n",
              "  <tbody>\n",
              "    <tr>\n",
              "      <th>42539</th>\n",
              "      <td>AmItheAsshole</td>\n",
              "      <td>Not a problem if you're an only child and your...</td>\n",
              "      <td>0</td>\n",
              "      <td>1</td>\n",
              "      <td>0</td>\n",
              "      <td>not a problem if you re an only child and your...</td>\n",
              "      <td>problem child parents tend intrusive using bat...</td>\n",
              "      <td>16</td>\n",
              "      <td>0</td>\n",
              "    </tr>\n",
              "    <tr>\n",
              "      <th>49587</th>\n",
              "      <td>aww</td>\n",
              "      <td>I actually had this happen to me. I thought my...</td>\n",
              "      <td>0</td>\n",
              "      <td>2</td>\n",
              "      <td>0</td>\n",
              "      <td>i actually had this happen to me  i thought my...</td>\n",
              "      <td>actually happen thought cat female found stree...</td>\n",
              "      <td>52</td>\n",
              "      <td>0</td>\n",
              "    </tr>\n",
              "    <tr>\n",
              "      <th>38276</th>\n",
              "      <td>trashy</td>\n",
              "      <td>Yes. If they're still alive. A lot of times yo...</td>\n",
              "      <td>0</td>\n",
              "      <td>161</td>\n",
              "      <td>0</td>\n",
              "      <td>yes  if they re still alive  a lot of times yo...</td>\n",
              "      <td>yes still alive lot times young animals taken ...</td>\n",
              "      <td>17</td>\n",
              "      <td>0</td>\n",
              "    </tr>\n",
              "    <tr>\n",
              "      <th>17977</th>\n",
              "      <td>Market76</td>\n",
              "      <td>You could have stayed in party. Just doing a q...</td>\n",
              "      <td>0</td>\n",
              "      <td>1</td>\n",
              "      <td>0</td>\n",
              "      <td>you could have stayed in party  just doing a q...</td>\n",
              "      <td>could stayed party quick trade</td>\n",
              "      <td>5</td>\n",
              "      <td>1</td>\n",
              "    </tr>\n",
              "    <tr>\n",
              "      <th>37722</th>\n",
              "      <td>videos</td>\n",
              "      <td>He has a really high IQ.\\n\\n\\nBut fr, I rememb...</td>\n",
              "      <td>0</td>\n",
              "      <td>12</td>\n",
              "      <td>0</td>\n",
              "      <td>he has a really high iq    but fr  i remember ...</td>\n",
              "      <td>really high iq fr remember reading theories re...</td>\n",
              "      <td>17</td>\n",
              "      <td>0</td>\n",
              "    </tr>\n",
              "  </tbody>\n",
              "</table>\n",
              "</div>"
            ],
            "text/plain": [
              "           subreddit  ... class\n",
              "42539  AmItheAsshole  ...     0\n",
              "49587            aww  ...     0\n",
              "38276         trashy  ...     0\n",
              "17977       Market76  ...     1\n",
              "37722         videos  ...     0\n",
              "\n",
              "[5 rows x 9 columns]"
            ]
          },
          "metadata": {},
          "execution_count": 25
        }
      ]
    },
    {
      "cell_type": "markdown",
      "metadata": {
        "id": "bCJHmHmuqmw0"
      },
      "source": [
        "Aquí separamos en train y test, usamos como predictora el cuerpo crudo de los mensajes. Por razones de tiempo no llegamos a probar modelos con la versión tokenizada por `nltk` para estudiar diferencias entre el preprocesado de `sklearn` que incluímos en el pipeline y el que hicimos antes. Igualmente sirvió como entrenamiento para usar la herramienta `nltk`"
      ]
    },
    {
      "cell_type": "code",
      "metadata": {
        "id": "42sIlXf5qmw2",
        "colab": {
          "base_uri": "https://localhost:8080/"
        },
        "outputId": "bbedc4e8-78fd-4fa9-c24e-b6820b189b4a"
      },
      "source": [
        "X = data_sample[\"body\"]\n",
        "y = data_sample[\"class\"]\n",
        "X_train, X_test, y_train, y_test = train_test_split(X, y,random_state=42)\n",
        "print(X_train.shape)\n",
        "print(X_test.shape)\n",
        "print(y_train.shape)\n",
        "print(y_test.shape)"
      ],
      "execution_count": 26,
      "outputs": [
        {
          "output_type": "stream",
          "name": "stdout",
          "text": [
            "(37500,)\n",
            "(12500,)\n",
            "(37500,)\n",
            "(12500,)\n"
          ]
        }
      ]
    },
    {
      "cell_type": "markdown",
      "metadata": {
        "id": "Oz-YIx_lqmw3"
      },
      "source": [
        "<a id=\"section_MultinomialNB\"></a>\n",
        "\n",
        "### 2.1 - MultinomialNB\n",
        "\n",
        "[volver a TOC](#section_toc)"
      ]
    },
    {
      "cell_type": "code",
      "metadata": {
        "id": "iZXYJYMKqmw3"
      },
      "source": [
        "# Esta instancia de pipeline será usada a lo largo de los modelos.\n",
        "\n",
        "pipe_1_steps = [('preprocesamiento', TfidfVectorizer()),\n",
        "                ('clf', MultinomialNB())]\n",
        "\n",
        "pipe_1 = Pipeline(pipe_1_steps)"
      ],
      "execution_count": 27,
      "outputs": []
    },
    {
      "cell_type": "code",
      "metadata": {
        "id": "Ll_dDnp2qmw4"
      },
      "source": [
        "folds = StratifiedKFold(n_splits=3,shuffle=True, random_state=42)\n",
        "\n",
        "param_grid_1 = {'preprocesamiento' : [TfidfVectorizer(), CountVectorizer()],\n",
        "                'preprocesamiento__stop_words': ['None', 'english'],  #con o sin stopwords\n",
        "                'preprocesamiento__max_df': np.logspace(-2, 0, num= 10),  #elimina términos con frecuencia mayor al valor dado\n",
        "                'preprocesamiento__min_df': np.logspace(-12, -10, num= 10), #elimina términos con frecuencia menor al valor dado\n",
        "                'preprocesamiento__ngram_range': [(1,1),(1,2)], #genera n-gramas\n",
        "                }\n",
        "\n",
        "grid_1 = GridSearchCV(pipe_1, param_grid_1, cv= folds, verbose= 10, scoring= 'accuracy', n_jobs= -1)"
      ],
      "execution_count": 28,
      "outputs": []
    },
    {
      "cell_type": "code",
      "metadata": {
        "collapsed": true,
        "jupyter": {
          "outputs_hidden": true
        },
        "id": "pkOuMS3iqmw5",
        "colab": {
          "base_uri": "https://localhost:8080/"
        },
        "outputId": "4f1a03b1-df72-47a7-ef7d-6a8bbed3e9ef"
      },
      "source": [
        "# Aprox 30' sobre 2400 fits (3 folds, 800 combinaciones de hiperparámetros)\n",
        "grid_1.fit(X_train, y_train)"
      ],
      "execution_count": 29,
      "outputs": [
        {
          "output_type": "stream",
          "name": "stdout",
          "text": [
            "Fitting 3 folds for each of 800 candidates, totalling 2400 fits\n"
          ]
        },
        {
          "output_type": "stream",
          "name": "stderr",
          "text": [
            "[Parallel(n_jobs=-1)]: Using backend LokyBackend with 2 concurrent workers.\n",
            "[Parallel(n_jobs=-1)]: Done   1 tasks      | elapsed:    1.6s\n",
            "[Parallel(n_jobs=-1)]: Done   4 tasks      | elapsed:    3.6s\n",
            "[Parallel(n_jobs=-1)]: Done   9 tasks      | elapsed:    5.7s\n",
            "[Parallel(n_jobs=-1)]: Done  14 tasks      | elapsed:   10.5s\n",
            "[Parallel(n_jobs=-1)]: Done  21 tasks      | elapsed:   14.7s\n",
            "[Parallel(n_jobs=-1)]: Done  28 tasks      | elapsed:   22.9s\n",
            "[Parallel(n_jobs=-1)]: Done  37 tasks      | elapsed:   29.6s\n",
            "[Parallel(n_jobs=-1)]: Done  46 tasks      | elapsed:   39.2s\n",
            "[Parallel(n_jobs=-1)]: Done  57 tasks      | elapsed:   45.1s\n",
            "[Parallel(n_jobs=-1)]: Done  68 tasks      | elapsed:   53.3s\n",
            "[Parallel(n_jobs=-1)]: Done  81 tasks      | elapsed:  1.1min\n",
            "[Parallel(n_jobs=-1)]: Done  94 tasks      | elapsed:  1.3min\n",
            "[Parallel(n_jobs=-1)]: Done 109 tasks      | elapsed:  1.5min\n",
            "[Parallel(n_jobs=-1)]: Done 124 tasks      | elapsed:  1.7min\n",
            "[Parallel(n_jobs=-1)]: Done 141 tasks      | elapsed:  1.9min\n",
            "[Parallel(n_jobs=-1)]: Done 158 tasks      | elapsed:  2.1min\n",
            "[Parallel(n_jobs=-1)]: Done 177 tasks      | elapsed:  2.4min\n",
            "[Parallel(n_jobs=-1)]: Done 196 tasks      | elapsed:  2.8min\n",
            "[Parallel(n_jobs=-1)]: Done 217 tasks      | elapsed:  3.1min\n",
            "[Parallel(n_jobs=-1)]: Done 238 tasks      | elapsed:  3.4min\n",
            "[Parallel(n_jobs=-1)]: Done 261 tasks      | elapsed:  3.7min\n",
            "[Parallel(n_jobs=-1)]: Done 284 tasks      | elapsed:  4.0min\n",
            "[Parallel(n_jobs=-1)]: Done 309 tasks      | elapsed:  4.4min\n",
            "[Parallel(n_jobs=-1)]: Done 334 tasks      | elapsed:  4.8min\n",
            "[Parallel(n_jobs=-1)]: Done 361 tasks      | elapsed:  5.1min\n",
            "[Parallel(n_jobs=-1)]: Done 388 tasks      | elapsed:  5.5min\n",
            "[Parallel(n_jobs=-1)]: Done 417 tasks      | elapsed:  5.8min\n",
            "[Parallel(n_jobs=-1)]: Done 446 tasks      | elapsed:  6.2min\n",
            "[Parallel(n_jobs=-1)]: Done 477 tasks      | elapsed:  6.6min\n",
            "[Parallel(n_jobs=-1)]: Done 508 tasks      | elapsed:  7.1min\n",
            "[Parallel(n_jobs=-1)]: Done 541 tasks      | elapsed:  7.5min\n",
            "[Parallel(n_jobs=-1)]: Done 574 tasks      | elapsed:  8.0min\n",
            "[Parallel(n_jobs=-1)]: Done 609 tasks      | elapsed:  8.5min\n",
            "[Parallel(n_jobs=-1)]: Done 644 tasks      | elapsed:  8.9min\n",
            "[Parallel(n_jobs=-1)]: Done 681 tasks      | elapsed:  9.4min\n",
            "[Parallel(n_jobs=-1)]: Done 718 tasks      | elapsed:  9.9min\n",
            "[Parallel(n_jobs=-1)]: Done 757 tasks      | elapsed: 10.5min\n",
            "[Parallel(n_jobs=-1)]: Done 796 tasks      | elapsed: 11.1min\n",
            "[Parallel(n_jobs=-1)]: Done 837 tasks      | elapsed: 11.6min\n",
            "[Parallel(n_jobs=-1)]: Done 878 tasks      | elapsed: 12.2min\n",
            "[Parallel(n_jobs=-1)]: Done 921 tasks      | elapsed: 12.8min\n",
            "[Parallel(n_jobs=-1)]: Done 964 tasks      | elapsed: 13.4min\n",
            "[Parallel(n_jobs=-1)]: Done 1009 tasks      | elapsed: 14.0min\n",
            "[Parallel(n_jobs=-1)]: Done 1054 tasks      | elapsed: 14.7min\n",
            "[Parallel(n_jobs=-1)]: Done 1101 tasks      | elapsed: 15.3min\n",
            "[Parallel(n_jobs=-1)]: Done 1148 tasks      | elapsed: 15.9min\n",
            "[Parallel(n_jobs=-1)]: Done 1197 tasks      | elapsed: 16.7min\n",
            "[Parallel(n_jobs=-1)]: Done 1246 tasks      | elapsed: 17.5min\n",
            "[Parallel(n_jobs=-1)]: Done 1297 tasks      | elapsed: 18.2min\n",
            "[Parallel(n_jobs=-1)]: Done 1348 tasks      | elapsed: 18.9min\n",
            "[Parallel(n_jobs=-1)]: Done 1401 tasks      | elapsed: 19.5min\n",
            "[Parallel(n_jobs=-1)]: Done 1454 tasks      | elapsed: 20.3min\n",
            "[Parallel(n_jobs=-1)]: Done 1509 tasks      | elapsed: 21.1min\n",
            "[Parallel(n_jobs=-1)]: Done 1564 tasks      | elapsed: 21.9min\n",
            "[Parallel(n_jobs=-1)]: Done 1621 tasks      | elapsed: 22.6min\n",
            "[Parallel(n_jobs=-1)]: Done 1678 tasks      | elapsed: 23.5min\n",
            "[Parallel(n_jobs=-1)]: Done 1737 tasks      | elapsed: 24.2min\n",
            "[Parallel(n_jobs=-1)]: Done 1796 tasks      | elapsed: 25.0min\n",
            "[Parallel(n_jobs=-1)]: Done 1857 tasks      | elapsed: 25.9min\n",
            "[Parallel(n_jobs=-1)]: Done 1918 tasks      | elapsed: 26.8min\n",
            "[Parallel(n_jobs=-1)]: Done 1981 tasks      | elapsed: 27.7min\n",
            "[Parallel(n_jobs=-1)]: Done 2044 tasks      | elapsed: 28.6min\n",
            "[Parallel(n_jobs=-1)]: Done 2109 tasks      | elapsed: 29.5min\n",
            "[Parallel(n_jobs=-1)]: Done 2174 tasks      | elapsed: 30.5min\n",
            "[Parallel(n_jobs=-1)]: Done 2241 tasks      | elapsed: 31.5min\n",
            "[Parallel(n_jobs=-1)]: Done 2308 tasks      | elapsed: 32.5min\n",
            "[Parallel(n_jobs=-1)]: Done 2377 tasks      | elapsed: 33.4min\n",
            "[Parallel(n_jobs=-1)]: Done 2400 out of 2400 | elapsed: 33.8min finished\n"
          ]
        },
        {
          "output_type": "execute_result",
          "data": {
            "text/plain": [
              "GridSearchCV(cv=StratifiedKFold(n_splits=3, random_state=42, shuffle=True),\n",
              "             estimator=Pipeline(steps=[('preprocesamiento', TfidfVectorizer()),\n",
              "                                       ('clf', MultinomialNB())]),\n",
              "             n_jobs=-1,\n",
              "             param_grid={'preprocesamiento': [TfidfVectorizer(max_df=0.0774263682681127,\n",
              "                                                              min_df=1e-12,\n",
              "                                                              ngram_range=(1,\n",
              "                                                                           2),\n",
              "                                                              stop_words='english'),\n",
              "                                              CountVectorizer()],\n",
              "                         'preprocesamiento__max_df': arr...\n",
              "       0.12915497, 0.21544347, 0.35938137, 0.59948425, 1.        ]),\n",
              "                         'preprocesamiento__min_df': array([1.00000000e-12, 1.66810054e-12, 2.78255940e-12, 4.64158883e-12,\n",
              "       7.74263683e-12, 1.29154967e-11, 2.15443469e-11, 3.59381366e-11,\n",
              "       5.99484250e-11, 1.00000000e-10]),\n",
              "                         'preprocesamiento__ngram_range': [(1, 1), (1, 2)],\n",
              "                         'preprocesamiento__stop_words': ['None', 'english']},\n",
              "             scoring='accuracy', verbose=10)"
            ]
          },
          "metadata": {},
          "execution_count": 29
        }
      ]
    },
    {
      "cell_type": "code",
      "metadata": {
        "id": "r8p9dZRdqmw7"
      },
      "source": [
        "#modelo1_filename = 'multinomialNB_25k.pickle'\n",
        "#pickle.dump(grid_1, open(modelo1_filename, 'wb'))"
      ],
      "execution_count": 30,
      "outputs": []
    },
    {
      "cell_type": "code",
      "metadata": {
        "id": "qc_4UuJFqmw7"
      },
      "source": [
        "#grid_1 = pickle.load(open('/content/drive/MyDrive/Desafio 3/pickle/multinomialNB_25k.pickle', 'rb'))"
      ],
      "execution_count": 31,
      "outputs": []
    },
    {
      "cell_type": "code",
      "metadata": {
        "id": "pRspWKiZqmw8",
        "colab": {
          "base_uri": "https://localhost:8080/"
        },
        "outputId": "8881efb9-99dd-4b88-a1a1-3f1858b8742f"
      },
      "source": [
        "print(grid_1.best_params_)\n",
        "print(grid_1.best_score_)"
      ],
      "execution_count": 32,
      "outputs": [
        {
          "output_type": "stream",
          "name": "stdout",
          "text": [
            "{'preprocesamiento': TfidfVectorizer(max_df=0.0774263682681127, min_df=1e-12, ngram_range=(1, 2),\n",
            "                stop_words='english'), 'preprocesamiento__max_df': 0.0774263682681127, 'preprocesamiento__min_df': 1e-12, 'preprocesamiento__ngram_range': (1, 2), 'preprocesamiento__stop_words': 'english'}\n",
            "0.9337866666666667\n"
          ]
        }
      ]
    },
    {
      "cell_type": "code",
      "metadata": {
        "id": "3U8Drp-Tqmw9",
        "colab": {
          "base_uri": "https://localhost:8080/"
        },
        "outputId": "65e1747b-9ae5-4b10-9fdb-202147c3c567"
      },
      "source": [
        "y_pred = grid_1.predict(X_test)\n",
        "accuracy_score(y_test, y_pred)"
      ],
      "execution_count": 33,
      "outputs": [
        {
          "output_type": "execute_result",
          "data": {
            "text/plain": [
              "0.93888"
            ]
          },
          "metadata": {},
          "execution_count": 33
        }
      ]
    },
    {
      "cell_type": "code",
      "metadata": {
        "id": "5Rbcx9Vwqmw-",
        "colab": {
          "base_uri": "https://localhost:8080/",
          "height": 281
        },
        "outputId": "35bb9685-6d55-4481-f96b-64d259700193"
      },
      "source": [
        "conf_mat(y_test, y_pred)"
      ],
      "execution_count": 34,
      "outputs": [
        {
          "output_type": "display_data",
          "data": {
            "image/png": "[encoded data removed]",
            "text/plain": [
              "<Figure size 432x288 with 2 Axes>"
            ]
          },
          "metadata": {}
        }
      ]
    },
    {
      "cell_type": "code",
      "metadata": {
        "id": "XVzjwq19qmw-",
        "colab": {
          "base_uri": "https://localhost:8080/"
        },
        "outputId": "28c999e5-f61b-43d4-ccfe-fbc31f7bb6be"
      },
      "source": [
        "print(classification_report(y_test, y_pred))"
      ],
      "execution_count": 35,
      "outputs": [
        {
          "output_type": "stream",
          "name": "stdout",
          "text": [
            "              precision    recall  f1-score   support\n",
            "\n",
            "           0       0.92      0.96      0.94      6256\n",
            "           1       0.96      0.92      0.94      6244\n",
            "\n",
            "    accuracy                           0.94     12500\n",
            "   macro avg       0.94      0.94      0.94     12500\n",
            "weighted avg       0.94      0.94      0.94     12500\n",
            "\n"
          ]
        }
      ]
    },
    {
      "cell_type": "code",
      "metadata": {
        "id": "h2Pl8lBuqmw_"
      },
      "source": [
        "# Guardamos esto para más adelante\n",
        "best_params_grid_1 = grid_1.best_params_"
      ],
      "execution_count": 36,
      "outputs": []
    },
    {
      "cell_type": "markdown",
      "metadata": {
        "id": "JoiREeM8qmw_"
      },
      "source": [
        "<a id=\"section_CatBoostClassifier\"></a>\n",
        "\n",
        "### 2.2 - CatBoostClassifier\n",
        "\n",
        "[volver a TOC](#section_toc)"
      ]
    },
    {
      "cell_type": "code",
      "metadata": {
        "id": "UgGHKg3dqmw_"
      },
      "source": [
        "folds = StratifiedKFold(n_splits=3,shuffle=True, random_state=42)\n",
        "\n",
        "param_grid_2 = {\n",
        "     'preprocesamiento__stop_words': [best_params_grid_1['preprocesamiento__stop_words']], \n",
        "     'preprocesamiento__max_df': [best_params_grid_1['preprocesamiento__max_df']],  \n",
        "     'preprocesamiento__min_df': [best_params_grid_1['preprocesamiento__min_df']], \n",
        "     'preprocesamiento__ngram_range': [best_params_grid_1['preprocesamiento__ngram_range']],\n",
        "     'clf': [CatBoostClassifier()],\n",
        "     'clf__task_type': ['CPU'],\n",
        "     'clf__boosting_type': ['Plain'],\n",
        "     'clf__max_ctr_complexity': [1],\n",
        "     'clf__gpu_cat_features_storage': ['CpuPinnedMemory']\n",
        "    }\n",
        "\n",
        "grid_2 = GridSearchCV(pipe_1, param_grid_2, cv=folds, verbose=10, scoring='accuracy', n_jobs=-1)"
      ],
      "execution_count": 37,
      "outputs": []
    },
    {
      "cell_type": "code",
      "metadata": {
        "collapsed": true,
        "jupyter": {
          "outputs_hidden": true
        },
        "id": "1QRjzGZcqmxA",
        "colab": {
          "base_uri": "https://localhost:8080/"
        },
        "outputId": "a03bac16-1c75-41d9-c67e-e5b679daba7d"
      },
      "source": [
        "# Alrededor de 1h para los fits + 30' para learn; 3 fits (3 folds, 1 set de hiperparámetros)\n",
        "grid_2.fit(X_train,y_train)"
      ],
      "execution_count": 38,
      "outputs": [
        {
          "output_type": "stream",
          "name": "stdout",
          "text": [
            "Fitting 3 folds for each of 1 candidates, totalling 3 fits\n"
          ]
        },
        {
          "output_type": "stream",
          "name": "stderr",
          "text": [
            "[Parallel(n_jobs=-1)]: Using backend LokyBackend with 2 concurrent workers.\n",
            "/usr/local/lib/python3.7/dist-packages/joblib/externals/loky/process_executor.py:691: UserWarning: A worker stopped while some jobs were given to the executor. This can be caused by a too short worker timeout or by a memory leak.\n",
            "  \"timeout or by a memory leak.\", UserWarning\n",
            "[Parallel(n_jobs=-1)]: Done   3 out of   3 | elapsed: 59.1min remaining:    0.0s\n",
            "[Parallel(n_jobs=-1)]: Done   3 out of   3 | elapsed: 59.1min finished\n"
          ]
        },
        {
          "output_type": "stream",
          "name": "stdout",
          "text": [
            "Learning rate set to 0.048422\n",
            "0:\tlearn: 0.6614220\ttotal: 2.5s\tremaining: 41m 33s\n",
            "1:\tlearn: 0.6410293\ttotal: 4.15s\tremaining: 34m 32s\n",
            "2:\tlearn: 0.6222412\ttotal: 5.7s\tremaining: 31m 35s\n",
            "3:\tlearn: 0.6051213\ttotal: 7.11s\tremaining: 29m 31s\n",
            "4:\tlearn: 0.5929132\ttotal: 8.49s\tremaining: 28m 9s\n",
            "5:\tlearn: 0.5845091\ttotal: 9.87s\tremaining: 27m 14s\n",
            "6:\tlearn: 0.5770831\ttotal: 11.4s\tremaining: 26m 51s\n",
            "7:\tlearn: 0.5706134\ttotal: 13s\tremaining: 26m 55s\n",
            "8:\tlearn: 0.5638062\ttotal: 14.7s\tremaining: 27m 2s\n",
            "9:\tlearn: 0.5570521\ttotal: 16.4s\tremaining: 27m 6s\n",
            "10:\tlearn: 0.5491049\ttotal: 18.1s\tremaining: 27m 7s\n",
            "11:\tlearn: 0.5454493\ttotal: 19.7s\tremaining: 27m 4s\n",
            "12:\tlearn: 0.5403909\ttotal: 21.4s\tremaining: 27m 7s\n",
            "13:\tlearn: 0.5348131\ttotal: 23.1s\tremaining: 27m 6s\n",
            "14:\tlearn: 0.5304781\ttotal: 24.7s\tremaining: 27m 5s\n",
            "15:\tlearn: 0.5265216\ttotal: 26.6s\tremaining: 27m 14s\n",
            "16:\tlearn: 0.5218721\ttotal: 28.3s\tremaining: 27m 15s\n",
            "17:\tlearn: 0.5184608\ttotal: 30s\tremaining: 27m 14s\n",
            "18:\tlearn: 0.5152965\ttotal: 31.6s\tremaining: 27m 12s\n",
            "19:\tlearn: 0.5123090\ttotal: 33.4s\tremaining: 27m 14s\n",
            "20:\tlearn: 0.5085836\ttotal: 35s\tremaining: 27m 12s\n",
            "21:\tlearn: 0.5044619\ttotal: 36.6s\tremaining: 27m 7s\n",
            "22:\tlearn: 0.5014339\ttotal: 38s\tremaining: 26m 54s\n",
            "23:\tlearn: 0.4981548\ttotal: 39.4s\tremaining: 26m 42s\n",
            "24:\tlearn: 0.4955255\ttotal: 40.8s\tremaining: 26m 32s\n",
            "25:\tlearn: 0.4928270\ttotal: 42.3s\tremaining: 26m 23s\n",
            "26:\tlearn: 0.4904673\ttotal: 43.7s\tremaining: 26m 14s\n",
            "27:\tlearn: 0.4884147\ttotal: 45.2s\tremaining: 26m 9s\n",
            "28:\tlearn: 0.4857609\ttotal: 46.9s\tremaining: 26m 10s\n",
            "29:\tlearn: 0.4830657\ttotal: 48.6s\tremaining: 26m 12s\n",
            "30:\tlearn: 0.4809678\ttotal: 50.6s\tremaining: 26m 21s\n",
            "31:\tlearn: 0.4779818\ttotal: 52.2s\tremaining: 26m 18s\n",
            "32:\tlearn: 0.4761711\ttotal: 53.9s\tremaining: 26m 18s\n",
            "33:\tlearn: 0.4741781\ttotal: 55.5s\tremaining: 26m 17s\n",
            "34:\tlearn: 0.4723650\ttotal: 57.1s\tremaining: 26m 13s\n",
            "35:\tlearn: 0.4703696\ttotal: 58.6s\tremaining: 26m 8s\n",
            "36:\tlearn: 0.4683576\ttotal: 1m\tremaining: 26m 8s\n",
            "37:\tlearn: 0.4667762\ttotal: 1m 2s\tremaining: 26m 10s\n",
            "38:\tlearn: 0.4650284\ttotal: 1m 3s\tremaining: 26m 12s\n",
            "39:\tlearn: 0.4629659\ttotal: 1m 5s\tremaining: 26m 18s\n",
            "40:\tlearn: 0.4606810\ttotal: 1m 7s\tremaining: 26m 18s\n",
            "41:\tlearn: 0.4589231\ttotal: 1m 9s\tremaining: 26m 33s\n",
            "42:\tlearn: 0.4573595\ttotal: 1m 12s\tremaining: 26m 47s\n",
            "43:\tlearn: 0.4559365\ttotal: 1m 14s\tremaining: 26m 58s\n",
            "44:\tlearn: 0.4540090\ttotal: 1m 16s\tremaining: 27m 11s\n",
            "45:\tlearn: 0.4525146\ttotal: 1m 18s\tremaining: 27m 9s\n",
            "46:\tlearn: 0.4513442\ttotal: 1m 20s\tremaining: 27m 14s\n",
            "47:\tlearn: 0.4500317\ttotal: 1m 23s\tremaining: 27m 26s\n",
            "48:\tlearn: 0.4487119\ttotal: 1m 25s\tremaining: 27m 31s\n",
            "49:\tlearn: 0.4475345\ttotal: 1m 27s\tremaining: 27m 34s\n",
            "50:\tlearn: 0.4456977\ttotal: 1m 28s\tremaining: 27m 29s\n",
            "51:\tlearn: 0.4443996\ttotal: 1m 30s\tremaining: 27m 32s\n",
            "52:\tlearn: 0.4424405\ttotal: 1m 32s\tremaining: 27m 34s\n",
            "53:\tlearn: 0.4409040\ttotal: 1m 34s\tremaining: 27m 31s\n",
            "54:\tlearn: 0.4395065\ttotal: 1m 36s\tremaining: 27m 36s\n",
            "55:\tlearn: 0.4383346\ttotal: 1m 38s\tremaining: 27m 42s\n",
            "56:\tlearn: 0.4366972\ttotal: 1m 41s\tremaining: 27m 52s\n",
            "57:\tlearn: 0.4349027\ttotal: 1m 43s\tremaining: 27m 55s\n",
            "58:\tlearn: 0.4336889\ttotal: 1m 45s\tremaining: 28m 9s\n",
            "59:\tlearn: 0.4323651\ttotal: 1m 48s\tremaining: 28m 19s\n",
            "60:\tlearn: 0.4309594\ttotal: 1m 50s\tremaining: 28m 26s\n",
            "61:\tlearn: 0.4295837\ttotal: 1m 52s\tremaining: 28m 21s\n",
            "62:\tlearn: 0.4283202\ttotal: 1m 54s\tremaining: 28m 16s\n",
            "63:\tlearn: 0.4270309\ttotal: 1m 56s\tremaining: 28m 17s\n",
            "64:\tlearn: 0.4262701\ttotal: 1m 58s\tremaining: 28m 26s\n",
            "65:\tlearn: 0.4250017\ttotal: 2m\tremaining: 28m 31s\n",
            "66:\tlearn: 0.4239734\ttotal: 2m 3s\tremaining: 28m 36s\n",
            "67:\tlearn: 0.4226728\ttotal: 2m 6s\tremaining: 28m 47s\n",
            "68:\tlearn: 0.4209677\ttotal: 2m 8s\tremaining: 28m 54s\n",
            "69:\tlearn: 0.4200024\ttotal: 2m 10s\tremaining: 28m 56s\n",
            "70:\tlearn: 0.4190943\ttotal: 2m 12s\tremaining: 28m 56s\n",
            "71:\tlearn: 0.4180770\ttotal: 2m 14s\tremaining: 28m 52s\n",
            "72:\tlearn: 0.4168332\ttotal: 2m 17s\tremaining: 29m\n",
            "73:\tlearn: 0.4160404\ttotal: 2m 19s\tremaining: 29m 7s\n",
            "74:\tlearn: 0.4148267\ttotal: 2m 22s\tremaining: 29m 19s\n",
            "75:\tlearn: 0.4134490\ttotal: 2m 25s\tremaining: 29m 26s\n",
            "76:\tlearn: 0.4122369\ttotal: 2m 28s\tremaining: 29m 34s\n",
            "77:\tlearn: 0.4116121\ttotal: 2m 30s\tremaining: 29m 40s\n",
            "78:\tlearn: 0.4108599\ttotal: 2m 33s\tremaining: 29m 47s\n",
            "79:\tlearn: 0.4098207\ttotal: 2m 35s\tremaining: 29m 51s\n",
            "80:\tlearn: 0.4086222\ttotal: 2m 37s\tremaining: 29m 48s\n",
            "81:\tlearn: 0.4075322\ttotal: 2m 39s\tremaining: 29m 43s\n",
            "82:\tlearn: 0.4064302\ttotal: 2m 41s\tremaining: 29m 39s\n",
            "83:\tlearn: 0.4057466\ttotal: 2m 43s\tremaining: 29m 43s\n",
            "84:\tlearn: 0.4049700\ttotal: 2m 45s\tremaining: 29m 41s\n",
            "85:\tlearn: 0.4040675\ttotal: 2m 47s\tremaining: 29m 44s\n",
            "86:\tlearn: 0.4029961\ttotal: 2m 50s\tremaining: 29m 47s\n",
            "87:\tlearn: 0.4022984\ttotal: 2m 53s\tremaining: 29m 54s\n",
            "88:\tlearn: 0.4013888\ttotal: 2m 55s\tremaining: 29m 59s\n",
            "89:\tlearn: 0.4007069\ttotal: 2m 58s\tremaining: 30m 8s\n",
            "90:\tlearn: 0.4000637\ttotal: 3m 1s\tremaining: 30m 14s\n",
            "91:\tlearn: 0.3991499\ttotal: 3m 3s\tremaining: 30m 14s\n",
            "92:\tlearn: 0.3981012\ttotal: 3m 5s\tremaining: 30m 13s\n",
            "93:\tlearn: 0.3973832\ttotal: 3m 9s\tremaining: 30m 26s\n",
            "94:\tlearn: 0.3965306\ttotal: 3m 12s\tremaining: 30m 35s\n",
            "95:\tlearn: 0.3959456\ttotal: 3m 16s\tremaining: 30m 50s\n",
            "96:\tlearn: 0.3949792\ttotal: 3m 20s\tremaining: 31m 4s\n",
            "97:\tlearn: 0.3940673\ttotal: 3m 23s\tremaining: 31m 8s\n",
            "98:\tlearn: 0.3932527\ttotal: 3m 26s\tremaining: 31m 18s\n",
            "99:\tlearn: 0.3927273\ttotal: 3m 28s\tremaining: 31m 15s\n",
            "100:\tlearn: 0.3918695\ttotal: 3m 29s\tremaining: 31m 8s\n",
            "101:\tlearn: 0.3909870\ttotal: 3m 31s\tremaining: 31m 2s\n",
            "102:\tlearn: 0.3904425\ttotal: 3m 33s\tremaining: 30m 55s\n",
            "103:\tlearn: 0.3895235\ttotal: 3m 34s\tremaining: 30m 51s\n",
            "104:\tlearn: 0.3889818\ttotal: 3m 36s\tremaining: 30m 44s\n",
            "105:\tlearn: 0.3883510\ttotal: 3m 38s\tremaining: 30m 38s\n",
            "106:\tlearn: 0.3877491\ttotal: 3m 39s\tremaining: 30m 32s\n",
            "107:\tlearn: 0.3871972\ttotal: 3m 41s\tremaining: 30m 26s\n",
            "108:\tlearn: 0.3864714\ttotal: 3m 42s\tremaining: 30m 21s\n",
            "109:\tlearn: 0.3856212\ttotal: 3m 44s\tremaining: 30m 15s\n",
            "110:\tlearn: 0.3850638\ttotal: 3m 45s\tremaining: 30m 9s\n",
            "111:\tlearn: 0.3845175\ttotal: 3m 47s\tremaining: 30m 3s\n",
            "112:\tlearn: 0.3839324\ttotal: 3m 49s\tremaining: 29m 58s\n",
            "113:\tlearn: 0.3834641\ttotal: 3m 50s\tremaining: 29m 52s\n",
            "114:\tlearn: 0.3827513\ttotal: 3m 52s\tremaining: 29m 46s\n",
            "115:\tlearn: 0.3821570\ttotal: 3m 53s\tremaining: 29m 42s\n",
            "116:\tlearn: 0.3816027\ttotal: 3m 55s\tremaining: 29m 39s\n",
            "117:\tlearn: 0.3810396\ttotal: 3m 57s\tremaining: 29m 33s\n",
            "118:\tlearn: 0.3800887\ttotal: 3m 58s\tremaining: 29m 28s\n",
            "119:\tlearn: 0.3794575\ttotal: 4m\tremaining: 29m 23s\n",
            "120:\tlearn: 0.3788430\ttotal: 4m 2s\tremaining: 29m 19s\n",
            "121:\tlearn: 0.3781120\ttotal: 4m 3s\tremaining: 29m 14s\n",
            "122:\tlearn: 0.3776108\ttotal: 4m 5s\tremaining: 29m 9s\n",
            "123:\tlearn: 0.3771952\ttotal: 4m 6s\tremaining: 29m 4s\n",
            "124:\tlearn: 0.3767866\ttotal: 4m 8s\tremaining: 28m 59s\n",
            "125:\tlearn: 0.3761316\ttotal: 4m 10s\tremaining: 28m 54s\n",
            "126:\tlearn: 0.3754302\ttotal: 4m 11s\tremaining: 28m 51s\n",
            "127:\tlearn: 0.3746526\ttotal: 4m 13s\tremaining: 28m 48s\n",
            "128:\tlearn: 0.3740963\ttotal: 4m 15s\tremaining: 28m 43s\n",
            "129:\tlearn: 0.3730064\ttotal: 4m 16s\tremaining: 28m 39s\n",
            "130:\tlearn: 0.3723047\ttotal: 4m 18s\tremaining: 28m 35s\n",
            "131:\tlearn: 0.3718517\ttotal: 4m 20s\tremaining: 28m 32s\n",
            "132:\tlearn: 0.3713562\ttotal: 4m 22s\tremaining: 28m 28s\n",
            "133:\tlearn: 0.3708055\ttotal: 4m 24s\tremaining: 28m 26s\n",
            "134:\tlearn: 0.3700453\ttotal: 4m 25s\tremaining: 28m 21s\n",
            "135:\tlearn: 0.3696031\ttotal: 4m 27s\tremaining: 28m 17s\n",
            "136:\tlearn: 0.3690631\ttotal: 4m 29s\tremaining: 28m 14s\n",
            "137:\tlearn: 0.3685649\ttotal: 4m 30s\tremaining: 28m 12s\n",
            "138:\tlearn: 0.3681184\ttotal: 4m 32s\tremaining: 28m 9s\n",
            "139:\tlearn: 0.3674318\ttotal: 4m 34s\tremaining: 28m 7s\n",
            "140:\tlearn: 0.3668632\ttotal: 4m 36s\tremaining: 28m 3s\n",
            "141:\tlearn: 0.3663760\ttotal: 4m 38s\tremaining: 28m 1s\n",
            "142:\tlearn: 0.3658862\ttotal: 4m 40s\tremaining: 27m 58s\n",
            "143:\tlearn: 0.3654363\ttotal: 4m 41s\tremaining: 27m 55s\n",
            "144:\tlearn: 0.3647178\ttotal: 4m 43s\tremaining: 27m 51s\n",
            "145:\tlearn: 0.3641551\ttotal: 4m 45s\tremaining: 27m 48s\n",
            "146:\tlearn: 0.3634740\ttotal: 4m 47s\tremaining: 27m 46s\n",
            "147:\tlearn: 0.3630100\ttotal: 4m 48s\tremaining: 27m 43s\n",
            "148:\tlearn: 0.3623128\ttotal: 4m 50s\tremaining: 27m 40s\n",
            "149:\tlearn: 0.3618896\ttotal: 4m 52s\tremaining: 27m 36s\n",
            "150:\tlearn: 0.3613475\ttotal: 4m 53s\tremaining: 27m 32s\n",
            "151:\tlearn: 0.3609916\ttotal: 4m 55s\tremaining: 27m 30s\n",
            "152:\tlearn: 0.3605635\ttotal: 4m 57s\tremaining: 27m 27s\n",
            "153:\tlearn: 0.3602347\ttotal: 4m 59s\tremaining: 27m 25s\n",
            "154:\tlearn: 0.3594453\ttotal: 5m 1s\tremaining: 27m 23s\n",
            "155:\tlearn: 0.3584060\ttotal: 5m 3s\tremaining: 27m 21s\n",
            "156:\tlearn: 0.3577596\ttotal: 5m 4s\tremaining: 27m 17s\n",
            "157:\tlearn: 0.3571566\ttotal: 5m 6s\tremaining: 27m 13s\n",
            "158:\tlearn: 0.3567437\ttotal: 5m 8s\tremaining: 27m 9s\n",
            "159:\tlearn: 0.3562697\ttotal: 5m 9s\tremaining: 27m 6s\n",
            "160:\tlearn: 0.3558559\ttotal: 5m 11s\tremaining: 27m 2s\n",
            "161:\tlearn: 0.3554947\ttotal: 5m 13s\tremaining: 27m\n",
            "162:\tlearn: 0.3550994\ttotal: 5m 14s\tremaining: 26m 57s\n",
            "163:\tlearn: 0.3546165\ttotal: 5m 16s\tremaining: 26m 54s\n",
            "164:\tlearn: 0.3542403\ttotal: 5m 18s\tremaining: 26m 51s\n",
            "165:\tlearn: 0.3538688\ttotal: 5m 20s\tremaining: 26m 49s\n",
            "166:\tlearn: 0.3534354\ttotal: 5m 22s\tremaining: 26m 46s\n",
            "167:\tlearn: 0.3529484\ttotal: 5m 23s\tremaining: 26m 43s\n",
            "168:\tlearn: 0.3524344\ttotal: 5m 25s\tremaining: 26m 40s\n",
            "169:\tlearn: 0.3519305\ttotal: 5m 27s\tremaining: 26m 36s\n",
            "170:\tlearn: 0.3515272\ttotal: 5m 28s\tremaining: 26m 33s\n",
            "171:\tlearn: 0.3511257\ttotal: 5m 30s\tremaining: 26m 30s\n",
            "172:\tlearn: 0.3507031\ttotal: 5m 31s\tremaining: 26m 26s\n",
            "173:\tlearn: 0.3503259\ttotal: 5m 33s\tremaining: 26m 23s\n",
            "174:\tlearn: 0.3498327\ttotal: 5m 35s\tremaining: 26m 21s\n",
            "175:\tlearn: 0.3493977\ttotal: 5m 37s\tremaining: 26m 18s\n",
            "176:\tlearn: 0.3489986\ttotal: 5m 38s\tremaining: 26m 14s\n",
            "177:\tlearn: 0.3486326\ttotal: 5m 40s\tremaining: 26m 11s\n",
            "178:\tlearn: 0.3481532\ttotal: 5m 42s\tremaining: 26m 10s\n",
            "179:\tlearn: 0.3477852\ttotal: 5m 44s\tremaining: 26m 8s\n",
            "180:\tlearn: 0.3472563\ttotal: 5m 46s\tremaining: 26m 7s\n",
            "181:\tlearn: 0.3467211\ttotal: 5m 48s\tremaining: 26m 4s\n",
            "182:\tlearn: 0.3463507\ttotal: 5m 49s\tremaining: 26m 1s\n",
            "183:\tlearn: 0.3459286\ttotal: 5m 51s\tremaining: 25m 59s\n",
            "184:\tlearn: 0.3455447\ttotal: 5m 53s\tremaining: 25m 58s\n",
            "185:\tlearn: 0.3451194\ttotal: 5m 55s\tremaining: 25m 57s\n",
            "186:\tlearn: 0.3446896\ttotal: 5m 57s\tremaining: 25m 55s\n",
            "187:\tlearn: 0.3441781\ttotal: 5m 59s\tremaining: 25m 53s\n",
            "188:\tlearn: 0.3437298\ttotal: 6m 1s\tremaining: 25m 52s\n",
            "189:\tlearn: 0.3432769\ttotal: 6m 3s\tremaining: 25m 50s\n",
            "190:\tlearn: 0.3428517\ttotal: 6m 5s\tremaining: 25m 46s\n",
            "191:\tlearn: 0.3423409\ttotal: 6m 7s\tremaining: 25m 44s\n",
            "192:\tlearn: 0.3418934\ttotal: 6m 8s\tremaining: 25m 42s\n",
            "193:\tlearn: 0.3416096\ttotal: 6m 11s\tremaining: 25m 41s\n",
            "194:\tlearn: 0.3410632\ttotal: 6m 12s\tremaining: 25m 39s\n",
            "195:\tlearn: 0.3406621\ttotal: 6m 14s\tremaining: 25m 36s\n",
            "196:\tlearn: 0.3397972\ttotal: 6m 16s\tremaining: 25m 33s\n",
            "197:\tlearn: 0.3393786\ttotal: 6m 17s\tremaining: 25m 30s\n",
            "198:\tlearn: 0.3387408\ttotal: 6m 19s\tremaining: 25m 28s\n",
            "199:\tlearn: 0.3384026\ttotal: 6m 21s\tremaining: 25m 25s\n",
            "200:\tlearn: 0.3379104\ttotal: 6m 23s\tremaining: 25m 23s\n",
            "201:\tlearn: 0.3376182\ttotal: 6m 25s\tremaining: 25m 22s\n",
            "202:\tlearn: 0.3372488\ttotal: 6m 26s\tremaining: 25m 19s\n",
            "203:\tlearn: 0.3368969\ttotal: 6m 28s\tremaining: 25m 16s\n",
            "204:\tlearn: 0.3365911\ttotal: 6m 30s\tremaining: 25m 14s\n",
            "205:\tlearn: 0.3361302\ttotal: 6m 32s\tremaining: 25m 11s\n",
            "206:\tlearn: 0.3357760\ttotal: 6m 33s\tremaining: 25m 9s\n",
            "207:\tlearn: 0.3353594\ttotal: 6m 35s\tremaining: 25m 6s\n",
            "208:\tlearn: 0.3349623\ttotal: 6m 37s\tremaining: 25m 3s\n",
            "209:\tlearn: 0.3346109\ttotal: 6m 38s\tremaining: 25m\n",
            "210:\tlearn: 0.3343334\ttotal: 6m 40s\tremaining: 24m 58s\n",
            "211:\tlearn: 0.3339976\ttotal: 6m 42s\tremaining: 24m 55s\n",
            "212:\tlearn: 0.3337210\ttotal: 6m 44s\tremaining: 24m 53s\n",
            "213:\tlearn: 0.3334019\ttotal: 6m 45s\tremaining: 24m 50s\n",
            "214:\tlearn: 0.3330329\ttotal: 6m 47s\tremaining: 24m 48s\n",
            "215:\tlearn: 0.3326356\ttotal: 6m 49s\tremaining: 24m 46s\n",
            "216:\tlearn: 0.3321787\ttotal: 6m 51s\tremaining: 24m 43s\n",
            "217:\tlearn: 0.3318999\ttotal: 6m 52s\tremaining: 24m 41s\n",
            "218:\tlearn: 0.3316025\ttotal: 6m 54s\tremaining: 24m 38s\n",
            "219:\tlearn: 0.3310636\ttotal: 6m 56s\tremaining: 24m 36s\n",
            "220:\tlearn: 0.3306898\ttotal: 6m 58s\tremaining: 24m 33s\n",
            "221:\tlearn: 0.3303515\ttotal: 6m 59s\tremaining: 24m 31s\n",
            "222:\tlearn: 0.3300100\ttotal: 7m 1s\tremaining: 24m 28s\n",
            "223:\tlearn: 0.3297447\ttotal: 7m 3s\tremaining: 24m 25s\n",
            "224:\tlearn: 0.3294539\ttotal: 7m 4s\tremaining: 24m 23s\n",
            "225:\tlearn: 0.3290907\ttotal: 7m 6s\tremaining: 24m 21s\n",
            "226:\tlearn: 0.3287877\ttotal: 7m 8s\tremaining: 24m 18s\n",
            "227:\tlearn: 0.3285024\ttotal: 7m 10s\tremaining: 24m 16s\n",
            "228:\tlearn: 0.3281714\ttotal: 7m 11s\tremaining: 24m 13s\n",
            "229:\tlearn: 0.3276715\ttotal: 7m 13s\tremaining: 24m 11s\n",
            "230:\tlearn: 0.3273498\ttotal: 7m 16s\tremaining: 24m 11s\n",
            "231:\tlearn: 0.3268356\ttotal: 7m 18s\tremaining: 24m 10s\n",
            "232:\tlearn: 0.3264584\ttotal: 7m 20s\tremaining: 24m 9s\n",
            "233:\tlearn: 0.3261029\ttotal: 7m 21s\tremaining: 24m 6s\n",
            "234:\tlearn: 0.3258235\ttotal: 7m 23s\tremaining: 24m 4s\n",
            "235:\tlearn: 0.3254408\ttotal: 7m 25s\tremaining: 24m 1s\n",
            "236:\tlearn: 0.3251276\ttotal: 7m 27s\tremaining: 23m 59s\n",
            "237:\tlearn: 0.3248142\ttotal: 7m 28s\tremaining: 23m 56s\n",
            "238:\tlearn: 0.3245386\ttotal: 7m 30s\tremaining: 23m 54s\n",
            "239:\tlearn: 0.3242366\ttotal: 7m 32s\tremaining: 23m 52s\n",
            "240:\tlearn: 0.3239282\ttotal: 7m 33s\tremaining: 23m 49s\n",
            "241:\tlearn: 0.3236011\ttotal: 7m 35s\tremaining: 23m 46s\n",
            "242:\tlearn: 0.3231884\ttotal: 7m 37s\tremaining: 23m 44s\n",
            "243:\tlearn: 0.3229526\ttotal: 7m 38s\tremaining: 23m 41s\n",
            "244:\tlearn: 0.3226841\ttotal: 7m 40s\tremaining: 23m 39s\n",
            "245:\tlearn: 0.3221557\ttotal: 7m 42s\tremaining: 23m 36s\n",
            "246:\tlearn: 0.3217132\ttotal: 7m 43s\tremaining: 23m 34s\n",
            "247:\tlearn: 0.3212958\ttotal: 7m 45s\tremaining: 23m 31s\n",
            "248:\tlearn: 0.3209151\ttotal: 7m 47s\tremaining: 23m 29s\n",
            "249:\tlearn: 0.3206346\ttotal: 7m 49s\tremaining: 23m 27s\n",
            "250:\tlearn: 0.3203057\ttotal: 7m 50s\tremaining: 23m 24s\n",
            "251:\tlearn: 0.3200363\ttotal: 7m 52s\tremaining: 23m 22s\n",
            "252:\tlearn: 0.3192817\ttotal: 7m 54s\tremaining: 23m 20s\n",
            "253:\tlearn: 0.3189213\ttotal: 7m 55s\tremaining: 23m 17s\n",
            "254:\tlearn: 0.3186701\ttotal: 7m 57s\tremaining: 23m 16s\n",
            "255:\tlearn: 0.3182716\ttotal: 7m 59s\tremaining: 23m 13s\n",
            "256:\tlearn: 0.3179190\ttotal: 8m 1s\tremaining: 23m 11s\n",
            "257:\tlearn: 0.3176624\ttotal: 8m 3s\tremaining: 23m 9s\n",
            "258:\tlearn: 0.3173044\ttotal: 8m 4s\tremaining: 23m 7s\n",
            "259:\tlearn: 0.3169883\ttotal: 8m 6s\tremaining: 23m 5s\n",
            "260:\tlearn: 0.3167135\ttotal: 8m 8s\tremaining: 23m 3s\n",
            "261:\tlearn: 0.3164928\ttotal: 8m 10s\tremaining: 23m 1s\n",
            "262:\tlearn: 0.3162308\ttotal: 8m 11s\tremaining: 22m 58s\n",
            "263:\tlearn: 0.3159117\ttotal: 8m 13s\tremaining: 22m 56s\n",
            "264:\tlearn: 0.3155972\ttotal: 8m 15s\tremaining: 22m 53s\n",
            "265:\tlearn: 0.3152673\ttotal: 8m 16s\tremaining: 22m 51s\n",
            "266:\tlearn: 0.3149424\ttotal: 8m 18s\tremaining: 22m 48s\n",
            "267:\tlearn: 0.3147060\ttotal: 8m 20s\tremaining: 22m 46s\n",
            "268:\tlearn: 0.3143807\ttotal: 8m 21s\tremaining: 22m 44s\n",
            "269:\tlearn: 0.3141059\ttotal: 8m 23s\tremaining: 22m 42s\n",
            "270:\tlearn: 0.3138120\ttotal: 8m 25s\tremaining: 22m 40s\n",
            "271:\tlearn: 0.3134420\ttotal: 8m 27s\tremaining: 22m 39s\n",
            "272:\tlearn: 0.3131574\ttotal: 8m 29s\tremaining: 22m 36s\n",
            "273:\tlearn: 0.3129088\ttotal: 8m 31s\tremaining: 22m 34s\n",
            "274:\tlearn: 0.3125601\ttotal: 8m 33s\tremaining: 22m 32s\n",
            "275:\tlearn: 0.3121163\ttotal: 8m 34s\tremaining: 22m 30s\n",
            "276:\tlearn: 0.3117457\ttotal: 8m 36s\tremaining: 22m 28s\n",
            "277:\tlearn: 0.3112328\ttotal: 8m 38s\tremaining: 22m 25s\n",
            "278:\tlearn: 0.3109607\ttotal: 8m 39s\tremaining: 22m 23s\n",
            "279:\tlearn: 0.3106648\ttotal: 8m 41s\tremaining: 22m 21s\n",
            "280:\tlearn: 0.3104220\ttotal: 8m 43s\tremaining: 22m 18s\n",
            "281:\tlearn: 0.3101113\ttotal: 8m 44s\tremaining: 22m 16s\n",
            "282:\tlearn: 0.3098560\ttotal: 8m 46s\tremaining: 22m 14s\n",
            "283:\tlearn: 0.3096238\ttotal: 8m 48s\tremaining: 22m 12s\n",
            "284:\tlearn: 0.3093481\ttotal: 8m 50s\tremaining: 22m 10s\n",
            "285:\tlearn: 0.3091015\ttotal: 8m 51s\tremaining: 22m 8s\n",
            "286:\tlearn: 0.3088210\ttotal: 8m 53s\tremaining: 22m 5s\n",
            "287:\tlearn: 0.3085190\ttotal: 8m 55s\tremaining: 22m 3s\n",
            "288:\tlearn: 0.3083203\ttotal: 8m 57s\tremaining: 22m 1s\n",
            "289:\tlearn: 0.3080015\ttotal: 8m 59s\tremaining: 21m 59s\n",
            "290:\tlearn: 0.3075134\ttotal: 9m\tremaining: 21m 57s\n",
            "291:\tlearn: 0.3072412\ttotal: 9m 2s\tremaining: 21m 56s\n",
            "292:\tlearn: 0.3069279\ttotal: 9m 4s\tremaining: 21m 54s\n",
            "293:\tlearn: 0.3066451\ttotal: 9m 6s\tremaining: 21m 51s\n",
            "294:\tlearn: 0.3062237\ttotal: 9m 7s\tremaining: 21m 49s\n",
            "295:\tlearn: 0.3060285\ttotal: 9m 9s\tremaining: 21m 47s\n",
            "296:\tlearn: 0.3057916\ttotal: 9m 11s\tremaining: 21m 44s\n",
            "297:\tlearn: 0.3055741\ttotal: 9m 12s\tremaining: 21m 42s\n",
            "298:\tlearn: 0.3052259\ttotal: 9m 14s\tremaining: 21m 40s\n",
            "299:\tlearn: 0.3050043\ttotal: 9m 16s\tremaining: 21m 38s\n",
            "300:\tlearn: 0.3046776\ttotal: 9m 18s\tremaining: 21m 35s\n",
            "301:\tlearn: 0.3043468\ttotal: 9m 19s\tremaining: 21m 34s\n",
            "302:\tlearn: 0.3041295\ttotal: 9m 21s\tremaining: 21m 32s\n",
            "303:\tlearn: 0.3037953\ttotal: 9m 23s\tremaining: 21m 29s\n",
            "304:\tlearn: 0.3035452\ttotal: 9m 25s\tremaining: 21m 27s\n",
            "305:\tlearn: 0.3033274\ttotal: 9m 27s\tremaining: 21m 26s\n",
            "306:\tlearn: 0.3030782\ttotal: 9m 28s\tremaining: 21m 24s\n",
            "307:\tlearn: 0.3028220\ttotal: 9m 30s\tremaining: 21m 21s\n",
            "308:\tlearn: 0.3026310\ttotal: 9m 32s\tremaining: 21m 19s\n",
            "309:\tlearn: 0.3023467\ttotal: 9m 33s\tremaining: 21m 17s\n",
            "310:\tlearn: 0.3020261\ttotal: 9m 35s\tremaining: 21m 15s\n",
            "311:\tlearn: 0.3016691\ttotal: 9m 37s\tremaining: 21m 13s\n",
            "312:\tlearn: 0.3014546\ttotal: 9m 39s\tremaining: 21m 11s\n",
            "313:\tlearn: 0.3012224\ttotal: 9m 41s\tremaining: 21m 10s\n",
            "314:\tlearn: 0.3008890\ttotal: 9m 43s\tremaining: 21m 8s\n",
            "315:\tlearn: 0.3007125\ttotal: 9m 44s\tremaining: 21m 6s\n",
            "316:\tlearn: 0.3004630\ttotal: 9m 46s\tremaining: 21m 3s\n",
            "317:\tlearn: 0.3002029\ttotal: 9m 48s\tremaining: 21m 1s\n",
            "318:\tlearn: 0.2999714\ttotal: 9m 50s\tremaining: 21m\n",
            "319:\tlearn: 0.2997330\ttotal: 9m 52s\tremaining: 20m 58s\n",
            "320:\tlearn: 0.2994352\ttotal: 9m 53s\tremaining: 20m 56s\n",
            "321:\tlearn: 0.2992179\ttotal: 9m 55s\tremaining: 20m 54s\n",
            "322:\tlearn: 0.2989244\ttotal: 9m 57s\tremaining: 20m 53s\n",
            "323:\tlearn: 0.2987094\ttotal: 10m\tremaining: 20m 51s\n",
            "324:\tlearn: 0.2983923\ttotal: 10m 1s\tremaining: 20m 49s\n",
            "325:\tlearn: 0.2981954\ttotal: 10m 3s\tremaining: 20m 47s\n",
            "326:\tlearn: 0.2979643\ttotal: 10m 5s\tremaining: 20m 46s\n",
            "327:\tlearn: 0.2971552\ttotal: 10m 7s\tremaining: 20m 44s\n",
            "328:\tlearn: 0.2969523\ttotal: 10m 9s\tremaining: 20m 42s\n",
            "329:\tlearn: 0.2965643\ttotal: 10m 11s\tremaining: 20m 40s\n",
            "330:\tlearn: 0.2963532\ttotal: 10m 12s\tremaining: 20m 38s\n",
            "331:\tlearn: 0.2960999\ttotal: 10m 14s\tremaining: 20m 36s\n",
            "332:\tlearn: 0.2959069\ttotal: 10m 16s\tremaining: 20m 34s\n",
            "333:\tlearn: 0.2956297\ttotal: 10m 18s\tremaining: 20m 32s\n",
            "334:\tlearn: 0.2954530\ttotal: 10m 20s\tremaining: 20m 30s\n",
            "335:\tlearn: 0.2952506\ttotal: 10m 21s\tremaining: 20m 29s\n",
            "336:\tlearn: 0.2948337\ttotal: 10m 23s\tremaining: 20m 27s\n",
            "337:\tlearn: 0.2945953\ttotal: 10m 25s\tremaining: 20m 25s\n",
            "338:\tlearn: 0.2943299\ttotal: 10m 27s\tremaining: 20m 23s\n",
            "339:\tlearn: 0.2941405\ttotal: 10m 28s\tremaining: 20m 20s\n",
            "340:\tlearn: 0.2939123\ttotal: 10m 31s\tremaining: 20m 19s\n",
            "341:\tlearn: 0.2937214\ttotal: 10m 33s\tremaining: 20m 18s\n",
            "342:\tlearn: 0.2934840\ttotal: 10m 35s\tremaining: 20m 16s\n",
            "343:\tlearn: 0.2932050\ttotal: 10m 36s\tremaining: 20m 14s\n",
            "344:\tlearn: 0.2930268\ttotal: 10m 38s\tremaining: 20m 12s\n",
            "345:\tlearn: 0.2927107\ttotal: 10m 40s\tremaining: 20m 9s\n",
            "346:\tlearn: 0.2924812\ttotal: 10m 42s\tremaining: 20m 8s\n",
            "347:\tlearn: 0.2922995\ttotal: 10m 43s\tremaining: 20m 6s\n",
            "348:\tlearn: 0.2920554\ttotal: 10m 45s\tremaining: 20m 4s\n",
            "349:\tlearn: 0.2917918\ttotal: 10m 47s\tremaining: 20m 2s\n",
            "350:\tlearn: 0.2915321\ttotal: 10m 49s\tremaining: 20m\n",
            "351:\tlearn: 0.2912851\ttotal: 10m 51s\tremaining: 19m 58s\n",
            "352:\tlearn: 0.2910833\ttotal: 10m 52s\tremaining: 19m 56s\n",
            "353:\tlearn: 0.2907120\ttotal: 10m 54s\tremaining: 19m 54s\n",
            "354:\tlearn: 0.2905257\ttotal: 10m 56s\tremaining: 19m 52s\n",
            "355:\tlearn: 0.2903003\ttotal: 10m 58s\tremaining: 19m 50s\n",
            "356:\tlearn: 0.2900500\ttotal: 10m 59s\tremaining: 19m 48s\n",
            "357:\tlearn: 0.2898466\ttotal: 11m 1s\tremaining: 19m 46s\n",
            "358:\tlearn: 0.2896417\ttotal: 11m 3s\tremaining: 19m 44s\n",
            "359:\tlearn: 0.2894404\ttotal: 11m 4s\tremaining: 19m 42s\n",
            "360:\tlearn: 0.2892118\ttotal: 11m 6s\tremaining: 19m 40s\n",
            "361:\tlearn: 0.2889748\ttotal: 11m 8s\tremaining: 19m 37s\n",
            "362:\tlearn: 0.2888048\ttotal: 11m 10s\tremaining: 19m 35s\n",
            "363:\tlearn: 0.2886149\ttotal: 11m 12s\tremaining: 19m 34s\n",
            "364:\tlearn: 0.2884388\ttotal: 11m 14s\tremaining: 19m 32s\n",
            "365:\tlearn: 0.2882796\ttotal: 11m 15s\tremaining: 19m 30s\n",
            "366:\tlearn: 0.2880524\ttotal: 11m 17s\tremaining: 19m 28s\n",
            "367:\tlearn: 0.2879166\ttotal: 11m 19s\tremaining: 19m 27s\n",
            "368:\tlearn: 0.2876433\ttotal: 11m 21s\tremaining: 19m 25s\n",
            "369:\tlearn: 0.2873671\ttotal: 11m 23s\tremaining: 19m 23s\n",
            "370:\tlearn: 0.2871185\ttotal: 11m 24s\tremaining: 19m 21s\n",
            "371:\tlearn: 0.2869336\ttotal: 11m 26s\tremaining: 19m 18s\n",
            "372:\tlearn: 0.2866649\ttotal: 11m 28s\tremaining: 19m 16s\n",
            "373:\tlearn: 0.2865457\ttotal: 11m 29s\tremaining: 19m 14s\n",
            "374:\tlearn: 0.2863625\ttotal: 11m 31s\tremaining: 19m 13s\n",
            "375:\tlearn: 0.2861023\ttotal: 11m 33s\tremaining: 19m 10s\n",
            "376:\tlearn: 0.2858499\ttotal: 11m 35s\tremaining: 19m 9s\n",
            "377:\tlearn: 0.2856131\ttotal: 11m 37s\tremaining: 19m 7s\n",
            "378:\tlearn: 0.2853874\ttotal: 11m 38s\tremaining: 19m 5s\n",
            "379:\tlearn: 0.2851834\ttotal: 11m 40s\tremaining: 19m 3s\n",
            "380:\tlearn: 0.2849355\ttotal: 11m 42s\tremaining: 19m 1s\n",
            "381:\tlearn: 0.2847150\ttotal: 11m 44s\tremaining: 18m 59s\n",
            "382:\tlearn: 0.2845188\ttotal: 11m 46s\tremaining: 18m 57s\n",
            "383:\tlearn: 0.2843288\ttotal: 11m 47s\tremaining: 18m 55s\n",
            "384:\tlearn: 0.2840874\ttotal: 11m 49s\tremaining: 18m 53s\n",
            "385:\tlearn: 0.2838143\ttotal: 11m 51s\tremaining: 18m 51s\n",
            "386:\tlearn: 0.2836569\ttotal: 11m 52s\tremaining: 18m 49s\n",
            "387:\tlearn: 0.2834392\ttotal: 11m 55s\tremaining: 18m 47s\n",
            "388:\tlearn: 0.2832074\ttotal: 11m 56s\tremaining: 18m 45s\n",
            "389:\tlearn: 0.2830162\ttotal: 11m 58s\tremaining: 18m 44s\n",
            "390:\tlearn: 0.2828097\ttotal: 12m\tremaining: 18m 42s\n",
            "391:\tlearn: 0.2825902\ttotal: 12m 2s\tremaining: 18m 40s\n",
            "392:\tlearn: 0.2823715\ttotal: 12m 4s\tremaining: 18m 38s\n",
            "393:\tlearn: 0.2820989\ttotal: 12m 6s\tremaining: 18m 36s\n",
            "394:\tlearn: 0.2818791\ttotal: 12m 7s\tremaining: 18m 34s\n",
            "395:\tlearn: 0.2815897\ttotal: 12m 9s\tremaining: 18m 32s\n",
            "396:\tlearn: 0.2814467\ttotal: 12m 11s\tremaining: 18m 30s\n",
            "397:\tlearn: 0.2812404\ttotal: 12m 12s\tremaining: 18m 28s\n",
            "398:\tlearn: 0.2810539\ttotal: 12m 15s\tremaining: 18m 27s\n",
            "399:\tlearn: 0.2808605\ttotal: 12m 17s\tremaining: 18m 25s\n",
            "400:\tlearn: 0.2806256\ttotal: 12m 18s\tremaining: 18m 23s\n",
            "401:\tlearn: 0.2804378\ttotal: 12m 20s\tremaining: 18m 21s\n",
            "402:\tlearn: 0.2803357\ttotal: 12m 22s\tremaining: 18m 19s\n",
            "403:\tlearn: 0.2801571\ttotal: 12m 23s\tremaining: 18m 17s\n",
            "404:\tlearn: 0.2799542\ttotal: 12m 25s\tremaining: 18m 15s\n",
            "405:\tlearn: 0.2796177\ttotal: 12m 27s\tremaining: 18m 13s\n",
            "406:\tlearn: 0.2794668\ttotal: 12m 29s\tremaining: 18m 11s\n",
            "407:\tlearn: 0.2793010\ttotal: 12m 30s\tremaining: 18m 9s\n",
            "408:\tlearn: 0.2791075\ttotal: 12m 32s\tremaining: 18m 7s\n",
            "409:\tlearn: 0.2789447\ttotal: 12m 34s\tremaining: 18m 5s\n",
            "410:\tlearn: 0.2788003\ttotal: 12m 36s\tremaining: 18m 3s\n",
            "411:\tlearn: 0.2785374\ttotal: 12m 38s\tremaining: 18m 2s\n",
            "412:\tlearn: 0.2782595\ttotal: 12m 39s\tremaining: 18m\n",
            "413:\tlearn: 0.2781102\ttotal: 12m 41s\tremaining: 17m 58s\n",
            "414:\tlearn: 0.2779027\ttotal: 12m 43s\tremaining: 17m 56s\n",
            "415:\tlearn: 0.2777539\ttotal: 12m 45s\tremaining: 17m 54s\n",
            "416:\tlearn: 0.2775355\ttotal: 12m 46s\tremaining: 17m 52s\n",
            "417:\tlearn: 0.2772737\ttotal: 12m 48s\tremaining: 17m 50s\n",
            "418:\tlearn: 0.2770321\ttotal: 12m 50s\tremaining: 17m 48s\n",
            "419:\tlearn: 0.2768925\ttotal: 12m 52s\tremaining: 17m 46s\n",
            "420:\tlearn: 0.2766347\ttotal: 12m 53s\tremaining: 17m 44s\n",
            "421:\tlearn: 0.2765226\ttotal: 12m 55s\tremaining: 17m 42s\n",
            "422:\tlearn: 0.2764148\ttotal: 12m 57s\tremaining: 17m 40s\n",
            "423:\tlearn: 0.2761937\ttotal: 12m 59s\tremaining: 17m 38s\n",
            "424:\tlearn: 0.2759498\ttotal: 13m\tremaining: 17m 36s\n",
            "425:\tlearn: 0.2758523\ttotal: 13m 2s\tremaining: 17m 34s\n",
            "426:\tlearn: 0.2756891\ttotal: 13m 4s\tremaining: 17m 32s\n",
            "427:\tlearn: 0.2755360\ttotal: 13m 6s\tremaining: 17m 30s\n",
            "428:\tlearn: 0.2753418\ttotal: 13m 8s\tremaining: 17m 29s\n",
            "429:\tlearn: 0.2751363\ttotal: 13m 9s\tremaining: 17m 27s\n",
            "430:\tlearn: 0.2749896\ttotal: 13m 11s\tremaining: 17m 25s\n",
            "431:\tlearn: 0.2748186\ttotal: 13m 13s\tremaining: 17m 23s\n",
            "432:\tlearn: 0.2746653\ttotal: 13m 15s\tremaining: 17m 21s\n",
            "433:\tlearn: 0.2745023\ttotal: 13m 17s\tremaining: 17m 19s\n",
            "434:\tlearn: 0.2742752\ttotal: 13m 18s\tremaining: 17m 17s\n",
            "435:\tlearn: 0.2741023\ttotal: 13m 20s\tremaining: 17m 15s\n",
            "436:\tlearn: 0.2734665\ttotal: 13m 22s\tremaining: 17m 13s\n",
            "437:\tlearn: 0.2732937\ttotal: 13m 24s\tremaining: 17m 11s\n",
            "438:\tlearn: 0.2731671\ttotal: 13m 25s\tremaining: 17m 9s\n",
            "439:\tlearn: 0.2730146\ttotal: 13m 27s\tremaining: 17m 7s\n",
            "440:\tlearn: 0.2728582\ttotal: 13m 29s\tremaining: 17m 5s\n",
            "441:\tlearn: 0.2726888\ttotal: 13m 30s\tremaining: 17m 3s\n",
            "442:\tlearn: 0.2725006\ttotal: 13m 32s\tremaining: 17m 1s\n",
            "443:\tlearn: 0.2723006\ttotal: 13m 34s\tremaining: 16m 59s\n",
            "444:\tlearn: 0.2721765\ttotal: 13m 36s\tremaining: 16m 57s\n",
            "445:\tlearn: 0.2720214\ttotal: 13m 37s\tremaining: 16m 55s\n",
            "446:\tlearn: 0.2717871\ttotal: 13m 39s\tremaining: 16m 53s\n",
            "447:\tlearn: 0.2716529\ttotal: 13m 41s\tremaining: 16m 51s\n",
            "448:\tlearn: 0.2714173\ttotal: 13m 42s\tremaining: 16m 49s\n",
            "449:\tlearn: 0.2711978\ttotal: 13m 44s\tremaining: 16m 47s\n",
            "450:\tlearn: 0.2710027\ttotal: 13m 46s\tremaining: 16m 46s\n",
            "451:\tlearn: 0.2708257\ttotal: 13m 48s\tremaining: 16m 44s\n",
            "452:\tlearn: 0.2707171\ttotal: 13m 50s\tremaining: 16m 42s\n",
            "453:\tlearn: 0.2705050\ttotal: 13m 51s\tremaining: 16m 40s\n",
            "454:\tlearn: 0.2703153\ttotal: 13m 53s\tremaining: 16m 38s\n",
            "455:\tlearn: 0.2701747\ttotal: 13m 55s\tremaining: 16m 37s\n",
            "456:\tlearn: 0.2699805\ttotal: 13m 57s\tremaining: 16m 35s\n",
            "457:\tlearn: 0.2697305\ttotal: 13m 59s\tremaining: 16m 33s\n",
            "458:\tlearn: 0.2695225\ttotal: 14m 1s\tremaining: 16m 31s\n",
            "459:\tlearn: 0.2693822\ttotal: 14m 2s\tremaining: 16m 29s\n",
            "460:\tlearn: 0.2692638\ttotal: 14m 4s\tremaining: 16m 27s\n",
            "461:\tlearn: 0.2690963\ttotal: 14m 6s\tremaining: 16m 25s\n",
            "462:\tlearn: 0.2688784\ttotal: 14m 8s\tremaining: 16m 23s\n",
            "463:\tlearn: 0.2687834\ttotal: 14m 10s\tremaining: 16m 22s\n",
            "464:\tlearn: 0.2686006\ttotal: 14m 12s\tremaining: 16m 20s\n",
            "465:\tlearn: 0.2684332\ttotal: 14m 14s\tremaining: 16m 18s\n",
            "466:\tlearn: 0.2682003\ttotal: 14m 16s\tremaining: 16m 17s\n",
            "467:\tlearn: 0.2680824\ttotal: 14m 18s\tremaining: 16m 15s\n",
            "468:\tlearn: 0.2679502\ttotal: 14m 20s\tremaining: 16m 14s\n",
            "469:\tlearn: 0.2678222\ttotal: 14m 22s\tremaining: 16m 12s\n",
            "470:\tlearn: 0.2677057\ttotal: 14m 24s\tremaining: 16m 10s\n",
            "471:\tlearn: 0.2674799\ttotal: 14m 26s\tremaining: 16m 8s\n",
            "472:\tlearn: 0.2673342\ttotal: 14m 28s\tremaining: 16m 7s\n",
            "473:\tlearn: 0.2671755\ttotal: 14m 29s\tremaining: 16m 5s\n",
            "474:\tlearn: 0.2670681\ttotal: 14m 31s\tremaining: 16m 3s\n",
            "475:\tlearn: 0.2669059\ttotal: 14m 33s\tremaining: 16m 1s\n",
            "476:\tlearn: 0.2667542\ttotal: 14m 34s\tremaining: 15m 59s\n",
            "477:\tlearn: 0.2665543\ttotal: 14m 37s\tremaining: 15m 58s\n",
            "478:\tlearn: 0.2664331\ttotal: 14m 40s\tremaining: 15m 57s\n",
            "479:\tlearn: 0.2663500\ttotal: 14m 42s\tremaining: 15m 55s\n",
            "480:\tlearn: 0.2661998\ttotal: 14m 44s\tremaining: 15m 54s\n",
            "481:\tlearn: 0.2660271\ttotal: 14m 45s\tremaining: 15m 52s\n",
            "482:\tlearn: 0.2658469\ttotal: 14m 47s\tremaining: 15m 50s\n",
            "483:\tlearn: 0.2657128\ttotal: 14m 49s\tremaining: 15m 48s\n",
            "484:\tlearn: 0.2655325\ttotal: 14m 51s\tremaining: 15m 46s\n",
            "485:\tlearn: 0.2652231\ttotal: 14m 53s\tremaining: 15m 44s\n",
            "486:\tlearn: 0.2650724\ttotal: 14m 54s\tremaining: 15m 42s\n",
            "487:\tlearn: 0.2649481\ttotal: 14m 56s\tremaining: 15m 40s\n",
            "488:\tlearn: 0.2647806\ttotal: 14m 58s\tremaining: 15m 38s\n",
            "489:\tlearn: 0.2644029\ttotal: 15m\tremaining: 15m 37s\n",
            "490:\tlearn: 0.2642739\ttotal: 15m 2s\tremaining: 15m 35s\n",
            "491:\tlearn: 0.2641239\ttotal: 15m 4s\tremaining: 15m 33s\n",
            "492:\tlearn: 0.2639624\ttotal: 15m 6s\tremaining: 15m 31s\n",
            "493:\tlearn: 0.2637963\ttotal: 15m 7s\tremaining: 15m 29s\n",
            "494:\tlearn: 0.2636579\ttotal: 15m 9s\tremaining: 15m 28s\n",
            "495:\tlearn: 0.2634573\ttotal: 15m 11s\tremaining: 15m 26s\n",
            "496:\tlearn: 0.2633807\ttotal: 15m 13s\tremaining: 15m 24s\n",
            "497:\tlearn: 0.2631069\ttotal: 15m 14s\tremaining: 15m 22s\n",
            "498:\tlearn: 0.2628949\ttotal: 15m 16s\tremaining: 15m 20s\n",
            "499:\tlearn: 0.2627049\ttotal: 15m 18s\tremaining: 15m 18s\n",
            "500:\tlearn: 0.2625976\ttotal: 15m 19s\tremaining: 15m 16s\n",
            "501:\tlearn: 0.2624748\ttotal: 15m 21s\tremaining: 15m 14s\n",
            "502:\tlearn: 0.2623347\ttotal: 15m 23s\tremaining: 15m 12s\n",
            "503:\tlearn: 0.2621248\ttotal: 15m 25s\tremaining: 15m 10s\n",
            "504:\tlearn: 0.2619886\ttotal: 15m 26s\tremaining: 15m 8s\n",
            "505:\tlearn: 0.2619029\ttotal: 15m 28s\tremaining: 15m 6s\n",
            "506:\tlearn: 0.2617706\ttotal: 15m 30s\tremaining: 15m 4s\n",
            "507:\tlearn: 0.2616729\ttotal: 15m 32s\tremaining: 15m 2s\n",
            "508:\tlearn: 0.2615221\ttotal: 15m 33s\tremaining: 15m\n",
            "509:\tlearn: 0.2613775\ttotal: 15m 35s\tremaining: 14m 58s\n",
            "510:\tlearn: 0.2612220\ttotal: 15m 37s\tremaining: 14m 56s\n",
            "511:\tlearn: 0.2610866\ttotal: 15m 38s\tremaining: 14m 54s\n",
            "512:\tlearn: 0.2609407\ttotal: 15m 40s\tremaining: 14m 52s\n",
            "513:\tlearn: 0.2608313\ttotal: 15m 42s\tremaining: 14m 51s\n",
            "514:\tlearn: 0.2606338\ttotal: 15m 44s\tremaining: 14m 49s\n",
            "515:\tlearn: 0.2605322\ttotal: 15m 45s\tremaining: 14m 47s\n",
            "516:\tlearn: 0.2603716\ttotal: 15m 47s\tremaining: 14m 45s\n",
            "517:\tlearn: 0.2602920\ttotal: 15m 49s\tremaining: 14m 43s\n",
            "518:\tlearn: 0.2601691\ttotal: 15m 51s\tremaining: 14m 41s\n",
            "519:\tlearn: 0.2600223\ttotal: 15m 52s\tremaining: 14m 39s\n",
            "520:\tlearn: 0.2598626\ttotal: 15m 54s\tremaining: 14m 37s\n",
            "521:\tlearn: 0.2597349\ttotal: 15m 56s\tremaining: 14m 35s\n",
            "522:\tlearn: 0.2596367\ttotal: 15m 57s\tremaining: 14m 33s\n",
            "523:\tlearn: 0.2595211\ttotal: 15m 59s\tremaining: 14m 31s\n",
            "524:\tlearn: 0.2593804\ttotal: 16m 1s\tremaining: 14m 29s\n",
            "525:\tlearn: 0.2592603\ttotal: 16m 3s\tremaining: 14m 27s\n",
            "526:\tlearn: 0.2591211\ttotal: 16m 4s\tremaining: 14m 26s\n",
            "527:\tlearn: 0.2589762\ttotal: 16m 6s\tremaining: 14m 24s\n",
            "528:\tlearn: 0.2585323\ttotal: 16m 8s\tremaining: 14m 22s\n",
            "529:\tlearn: 0.2584159\ttotal: 16m 10s\tremaining: 14m 20s\n",
            "530:\tlearn: 0.2582825\ttotal: 16m 12s\tremaining: 14m 18s\n",
            "531:\tlearn: 0.2581526\ttotal: 16m 14s\tremaining: 14m 17s\n",
            "532:\tlearn: 0.2580409\ttotal: 16m 16s\tremaining: 14m 15s\n",
            "533:\tlearn: 0.2578952\ttotal: 16m 17s\tremaining: 14m 13s\n",
            "534:\tlearn: 0.2577681\ttotal: 16m 19s\tremaining: 14m 11s\n",
            "535:\tlearn: 0.2576592\ttotal: 16m 21s\tremaining: 14m 9s\n",
            "536:\tlearn: 0.2574971\ttotal: 16m 22s\tremaining: 14m 7s\n",
            "537:\tlearn: 0.2573048\ttotal: 16m 24s\tremaining: 14m 5s\n",
            "538:\tlearn: 0.2572350\ttotal: 16m 26s\tremaining: 14m 3s\n",
            "539:\tlearn: 0.2571313\ttotal: 16m 28s\tremaining: 14m 1s\n",
            "540:\tlearn: 0.2569527\ttotal: 16m 30s\tremaining: 14m\n",
            "541:\tlearn: 0.2568086\ttotal: 16m 32s\tremaining: 13m 58s\n",
            "542:\tlearn: 0.2567289\ttotal: 16m 34s\tremaining: 13m 56s\n",
            "543:\tlearn: 0.2565847\ttotal: 16m 35s\tremaining: 13m 54s\n",
            "544:\tlearn: 0.2564191\ttotal: 16m 37s\tremaining: 13m 53s\n",
            "545:\tlearn: 0.2562678\ttotal: 16m 39s\tremaining: 13m 51s\n",
            "546:\tlearn: 0.2561706\ttotal: 16m 41s\tremaining: 13m 49s\n",
            "547:\tlearn: 0.2560317\ttotal: 16m 42s\tremaining: 13m 47s\n",
            "548:\tlearn: 0.2559588\ttotal: 16m 44s\tremaining: 13m 45s\n",
            "549:\tlearn: 0.2557529\ttotal: 16m 46s\tremaining: 13m 43s\n",
            "550:\tlearn: 0.2556293\ttotal: 16m 48s\tremaining: 13m 41s\n",
            "551:\tlearn: 0.2555294\ttotal: 16m 50s\tremaining: 13m 39s\n",
            "552:\tlearn: 0.2552721\ttotal: 16m 51s\tremaining: 13m 37s\n",
            "553:\tlearn: 0.2551568\ttotal: 16m 53s\tremaining: 13m 35s\n",
            "554:\tlearn: 0.2549388\ttotal: 16m 55s\tremaining: 13m 34s\n",
            "555:\tlearn: 0.2548140\ttotal: 16m 57s\tremaining: 13m 32s\n",
            "556:\tlearn: 0.2546377\ttotal: 16m 58s\tremaining: 13m 30s\n",
            "557:\tlearn: 0.2541286\ttotal: 17m\tremaining: 13m 28s\n",
            "558:\tlearn: 0.2540066\ttotal: 17m 2s\tremaining: 13m 26s\n",
            "559:\tlearn: 0.2538445\ttotal: 17m 4s\tremaining: 13m 24s\n",
            "560:\tlearn: 0.2537163\ttotal: 17m 6s\tremaining: 13m 23s\n",
            "561:\tlearn: 0.2535747\ttotal: 17m 8s\tremaining: 13m 21s\n",
            "562:\tlearn: 0.2535022\ttotal: 17m 10s\tremaining: 13m 19s\n",
            "563:\tlearn: 0.2533875\ttotal: 17m 12s\tremaining: 13m 17s\n",
            "564:\tlearn: 0.2532353\ttotal: 17m 14s\tremaining: 13m 16s\n",
            "565:\tlearn: 0.2531055\ttotal: 17m 15s\tremaining: 13m 14s\n",
            "566:\tlearn: 0.2529455\ttotal: 17m 17s\tremaining: 13m 12s\n",
            "567:\tlearn: 0.2528058\ttotal: 17m 19s\tremaining: 13m 10s\n",
            "568:\tlearn: 0.2527020\ttotal: 17m 21s\tremaining: 13m 8s\n",
            "569:\tlearn: 0.2526401\ttotal: 17m 23s\tremaining: 13m 6s\n",
            "570:\tlearn: 0.2524954\ttotal: 17m 24s\tremaining: 13m 4s\n",
            "571:\tlearn: 0.2523314\ttotal: 17m 26s\tremaining: 13m 3s\n",
            "572:\tlearn: 0.2521910\ttotal: 17m 28s\tremaining: 13m 1s\n",
            "573:\tlearn: 0.2521109\ttotal: 17m 30s\tremaining: 12m 59s\n",
            "574:\tlearn: 0.2520252\ttotal: 17m 32s\tremaining: 12m 57s\n",
            "575:\tlearn: 0.2518913\ttotal: 17m 34s\tremaining: 12m 56s\n",
            "576:\tlearn: 0.2517733\ttotal: 17m 36s\tremaining: 12m 54s\n",
            "577:\tlearn: 0.2516535\ttotal: 17m 37s\tremaining: 12m 52s\n",
            "578:\tlearn: 0.2515337\ttotal: 17m 39s\tremaining: 12m 50s\n",
            "579:\tlearn: 0.2514442\ttotal: 17m 41s\tremaining: 12m 48s\n",
            "580:\tlearn: 0.2512395\ttotal: 17m 42s\tremaining: 12m 46s\n",
            "581:\tlearn: 0.2510656\ttotal: 17m 44s\tremaining: 12m 44s\n",
            "582:\tlearn: 0.2509828\ttotal: 17m 46s\tremaining: 12m 42s\n",
            "583:\tlearn: 0.2508961\ttotal: 17m 48s\tremaining: 12m 40s\n",
            "584:\tlearn: 0.2507395\ttotal: 17m 50s\tremaining: 12m 39s\n",
            "585:\tlearn: 0.2505632\ttotal: 17m 52s\tremaining: 12m 37s\n",
            "586:\tlearn: 0.2504383\ttotal: 17m 53s\tremaining: 12m 35s\n",
            "587:\tlearn: 0.2503846\ttotal: 17m 55s\tremaining: 12m 33s\n",
            "588:\tlearn: 0.2502379\ttotal: 17m 57s\tremaining: 12m 31s\n",
            "589:\tlearn: 0.2501350\ttotal: 17m 59s\tremaining: 12m 29s\n",
            "590:\tlearn: 0.2500161\ttotal: 18m\tremaining: 12m 27s\n",
            "591:\tlearn: 0.2499023\ttotal: 18m 2s\tremaining: 12m 25s\n",
            "592:\tlearn: 0.2497941\ttotal: 18m 4s\tremaining: 12m 24s\n",
            "593:\tlearn: 0.2495658\ttotal: 18m 6s\tremaining: 12m 22s\n",
            "594:\tlearn: 0.2494471\ttotal: 18m 7s\tremaining: 12m 20s\n",
            "595:\tlearn: 0.2493219\ttotal: 18m 9s\tremaining: 12m 18s\n",
            "596:\tlearn: 0.2492217\ttotal: 18m 11s\tremaining: 12m 16s\n",
            "597:\tlearn: 0.2491022\ttotal: 18m 13s\tremaining: 12m 14s\n",
            "598:\tlearn: 0.2490225\ttotal: 18m 15s\tremaining: 12m 13s\n",
            "599:\tlearn: 0.2489117\ttotal: 18m 16s\tremaining: 12m 11s\n",
            "600:\tlearn: 0.2487611\ttotal: 18m 18s\tremaining: 12m 9s\n",
            "601:\tlearn: 0.2486370\ttotal: 18m 20s\tremaining: 12m 7s\n",
            "602:\tlearn: 0.2485550\ttotal: 18m 22s\tremaining: 12m 5s\n",
            "603:\tlearn: 0.2484860\ttotal: 18m 23s\tremaining: 12m 3s\n",
            "604:\tlearn: 0.2483711\ttotal: 18m 25s\tremaining: 12m 1s\n",
            "605:\tlearn: 0.2482600\ttotal: 18m 27s\tremaining: 11m 59s\n",
            "606:\tlearn: 0.2481793\ttotal: 18m 29s\tremaining: 11m 58s\n",
            "607:\tlearn: 0.2480649\ttotal: 18m 30s\tremaining: 11m 56s\n",
            "608:\tlearn: 0.2479168\ttotal: 18m 32s\tremaining: 11m 54s\n",
            "609:\tlearn: 0.2478010\ttotal: 18m 34s\tremaining: 11m 52s\n",
            "610:\tlearn: 0.2476565\ttotal: 18m 36s\tremaining: 11m 50s\n",
            "611:\tlearn: 0.2475581\ttotal: 18m 37s\tremaining: 11m 48s\n",
            "612:\tlearn: 0.2474920\ttotal: 18m 39s\tremaining: 11m 46s\n",
            "613:\tlearn: 0.2473657\ttotal: 18m 41s\tremaining: 11m 44s\n",
            "614:\tlearn: 0.2472611\ttotal: 18m 43s\tremaining: 11m 43s\n",
            "615:\tlearn: 0.2471425\ttotal: 18m 44s\tremaining: 11m 41s\n",
            "616:\tlearn: 0.2469386\ttotal: 18m 46s\tremaining: 11m 39s\n",
            "617:\tlearn: 0.2466817\ttotal: 18m 48s\tremaining: 11m 37s\n",
            "618:\tlearn: 0.2465289\ttotal: 18m 50s\tremaining: 11m 35s\n",
            "619:\tlearn: 0.2463893\ttotal: 18m 52s\tremaining: 11m 33s\n",
            "620:\tlearn: 0.2463354\ttotal: 18m 53s\tremaining: 11m 31s\n",
            "621:\tlearn: 0.2462019\ttotal: 18m 55s\tremaining: 11m 30s\n",
            "622:\tlearn: 0.2460527\ttotal: 18m 57s\tremaining: 11m 28s\n",
            "623:\tlearn: 0.2459504\ttotal: 18m 59s\tremaining: 11m 26s\n",
            "624:\tlearn: 0.2458788\ttotal: 19m\tremaining: 11m 24s\n",
            "625:\tlearn: 0.2457677\ttotal: 19m 2s\tremaining: 11m 22s\n",
            "626:\tlearn: 0.2456890\ttotal: 19m 4s\tremaining: 11m 20s\n",
            "627:\tlearn: 0.2455528\ttotal: 19m 6s\tremaining: 11m 19s\n",
            "628:\tlearn: 0.2454577\ttotal: 19m 8s\tremaining: 11m 17s\n",
            "629:\tlearn: 0.2453368\ttotal: 19m 10s\tremaining: 11m 15s\n",
            "630:\tlearn: 0.2452449\ttotal: 19m 11s\tremaining: 11m 13s\n",
            "631:\tlearn: 0.2451312\ttotal: 19m 13s\tremaining: 11m 11s\n",
            "632:\tlearn: 0.2449849\ttotal: 19m 15s\tremaining: 11m 9s\n",
            "633:\tlearn: 0.2448513\ttotal: 19m 16s\tremaining: 11m 7s\n",
            "634:\tlearn: 0.2446769\ttotal: 19m 18s\tremaining: 11m 6s\n",
            "635:\tlearn: 0.2445672\ttotal: 19m 20s\tremaining: 11m 4s\n",
            "636:\tlearn: 0.2444199\ttotal: 19m 22s\tremaining: 11m 2s\n",
            "637:\tlearn: 0.2442916\ttotal: 19m 24s\tremaining: 11m\n",
            "638:\tlearn: 0.2442333\ttotal: 19m 25s\tremaining: 10m 58s\n",
            "639:\tlearn: 0.2441139\ttotal: 19m 27s\tremaining: 10m 56s\n",
            "640:\tlearn: 0.2439782\ttotal: 19m 29s\tremaining: 10m 54s\n",
            "641:\tlearn: 0.2438411\ttotal: 19m 31s\tremaining: 10m 53s\n",
            "642:\tlearn: 0.2437261\ttotal: 19m 33s\tremaining: 10m 51s\n",
            "643:\tlearn: 0.2435790\ttotal: 19m 34s\tremaining: 10m 49s\n",
            "644:\tlearn: 0.2435003\ttotal: 19m 36s\tremaining: 10m 47s\n",
            "645:\tlearn: 0.2434535\ttotal: 19m 38s\tremaining: 10m 45s\n",
            "646:\tlearn: 0.2433904\ttotal: 19m 39s\tremaining: 10m 43s\n",
            "647:\tlearn: 0.2432174\ttotal: 19m 41s\tremaining: 10m 41s\n",
            "648:\tlearn: 0.2431396\ttotal: 19m 43s\tremaining: 10m 39s\n",
            "649:\tlearn: 0.2430084\ttotal: 19m 44s\tremaining: 10m 38s\n",
            "650:\tlearn: 0.2429602\ttotal: 19m 46s\tremaining: 10m 36s\n",
            "651:\tlearn: 0.2428325\ttotal: 19m 48s\tremaining: 10m 34s\n",
            "652:\tlearn: 0.2427101\ttotal: 19m 50s\tremaining: 10m 32s\n",
            "653:\tlearn: 0.2425655\ttotal: 19m 52s\tremaining: 10m 30s\n",
            "654:\tlearn: 0.2423497\ttotal: 19m 53s\tremaining: 10m 28s\n",
            "655:\tlearn: 0.2423042\ttotal: 19m 55s\tremaining: 10m 26s\n",
            "656:\tlearn: 0.2421782\ttotal: 19m 57s\tremaining: 10m 25s\n",
            "657:\tlearn: 0.2420408\ttotal: 19m 58s\tremaining: 10m 23s\n",
            "658:\tlearn: 0.2419684\ttotal: 20m 1s\tremaining: 10m 21s\n",
            "659:\tlearn: 0.2418429\ttotal: 20m 3s\tremaining: 10m 19s\n",
            "660:\tlearn: 0.2417343\ttotal: 20m 5s\tremaining: 10m 18s\n",
            "661:\tlearn: 0.2416245\ttotal: 20m 7s\tremaining: 10m 16s\n",
            "662:\tlearn: 0.2415644\ttotal: 20m 8s\tremaining: 10m 14s\n",
            "663:\tlearn: 0.2414642\ttotal: 20m 10s\tremaining: 10m 12s\n",
            "664:\tlearn: 0.2413838\ttotal: 20m 12s\tremaining: 10m 10s\n",
            "665:\tlearn: 0.2412013\ttotal: 20m 14s\tremaining: 10m 9s\n",
            "666:\tlearn: 0.2411174\ttotal: 20m 16s\tremaining: 10m 7s\n",
            "667:\tlearn: 0.2410254\ttotal: 20m 18s\tremaining: 10m 5s\n",
            "668:\tlearn: 0.2409722\ttotal: 20m 19s\tremaining: 10m 3s\n",
            "669:\tlearn: 0.2408489\ttotal: 20m 21s\tremaining: 10m 1s\n",
            "670:\tlearn: 0.2408099\ttotal: 20m 23s\tremaining: 9m 59s\n",
            "671:\tlearn: 0.2407182\ttotal: 20m 25s\tremaining: 9m 57s\n",
            "672:\tlearn: 0.2406590\ttotal: 20m 26s\tremaining: 9m 56s\n",
            "673:\tlearn: 0.2405295\ttotal: 20m 28s\tremaining: 9m 54s\n",
            "674:\tlearn: 0.2404550\ttotal: 20m 30s\tremaining: 9m 52s\n",
            "675:\tlearn: 0.2403520\ttotal: 20m 32s\tremaining: 9m 50s\n",
            "676:\tlearn: 0.2402269\ttotal: 20m 34s\tremaining: 9m 48s\n",
            "677:\tlearn: 0.2401819\ttotal: 20m 35s\tremaining: 9m 46s\n",
            "678:\tlearn: 0.2400962\ttotal: 20m 37s\tremaining: 9m 45s\n",
            "679:\tlearn: 0.2400010\ttotal: 20m 39s\tremaining: 9m 43s\n",
            "680:\tlearn: 0.2398920\ttotal: 20m 40s\tremaining: 9m 41s\n",
            "681:\tlearn: 0.2397621\ttotal: 20m 42s\tremaining: 9m 39s\n",
            "682:\tlearn: 0.2396361\ttotal: 20m 44s\tremaining: 9m 37s\n",
            "683:\tlearn: 0.2395367\ttotal: 20m 46s\tremaining: 9m 35s\n",
            "684:\tlearn: 0.2394470\ttotal: 20m 48s\tremaining: 9m 34s\n",
            "685:\tlearn: 0.2393090\ttotal: 20m 50s\tremaining: 9m 32s\n",
            "686:\tlearn: 0.2391600\ttotal: 20m 52s\tremaining: 9m 30s\n",
            "687:\tlearn: 0.2390384\ttotal: 20m 54s\tremaining: 9m 28s\n",
            "688:\tlearn: 0.2389433\ttotal: 20m 55s\tremaining: 9m 26s\n",
            "689:\tlearn: 0.2387657\ttotal: 20m 57s\tremaining: 9m 24s\n",
            "690:\tlearn: 0.2386793\ttotal: 20m 59s\tremaining: 9m 23s\n",
            "691:\tlearn: 0.2385444\ttotal: 21m 1s\tremaining: 9m 21s\n",
            "692:\tlearn: 0.2384733\ttotal: 21m 3s\tremaining: 9m 19s\n",
            "693:\tlearn: 0.2383814\ttotal: 21m 5s\tremaining: 9m 17s\n",
            "694:\tlearn: 0.2383438\ttotal: 21m 6s\tremaining: 9m 15s\n",
            "695:\tlearn: 0.2382834\ttotal: 21m 8s\tremaining: 9m 14s\n",
            "696:\tlearn: 0.2382061\ttotal: 21m 10s\tremaining: 9m 12s\n",
            "697:\tlearn: 0.2380820\ttotal: 21m 11s\tremaining: 9m 10s\n",
            "698:\tlearn: 0.2379817\ttotal: 21m 13s\tremaining: 9m 8s\n",
            "699:\tlearn: 0.2377982\ttotal: 21m 15s\tremaining: 9m 6s\n",
            "700:\tlearn: 0.2377282\ttotal: 21m 17s\tremaining: 9m 4s\n",
            "701:\tlearn: 0.2376434\ttotal: 21m 18s\tremaining: 9m 2s\n",
            "702:\tlearn: 0.2375280\ttotal: 21m 20s\tremaining: 9m 1s\n",
            "703:\tlearn: 0.2374310\ttotal: 21m 22s\tremaining: 8m 59s\n",
            "704:\tlearn: 0.2373774\ttotal: 21m 23s\tremaining: 8m 57s\n",
            "705:\tlearn: 0.2373006\ttotal: 21m 25s\tremaining: 8m 55s\n",
            "706:\tlearn: 0.2371569\ttotal: 21m 27s\tremaining: 8m 53s\n",
            "707:\tlearn: 0.2370943\ttotal: 21m 29s\tremaining: 8m 51s\n",
            "708:\tlearn: 0.2369192\ttotal: 21m 30s\tremaining: 8m 49s\n",
            "709:\tlearn: 0.2368754\ttotal: 21m 32s\tremaining: 8m 47s\n",
            "710:\tlearn: 0.2367946\ttotal: 21m 34s\tremaining: 8m 46s\n",
            "711:\tlearn: 0.2366914\ttotal: 21m 35s\tremaining: 8m 44s\n",
            "712:\tlearn: 0.2364123\ttotal: 21m 37s\tremaining: 8m 42s\n",
            "713:\tlearn: 0.2363406\ttotal: 21m 39s\tremaining: 8m 40s\n",
            "714:\tlearn: 0.2362610\ttotal: 21m 41s\tremaining: 8m 38s\n",
            "715:\tlearn: 0.2361029\ttotal: 21m 43s\tremaining: 8m 36s\n",
            "716:\tlearn: 0.2359895\ttotal: 21m 44s\tremaining: 8m 34s\n",
            "717:\tlearn: 0.2359357\ttotal: 21m 46s\tremaining: 8m 33s\n",
            "718:\tlearn: 0.2358228\ttotal: 21m 48s\tremaining: 8m 31s\n",
            "719:\tlearn: 0.2357710\ttotal: 21m 49s\tremaining: 8m 29s\n",
            "720:\tlearn: 0.2356973\ttotal: 21m 51s\tremaining: 8m 27s\n",
            "721:\tlearn: 0.2355919\ttotal: 21m 53s\tremaining: 8m 25s\n",
            "722:\tlearn: 0.2354643\ttotal: 21m 55s\tremaining: 8m 23s\n",
            "723:\tlearn: 0.2353948\ttotal: 21m 56s\tremaining: 8m 21s\n",
            "724:\tlearn: 0.2353069\ttotal: 21m 58s\tremaining: 8m 20s\n",
            "725:\tlearn: 0.2352344\ttotal: 22m\tremaining: 8m 18s\n",
            "726:\tlearn: 0.2351016\ttotal: 22m 2s\tremaining: 8m 16s\n",
            "727:\tlearn: 0.2350593\ttotal: 22m 3s\tremaining: 8m 14s\n",
            "728:\tlearn: 0.2349672\ttotal: 22m 5s\tremaining: 8m 12s\n",
            "729:\tlearn: 0.2344916\ttotal: 22m 7s\tremaining: 8m 10s\n",
            "730:\tlearn: 0.2344489\ttotal: 22m 8s\tremaining: 8m 9s\n",
            "731:\tlearn: 0.2344127\ttotal: 22m 10s\tremaining: 8m 7s\n",
            "732:\tlearn: 0.2342782\ttotal: 22m 12s\tremaining: 8m 5s\n",
            "733:\tlearn: 0.2341609\ttotal: 22m 14s\tremaining: 8m 3s\n",
            "734:\tlearn: 0.2341121\ttotal: 22m 16s\tremaining: 8m 1s\n",
            "735:\tlearn: 0.2340395\ttotal: 22m 18s\tremaining: 8m\n",
            "736:\tlearn: 0.2339576\ttotal: 22m 19s\tremaining: 7m 58s\n",
            "737:\tlearn: 0.2338909\ttotal: 22m 21s\tremaining: 7m 56s\n",
            "738:\tlearn: 0.2338559\ttotal: 22m 23s\tremaining: 7m 54s\n",
            "739:\tlearn: 0.2337256\ttotal: 22m 25s\tremaining: 7m 52s\n",
            "740:\tlearn: 0.2336347\ttotal: 22m 27s\tremaining: 7m 51s\n",
            "741:\tlearn: 0.2335202\ttotal: 22m 29s\tremaining: 7m 49s\n",
            "742:\tlearn: 0.2334284\ttotal: 22m 31s\tremaining: 7m 47s\n",
            "743:\tlearn: 0.2332802\ttotal: 22m 32s\tremaining: 7m 45s\n",
            "744:\tlearn: 0.2331671\ttotal: 22m 34s\tremaining: 7m 43s\n",
            "745:\tlearn: 0.2330360\ttotal: 22m 36s\tremaining: 7m 41s\n",
            "746:\tlearn: 0.2329576\ttotal: 22m 38s\tremaining: 7m 40s\n",
            "747:\tlearn: 0.2329149\ttotal: 22m 39s\tremaining: 7m 38s\n",
            "748:\tlearn: 0.2328064\ttotal: 22m 41s\tremaining: 7m 36s\n",
            "749:\tlearn: 0.2327162\ttotal: 22m 43s\tremaining: 7m 34s\n",
            "750:\tlearn: 0.2326541\ttotal: 22m 45s\tremaining: 7m 32s\n",
            "751:\tlearn: 0.2326196\ttotal: 22m 47s\tremaining: 7m 30s\n",
            "752:\tlearn: 0.2325266\ttotal: 22m 48s\tremaining: 7m 29s\n",
            "753:\tlearn: 0.2324162\ttotal: 22m 50s\tremaining: 7m 27s\n",
            "754:\tlearn: 0.2323195\ttotal: 22m 52s\tremaining: 7m 25s\n",
            "755:\tlearn: 0.2322436\ttotal: 22m 54s\tremaining: 7m 23s\n",
            "756:\tlearn: 0.2321307\ttotal: 22m 56s\tremaining: 7m 21s\n",
            "757:\tlearn: 0.2320899\ttotal: 22m 58s\tremaining: 7m 20s\n",
            "758:\tlearn: 0.2319980\ttotal: 23m\tremaining: 7m 18s\n",
            "759:\tlearn: 0.2319371\ttotal: 23m 2s\tremaining: 7m 16s\n",
            "760:\tlearn: 0.2318425\ttotal: 23m 3s\tremaining: 7m 14s\n",
            "761:\tlearn: 0.2317521\ttotal: 23m 5s\tremaining: 7m 12s\n",
            "762:\tlearn: 0.2316921\ttotal: 23m 7s\tremaining: 7m 10s\n",
            "763:\tlearn: 0.2316587\ttotal: 23m 9s\tremaining: 7m 9s\n",
            "764:\tlearn: 0.2316137\ttotal: 23m 10s\tremaining: 7m 7s\n",
            "765:\tlearn: 0.2315349\ttotal: 23m 12s\tremaining: 7m 5s\n",
            "766:\tlearn: 0.2314462\ttotal: 23m 14s\tremaining: 7m 3s\n",
            "767:\tlearn: 0.2313598\ttotal: 23m 15s\tremaining: 7m 1s\n",
            "768:\tlearn: 0.2312698\ttotal: 23m 17s\tremaining: 6m 59s\n",
            "769:\tlearn: 0.2312182\ttotal: 23m 19s\tremaining: 6m 57s\n",
            "770:\tlearn: 0.2311712\ttotal: 23m 20s\tremaining: 6m 56s\n",
            "771:\tlearn: 0.2310959\ttotal: 23m 22s\tremaining: 6m 54s\n",
            "772:\tlearn: 0.2309984\ttotal: 23m 24s\tremaining: 6m 52s\n",
            "773:\tlearn: 0.2308887\ttotal: 23m 25s\tremaining: 6m 50s\n",
            "774:\tlearn: 0.2307684\ttotal: 23m 27s\tremaining: 6m 48s\n",
            "775:\tlearn: 0.2307049\ttotal: 23m 29s\tremaining: 6m 46s\n",
            "776:\tlearn: 0.2306066\ttotal: 23m 31s\tremaining: 6m 45s\n",
            "777:\tlearn: 0.2305110\ttotal: 23m 32s\tremaining: 6m 43s\n",
            "778:\tlearn: 0.2303684\ttotal: 23m 34s\tremaining: 6m 41s\n",
            "779:\tlearn: 0.2303258\ttotal: 23m 36s\tremaining: 6m 39s\n",
            "780:\tlearn: 0.2300300\ttotal: 23m 38s\tremaining: 6m 37s\n",
            "781:\tlearn: 0.2299900\ttotal: 23m 40s\tremaining: 6m 35s\n",
            "782:\tlearn: 0.2299507\ttotal: 23m 41s\tremaining: 6m 34s\n",
            "783:\tlearn: 0.2299179\ttotal: 23m 43s\tremaining: 6m 32s\n",
            "784:\tlearn: 0.2297873\ttotal: 23m 45s\tremaining: 6m 30s\n",
            "785:\tlearn: 0.2296911\ttotal: 23m 47s\tremaining: 6m 28s\n",
            "786:\tlearn: 0.2296289\ttotal: 23m 49s\tremaining: 6m 26s\n",
            "787:\tlearn: 0.2295206\ttotal: 23m 51s\tremaining: 6m 25s\n",
            "788:\tlearn: 0.2294876\ttotal: 23m 53s\tremaining: 6m 23s\n",
            "789:\tlearn: 0.2293458\ttotal: 23m 55s\tremaining: 6m 21s\n",
            "790:\tlearn: 0.2292603\ttotal: 23m 57s\tremaining: 6m 19s\n",
            "791:\tlearn: 0.2291223\ttotal: 23m 59s\tremaining: 6m 17s\n",
            "792:\tlearn: 0.2289993\ttotal: 24m\tremaining: 6m 16s\n",
            "793:\tlearn: 0.2288986\ttotal: 24m 2s\tremaining: 6m 14s\n",
            "794:\tlearn: 0.2288495\ttotal: 24m 4s\tremaining: 6m 12s\n",
            "795:\tlearn: 0.2288120\ttotal: 24m 5s\tremaining: 6m 10s\n",
            "796:\tlearn: 0.2287137\ttotal: 24m 7s\tremaining: 6m 8s\n",
            "797:\tlearn: 0.2285613\ttotal: 24m 9s\tremaining: 6m 6s\n",
            "798:\tlearn: 0.2284563\ttotal: 24m 10s\tremaining: 6m 5s\n",
            "799:\tlearn: 0.2283525\ttotal: 24m 12s\tremaining: 6m 3s\n",
            "800:\tlearn: 0.2282900\ttotal: 24m 14s\tremaining: 6m 1s\n",
            "801:\tlearn: 0.2281772\ttotal: 24m 16s\tremaining: 5m 59s\n",
            "802:\tlearn: 0.2280834\ttotal: 24m 17s\tremaining: 5m 57s\n",
            "803:\tlearn: 0.2280516\ttotal: 24m 19s\tremaining: 5m 55s\n",
            "804:\tlearn: 0.2279363\ttotal: 24m 21s\tremaining: 5m 53s\n",
            "805:\tlearn: 0.2278552\ttotal: 24m 23s\tremaining: 5m 52s\n",
            "806:\tlearn: 0.2278220\ttotal: 24m 24s\tremaining: 5m 50s\n",
            "807:\tlearn: 0.2276956\ttotal: 24m 26s\tremaining: 5m 48s\n",
            "808:\tlearn: 0.2275836\ttotal: 24m 28s\tremaining: 5m 46s\n",
            "809:\tlearn: 0.2275522\ttotal: 24m 29s\tremaining: 5m 44s\n",
            "810:\tlearn: 0.2275201\ttotal: 24m 31s\tremaining: 5m 42s\n",
            "811:\tlearn: 0.2274389\ttotal: 24m 33s\tremaining: 5m 41s\n",
            "812:\tlearn: 0.2273692\ttotal: 24m 35s\tremaining: 5m 39s\n",
            "813:\tlearn: 0.2272994\ttotal: 24m 36s\tremaining: 5m 37s\n",
            "814:\tlearn: 0.2272681\ttotal: 24m 38s\tremaining: 5m 35s\n",
            "815:\tlearn: 0.2271546\ttotal: 24m 40s\tremaining: 5m 33s\n",
            "816:\tlearn: 0.2270717\ttotal: 24m 42s\tremaining: 5m 31s\n",
            "817:\tlearn: 0.2270341\ttotal: 24m 43s\tremaining: 5m 30s\n",
            "818:\tlearn: 0.2269355\ttotal: 24m 45s\tremaining: 5m 28s\n",
            "819:\tlearn: 0.2268751\ttotal: 24m 47s\tremaining: 5m 26s\n",
            "820:\tlearn: 0.2268441\ttotal: 24m 48s\tremaining: 5m 24s\n",
            "821:\tlearn: 0.2267876\ttotal: 24m 50s\tremaining: 5m 22s\n",
            "822:\tlearn: 0.2266200\ttotal: 24m 52s\tremaining: 5m 20s\n",
            "823:\tlearn: 0.2265888\ttotal: 24m 54s\tremaining: 5m 19s\n",
            "824:\tlearn: 0.2264164\ttotal: 24m 55s\tremaining: 5m 17s\n",
            "825:\tlearn: 0.2263709\ttotal: 24m 57s\tremaining: 5m 15s\n",
            "826:\tlearn: 0.2262826\ttotal: 24m 59s\tremaining: 5m 13s\n",
            "827:\tlearn: 0.2262145\ttotal: 25m\tremaining: 5m 11s\n",
            "828:\tlearn: 0.2261233\ttotal: 25m 2s\tremaining: 5m 9s\n",
            "829:\tlearn: 0.2260927\ttotal: 25m 4s\tremaining: 5m 8s\n",
            "830:\tlearn: 0.2259948\ttotal: 25m 6s\tremaining: 5m 6s\n",
            "831:\tlearn: 0.2259420\ttotal: 25m 7s\tremaining: 5m 4s\n",
            "832:\tlearn: 0.2258514\ttotal: 25m 9s\tremaining: 5m 2s\n",
            "833:\tlearn: 0.2257940\ttotal: 25m 11s\tremaining: 5m\n",
            "834:\tlearn: 0.2257568\ttotal: 25m 12s\tremaining: 4m 58s\n",
            "835:\tlearn: 0.2256117\ttotal: 25m 14s\tremaining: 4m 57s\n",
            "836:\tlearn: 0.2255212\ttotal: 25m 16s\tremaining: 4m 55s\n",
            "837:\tlearn: 0.2254300\ttotal: 25m 18s\tremaining: 4m 53s\n",
            "838:\tlearn: 0.2251821\ttotal: 25m 20s\tremaining: 4m 51s\n",
            "839:\tlearn: 0.2250531\ttotal: 25m 22s\tremaining: 4m 49s\n",
            "840:\tlearn: 0.2249311\ttotal: 25m 23s\tremaining: 4m 48s\n",
            "841:\tlearn: 0.2248688\ttotal: 25m 25s\tremaining: 4m 46s\n",
            "842:\tlearn: 0.2248258\ttotal: 25m 27s\tremaining: 4m 44s\n",
            "843:\tlearn: 0.2247421\ttotal: 25m 29s\tremaining: 4m 42s\n",
            "844:\tlearn: 0.2246768\ttotal: 25m 31s\tremaining: 4m 40s\n",
            "845:\tlearn: 0.2246233\ttotal: 25m 33s\tremaining: 4m 39s\n",
            "846:\tlearn: 0.2245930\ttotal: 25m 34s\tremaining: 4m 37s\n",
            "847:\tlearn: 0.2245629\ttotal: 25m 36s\tremaining: 4m 35s\n",
            "848:\tlearn: 0.2245330\ttotal: 25m 38s\tremaining: 4m 33s\n",
            "849:\tlearn: 0.2244363\ttotal: 25m 39s\tremaining: 4m 31s\n",
            "850:\tlearn: 0.2244058\ttotal: 25m 41s\tremaining: 4m 29s\n",
            "851:\tlearn: 0.2243366\ttotal: 25m 43s\tremaining: 4m 28s\n",
            "852:\tlearn: 0.2242658\ttotal: 25m 45s\tremaining: 4m 26s\n",
            "853:\tlearn: 0.2242276\ttotal: 25m 47s\tremaining: 4m 24s\n",
            "854:\tlearn: 0.2241800\ttotal: 25m 48s\tremaining: 4m 22s\n",
            "855:\tlearn: 0.2240951\ttotal: 25m 50s\tremaining: 4m 20s\n",
            "856:\tlearn: 0.2240133\ttotal: 25m 52s\tremaining: 4m 19s\n",
            "857:\tlearn: 0.2239833\ttotal: 25m 54s\tremaining: 4m 17s\n",
            "858:\tlearn: 0.2238710\ttotal: 25m 55s\tremaining: 4m 15s\n",
            "859:\tlearn: 0.2238346\ttotal: 25m 57s\tremaining: 4m 13s\n",
            "860:\tlearn: 0.2237394\ttotal: 25m 59s\tremaining: 4m 11s\n",
            "861:\tlearn: 0.2236491\ttotal: 26m\tremaining: 4m 9s\n",
            "862:\tlearn: 0.2235700\ttotal: 26m 2s\tremaining: 4m 8s\n",
            "863:\tlearn: 0.2234649\ttotal: 26m 4s\tremaining: 4m 6s\n",
            "864:\tlearn: 0.2234023\ttotal: 26m 5s\tremaining: 4m 4s\n",
            "865:\tlearn: 0.2233074\ttotal: 26m 7s\tremaining: 4m 2s\n",
            "866:\tlearn: 0.2232776\ttotal: 26m 9s\tremaining: 4m\n",
            "867:\tlearn: 0.2231623\ttotal: 26m 11s\tremaining: 3m 58s\n",
            "868:\tlearn: 0.2230784\ttotal: 26m 13s\tremaining: 3m 57s\n",
            "869:\tlearn: 0.2229520\ttotal: 26m 14s\tremaining: 3m 55s\n",
            "870:\tlearn: 0.2228684\ttotal: 26m 16s\tremaining: 3m 53s\n",
            "871:\tlearn: 0.2227757\ttotal: 26m 18s\tremaining: 3m 51s\n",
            "872:\tlearn: 0.2226180\ttotal: 26m 20s\tremaining: 3m 49s\n",
            "873:\tlearn: 0.2225647\ttotal: 26m 21s\tremaining: 3m 48s\n",
            "874:\tlearn: 0.2225355\ttotal: 26m 23s\tremaining: 3m 46s\n",
            "875:\tlearn: 0.2224565\ttotal: 26m 25s\tremaining: 3m 44s\n",
            "876:\tlearn: 0.2224290\ttotal: 26m 26s\tremaining: 3m 42s\n",
            "877:\tlearn: 0.2223916\ttotal: 26m 28s\tremaining: 3m 40s\n",
            "878:\tlearn: 0.2223429\ttotal: 26m 30s\tremaining: 3m 38s\n",
            "879:\tlearn: 0.2222230\ttotal: 26m 31s\tremaining: 3m 37s\n",
            "880:\tlearn: 0.2221385\ttotal: 26m 33s\tremaining: 3m 35s\n",
            "881:\tlearn: 0.2220701\ttotal: 26m 35s\tremaining: 3m 33s\n",
            "882:\tlearn: 0.2220152\ttotal: 26m 37s\tremaining: 3m 31s\n",
            "883:\tlearn: 0.2219574\ttotal: 26m 38s\tremaining: 3m 29s\n",
            "884:\tlearn: 0.2218983\ttotal: 26m 40s\tremaining: 3m 27s\n",
            "885:\tlearn: 0.2218174\ttotal: 26m 42s\tremaining: 3m 26s\n",
            "886:\tlearn: 0.2217440\ttotal: 26m 43s\tremaining: 3m 24s\n",
            "887:\tlearn: 0.2216685\ttotal: 26m 46s\tremaining: 3m 22s\n",
            "888:\tlearn: 0.2215839\ttotal: 26m 47s\tremaining: 3m 20s\n",
            "889:\tlearn: 0.2215559\ttotal: 26m 49s\tremaining: 3m 18s\n",
            "890:\tlearn: 0.2215203\ttotal: 26m 51s\tremaining: 3m 17s\n",
            "891:\tlearn: 0.2214743\ttotal: 26m 53s\tremaining: 3m 15s\n",
            "892:\tlearn: 0.2214391\ttotal: 26m 55s\tremaining: 3m 13s\n",
            "893:\tlearn: 0.2213210\ttotal: 26m 56s\tremaining: 3m 11s\n",
            "894:\tlearn: 0.2212280\ttotal: 26m 58s\tremaining: 3m 9s\n",
            "895:\tlearn: 0.2211782\ttotal: 27m\tremaining: 3m 8s\n",
            "896:\tlearn: 0.2210599\ttotal: 27m 2s\tremaining: 3m 6s\n",
            "897:\tlearn: 0.2210317\ttotal: 27m 4s\tremaining: 3m 4s\n",
            "898:\tlearn: 0.2209678\ttotal: 27m 7s\tremaining: 3m 2s\n",
            "899:\tlearn: 0.2208382\ttotal: 27m 8s\tremaining: 3m\n",
            "900:\tlearn: 0.2207577\ttotal: 27m 10s\tremaining: 2m 59s\n",
            "901:\tlearn: 0.2206040\ttotal: 27m 12s\tremaining: 2m 57s\n",
            "902:\tlearn: 0.2204964\ttotal: 27m 14s\tremaining: 2m 55s\n",
            "903:\tlearn: 0.2204680\ttotal: 27m 16s\tremaining: 2m 53s\n",
            "904:\tlearn: 0.2203432\ttotal: 27m 18s\tremaining: 2m 51s\n",
            "905:\tlearn: 0.2202430\ttotal: 27m 19s\tremaining: 2m 50s\n",
            "906:\tlearn: 0.2201790\ttotal: 27m 21s\tremaining: 2m 48s\n",
            "907:\tlearn: 0.2200934\ttotal: 27m 23s\tremaining: 2m 46s\n",
            "908:\tlearn: 0.2200557\ttotal: 27m 25s\tremaining: 2m 44s\n",
            "909:\tlearn: 0.2199415\ttotal: 27m 26s\tremaining: 2m 42s\n",
            "910:\tlearn: 0.2198802\ttotal: 27m 28s\tremaining: 2m 41s\n",
            "911:\tlearn: 0.2198517\ttotal: 27m 30s\tremaining: 2m 39s\n",
            "912:\tlearn: 0.2198243\ttotal: 27m 31s\tremaining: 2m 37s\n",
            "913:\tlearn: 0.2197963\ttotal: 27m 33s\tremaining: 2m 35s\n",
            "914:\tlearn: 0.2196968\ttotal: 27m 35s\tremaining: 2m 33s\n",
            "915:\tlearn: 0.2196146\ttotal: 27m 37s\tremaining: 2m 31s\n",
            "916:\tlearn: 0.2195312\ttotal: 27m 38s\tremaining: 2m 30s\n",
            "917:\tlearn: 0.2194535\ttotal: 27m 40s\tremaining: 2m 28s\n",
            "918:\tlearn: 0.2193666\ttotal: 27m 42s\tremaining: 2m 26s\n",
            "919:\tlearn: 0.2193321\ttotal: 27m 44s\tremaining: 2m 24s\n",
            "920:\tlearn: 0.2192479\ttotal: 27m 46s\tremaining: 2m 22s\n",
            "921:\tlearn: 0.2191541\ttotal: 27m 47s\tremaining: 2m 21s\n",
            "922:\tlearn: 0.2190711\ttotal: 27m 49s\tremaining: 2m 19s\n",
            "923:\tlearn: 0.2190425\ttotal: 27m 51s\tremaining: 2m 17s\n",
            "924:\tlearn: 0.2190167\ttotal: 27m 52s\tremaining: 2m 15s\n",
            "925:\tlearn: 0.2189113\ttotal: 27m 54s\tremaining: 2m 13s\n",
            "926:\tlearn: 0.2188172\ttotal: 27m 56s\tremaining: 2m 12s\n",
            "927:\tlearn: 0.2187900\ttotal: 27m 57s\tremaining: 2m 10s\n",
            "928:\tlearn: 0.2187214\ttotal: 27m 59s\tremaining: 2m 8s\n",
            "929:\tlearn: 0.2186462\ttotal: 28m 1s\tremaining: 2m 6s\n",
            "930:\tlearn: 0.2185969\ttotal: 28m 3s\tremaining: 2m 4s\n",
            "931:\tlearn: 0.2185127\ttotal: 28m 4s\tremaining: 2m 2s\n",
            "932:\tlearn: 0.2184070\ttotal: 28m 6s\tremaining: 2m 1s\n",
            "933:\tlearn: 0.2183706\ttotal: 28m 8s\tremaining: 1m 59s\n",
            "934:\tlearn: 0.2181533\ttotal: 28m 9s\tremaining: 1m 57s\n",
            "935:\tlearn: 0.2180565\ttotal: 28m 11s\tremaining: 1m 55s\n",
            "936:\tlearn: 0.2179962\ttotal: 28m 13s\tremaining: 1m 53s\n",
            "937:\tlearn: 0.2178144\ttotal: 28m 14s\tremaining: 1m 52s\n",
            "938:\tlearn: 0.2177600\ttotal: 28m 16s\tremaining: 1m 50s\n",
            "939:\tlearn: 0.2176728\ttotal: 28m 18s\tremaining: 1m 48s\n",
            "940:\tlearn: 0.2176397\ttotal: 28m 20s\tremaining: 1m 46s\n",
            "941:\tlearn: 0.2173504\ttotal: 28m 22s\tremaining: 1m 44s\n",
            "942:\tlearn: 0.2173234\ttotal: 28m 24s\tremaining: 1m 43s\n",
            "943:\tlearn: 0.2172277\ttotal: 28m 26s\tremaining: 1m 41s\n",
            "944:\tlearn: 0.2171198\ttotal: 28m 28s\tremaining: 1m 39s\n",
            "945:\tlearn: 0.2169652\ttotal: 28m 30s\tremaining: 1m 37s\n",
            "946:\tlearn: 0.2168972\ttotal: 28m 32s\tremaining: 1m 35s\n",
            "947:\tlearn: 0.2168331\ttotal: 28m 33s\tremaining: 1m 34s\n",
            "948:\tlearn: 0.2167853\ttotal: 28m 35s\tremaining: 1m 32s\n",
            "949:\tlearn: 0.2166556\ttotal: 28m 37s\tremaining: 1m 30s\n",
            "950:\tlearn: 0.2166135\ttotal: 28m 39s\tremaining: 1m 28s\n",
            "951:\tlearn: 0.2165053\ttotal: 28m 40s\tremaining: 1m 26s\n",
            "952:\tlearn: 0.2164207\ttotal: 28m 42s\tremaining: 1m 24s\n",
            "953:\tlearn: 0.2163799\ttotal: 28m 44s\tremaining: 1m 23s\n",
            "954:\tlearn: 0.2163444\ttotal: 28m 46s\tremaining: 1m 21s\n",
            "955:\tlearn: 0.2163176\ttotal: 28m 47s\tremaining: 1m 19s\n",
            "956:\tlearn: 0.2162580\ttotal: 28m 49s\tremaining: 1m 17s\n",
            "957:\tlearn: 0.2162313\ttotal: 28m 50s\tremaining: 1m 15s\n",
            "958:\tlearn: 0.2162041\ttotal: 28m 52s\tremaining: 1m 14s\n",
            "959:\tlearn: 0.2161002\ttotal: 28m 54s\tremaining: 1m 12s\n",
            "960:\tlearn: 0.2159927\ttotal: 28m 56s\tremaining: 1m 10s\n",
            "961:\tlearn: 0.2159042\ttotal: 28m 58s\tremaining: 1m 8s\n",
            "962:\tlearn: 0.2158062\ttotal: 28m 59s\tremaining: 1m 6s\n",
            "963:\tlearn: 0.2157150\ttotal: 29m 1s\tremaining: 1m 5s\n",
            "964:\tlearn: 0.2156272\ttotal: 29m 3s\tremaining: 1m 3s\n",
            "965:\tlearn: 0.2155433\ttotal: 29m 4s\tremaining: 1m 1s\n",
            "966:\tlearn: 0.2154982\ttotal: 29m 6s\tremaining: 59.6s\n",
            "967:\tlearn: 0.2154723\ttotal: 29m 8s\tremaining: 57.8s\n",
            "968:\tlearn: 0.2154256\ttotal: 29m 10s\tremaining: 56s\n",
            "969:\tlearn: 0.2153432\ttotal: 29m 12s\tremaining: 54.2s\n",
            "970:\tlearn: 0.2152435\ttotal: 29m 14s\tremaining: 52.4s\n",
            "971:\tlearn: 0.2152113\ttotal: 29m 16s\tremaining: 50.6s\n",
            "972:\tlearn: 0.2151844\ttotal: 29m 17s\tremaining: 48.8s\n",
            "973:\tlearn: 0.2151450\ttotal: 29m 19s\tremaining: 47s\n",
            "974:\tlearn: 0.2150224\ttotal: 29m 21s\tremaining: 45.2s\n",
            "975:\tlearn: 0.2149899\ttotal: 29m 23s\tremaining: 43.4s\n",
            "976:\tlearn: 0.2149638\ttotal: 29m 24s\tremaining: 41.5s\n",
            "977:\tlearn: 0.2149170\ttotal: 29m 26s\tremaining: 39.7s\n",
            "978:\tlearn: 0.2148120\ttotal: 29m 28s\tremaining: 37.9s\n",
            "979:\tlearn: 0.2147865\ttotal: 29m 30s\tremaining: 36.1s\n",
            "980:\tlearn: 0.2147140\ttotal: 29m 31s\tremaining: 34.3s\n",
            "981:\tlearn: 0.2146268\ttotal: 29m 33s\tremaining: 32.5s\n",
            "982:\tlearn: 0.2145409\ttotal: 29m 35s\tremaining: 30.7s\n",
            "983:\tlearn: 0.2144714\ttotal: 29m 36s\tremaining: 28.9s\n",
            "984:\tlearn: 0.2144450\ttotal: 29m 38s\tremaining: 27.1s\n",
            "985:\tlearn: 0.2143815\ttotal: 29m 40s\tremaining: 25.3s\n",
            "986:\tlearn: 0.2143557\ttotal: 29m 42s\tremaining: 23.5s\n",
            "987:\tlearn: 0.2142924\ttotal: 29m 44s\tremaining: 21.7s\n",
            "988:\tlearn: 0.2142485\ttotal: 29m 45s\tremaining: 19.9s\n",
            "989:\tlearn: 0.2142229\ttotal: 29m 47s\tremaining: 18.1s\n",
            "990:\tlearn: 0.2141419\ttotal: 29m 49s\tremaining: 16.2s\n",
            "991:\tlearn: 0.2140630\ttotal: 29m 50s\tremaining: 14.4s\n",
            "992:\tlearn: 0.2140306\ttotal: 29m 52s\tremaining: 12.6s\n",
            "993:\tlearn: 0.2139375\ttotal: 29m 54s\tremaining: 10.8s\n",
            "994:\tlearn: 0.2139128\ttotal: 29m 56s\tremaining: 9.03s\n",
            "995:\tlearn: 0.2138874\ttotal: 29m 57s\tremaining: 7.22s\n",
            "996:\tlearn: 0.2138242\ttotal: 29m 59s\tremaining: 5.41s\n",
            "997:\tlearn: 0.2137195\ttotal: 30m 1s\tremaining: 3.61s\n",
            "998:\tlearn: 0.2136423\ttotal: 30m 3s\tremaining: 1.8s\n",
            "999:\tlearn: 0.2135628\ttotal: 30m 5s\tremaining: 0us\n"
          ]
        },
        {
          "output_type": "execute_result",
          "data": {
            "text/plain": [
              "GridSearchCV(cv=StratifiedKFold(n_splits=3, random_state=42, shuffle=True),\n",
              "             estimator=Pipeline(steps=[('preprocesamiento', TfidfVectorizer()),\n",
              "                                       ('clf', MultinomialNB())]),\n",
              "             n_jobs=-1,\n",
              "             param_grid={'clf': [<catboost.core.CatBoostClassifier object at 0x7f26b48b1410>],\n",
              "                         'clf__boosting_type': ['Plain'],\n",
              "                         'clf__gpu_cat_features_storage': ['CpuPinnedMemory'],\n",
              "                         'clf__max_ctr_complexity': [1],\n",
              "                         'clf__task_type': ['CPU'],\n",
              "                         'preprocesamiento__max_df': [0.0774263682681127],\n",
              "                         'preprocesamiento__min_df': [1e-12],\n",
              "                         'preprocesamiento__ngram_range': [(1, 2)],\n",
              "                         'preprocesamiento__stop_words': ['english']},\n",
              "             scoring='accuracy', verbose=10)"
            ]
          },
          "metadata": {},
          "execution_count": 38
        }
      ]
    },
    {
      "cell_type": "code",
      "metadata": {
        "id": "SO4oyzb3qmxC"
      },
      "source": [
        "#modelo2_filename = 'CBClassifier_25k.pickle'\n",
        "#pickle.dump(grid_2, open(modelo2_filename, 'wb'))"
      ],
      "execution_count": 39,
      "outputs": []
    },
    {
      "cell_type": "code",
      "metadata": {
        "id": "YTD-UO73qmxC"
      },
      "source": [
        "#grid_2 = pickle.load(open('/content/drive/MyDrive/Desafio 3/pickle/CBClassifier_25k.pickle', 'rb'))"
      ],
      "execution_count": 40,
      "outputs": []
    },
    {
      "cell_type": "code",
      "metadata": {
        "id": "ZaIZRnHkqmxD",
        "colab": {
          "base_uri": "https://localhost:8080/"
        },
        "outputId": "b88cf5c5-3c32-4de3-ba34-a9401e6cc7cd"
      },
      "source": [
        "print(grid_2.best_params_)\n",
        "print(grid_2.best_score_)"
      ],
      "execution_count": 41,
      "outputs": [
        {
          "output_type": "stream",
          "name": "stdout",
          "text": [
            "{'clf': <catboost.core.CatBoostClassifier object at 0x7f26b48b1410>, 'clf__boosting_type': 'Plain', 'clf__gpu_cat_features_storage': 'CpuPinnedMemory', 'clf__max_ctr_complexity': 1, 'clf__task_type': 'CPU', 'preprocesamiento__max_df': 0.0774263682681127, 'preprocesamiento__min_df': 1e-12, 'preprocesamiento__ngram_range': (1, 2), 'preprocesamiento__stop_words': 'english'}\n",
            "0.9002133333333333\n"
          ]
        }
      ]
    },
    {
      "cell_type": "code",
      "metadata": {
        "id": "frIKTQPYqmxD",
        "colab": {
          "base_uri": "https://localhost:8080/"
        },
        "outputId": "4e6f3730-b552-4623-b6a5-729e52923a14"
      },
      "source": [
        "y_pred = grid_2.predict(X_test)\n",
        "accuracy_score(y_test, y_pred)"
      ],
      "execution_count": 42,
      "outputs": [
        {
          "output_type": "execute_result",
          "data": {
            "text/plain": [
              "0.90928"
            ]
          },
          "metadata": {},
          "execution_count": 42
        }
      ]
    },
    {
      "cell_type": "code",
      "metadata": {
        "id": "craBPUSRqmxE",
        "colab": {
          "base_uri": "https://localhost:8080/",
          "height": 281
        },
        "outputId": "b310e10a-14ba-442b-f585-d70f433c2d94"
      },
      "source": [
        "conf_mat(y_test, y_pred)"
      ],
      "execution_count": 43,
      "outputs": [
        {
          "output_type": "display_data",
          "data": {
            "image/png": "[encoded data removed]",
            "text/plain": [
              "<Figure size 432x288 with 2 Axes>"
            ]
          },
          "metadata": {}
        }
      ]
    },
    {
      "cell_type": "code",
      "metadata": {
        "id": "meSl7b9FqmxF",
        "colab": {
          "base_uri": "https://localhost:8080/"
        },
        "outputId": "8aefdf50-eddc-461d-caad-93244534f3a3"
      },
      "source": [
        "print(classification_report(y_test, y_pred))"
      ],
      "execution_count": 44,
      "outputs": [
        {
          "output_type": "stream",
          "name": "stdout",
          "text": [
            "              precision    recall  f1-score   support\n",
            "\n",
            "           0       0.90      0.93      0.91      6256\n",
            "           1       0.92      0.89      0.91      6244\n",
            "\n",
            "    accuracy                           0.91     12500\n",
            "   macro avg       0.91      0.91      0.91     12500\n",
            "weighted avg       0.91      0.91      0.91     12500\n",
            "\n"
          ]
        }
      ]
    },
    {
      "cell_type": "markdown",
      "metadata": {
        "id": "qCAAvp0iqmxF"
      },
      "source": [
        "<a id=\"section_RandomForestClassifier\"></a>\n",
        "\n",
        "### 2.3 - RandomForestClassifier\n",
        "\n",
        "[volver a TOC](#section_toc)"
      ]
    },
    {
      "cell_type": "code",
      "metadata": {
        "id": "X2Ks_Kh8qmxG"
      },
      "source": [
        "folds = StratifiedKFold(n_splits=3,shuffle=True, random_state=42)\n",
        "\n",
        "param_grid_3 = {'preprocesamiento' : [TfidfVectorizer(), CountVectorizer()],\n",
        "                 'preprocesamiento__stop_words': ['None', 'english'],  #con o sin stopwords\n",
        "                 'preprocesamiento__max_df': np.logspace(-2, 0, num= 5),  #elimina términos con frecuencia mayor al valor dado\n",
        "                 'preprocesamiento__min_df': np.logspace(-11, -8, num= 5), #elimina términos con frecuencia menor al valor dado\n",
        "                 'preprocesamiento__ngram_range': [(1,1),(1,2)], #genera n-gramas\n",
        "                 'clf': [RandomForestClassifier()],\n",
        "                 'clf__max_depth': [3, 4, 5]  # Sin limitar el numero de árboles tardaba días en correr\n",
        "                }\n",
        "\n",
        "\n",
        "grid_3 = GridSearchCV(pipe_1, param_grid_3, cv=folds, verbose=10, scoring='accuracy', n_jobs=-1)"
      ],
      "execution_count": 45,
      "outputs": []
    },
    {
      "cell_type": "code",
      "metadata": {
        "collapsed": true,
        "jupyter": {
          "outputs_hidden": true
        },
        "id": "vKaPWUYHqmxG",
        "colab": {
          "base_uri": "https://localhost:8080/"
        },
        "outputId": "87078689-f771-4ffd-ac5b-ab3e374a7e9e"
      },
      "source": [
        "# Aprox 30' para 1800 fits (3 folds, 600 combinaciones de hiperparámetros)\n",
        "grid_3.fit(X_train, y_train)"
      ],
      "execution_count": 46,
      "outputs": [
        {
          "output_type": "stream",
          "name": "stdout",
          "text": [
            "Fitting 3 folds for each of 600 candidates, totalling 1800 fits\n"
          ]
        },
        {
          "output_type": "stream",
          "name": "stderr",
          "text": [
            "[Parallel(n_jobs=-1)]: Using backend LokyBackend with 2 concurrent workers.\n",
            "[Parallel(n_jobs=-1)]: Done   1 tasks      | elapsed:    1.8s\n",
            "[Parallel(n_jobs=-1)]: Done   4 tasks      | elapsed:    4.6s\n",
            "[Parallel(n_jobs=-1)]: Done   9 tasks      | elapsed:    7.2s\n",
            "[Parallel(n_jobs=-1)]: Done  14 tasks      | elapsed:   12.9s\n",
            "[Parallel(n_jobs=-1)]: Done  21 tasks      | elapsed:   18.6s\n",
            "[Parallel(n_jobs=-1)]: Done  28 tasks      | elapsed:   29.0s\n",
            "[Parallel(n_jobs=-1)]: Done  37 tasks      | elapsed:   37.0s\n",
            "[Parallel(n_jobs=-1)]: Done  46 tasks      | elapsed:   47.4s\n",
            "[Parallel(n_jobs=-1)]: Done  57 tasks      | elapsed:   55.2s\n",
            "[Parallel(n_jobs=-1)]: Done  68 tasks      | elapsed:  1.1min\n",
            "[Parallel(n_jobs=-1)]: Done  81 tasks      | elapsed:  1.3min\n",
            "[Parallel(n_jobs=-1)]: Done  94 tasks      | elapsed:  1.6min\n",
            "[Parallel(n_jobs=-1)]: Done 109 tasks      | elapsed:  1.8min\n",
            "[Parallel(n_jobs=-1)]: Done 124 tasks      | elapsed:  2.1min\n",
            "[Parallel(n_jobs=-1)]: Done 141 tasks      | elapsed:  2.4min\n",
            "[Parallel(n_jobs=-1)]: Done 158 tasks      | elapsed:  2.7min\n",
            "[Parallel(n_jobs=-1)]: Done 177 tasks      | elapsed:  3.0min\n",
            "[Parallel(n_jobs=-1)]: Done 196 tasks      | elapsed:  3.4min\n",
            "[Parallel(n_jobs=-1)]: Done 217 tasks      | elapsed:  3.8min\n",
            "[Parallel(n_jobs=-1)]: Done 238 tasks      | elapsed:  4.2min\n",
            "[Parallel(n_jobs=-1)]: Done 261 tasks      | elapsed:  4.5min\n",
            "[Parallel(n_jobs=-1)]: Done 284 tasks      | elapsed:  4.9min\n",
            "[Parallel(n_jobs=-1)]: Done 309 tasks      | elapsed:  5.4min\n",
            "[Parallel(n_jobs=-1)]: Done 334 tasks      | elapsed:  5.8min\n",
            "[Parallel(n_jobs=-1)]: Done 361 tasks      | elapsed:  6.2min\n",
            "[Parallel(n_jobs=-1)]: Done 388 tasks      | elapsed:  6.7min\n",
            "[Parallel(n_jobs=-1)]: Done 417 tasks      | elapsed:  7.1min\n",
            "[Parallel(n_jobs=-1)]: Done 446 tasks      | elapsed:  7.6min\n",
            "[Parallel(n_jobs=-1)]: Done 477 tasks      | elapsed:  8.1min\n",
            "[Parallel(n_jobs=-1)]: Done 508 tasks      | elapsed:  8.6min\n",
            "[Parallel(n_jobs=-1)]: Done 541 tasks      | elapsed:  9.2min\n",
            "[Parallel(n_jobs=-1)]: Done 574 tasks      | elapsed:  9.8min\n",
            "[Parallel(n_jobs=-1)]: Done 609 tasks      | elapsed: 10.3min\n",
            "[Parallel(n_jobs=-1)]: Done 644 tasks      | elapsed: 10.9min\n",
            "[Parallel(n_jobs=-1)]: Done 681 tasks      | elapsed: 11.5min\n",
            "[Parallel(n_jobs=-1)]: Done 718 tasks      | elapsed: 12.3min\n",
            "[Parallel(n_jobs=-1)]: Done 757 tasks      | elapsed: 12.9min\n",
            "[Parallel(n_jobs=-1)]: Done 796 tasks      | elapsed: 13.6min\n",
            "[Parallel(n_jobs=-1)]: Done 837 tasks      | elapsed: 14.3min\n",
            "[Parallel(n_jobs=-1)]: Done 878 tasks      | elapsed: 15.0min\n",
            "[Parallel(n_jobs=-1)]: Done 921 tasks      | elapsed: 15.8min\n",
            "[Parallel(n_jobs=-1)]: Done 964 tasks      | elapsed: 16.5min\n",
            "[Parallel(n_jobs=-1)]: Done 1009 tasks      | elapsed: 17.3min\n",
            "[Parallel(n_jobs=-1)]: Done 1054 tasks      | elapsed: 18.1min\n",
            "[Parallel(n_jobs=-1)]: Done 1101 tasks      | elapsed: 18.9min\n",
            "[Parallel(n_jobs=-1)]: Done 1148 tasks      | elapsed: 19.7min\n",
            "[Parallel(n_jobs=-1)]: Done 1197 tasks      | elapsed: 20.5min\n",
            "[Parallel(n_jobs=-1)]: Done 1246 tasks      | elapsed: 21.5min\n",
            "[Parallel(n_jobs=-1)]: Done 1297 tasks      | elapsed: 22.4min\n",
            "[Parallel(n_jobs=-1)]: Done 1348 tasks      | elapsed: 23.3min\n",
            "[Parallel(n_jobs=-1)]: Done 1401 tasks      | elapsed: 24.3min\n",
            "[Parallel(n_jobs=-1)]: Done 1454 tasks      | elapsed: 25.3min\n",
            "[Parallel(n_jobs=-1)]: Done 1509 tasks      | elapsed: 26.4min\n",
            "[Parallel(n_jobs=-1)]: Done 1564 tasks      | elapsed: 27.4min\n",
            "[Parallel(n_jobs=-1)]: Done 1621 tasks      | elapsed: 28.4min\n",
            "[Parallel(n_jobs=-1)]: Done 1678 tasks      | elapsed: 29.4min\n",
            "[Parallel(n_jobs=-1)]: Done 1737 tasks      | elapsed: 30.5min\n",
            "[Parallel(n_jobs=-1)]: Done 1796 tasks      | elapsed: 31.5min\n",
            "[Parallel(n_jobs=-1)]: Done 1800 out of 1800 | elapsed: 31.7min finished\n"
          ]
        },
        {
          "output_type": "execute_result",
          "data": {
            "text/plain": [
              "GridSearchCV(cv=StratifiedKFold(n_splits=3, random_state=42, shuffle=True),\n",
              "             estimator=Pipeline(steps=[('preprocesamiento', TfidfVectorizer()),\n",
              "                                       ('clf', MultinomialNB())]),\n",
              "             n_jobs=-1,\n",
              "             param_grid={'clf': [RandomForestClassifier(max_depth=5)],\n",
              "                         'clf__max_depth': [3, 4, 5],\n",
              "                         'preprocesamiento': [TfidfVectorizer(max_df=0.03162277660168379,\n",
              "                                                              min_df=1.7782794100389228e-09,\n",
              "                                                              stop_words='english'),\n",
              "                                              CountVectorizer()],\n",
              "                         'preprocesamiento__max_df': array([0.01      , 0.03162278, 0.1       , 0.31622777, 1.        ]),\n",
              "                         'preprocesamiento__min_df': array([1.00000000e-11, 5.62341325e-11, 3.16227766e-10, 1.77827941e-09,\n",
              "       1.00000000e-08]),\n",
              "                         'preprocesamiento__ngram_range': [(1, 1), (1, 2)],\n",
              "                         'preprocesamiento__stop_words': ['None', 'english']},\n",
              "             scoring='accuracy', verbose=10)"
            ]
          },
          "metadata": {},
          "execution_count": 46
        }
      ]
    },
    {
      "cell_type": "code",
      "metadata": {
        "id": "Ea7jYSl5qmxH"
      },
      "source": [
        "#modelo3_filename = 'RndForestClassifier_25k.pickle'\n",
        "#pickle.dump(grid_3, open(modelo3_filename, 'wb'))"
      ],
      "execution_count": 47,
      "outputs": []
    },
    {
      "cell_type": "code",
      "metadata": {
        "id": "N2gBs3cAqmxH"
      },
      "source": [
        "#grid_3 = pickle.load(open('/content/drive/MyDrive/Desafio 3/pickle/RndForestClassifier_25k.pickle', 'rb'))"
      ],
      "execution_count": 48,
      "outputs": []
    },
    {
      "cell_type": "code",
      "metadata": {
        "id": "ksiFlzY5qmxI",
        "colab": {
          "base_uri": "https://localhost:8080/"
        },
        "outputId": "1cc02263-cb60-4904-ca37-43f57fc05273"
      },
      "source": [
        "print(grid_3.best_params_)\n",
        "print(grid_3.best_score_)"
      ],
      "execution_count": 49,
      "outputs": [
        {
          "output_type": "stream",
          "name": "stdout",
          "text": [
            "{'clf': RandomForestClassifier(max_depth=5), 'clf__max_depth': 5, 'preprocesamiento': TfidfVectorizer(max_df=0.03162277660168379, min_df=1.7782794100389228e-09,\n",
            "                stop_words='english'), 'preprocesamiento__max_df': 0.03162277660168379, 'preprocesamiento__min_df': 1.7782794100389228e-09, 'preprocesamiento__ngram_range': (1, 1), 'preprocesamiento__stop_words': 'english'}\n",
            "0.7784\n"
          ]
        }
      ]
    },
    {
      "cell_type": "code",
      "metadata": {
        "id": "DvbpRv4JqmxI",
        "colab": {
          "base_uri": "https://localhost:8080/"
        },
        "outputId": "3e0ce3cb-24c2-439d-9075-f452ef9b3311"
      },
      "source": [
        "y_pred = grid_3.predict(X_test)\n",
        "accuracy_score(y_test, y_pred)"
      ],
      "execution_count": 50,
      "outputs": [
        {
          "output_type": "execute_result",
          "data": {
            "text/plain": [
              "0.77104"
            ]
          },
          "metadata": {},
          "execution_count": 50
        }
      ]
    },
    {
      "cell_type": "code",
      "metadata": {
        "id": "6GMSg6QeqmxJ",
        "colab": {
          "base_uri": "https://localhost:8080/",
          "height": 281
        },
        "outputId": "91c6d318-082f-45c1-c838-3deb451bcab5"
      },
      "source": [
        "conf_mat(y_test, y_pred)"
      ],
      "execution_count": 51,
      "outputs": [
        {
          "output_type": "display_data",
          "data": {
            "image/png": "[encoded data removed]",
            "text/plain": [
              "<Figure size 432x288 with 2 Axes>"
            ]
          },
          "metadata": {}
        }
      ]
    },
    {
      "cell_type": "code",
      "metadata": {
        "id": "T79IXuVbqmxJ",
        "colab": {
          "base_uri": "https://localhost:8080/"
        },
        "outputId": "503d1707-2ef7-415c-ca71-d944eee6047b"
      },
      "source": [
        "print(classification_report(y_test, y_pred))"
      ],
      "execution_count": 52,
      "outputs": [
        {
          "output_type": "stream",
          "name": "stdout",
          "text": [
            "              precision    recall  f1-score   support\n",
            "\n",
            "           0       0.70      0.95      0.81      6256\n",
            "           1       0.93      0.59      0.72      6244\n",
            "\n",
            "    accuracy                           0.77     12500\n",
            "   macro avg       0.81      0.77      0.76     12500\n",
            "weighted avg       0.81      0.77      0.76     12500\n",
            "\n"
          ]
        }
      ]
    },
    {
      "cell_type": "markdown",
      "metadata": {
        "id": "JdgAtyuAqmxK"
      },
      "source": [
        "<a id=\"section_MultinomialNB_2\"></a>\n",
        "\n",
        "### 2.4 - MultinomialNB con otro subreddit\n",
        "\n",
        "[volver a TOC](#section_toc)"
      ]
    },
    {
      "cell_type": "markdown",
      "metadata": {
        "id": "n12HdNKuqmxK"
      },
      "source": [
        "Vamos a probar el primer modelo pero usando otro subreddit como clase 1 para ver si el mismo modelo performa igual con otra clase"
      ]
    },
    {
      "cell_type": "code",
      "metadata": {
        "id": "wJiuGBT4qmxL"
      },
      "source": [
        "data_sample = binary_sample(data, 'subreddit', 'politics', random_state=42)\n",
        "data_sample['class'] = 0\n",
        "mask = data_sample['subreddit'] == 'politics'\n",
        "data_sample.loc[mask, 'class'] = 1"
      ],
      "execution_count": 53,
      "outputs": []
    },
    {
      "cell_type": "code",
      "metadata": {
        "id": "nafNIc1tqmxL",
        "colab": {
          "base_uri": "https://localhost:8080/"
        },
        "outputId": "4cac3dee-bff3-414c-f3df-8431fb0045a9"
      },
      "source": [
        "X = data_sample[\"body\"]\n",
        "y = data_sample[\"class\"]\n",
        "X_train, X_test, y_train, y_test = train_test_split(X, y, random_state=42)\n",
        "print(X_train.shape)\n",
        "print(X_test.shape)\n",
        "print(y_train.shape)\n",
        "print(y_test.shape)"
      ],
      "execution_count": 54,
      "outputs": [
        {
          "output_type": "stream",
          "name": "stdout",
          "text": [
            "(37500,)\n",
            "(12500,)\n",
            "(37500,)\n",
            "(12500,)\n"
          ]
        }
      ]
    },
    {
      "cell_type": "code",
      "metadata": {
        "id": "LvtwofiIqmxL"
      },
      "source": [
        "folds = StratifiedKFold(n_splits=3,shuffle=True, random_state=42)\n",
        "\n",
        "param_grid_4 = {'preprocesamiento' : [TfidfVectorizer(), CountVectorizer()],\n",
        "                'preprocesamiento__stop_words': ['None', 'english'],  # Con o sin stopwords\n",
        "                'preprocesamiento__max_df': np.logspace(-2, 0, num= 10),  # Elimina términos con frecuencia mayor al valor dado\n",
        "                'preprocesamiento__min_df': np.logspace(-12, -10, num= 10),  # Elimina términos con frecuencia menor al valor dado\n",
        "                'preprocesamiento__ngram_range': [(1,1),(1,2)],  # Genera n-gramas\n",
        "                }\n",
        "\n",
        "grid_4 = GridSearchCV(pipe_1, param_grid_4, cv= folds, verbose= 10, scoring= 'accuracy', n_jobs= -1)"
      ],
      "execution_count": 55,
      "outputs": []
    },
    {
      "cell_type": "markdown",
      "metadata": {
        "id": "N3puX2yqqmxM"
      },
      "source": [
        "El espacio de hiperparámetros es el mismo que cuando corrimos `MultinomialNB`, esperamos que llegue a los mismos y que tenga una performance similar."
      ]
    },
    {
      "cell_type": "code",
      "metadata": {
        "collapsed": true,
        "jupyter": {
          "outputs_hidden": true
        },
        "id": "W2Hy7HMKqmxM",
        "colab": {
          "base_uri": "https://localhost:8080/"
        },
        "outputId": "46683c1c-9e7e-4d72-d040-993ce6a5e750"
      },
      "source": [
        "# Aprox 35' sobre 2400 fits (3 folds, 800 combinaciones de hiperparámetros)\n",
        "grid_4.fit(X_train, y_train)"
      ],
      "execution_count": 56,
      "outputs": [
        {
          "output_type": "stream",
          "name": "stdout",
          "text": [
            "Fitting 3 folds for each of 800 candidates, totalling 2400 fits\n"
          ]
        },
        {
          "output_type": "stream",
          "name": "stderr",
          "text": [
            "[Parallel(n_jobs=-1)]: Using backend LokyBackend with 2 concurrent workers.\n",
            "[Parallel(n_jobs=-1)]: Done   1 tasks      | elapsed:    0.1s\n",
            "[Parallel(n_jobs=-1)]: Batch computation too fast (0.1102s.) Setting batch_size=2.\n",
            "[Parallel(n_jobs=-1)]: Done   4 tasks      | elapsed:    2.2s\n",
            "[Parallel(n_jobs=-1)]: Batch computation too slow (2.1403s.) Setting batch_size=1.\n",
            "[Parallel(n_jobs=-1)]: Done  12 tasks      | elapsed:    8.1s\n",
            "[Parallel(n_jobs=-1)]: Done  17 tasks      | elapsed:   13.9s\n",
            "[Parallel(n_jobs=-1)]: Done  25 tasks      | elapsed:   20.3s\n",
            "[Parallel(n_jobs=-1)]: Done  32 tasks      | elapsed:   25.2s\n",
            "[Parallel(n_jobs=-1)]: Done  41 tasks      | elapsed:   36.2s\n",
            "[Parallel(n_jobs=-1)]: Done  50 tasks      | elapsed:   44.0s\n",
            "[Parallel(n_jobs=-1)]: Done  61 tasks      | elapsed:   55.2s\n",
            "[Parallel(n_jobs=-1)]: Done  72 tasks      | elapsed:  1.1min\n",
            "[Parallel(n_jobs=-1)]: Done  85 tasks      | elapsed:  1.3min\n",
            "[Parallel(n_jobs=-1)]: Done  98 tasks      | elapsed:  1.5min\n",
            "[Parallel(n_jobs=-1)]: Done 113 tasks      | elapsed:  1.7min\n",
            "[Parallel(n_jobs=-1)]: Done 128 tasks      | elapsed:  1.9min\n",
            "[Parallel(n_jobs=-1)]: Done 145 tasks      | elapsed:  2.2min\n",
            "[Parallel(n_jobs=-1)]: Done 162 tasks      | elapsed:  2.5min\n",
            "[Parallel(n_jobs=-1)]: Done 181 tasks      | elapsed:  2.8min\n",
            "[Parallel(n_jobs=-1)]: Done 200 tasks      | elapsed:  3.1min\n",
            "[Parallel(n_jobs=-1)]: Done 221 tasks      | elapsed:  3.4min\n",
            "[Parallel(n_jobs=-1)]: Done 242 tasks      | elapsed:  3.8min\n",
            "[Parallel(n_jobs=-1)]: Done 265 tasks      | elapsed:  4.1min\n",
            "[Parallel(n_jobs=-1)]: Done 288 tasks      | elapsed:  4.5min\n",
            "[Parallel(n_jobs=-1)]: Done 313 tasks      | elapsed:  4.9min\n",
            "[Parallel(n_jobs=-1)]: Done 338 tasks      | elapsed:  5.3min\n",
            "[Parallel(n_jobs=-1)]: Done 365 tasks      | elapsed:  5.7min\n",
            "[Parallel(n_jobs=-1)]: Done 392 tasks      | elapsed:  6.1min\n",
            "[Parallel(n_jobs=-1)]: Done 421 tasks      | elapsed:  6.6min\n",
            "[Parallel(n_jobs=-1)]: Done 450 tasks      | elapsed:  7.1min\n",
            "[Parallel(n_jobs=-1)]: Done 481 tasks      | elapsed:  7.6min\n",
            "[Parallel(n_jobs=-1)]: Done 512 tasks      | elapsed:  8.0min\n",
            "[Parallel(n_jobs=-1)]: Done 545 tasks      | elapsed:  8.6min\n",
            "[Parallel(n_jobs=-1)]: Done 578 tasks      | elapsed:  9.1min\n",
            "[Parallel(n_jobs=-1)]: Done 613 tasks      | elapsed:  9.7min\n",
            "[Parallel(n_jobs=-1)]: Done 648 tasks      | elapsed: 10.2min\n",
            "[Parallel(n_jobs=-1)]: Done 685 tasks      | elapsed: 10.8min\n",
            "[Parallel(n_jobs=-1)]: Done 722 tasks      | elapsed: 11.3min\n",
            "[Parallel(n_jobs=-1)]: Done 761 tasks      | elapsed: 11.9min\n",
            "[Parallel(n_jobs=-1)]: Done 800 tasks      | elapsed: 12.5min\n",
            "[Parallel(n_jobs=-1)]: Done 841 tasks      | elapsed: 13.1min\n",
            "[Parallel(n_jobs=-1)]: Done 882 tasks      | elapsed: 13.7min\n",
            "[Parallel(n_jobs=-1)]: Done 925 tasks      | elapsed: 14.3min\n",
            "[Parallel(n_jobs=-1)]: Done 968 tasks      | elapsed: 14.9min\n",
            "[Parallel(n_jobs=-1)]: Done 1013 tasks      | elapsed: 15.6min\n",
            "[Parallel(n_jobs=-1)]: Done 1058 tasks      | elapsed: 16.2min\n",
            "[Parallel(n_jobs=-1)]: Done 1105 tasks      | elapsed: 17.0min\n",
            "[Parallel(n_jobs=-1)]: Done 1152 tasks      | elapsed: 17.7min\n",
            "[Parallel(n_jobs=-1)]: Done 1201 tasks      | elapsed: 18.4min\n",
            "[Parallel(n_jobs=-1)]: Done 1250 tasks      | elapsed: 19.1min\n",
            "[Parallel(n_jobs=-1)]: Done 1301 tasks      | elapsed: 19.8min\n",
            "[Parallel(n_jobs=-1)]: Done 1352 tasks      | elapsed: 20.5min\n",
            "[Parallel(n_jobs=-1)]: Done 1405 tasks      | elapsed: 21.3min\n",
            "[Parallel(n_jobs=-1)]: Done 1458 tasks      | elapsed: 22.1min\n",
            "[Parallel(n_jobs=-1)]: Done 1513 tasks      | elapsed: 23.0min\n",
            "[Parallel(n_jobs=-1)]: Done 1568 tasks      | elapsed: 23.8min\n",
            "[Parallel(n_jobs=-1)]: Done 1625 tasks      | elapsed: 24.6min\n",
            "[Parallel(n_jobs=-1)]: Done 1682 tasks      | elapsed: 25.3min\n",
            "[Parallel(n_jobs=-1)]: Done 1741 tasks      | elapsed: 26.2min\n",
            "[Parallel(n_jobs=-1)]: Done 1800 tasks      | elapsed: 27.0min\n",
            "[Parallel(n_jobs=-1)]: Done 1861 tasks      | elapsed: 27.8min\n",
            "[Parallel(n_jobs=-1)]: Done 1922 tasks      | elapsed: 28.7min\n",
            "[Parallel(n_jobs=-1)]: Done 1985 tasks      | elapsed: 29.6min\n",
            "[Parallel(n_jobs=-1)]: Done 2048 tasks      | elapsed: 30.5min\n",
            "[Parallel(n_jobs=-1)]: Done 2113 tasks      | elapsed: 31.4min\n",
            "[Parallel(n_jobs=-1)]: Done 2178 tasks      | elapsed: 32.4min\n",
            "[Parallel(n_jobs=-1)]: Done 2245 tasks      | elapsed: 33.3min\n",
            "[Parallel(n_jobs=-1)]: Done 2312 tasks      | elapsed: 34.3min\n",
            "[Parallel(n_jobs=-1)]: Done 2381 tasks      | elapsed: 35.3min\n",
            "[Parallel(n_jobs=-1)]: Done 2400 out of 2400 | elapsed: 35.6min finished\n"
          ]
        },
        {
          "output_type": "execute_result",
          "data": {
            "text/plain": [
              "GridSearchCV(cv=StratifiedKFold(n_splits=3, random_state=42, shuffle=True),\n",
              "             estimator=Pipeline(steps=[('preprocesamiento', TfidfVectorizer()),\n",
              "                                       ('clf', MultinomialNB())]),\n",
              "             n_jobs=-1,\n",
              "             param_grid={'preprocesamiento': [TfidfVectorizer(),\n",
              "                                              CountVectorizer(max_df=0.1291549665014884,\n",
              "                                                              min_df=1e-12,\n",
              "                                                              ngram_range=(1,\n",
              "                                                                           2),\n",
              "                                                              stop_words='english')],\n",
              "                         'preprocesamiento__max_df': arr...\n",
              "       0.12915497, 0.21544347, 0.35938137, 0.59948425, 1.        ]),\n",
              "                         'preprocesamiento__min_df': array([1.00000000e-12, 1.66810054e-12, 2.78255940e-12, 4.64158883e-12,\n",
              "       7.74263683e-12, 1.29154967e-11, 2.15443469e-11, 3.59381366e-11,\n",
              "       5.99484250e-11, 1.00000000e-10]),\n",
              "                         'preprocesamiento__ngram_range': [(1, 1), (1, 2)],\n",
              "                         'preprocesamiento__stop_words': ['None', 'english']},\n",
              "             scoring='accuracy', verbose=10)"
            ]
          },
          "metadata": {},
          "execution_count": 56
        }
      ]
    },
    {
      "cell_type": "code",
      "metadata": {
        "id": "XZ3AwYAVqmxN"
      },
      "source": [
        "#modelo4_filename = 'multinomialNB_25k_2.pickle'\n",
        "#pickle.dump(grid_4, open(modelo4_filename, 'wb'))"
      ],
      "execution_count": 57,
      "outputs": []
    },
    {
      "cell_type": "code",
      "metadata": {
        "id": "mZIibmfoqmxN"
      },
      "source": [
        "#grid_4 = pickle.load(open('/content/drive/MyDrive/Desafio 3/pickle/multinomialNB_25k_2.pickle', 'rb'))"
      ],
      "execution_count": 58,
      "outputs": []
    },
    {
      "cell_type": "code",
      "metadata": {
        "id": "VDuWXGEzqmxN",
        "colab": {
          "base_uri": "https://localhost:8080/"
        },
        "outputId": "51cea66a-0888-4e70-d660-556044ebbc9a"
      },
      "source": [
        "print(grid_4.best_params_)\n",
        "print(grid_4.best_score_)"
      ],
      "execution_count": 59,
      "outputs": [
        {
          "output_type": "stream",
          "name": "stdout",
          "text": [
            "{'preprocesamiento': CountVectorizer(max_df=0.1291549665014884, min_df=1e-12, ngram_range=(1, 2),\n",
            "                stop_words='english'), 'preprocesamiento__max_df': 0.1291549665014884, 'preprocesamiento__min_df': 1e-12, 'preprocesamiento__ngram_range': (1, 2), 'preprocesamiento__stop_words': 'english'}\n",
            "0.8281333333333333\n"
          ]
        }
      ]
    },
    {
      "cell_type": "code",
      "metadata": {
        "id": "rtiRelTrqmxO",
        "colab": {
          "base_uri": "https://localhost:8080/"
        },
        "outputId": "7025a61d-7ddd-4bd7-f256-68111fd80dad"
      },
      "source": [
        "y_pred = grid_4.predict(X_test)\n",
        "accuracy_score(y_test, y_pred)"
      ],
      "execution_count": 60,
      "outputs": [
        {
          "output_type": "execute_result",
          "data": {
            "text/plain": [
              "0.83616"
            ]
          },
          "metadata": {},
          "execution_count": 60
        }
      ]
    },
    {
      "cell_type": "code",
      "metadata": {
        "id": "jJJn27mFqmxO",
        "colab": {
          "base_uri": "https://localhost:8080/",
          "height": 281
        },
        "outputId": "7c075ad1-6104-4f99-fcb8-c760b2cdb18a"
      },
      "source": [
        "conf_mat(y_test, y_pred)"
      ],
      "execution_count": 61,
      "outputs": [
        {
          "output_type": "display_data",
          "data": {
            "image/png": "[encoded data removed]",
            "text/plain": [
              "<Figure size 432x288 with 2 Axes>"
            ]
          },
          "metadata": {}
        }
      ]
    },
    {
      "cell_type": "code",
      "metadata": {
        "id": "3IGkF0KIqmxP",
        "colab": {
          "base_uri": "https://localhost:8080/"
        },
        "outputId": "b9a25cd8-8cbb-4fb4-fb23-1ab472c17f85"
      },
      "source": [
        "print(classification_report(y_test, y_pred))"
      ],
      "execution_count": 62,
      "outputs": [
        {
          "output_type": "stream",
          "name": "stdout",
          "text": [
            "              precision    recall  f1-score   support\n",
            "\n",
            "           0       0.84      0.84      0.84      6256\n",
            "           1       0.84      0.84      0.84      6244\n",
            "\n",
            "    accuracy                           0.84     12500\n",
            "   macro avg       0.84      0.84      0.84     12500\n",
            "weighted avg       0.84      0.84      0.84     12500\n",
            "\n"
          ]
        }
      ]
    }
  ]
}